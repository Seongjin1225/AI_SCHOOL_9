{
  "nbformat": 4,
  "nbformat_minor": 0,
  "metadata": {
    "colab": {
      "provenance": [],
      "mount_file_id": "1mfCO2Ef8jAYS8hAGbFpRjI9exRWla16g",
      "authorship_tag": "ABX9TyNr/vV5AgsgoW37dDmC/tab",
      "include_colab_link": true
    },
    "kernelspec": {
      "name": "python3",
      "display_name": "Python 3"
    },
    "language_info": {
      "name": "python"
    }
  },
  "cells": [
    {
      "cell_type": "markdown",
      "metadata": {
        "id": "view-in-github",
        "colab_type": "text"
      },
      "source": [
        "<a href=\"https://colab.research.google.com/github/Seongjin1225/AI_SCHOOL_9/blob/main/ML%26DL/Review/1%EC%A3%BC%EC%B0%A8_%EB%B3%B5%EC%8A%B5(11_28_~_12_01).ipynb\" target=\"_parent\"><img src=\"https://colab.research.google.com/assets/colab-badge.svg\" alt=\"Open In Colab\"/></a>"
      ]
    },
    {
      "cell_type": "markdown",
      "source": [
        "# 머신러닝\n",
        "- AI 구현 방법 중 하나\n",
        "- 컴퓨터가 데이터를 기반으로 학습하고 개선하도록 Training하는데 중점\n",
        "- 정형데이터\n",
        "- 딥러닝 -> 비정형 데이터"
      ],
      "metadata": {
        "id": "b0HIJA0ysarH"
      }
    },
    {
      "cell_type": "markdown",
      "source": [
        "# 머신러닝 Algorithm\n",
        "- Regression(회귀)\n",
        "- SUM(Support Vector Machine)\n",
        "- Decision Tree\n",
        "- Naive Bayes\n",
        "- KNN(K-Neorest Neightbors)\n",
        "- ANN(Artificial Neural Network)\n",
        "- Clustering(K-Means, DBSCAN)\n",
        "- Reinforcement Learning(강화학습)"
      ],
      "metadata": {
        "id": "9MC86P_Utjwb"
      }
    },
    {
      "cell_type": "markdown",
      "source": [
        "# 머신러닝 Type(Data의 형태)\n",
        "- 지도학습(데이터와 정답이 같이 입력)\n",
        "- 비지도학습(데이터만 입력)\n",
        "- 준지도학습(지도 + 비지도)\n",
        "- 강화 학습\n",
        "- Feature(x_data, 입력데이터, 독립변수)\n",
        "- Target(t_data, label, 종속변수)"
      ],
      "metadata": {
        "id": "zZQ1ZZbMuFkl"
      }
    },
    {
      "cell_type": "markdown",
      "source": [
        "# 편미분\n",
        "- 독립변수가 여러개 일때, 미분하고자 하는 변수를 제외하고 나머지 변수를 상수 취급해서 미분\n",
        "- ex) f(x,y) = 2x + 3xy + y^3의 경우,\n",
        "- x에 대해 편미분 하면 2 + 3y\n",
        "- y에 대해 편미분 하면 3x + 3y^2"
      ],
      "metadata": {
        "id": "3qhzkSjQuxi1"
      }
    },
    {
      "cell_type": "markdown",
      "source": [
        "# 11월 28일"
      ],
      "metadata": {
        "id": "ZtRIf4FN0ryU"
      }
    },
    {
      "cell_type": "markdown",
      "source": [
        "## 일변수 함수의 수치미분 코드"
      ],
      "metadata": {
        "id": "FkS6CUkavRoP"
      }
    },
    {
      "cell_type": "code",
      "source": [
        "def numerical_derivative(f,x):\n",
        "    # f: 미분하려는 함수\n",
        "    # x: 미분값을 알고자하는 입력값\n",
        "    # delta 값 정의\n",
        "    delta_x = 1e-4\n",
        "\n",
        "    # 중앙차분을 코드로 구현\n",
        "    result = (f(x + delta_x) - f(x - delta_x)) / (2 * delta_x)\n",
        "    return result\n",
        "\n",
        "# 위 함수가 잘 작동하는 지 확인하기 위해 방정식 생성\n",
        "def my_func(x):\n",
        "    return x**2\n",
        "\n",
        "# f'(5)의 값 구하기\n",
        "numerical_derivative(my_func, 5)\n"
      ],
      "metadata": {
        "colab": {
          "base_uri": "https://localhost:8080/"
        },
        "id": "n7ePE7wkvYyY",
        "outputId": "35054a4b-7545-41e6-8c38-4f49b12ef3d5"
      },
      "execution_count": null,
      "outputs": [
        {
          "output_type": "execute_result",
          "data": {
            "text/plain": [
              "9.999999999976694"
            ]
          },
          "metadata": {},
          "execution_count": 1
        }
      ]
    },
    {
      "cell_type": "markdown",
      "source": [
        "# 다변수 함수의 수치미분 코드"
      ],
      "metadata": {
        "id": "zaD1LJVRxFUf"
      }
    },
    {
      "cell_type": "code",
      "source": [
        "import numpy as np\n",
        "\n",
        "def numerical_derivative(f,x):\n",
        "    # f : 미분하려는 함수\n",
        "    # x : 미분값을 알고자하는 입력값\n",
        "\n",
        "    # delta_x의 값 정의\n",
        "    delta_x = 1e-4\n",
        "\n",
        "    # 미분 결과 저장할 배열\n",
        "    derivative_x = np.zeros_like(x)\n",
        "\n",
        "    # 반복 수행 위한 것\n",
        "    it = np.nditer(x, flags=['multi_index'])\n",
        "\n",
        "    while not it.finished:\n",
        "        idx = it.multi_index  # 현재의 index를 추출 -> tuple 형태로 반환\n",
        "\n",
        "        tmp = x[idx]  # 현재 index의 값을 잠시 보존해야 함\n",
        "                      # 밑에서 이 값을 변경해 중앙차분 값을 계산해야 하기 때문!\n",
        "                      # but, 우리는 편미분을 해야하므로\n",
        "                      # 다음 변수 편미분 시, 값을 원래대로 복원해야 편미분이 정상진행!\n",
        "                      # 따라서, tmp에 잠시 보관했다 복원\n",
        "        x[idx] = tmp + delta_x\n",
        "        fx_plus_delta_x = f(x)\n",
        "\n",
        "        x[idx] = tmp - delta_x\n",
        "        fx_minus_delta_x = f(x)\n",
        "\n",
        "        derivative_x[idx] = (fx_plus_delta_x - fx_minus_delta_x) / (2 * delta_x)\n",
        "\n",
        "        x[idx] = tmp\n",
        "\n",
        "        it.iternext()\n",
        "\n",
        "    return derivative_x"
      ],
      "metadata": {
        "id": "wHNr3ejUxPcP"
      },
      "execution_count": null,
      "outputs": []
    },
    {
      "cell_type": "code",
      "source": [
        "# 정상 작동 하는지 확인\n",
        "def my_func(x):\n",
        "    return x ** 2\n",
        "\n",
        "# f'(3,0)을 구해보아요!\n",
        "result = numerical_derivative(my_func, np.array([3.0]))\n",
        "result"
      ],
      "metadata": {
        "colab": {
          "base_uri": "https://localhost:8080/"
        },
        "id": "U7lk7XRXzvLu",
        "outputId": "0088f5a5-a51c-4b68-ac44-71dd3c6ac0af"
      },
      "execution_count": null,
      "outputs": [
        {
          "output_type": "execute_result",
          "data": {
            "text/plain": [
              "array([6.])"
            ]
          },
          "metadata": {},
          "execution_count": 8
        }
      ]
    },
    {
      "cell_type": "code",
      "source": [
        "# 위 2변수 함수를 다시 만들어보아요!\n",
        "def my_func(input_data):\n",
        "    x = input_data[0]\n",
        "    y = input_data[1]\n",
        "\n",
        "    # f(x) = 2x + 3xy + y^3\n",
        "    return 2*x + 3*x*y + np.power(y,3)\n",
        "\n",
        "result = numerical_derivative(my_func, np.array([1.0, 2.0]))\n",
        "result"
      ],
      "metadata": {
        "colab": {
          "base_uri": "https://localhost:8080/"
        },
        "id": "YvH8AO67zw8X",
        "outputId": "cad93f4e-7b89-41f5-c4ce-c28c6687cf40"
      },
      "execution_count": null,
      "outputs": [
        {
          "output_type": "execute_result",
          "data": {
            "text/plain": [
              "array([ 8.        , 15.00000001])"
            ]
          },
          "metadata": {},
          "execution_count": 9
        }
      ]
    },
    {
      "cell_type": "code",
      "source": [
        "# 4변수 함수에 대해서 수치미분을 해 보세요!\n",
        "# f(w,x,y,z) = wx + xyz + 3w + zy^2\n",
        "# 다변수 함수의 수치미분 실행\n",
        "# f'(1.0, 2.0, 3.0, 4.0) 의 값은 얼마인가요?\n",
        "\n",
        "# 수치미분 함수\n",
        "def numerical_derivative(f,x):\n",
        "    delta_x = 1e-4\n",
        "    derivative_x = np.zeros_like(x)\n",
        "\n",
        "    it = np.nditer(x, flags=['multi_index'])\n",
        "\n",
        "    while not it.finished:\n",
        "        idx = it.multi_index  # 현재의 index를 추출 -> tuple 형태로 반환\n",
        "\n",
        "        tmp = x[idx]  # 현재 index의 값을 잠시 보존해야 함\n",
        "                      # 밑에서 이 값을 변경해 중앙차분 값을 계산해야 하기 때문!\n",
        "                      # but, 우리는 편미분을 해야하므로\n",
        "                      # 다음 변수 편미분 시, 값을 원래대로 복원해야 편미분이 정상진행!\n",
        "                      # 따라서, tmp에 잠시 보관했다 복원\n",
        "        x[idx] = tmp + delta_x\n",
        "        fx_plus_delta_x = f(x)\n",
        "\n",
        "        x[idx] = tmp - delta_x\n",
        "        fx_minus_delta_x = f(x)\n",
        "\n",
        "        derivative_x[idx] = (fx_plus_delta_x - fx_minus_delta_x) / (2 * delta_x)\n",
        "\n",
        "        x[idx] = tmp\n",
        "\n",
        "        it.iternext()\n",
        "\n",
        "    return derivative_x\n",
        "\n",
        "def my_func(input_data):\n",
        "\n",
        "    w = input_data[0,0]\n",
        "    x = input_data[0,1]\n",
        "    y = input_data[1,0]\n",
        "    z = input_data[1,1]\n",
        "\n",
        "    return w*x + x*y*z + 3*w + z*np.power(y,2)\n",
        "\n",
        "data = np.array([[1.0, 2.0],\n",
        "                 [3.0, 4.0]])\n",
        "result = numerical_derivative(my_func, data)\n",
        "result\n"
      ],
      "metadata": {
        "colab": {
          "base_uri": "https://localhost:8080/"
        },
        "id": "QeGn-0cW0m25",
        "outputId": "483020f3-e61e-4194-d9ee-eba01ec084c1"
      },
      "execution_count": null,
      "outputs": [
        {
          "output_type": "execute_result",
          "data": {
            "text/plain": [
              "array([[ 5., 13.],\n",
              "       [32., 15.]])"
            ]
          },
          "metadata": {},
          "execution_count": 10
        }
      ]
    },
    {
      "cell_type": "markdown",
      "source": [
        "# 11월 29일"
      ],
      "metadata": {
        "id": "h385T5bU1mUG"
      }
    },
    {
      "cell_type": "markdown",
      "source": [
        "# Regression(회귀)\n",
        "- 조건부 평균을 구하는 방법 --> 평균을 구하는 식을 찾아내는 것\n",
        "- 평균이 의미를 가지는 데이터에 대해 더 잘 구해짐"
      ],
      "metadata": {
        "id": "cRWXjUNO2Yus"
      }
    },
    {
      "cell_type": "markdown",
      "source": [
        "# Linear Regression(선형 회귀)\n",
        "## 단순 선형 회귀 분석의 경우\n",
        "- y = Wx + b의 공식을 가짐\n",
        "- W => weight, 기울기, 가중치\n",
        "- b = bias, 절편, 편향"
      ],
      "metadata": {
        "id": "VsIhkN2_3M6O"
      }
    },
    {
      "cell_type": "code",
      "source": [
        "import numpy as np\n",
        "import pandas as pd\n",
        "import matplotlib.pyplot as plt\n",
        "\n",
        "df = pd.DataFrame({'공부시간(x)' : [1,2,3,4,5,7,8,10,12,13,14,15,18,20,25,28,30],\n",
        "                   '시험점수(t)' : [5,7,20,31,40,44,46,49,60,62,70,80,85,91,92,97,98]})\n",
        "\n",
        "df.head()\n",
        "\n",
        "plt.scatter(df['공부시간(x)'], df['시험점수(t)'])\n",
        "plt.plot(df['공부시간(x)'], df['공부시간(x)']*2 + 3, color='r' )\n",
        "plt.plot(df['공부시간(x)'], df['공부시간(x)']*5 - 7, color='g')"
      ],
      "metadata": {
        "colab": {
          "base_uri": "https://localhost:8080/",
          "height": 448
        },
        "id": "cDbs-rVm4EWV",
        "outputId": "45f6bcb8-e261-49bd-c489-f45bdc774f86"
      },
      "execution_count": null,
      "outputs": [
        {
          "output_type": "execute_result",
          "data": {
            "text/plain": [
              "[<matplotlib.lines.Line2D at 0x7a77f98038e0>]"
            ]
          },
          "metadata": {},
          "execution_count": 18
        },
        {
          "output_type": "display_data",
          "data": {
            "text/plain": [
              "<Figure size 640x480 with 1 Axes>"
            ],
            "image/png": "[encoded data removed]"
          },
          "metadata": {}
        }
      ]
    },
    {
      "cell_type": "markdown",
      "source": [
        "# Loss Function\n",
        "- 오차를 하나의 숫자로 계산하기 위한 함수\n",
        "- 평균제곱오차(MSE)법 많이 사용(오차의 제곱의 평균)\n",
        "- loss는 모든 데이터에 대한 평균 오차값이라 할 수 있음\n",
        "- 오차 = t - y = t -(Wx + b)"
      ],
      "metadata": {
        "id": "cMbI90-54s1u"
      }
    },
    {
      "cell_type": "markdown",
      "source": [
        "# Python 코드로 구현"
      ],
      "metadata": {
        "id": "yY1QEOwG7OFy"
      }
    },
    {
      "cell_type": "code",
      "source": [
        "import numpy as np\n",
        "\n",
        "# Training Data Set\n",
        "# 2차원 배열 형태\n",
        "x_data = np.array([1,2,3,4,5]).reshape(5,1)\n",
        "t_data = np.array([3,5,7,9,11]).reshape(5,1)\n",
        "\n",
        "# model => y = Wx + b\n",
        "W = np.random.rand(1,1)\n",
        "b = np.random.rand(1)\n",
        "\n",
        "# loss function\n",
        "def loss_func(input_data):\n",
        "    input_W = input_data[0]\n",
        "    input_b = input_data[1]\n",
        "\n",
        "    # y = xW + B --> 코드 구현시에는 Wx가 아니라 xW로!\n",
        "    y = np.dot(x_data,input_W) + input_b  # np.dot() -> 내적 계산(행렬곱)\n",
        "\n",
        "    # 제곱한 뒤, 평균을 구하는 공식이므로 아래 순서가 맞음!\n",
        "    return np.mean(np.power((t_data-y),2))\n",
        "\n",
        "# 수치미분 함수\n",
        "def numerical_derivative(f,x):\n",
        "    # f : 미분하려는 함수\n",
        "    # x : 미분값을 알고자하는 입력값\n",
        "\n",
        "    # delta_x의 값 정의\n",
        "    delta_x = 1e-4\n",
        "\n",
        "    # 미분 결과 저장할 배열\n",
        "    derivative_x = np.zeros_like(x)\n",
        "\n",
        "    # 반복 수행 위한 것\n",
        "    it = np.nditer(x, flags=['multi_index'])\n",
        "\n",
        "    while not it.finished:\n",
        "        idx = it.multi_index  # 현재의 index를 추출 -> tuple 형태로 반환\n",
        "\n",
        "        tmp = x[idx]  # 현재 index의 값을 잠시 보존해야 함\n",
        "                      # 밑에서 이 값을 변경해 중앙차분 값을 계산해야 하기 때문!\n",
        "                      # but, 우리는 편미분을 해야하므로\n",
        "                      # 다음 변수 편미분 시, 값을 원래대로 복원해야 편미분이 정상진행!\n",
        "                      # 따라서, tmp에 잠시 보관했다 복원\n",
        "        x[idx] = tmp + delta_x\n",
        "        fx_plus_delta_x = f(x)\n",
        "\n",
        "        x[idx] = tmp - delta_x\n",
        "        fx_minus_delta_x = f(x)\n",
        "\n",
        "        derivative_x[idx] = (fx_plus_delta_x - fx_minus_delta_x) / (2 * delta_x)\n",
        "\n",
        "        x[idx] = tmp\n",
        "\n",
        "        it.iternext()\n",
        "\n",
        "    return derivative_x\n",
        "\n",
        "# 학습이 다 종료되면(모델이 다 만들어지면)\n",
        "# 예측작업을 해야 해요! 그래서 예측을 해주는 함수를 하나 정의\n",
        "def predict(x):\n",
        "\n",
        "    return np.dot(x,W) + b\n",
        "\n",
        "# learning rate 정의\n",
        "learning_rate = 1e-4\n",
        "\n",
        "# 학습을 진행\n",
        "for step in range(300000):\n",
        "\n",
        "    # 현재 W는 2차원, b는 1차원\n",
        "    # loss함수 안에 들어갈때는 ,1차원에 순서대로 들어가야 함\n",
        "    input_param = np.concatenate((W.ravel(), b.ravel()), axis=0)\n",
        "    derivative_result = learning_rate * numerical_derivative(loss_func, input_param)\n",
        "\n",
        "    W = W - derivative_result[0].reshape(-1,1)\n",
        "    b = b - derivative_result[1]\n",
        "\n",
        "    # 확인작업\n",
        "    if step % 30000 == 0:\n",
        "        print(f'W : {W}, b: {b}, loss: {loss_func(input_param)}')"
      ],
      "metadata": {
        "colab": {
          "base_uri": "https://localhost:8080/"
        },
        "id": "5AcYMSP74L0m",
        "outputId": "e238b1cf-3fd5-4142-d38d-b31325748ff6"
      },
      "execution_count": null,
      "outputs": [
        {
          "output_type": "stream",
          "name": "stdout",
          "text": [
            "W : [[0.56930028]], b: [0.70555493], loss: 25.249532772584416\n",
            "W : [[1.99049953]], b: [1.0342997], loss: 0.00021415246518639362\n",
            "W : [[1.99655462]], b: [1.01243893], loss: 2.8164903895560146e-05\n",
            "W : [[1.99875052]], b: [1.00451103], loss: 3.7041918278095045e-06\n",
            "W : [[1.99954687]], b: [1.00163594], loss: 4.871679004470935e-07\n",
            "W : [[1.99983567]], b: [1.00059328], loss: 6.407134788246098e-08\n",
            "W : [[1.99994041]], b: [1.00021516], loss: 8.426535524758875e-09\n",
            "W : [[1.99997839]], b: [1.00007803], loss: 1.1082410982341793e-09\n",
            "W : [[1.99999216]], b: [1.0000283], loss: 1.4575365267662206e-10\n",
            "W : [[1.99999716]], b: [1.00001026], loss: 1.9169228912135852e-11\n"
          ]
        }
      ]
    },
    {
      "cell_type": "code",
      "source": [
        "# 예측결과 확인\n",
        "predict_result = predict(np.array([7]).reshape(1,1))\n",
        "predict_result\n"
      ],
      "metadata": {
        "colab": {
          "base_uri": "https://localhost:8080/"
        },
        "id": "0T17SiHn72el",
        "outputId": "cc215a93-bf30-46a8-a205-81a7b059e64c"
      },
      "execution_count": null,
      "outputs": [
        {
          "output_type": "execute_result",
          "data": {
            "text/plain": [
              "array([[14.99999651]])"
            ]
          },
          "metadata": {},
          "execution_count": 22
        }
      ]
    },
    {
      "cell_type": "markdown",
      "source": [
        "# TensorFlow Keras 구현"
      ],
      "metadata": {
        "id": "zaTy1JpR8BCM"
      }
    },
    {
      "cell_type": "code",
      "source": [
        "# 필요 라이브러리 호출\n",
        "from tensorflow.keras.models import Sequential\n",
        "from tensorflow.keras.layers import Flatten, Dense\n",
        "from tensorflow.keras.optimizers import SGD\n",
        "\n",
        "# Training Data Set\n",
        "x_data = np.array([1,2,3,4,5]).reshape(5,1)\n",
        "t_data = np.array([3,5,7,9,11]).reshape(5,1)\n",
        "\n",
        "# Model 생성\n",
        "model = Sequential()\n",
        "model.add(Flatten(input_shape=(1,)))\n",
        "model.add(Dense(units=1,\n",
        "                activation='linear'))\n",
        "\n",
        "# Model이 완성되었으면 compile 옵션들을 설정해야 함\n",
        "model.compile(optimizer=SGD(learning_rate=1e-2),\n",
        "              loss='mse')\n",
        "\n",
        "# Model의 학습\n",
        "model.fit(x_data,\n",
        "          t_data,\n",
        "          epochs=5000,\n",
        "          verbose=0)"
      ],
      "metadata": {
        "colab": {
          "base_uri": "https://localhost:8080/"
        },
        "id": "GBomWsV88xAB",
        "outputId": "e0b8b694-3ce9-4af4-99dd-5e0fe507f870"
      },
      "execution_count": null,
      "outputs": [
        {
          "output_type": "execute_result",
          "data": {
            "text/plain": [
              "<keras.src.callbacks.History at 0x7a779351cf40>"
            ]
          },
          "metadata": {},
          "execution_count": 25
        }
      ]
    },
    {
      "cell_type": "code",
      "source": [
        "model.predict(np.array([[10]]))\n"
      ],
      "metadata": {
        "colab": {
          "base_uri": "https://localhost:8080/"
        },
        "id": "rhjKmSh5_uOm",
        "outputId": "eab1f8e9-e5fa-489d-f79e-78fa20099078"
      },
      "execution_count": null,
      "outputs": [
        {
          "output_type": "stream",
          "name": "stdout",
          "text": [
            "1/1 [==============================] - 0s 51ms/step\n"
          ]
        },
        {
          "output_type": "execute_result",
          "data": {
            "text/plain": [
              "array([[21.000032]], dtype=float32)"
            ]
          },
          "metadata": {},
          "execution_count": 24
        }
      ]
    },
    {
      "cell_type": "markdown",
      "source": [
        "# sklearn 구현"
      ],
      "metadata": {
        "id": "XQ5ptS8Z_1gh"
      }
    },
    {
      "cell_type": "code",
      "source": [
        "import numpy as np\n",
        "from sklearn import linear_model\n",
        "\n",
        "# Training Data Set\n",
        "x_data = np.array([1,2,3,4,5]).reshape(5,1)\n",
        "t_data = np.array([3,5,7,9,11]).reshape(5,1)\n",
        "\n",
        "# model 생성\n",
        "sklearn_model = linear_model.LinearRegression()\n",
        "\n",
        "# model 학습\n",
        "sklearn_model.fit(x_data,\n",
        "                  t_data)\n",
        "sklearn_model.predict(np.array([[10]]))"
      ],
      "metadata": {
        "colab": {
          "base_uri": "https://localhost:8080/"
        },
        "id": "OCLkU9zj_3Qr",
        "outputId": "dbf29fea-fe06-4cfc-8fa2-f52cd9caeb2a"
      },
      "execution_count": null,
      "outputs": [
        {
          "output_type": "execute_result",
          "data": {
            "text/plain": [
              "array([[21.]])"
            ]
          },
          "metadata": {},
          "execution_count": 26
        }
      ]
    },
    {
      "cell_type": "markdown",
      "source": [
        "# 11월 30일\n",
        "## ozone.csv 활용한 머신러닝"
      ],
      "metadata": {
        "id": "FIDM2pXOAR0_"
      }
    },
    {
      "cell_type": "markdown",
      "source": [
        "### Python 구현"
      ],
      "metadata": {
        "id": "pRyUm3KxFW5G"
      }
    },
    {
      "cell_type": "code",
      "source": [
        "# 단순 선형회귀 분석을 진행 중이므로\n",
        "# 독립변수는 1개만 사용(Temp)\n",
        "\n",
        "# 데이터 불러오기\n",
        "df = pd.read_csv('/content/drive/MyDrive/AI스쿨 파일/ozone.csv')\n",
        "df.head()\n",
        "\n",
        "training_data = df[['Temp', 'Ozone']]\n",
        "training_data\n",
        "\n",
        "training_data = training_data.dropna(how='any')\n",
        "training_data\n",
        "\n",
        "# Training Data Set 준비\n",
        "x_data = training_data['Temp'].values.reshape(-1,1)\n",
        "t_data = training_data['Ozone'].values.reshape(-1,1)\n",
        "\n",
        "# 수치미분 코드\n",
        "def numerical_derivative(f,x):\n",
        "    delta_x = 1e-4\n",
        "    derivative_x = np.zeros_like(x)\n",
        "\n",
        "    it = np.nditer(x, flags=['multi_index'])\n",
        "\n",
        "    while not it.finished:\n",
        "        idx = it.multi_index\n",
        "\n",
        "        tmp = x[idx]\n",
        "\n",
        "        x[idx] = tmp + delta_x\n",
        "        fx_plus_delta_x = f(x)\n",
        "\n",
        "        x[idx] = tmp - delta_x\n",
        "        fx_minus_delta_x = f(x)\n",
        "\n",
        "        derivative_x[idx] = (fx_plus_delta_x - fx_minus_delta_x) / (2 * delta_x)\n",
        "\n",
        "        x[idx] = tmp\n",
        "\n",
        "        it.iternext()\n",
        "\n",
        "    return derivative_x\n",
        "\n",
        "# model을 만들어야 하는데\n",
        "W = np.random.rand(1,1)\n",
        "b = np.random.rand(1)\n",
        "\n",
        "# loss function\n",
        "def loss_func(input_data):\n",
        "    input_W = input_data[0]\n",
        "    input_b = input_data[1]\n",
        "\n",
        "    y = np.dot(x_data, input_W) + input_b\n",
        "    return np.mean(np.power((t_data-y),2))\n",
        "\n",
        "# 예측함수 생성\n",
        "def predict(x):\n",
        "    return np.dot(x,W) + b\n",
        "\n",
        "# learning_rate 정의\n",
        "learning_rate = 1e-4\n",
        "\n",
        "# 학습진행\n",
        "for step in range(300000):\n",
        "    input_param = np.concatenate((W.ravel(), b.ravel()),axis=0)\n",
        "    derivative_result = learning_rate * numerical_derivative(loss_func,input_param)\n",
        "\n",
        "    W = W - derivative_result[0].reshape(-1,1)\n",
        "    b = b - derivative_result[1]\n",
        "\n",
        "    if step % 30000 == 0:\n",
        "        print(f'W : {W}, b : {b}, loss : {loss_func(input_param)}')"
      ],
      "metadata": {
        "colab": {
          "base_uri": "https://localhost:8080/"
        },
        "id": "kJUNWMaOAbi3",
        "outputId": "83c5718c-e6be-4b0e-f014-bbba95e531f3"
      },
      "execution_count": null,
      "outputs": [
        {
          "output_type": "stream",
          "name": "stdout",
          "text": [
            "W : [[0.50193424]], b : [0.56577943], loss : 1274.2620028194424\n",
            "W : [[0.71675493]], b : [-11.72421797], loss : 817.9381735599295\n",
            "W : [[0.85934667]], b : [-22.99124358], loss : 775.5892525347864\n",
            "W : [[0.99006165]], b : [-33.31981521], loss : 740.001192270895\n",
            "W : [[1.1098891]], b : [-42.78809863], loss : 710.0946444142122\n",
            "W : [[1.21973588]], b : [-51.46774903], loss : 684.9625748938122\n",
            "W : [[1.32043329]], b : [-59.4244533], loss : 663.8427545319514\n",
            "W : [[1.41274341]], b : [-66.71842713], loss : 646.0946414386648\n",
            "W : [[1.49736482]], b : [-73.40487071], loss : 631.1799540513042\n",
            "W : [[1.57493794]], b : [-79.5343865], loss : 618.6463456225041\n"
          ]
        }
      ]
    },
    {
      "cell_type": "code",
      "source": [
        "# 학습 완료 후 예측, 온도가 62도 일때\n",
        "predict(np.array([[62]]))\n",
        "\n",
        "# 예측한 결과가 정확한지 알아보기 위해\n",
        "# 그래프로 표현\n",
        "# 독립변수가 1개 이므로 2차원 평면에 표현 가능\n",
        "plt.scatter(x_data,t_data)\n",
        "plt.plot(x_data, x_data*W.ravel()+b, color='r')\n",
        "plt.show()"
      ],
      "metadata": {
        "colab": {
          "base_uri": "https://localhost:8080/",
          "height": 433
        },
        "id": "bF_lPmvDE2uF",
        "outputId": "a38fc4e3-f9ef-4635-b4c7-c8e6e2c28aea"
      },
      "execution_count": null,
      "outputs": [
        {
          "output_type": "display_data",
          "data": {
            "text/plain": [
              "<Figure size 640x480 with 1 Axes>"
            ],
            "image/png": "[encoded data removed]"
          },
          "metadata": {}
        }
      ]
    },
    {
      "cell_type": "markdown",
      "source": [
        "### Tensorflow 구현"
      ],
      "metadata": {
        "id": "KBcg6tRpHf4k"
      }
    },
    {
      "cell_type": "code",
      "source": [
        "from tensorflow.keras.models import Sequential\n",
        "from tensorflow.keras.layers import Flatten, Dense\n",
        "from tensorflow.keras.optimizers import SGD\n",
        "\n",
        "# 데이터 불러오기\n",
        "df = pd.read_csv('/content/drive/MyDrive/AI스쿨 파일/ozone.csv')\n",
        "df.head()\n",
        "\n",
        "training_data = df[['Temp', 'Ozone']]\n",
        "training_data\n",
        "\n",
        "training_data = training_data.dropna(how='any')\n",
        "training_data\n",
        "\n",
        "# Training Data Set 준비\n",
        "x_data = training_data['Temp'].values.reshape(-1,1)\n",
        "t_data = training_data['Ozone'].values.reshape(-1,1)\n",
        "\n",
        "# model 생성\n",
        "model = Sequential()\n",
        "model.add(Flatten(input_shape=(1,)))\n",
        "model.add(Dense(units=1,\n",
        "                activation='linear'))\n",
        "\n",
        "# model 설정\n",
        "model.compile(optimizer=SGD(learning_rate = 1e-4),\n",
        "              loss='mse')\n",
        "\n",
        "# # model 학습\n",
        "model.fit(x_data,\n",
        "          t_data,\n",
        "          epochs=2000,\n",
        "          verbose=0)\n"
      ],
      "metadata": {
        "colab": {
          "base_uri": "https://localhost:8080/"
        },
        "id": "sHDAYleMIuIw",
        "outputId": "ffa9b2ce-3abb-40c9-b594-b4a584145058"
      },
      "execution_count": null,
      "outputs": [
        {
          "output_type": "execute_result",
          "data": {
            "text/plain": [
              "<keras.src.callbacks.History at 0x7a77935fb940>"
            ]
          },
          "metadata": {},
          "execution_count": 40
        }
      ]
    },
    {
      "cell_type": "code",
      "source": [
        "# 학습 완료 후 예측 및 그래프 검증\n",
        "model.predict(np.array([[62]]))\n",
        "\n",
        "# 그래프 그려보기 위해 W,b 필요\n",
        "weight, bias = model.get_weights()\n",
        "plt.scatter(x_data, t_data)\n",
        "plt.plot(x_data, x_data*weight + bias, color='r')\n",
        "plt.show()"
      ],
      "metadata": {
        "colab": {
          "base_uri": "https://localhost:8080/",
          "height": 451
        },
        "id": "KL8Ds2QjJpTm",
        "outputId": "11067690-e186-4457-ef0e-fc77c2f3015f"
      },
      "execution_count": null,
      "outputs": [
        {
          "output_type": "stream",
          "name": "stdout",
          "text": [
            "1/1 [==============================] - 0s 31ms/step\n"
          ]
        },
        {
          "output_type": "display_data",
          "data": {
            "text/plain": [
              "<Figure size 640x480 with 1 Axes>"
            ],
            "image/png": "[encoded data removed]"
          },
          "metadata": {}
        }
      ]
    },
    {
      "cell_type": "markdown",
      "source": [
        "### sklearn 구현"
      ],
      "metadata": {
        "id": "_-JqwXHyJxQU"
      }
    },
    {
      "cell_type": "code",
      "source": [
        "from sklearn import linear_model\n",
        "\n",
        "# 데이터 불러오기\n",
        "df = pd.read_csv('/content/drive/MyDrive/AI스쿨 파일/ozone.csv')\n",
        "df.head()\n",
        "\n",
        "training_data = df[['Temp', 'Ozone']]\n",
        "training_data\n",
        "\n",
        "training_data = training_data.dropna(how='any')\n",
        "training_data\n",
        "\n",
        "# Training Data Set 준비\n",
        "x_data = training_data['Temp'].values.reshape(-1,1)\n",
        "t_data = training_data['Ozone'].values.reshape(-1,1)\n",
        "\n",
        "# model 생성 & 학습\n",
        "sklearn_model = linear_model.LinearRegression()\n",
        "sklearn_model.fit(x_data, t_data)\n",
        "\n",
        "# W,b값 구하기\n",
        "weights = sklearn_model.coef_\n",
        "bia = sklearn_model.intercept_\n",
        "\n",
        "# 예측 및 그래프 그리기\n",
        "print(sklearn_model.predict(np.array([[62]])))\n",
        "\n",
        "plt.scatter(x_data,t_data)\n",
        "plt.plot(x_data, x_data*weights+bia, color='r')\n",
        "plt.show()\n"
      ],
      "metadata": {
        "colab": {
          "base_uri": "https://localhost:8080/",
          "height": 450
        },
        "id": "auX2RzRIKTwr",
        "outputId": "14b7f220-7459-4af6-b5cd-5a8d23e1b684"
      },
      "execution_count": null,
      "outputs": [
        {
          "output_type": "stream",
          "name": "stdout",
          "text": [
            "[[3.58411393]]\n"
          ]
        },
        {
          "output_type": "display_data",
          "data": {
            "text/plain": [
              "<Figure size 640x480 with 1 Axes>"
            ],
            "image/png": "[encoded data removed]"
          },
          "metadata": {}
        }
      ]
    },
    {
      "cell_type": "markdown",
      "source": [
        "### 위 그래프에서 결과가 다 다른 이유!!\n",
        "### 이상치 때문 이므로, 이상치를 제거할 필요 있음"
      ],
      "metadata": {
        "id": "YCWb_qGVLBEi"
      }
    },
    {
      "cell_type": "markdown",
      "source": [
        "### 1. Tuckey Fence 방식"
      ],
      "metadata": {
        "id": "mo3nTfS-LRM0"
      }
    },
    {
      "cell_type": "code",
      "source": [
        "import numpy as np\n",
        "import matplotlib.pyplot as plt\n",
        "\n",
        "data = np.array([1,2,3,4,5,6,7,8,9,10,11,12,13,14,22.1])\n",
        "\n",
        "fig = plt.figure()\n",
        "fig_1 = fig.add_subplot(1,2,1)\n",
        "fig_2 = fig.add_subplot(1,2,2)\n",
        "\n",
        "# 중위값, 1사분위, 3사분위\n",
        "np.median(data)\n",
        "np.percentile(data,25)\n",
        "np.percentile(data,75)\n",
        "\n",
        "# IQR value(3사분위 - 1사분위)\n",
        "iqr_value = np.percentile(data,75) - np.percentile(data,25)\n",
        "\n",
        "# 기준치 정하기(upper_fence, lower_fence)\n",
        "upper_fence = np.percentile(data,75) + 1.5*iqr_value\n",
        "lower_fence = np.percentile(data,25) - 1.5*iqr_value\n",
        "\n",
        "# 위 기준 data에 적용\n",
        "result = data[(data<=upper_fence) & (data >= lower_fence)]\n",
        "result\n",
        "\n",
        "# 이상치 제거 전후 그래프로 그리기\n",
        "fig_1.set_title('Original Data')\n",
        "fig_1.boxplot(data)\n",
        "\n",
        "fig_2.set_title('Remove Outlier Data')\n",
        "fig_2.boxplot(result)\n",
        "\n",
        "plt.tight_layout()\n",
        "plt.show()"
      ],
      "metadata": {
        "colab": {
          "base_uri": "https://localhost:8080/",
          "height": 487
        },
        "id": "hbZohJx8LUos",
        "outputId": "e98a8a5c-e31b-4391-b494-2defb0f4c683"
      },
      "execution_count": null,
      "outputs": [
        {
          "output_type": "display_data",
          "data": {
            "text/plain": [
              "<Figure size 640x480 with 2 Axes>"
            ],
            "image/png": "[encoded data removed]"
          },
          "metadata": {}
        }
      ]
    },
    {
      "cell_type": "markdown",
      "source": [
        "### 2. zscore(정규분포) 방식"
      ],
      "metadata": {
        "id": "y7EAyiXNM4Jw"
      }
    },
    {
      "cell_type": "code",
      "source": [
        "# 이 방식을 이용하려면\n",
        "# 기본적으로 우리 데이터를 정규분포화 시켜서 우리 데이터에 대한\n",
        "# z-score값을 각각 구해야 되요!\n",
        "# 그리고 기준치를 설정한 다음 그 기준치를 넘는 데이터를 이상치로 판별\n",
        "from scipy import stats\n",
        "\n",
        "data = np.array([1,2,3,4,5,6,7,8,9,10,11,12,13,14,22.1])\n",
        "\n",
        "zscore_threshold = 2.0\n",
        "outlier = data[np.abs(stats.zscore(data))>zscore_threshold]\n",
        "data[np.isin(data,outlier, invert=True)]\n"
      ],
      "metadata": {
        "colab": {
          "base_uri": "https://localhost:8080/"
        },
        "id": "Shp6OoEyNOE2",
        "outputId": "9abb1b73-2154-4def-fce3-fed1785c648b"
      },
      "execution_count": null,
      "outputs": [
        {
          "output_type": "execute_result",
          "data": {
            "text/plain": [
              "array([ 1.,  2.,  3.,  4.,  5.,  6.,  7.,  8.,  9., 10., 11., 12., 13.,\n",
              "       14.])"
            ]
          },
          "metadata": {},
          "execution_count": 47
        }
      ]
    },
    {
      "cell_type": "markdown",
      "source": [
        "### 이상치 제거한 데이터 적용해서 다시 구현하기!"
      ],
      "metadata": {
        "id": "1D91mvcNN0FO"
      }
    },
    {
      "cell_type": "code",
      "source": [
        "# 이상치 사전에 제거하면 이용하기 편리\n",
        "# 종속변수인 Ozone에 대해서만 처리\n",
        "import numpy as np\n",
        "import pandas as pd\n",
        "from scipy import stats\n",
        "\n",
        "# 데이터 불러오기\n",
        "df = pd.read_csv('/content/drive/MyDrive/AI스쿨 파일/ozone.csv')\n",
        "\n",
        "training_data = df[['Temp', 'Ozone']]\n",
        "\n",
        "# 이렇게 데이터를 가져온 후 당연히 데이터 전처리를 해야 해요!\n",
        "# 1. 결측치 처리!\n",
        "training_data = training_data.dropna(how='any')\n",
        "\n",
        "# 2. 이상치 처리!\n",
        "zscore_threshold = 1.8\n",
        "outlier = training_data['Ozone'][np.abs(stats.zscore(training_data['Ozone'].values))> zscore_threshold]\n",
        "training_data = training_data.loc[np.isin(training_data['Ozone'], outlier, invert=True)]\n",
        "\n",
        "# Training Data Set 준비\n",
        "x_data = training_data['Temp'].values.reshape(-1,1)\n",
        "t_data = training_data['Ozone'].values.reshape(-1,1)"
      ],
      "metadata": {
        "id": "cfkstPgYOK-L"
      },
      "execution_count": null,
      "outputs": []
    },
    {
      "cell_type": "markdown",
      "source": [
        "### Python 방식"
      ],
      "metadata": {
        "id": "UOGNyzjLN_Db"
      }
    },
    {
      "cell_type": "code",
      "source": [
        "# 수치미분 코드\n",
        "def numerical_derivative(f,x):\n",
        "    delta_x = 1e-4\n",
        "    derivative_x = np.zeros_like(x)\n",
        "\n",
        "    it = np.nditer(x, flags=['multi_index'])\n",
        "\n",
        "    while not it.finished:\n",
        "        idx = it.multi_index\n",
        "\n",
        "        tmp = x[idx]\n",
        "\n",
        "        x[idx] = tmp + delta_x\n",
        "        fx_plus_delta_x = f(x)\n",
        "\n",
        "        x[idx] = tmp - delta_x\n",
        "        fx_minus_delta_x = f(x)\n",
        "\n",
        "        derivative_x[idx] = (fx_plus_delta_x - fx_minus_delta_x) / (2 * delta_x)\n",
        "\n",
        "        x[idx] = tmp\n",
        "\n",
        "        it.iternext()\n",
        "\n",
        "    return derivative_x\n",
        "\n",
        "# model을 만들어야 하는데\n",
        "W = np.random.rand(1,1)\n",
        "b = np.random.rand(1)\n",
        "\n",
        "# loss function\n",
        "def loss_func(input_data):\n",
        "    input_W = input_data[0]\n",
        "    input_b = input_data[1]\n",
        "\n",
        "    y = np.dot(x_data, input_W) + input_b\n",
        "    return np.mean(np.power((t_data-y),2))\n",
        "\n",
        "# 예측함수 생성\n",
        "def predict(x):\n",
        "    return np.dot(x,W) + b\n",
        "\n",
        "# learning_rate 정의\n",
        "learning_rate = 1e-4\n",
        "\n",
        "# 학습진행\n",
        "for step in range(300000):\n",
        "    input_param = np.concatenate((W.ravel(), b.ravel()),axis=0)\n",
        "    derivative_result = learning_rate * numerical_derivative(loss_func,input_param)\n",
        "\n",
        "    W = W - derivative_result[0].reshape(-1,1)\n",
        "    b = b - derivative_result[1]\n",
        "\n",
        "    if step % 30000 == 0:\n",
        "        print(f'W : {W}, b : {b}, loss : {loss_func(input_param)}')\n",
        "\n",
        "# 예측\n",
        "predict(np.array([[62]]))"
      ],
      "metadata": {
        "colab": {
          "base_uri": "https://localhost:8080/"
        },
        "id": "o589rew8OIwW",
        "outputId": "c59216da-16c4-4074-86fb-c6d7eb8d27c3"
      },
      "execution_count": null,
      "outputs": [
        {
          "output_type": "stream",
          "name": "stdout",
          "text": [
            "W : [[0.51192471]], b : [0.42989176], loss : 535.4395616190064\n",
            "W : [[0.62937681]], b : [-10.18990722], loss : 455.84733370839075\n",
            "W : [[0.75329018]], b : [-19.91678219], loss : 424.2844482094397\n",
            "W : [[0.86678722]], b : [-28.82600175], loss : 397.8049740387367\n",
            "W : [[0.97074352]], b : [-36.98629922], loss : 375.59019420596445\n",
            "W : [[1.06596111]], b : [-44.46063009], loss : 356.9532514977507\n",
            "W : [[1.15317456]], b : [-51.30665771], loss : 341.31791159686304\n",
            "W : [[1.23305672]], b : [-57.57719818], loss : 328.20074653156274\n",
            "W : [[1.30622387]], b : [-63.32062781], loss : 317.1961876002398\n",
            "W : [[1.37324049]], b : [-68.5812563], loss : 307.9639856213891\n"
          ]
        },
        {
          "output_type": "execute_result",
          "data": {
            "text/plain": [
              "array([[15.547026]])"
            ]
          },
          "metadata": {},
          "execution_count": 49
        }
      ]
    },
    {
      "cell_type": "markdown",
      "source": [
        "### Tensorflow 구현"
      ],
      "metadata": {
        "id": "mi5czXaJQUW8"
      }
    },
    {
      "cell_type": "code",
      "source": [
        "from tensorflow.keras.models import Sequential\n",
        "from tensorflow.keras.layers import Flatten, Dense\n",
        "from tensorflow.keras.optimizers import SGD\n",
        "\n",
        "# model 생성\n",
        "model = Sequential()\n",
        "\n",
        "model.add(Flatten(input_shape=(1,)))\n",
        "\n",
        "output_layer = Dense(units=1,\n",
        "                     activation='linear')\n",
        "\n",
        "model.add(output_layer)\n",
        "\n",
        "# model 설정\n",
        "model.compile(optimizer=SGD(learning_rate=1e-4),\n",
        "              loss='mse')\n",
        "\n",
        "# model 학습\n",
        "model.fit(x_data,\n",
        "          t_data,\n",
        "          epochs=2000,\n",
        "          verbose=0)\n",
        "print(model.predict(np.array([[62]])))  # [[37.21062]]\n",
        "\n",
        "# 그래프로 확인해 보아요!\n",
        "# W와 b가 필요해요!\n",
        "weights, bias = output_layer.get_weights()"
      ],
      "metadata": {
        "colab": {
          "base_uri": "https://localhost:8080/"
        },
        "id": "RGAVhUMVQZWV",
        "outputId": "c7063347-f678-46e5-b4e7-64082fde4308"
      },
      "execution_count": null,
      "outputs": [
        {
          "output_type": "stream",
          "name": "stdout",
          "text": [
            "1/1 [==============================] - 0s 58ms/step\n",
            "[[25.441444]]\n"
          ]
        }
      ]
    },
    {
      "cell_type": "code",
      "source": [
        "from sklearn import linear_model\n",
        "\n",
        "# Model 생성\n",
        "sklearn_model = linear_model.LinearRegression()\n",
        "\n",
        "# Model 학습\n",
        "sklearn_model.fit(x_data, t_data)\n",
        "\n",
        "# 예측을 해 보아요!\n",
        "sklearn_model.predict(np.array([[62]]))"
      ],
      "metadata": {
        "colab": {
          "base_uri": "https://localhost:8080/"
        },
        "id": "ijKAsIx2SGwg",
        "outputId": "2ba1f975-f5da-4225-de9a-c085f5eb38fe"
      },
      "execution_count": null,
      "outputs": [
        {
          "output_type": "execute_result",
          "data": {
            "text/plain": [
              "array([[4.51299041]])"
            ]
          },
          "metadata": {},
          "execution_count": 52
        }
      ]
    },
    {
      "cell_type": "code",
      "source": [
        "####### 결과를 그래프로 확인해 보아요! #########\n",
        "\n",
        "fig = plt.figure()\n",
        "\n",
        "fig_python = fig.add_subplot(1,3,1)\n",
        "fig_tensorflow = fig.add_subplot(1,3,2)\n",
        "fig_sklearn = fig.add_subplot(1,3,3)\n",
        "\n",
        "fig_python.set_title('python')\n",
        "fig_tensorflow.set_title('tensorflow')\n",
        "fig_sklearn.set_title('sklearn')\n",
        "\n",
        "fig_python.scatter(x_data, t_data)\n",
        "fig_python.plot(x_data, x_data*W.ravel() + b, color='r')\n",
        "\n",
        "fig_tensorflow.scatter(x_data, t_data)\n",
        "fig_tensorflow.plot(x_data, x_data*weights + bias, color='b')\n",
        "\n",
        "fig_sklearn.scatter(x_data, t_data)\n",
        "fig_sklearn.plot(x_data,\n",
        "                 x_data*sklearn_model.coef_ + sklearn_model.intercept_,\n",
        "                 color='g')\n",
        "\n",
        "plt.tight_layout()\n",
        "plt.show()"
      ],
      "metadata": {
        "colab": {
          "base_uri": "https://localhost:8080/",
          "height": 487
        },
        "id": "t4bfClLwSWGg",
        "outputId": "becf890c-0d3c-4b8c-fe01-6b62cf177760"
      },
      "execution_count": null,
      "outputs": [
        {
          "output_type": "display_data",
          "data": {
            "text/plain": [
              "<Figure size 640x480 with 3 Axes>"
            ],
            "image/png": "[encoded data removed]"
          },
          "metadata": {}
        }
      ]
    },
    {
      "cell_type": "markdown",
      "source": [
        "# 12월 1일\n",
        "- 정규화\n",
        "- MinMaxScaler, Standardization\n"
      ],
      "metadata": {
        "id": "1DAXpnHzSWaX"
      }
    },
    {
      "cell_type": "code",
      "source": [
        "import numpy as np\n",
        "import pandas as pd\n",
        "import matplotlib.pyplot as plt\n",
        "from scipy import stats\n",
        "from sklearn.preprocessing import MinMaxScaler, StandardScaler\n",
        "\n",
        "# Raw Data Loading\n",
        "df = pd.read_csv('/content/drive/MyDrive/AI스쿨 파일/ozone.csv')\n",
        "\n",
        "training_data = df[['Temp', 'Ozone']]\n",
        "\n",
        "# 이렇게 데이터를 가져온 후 당연히 데이터 전처리를 해야 해요!\n",
        "# 1. 결측치 처리!\n",
        "training_data = training_data.dropna(how='any')\n",
        "# 2. 이상치 처리!\n",
        "zscore_threshold = 1.8\n",
        "\n",
        "outlier = training_data['Ozone'][np.abs(stats.zscore(training_data['Ozone'].values)) > zscore_threshold]\n",
        "\n",
        "# print(outlier)\n",
        "\n",
        "# 이상치를 제거한 결과를 얻어야 해요!\n",
        "# 내가 가진 DataFrame에서 이상치를 제거하면 되요!\n",
        "training_data = training_data.loc[np.isin(training_data['Ozone'],outlier, invert=True)]\n",
        "\n",
        "# 3. 정규화 진행!\n",
        "#    모든 feature에 대해 scale을 0과 1로 변경!\n",
        "#    이렇게 해야 해요!\n",
        "#    프로그램적으로 이 작업을 하려면 코드작업을 해야해서 좀 그래요!\n",
        "#    sklearn을 이용하면 이 정규화 작업을 아주 쉽게 할 수 있어요!\n",
        "scaled_x = MinMaxScaler()\n",
        "scaled_t = MinMaxScaler()\n",
        "\n",
        "scaled_x.fit(training_data['Temp'].values.reshape(-1,1))\n",
        "scaled_t.fit(training_data['Ozone'].values.reshape(-1,1))\n",
        "\n",
        "# Training Data Set 준비\n",
        "x_data = scaled_x.transform(training_data['Temp'].values.reshape(-1,1))\n",
        "t_data = scaled_t.transform(training_data['Ozone'].values.reshape(-1,1))"
      ],
      "metadata": {
        "id": "CqWPMFAXTXCn"
      },
      "execution_count": null,
      "outputs": []
    },
    {
      "cell_type": "markdown",
      "source": [
        "### Python 구현"
      ],
      "metadata": {
        "id": "dmS_6SUxWZmX"
      }
    },
    {
      "cell_type": "code",
      "source": [
        "# Python 직접구현\n",
        "\n",
        "import numpy as np\n",
        "import pandas as pd\n",
        "import matplotlib.pyplot as plt\n",
        "\n",
        "## 수치미분 코드\n",
        "def numerical_derivative(f,x):\n",
        "\n",
        "    # f : 미분하려고하는 다변수 함수\n",
        "    # x : 모든 변수를 포함하는 ndarray  [1.0 2.0]\n",
        "    # 리턴되는 결과는 [8.0 15.0]\n",
        "\n",
        "    delta_x = 1e-4\n",
        "    derivative_x = np.zeros_like(x)   #  [0.0 0.0]\n",
        "\n",
        "    it = np.nditer(x, flags=['multi_index'])\n",
        "\n",
        "    while not it.finished:\n",
        "\n",
        "        idx = it.multi_index  # 현재의 index를 추출 => tuple형태로 리턴.\n",
        "\n",
        "        tmp = x[idx]    # 현재 index의 값을 일단 잠시 보존해야해요!\n",
        "                        # 밑에서 이 값을 변경해서 중앙차분 값을 계산해야 해요!\n",
        "                        # 그런데 우리 편미분해야해요. 다음 변수 편미분할때\n",
        "                        # 원래값으로 복원해야 편미분이 정상적으로 진행되기 때문에\n",
        "                        # 이값을 잠시 보관했다가 원상태로 복구해야 해요!\n",
        "        x[idx] = tmp + delta_x\n",
        "        fx_plus_delta_x = f(x)  # f(x + delta_x)\n",
        "\n",
        "        x[idx] = tmp - delta_x\n",
        "        fx_minus_delta_x = f(x) # f(x - delta_x)\n",
        "\n",
        "        derivative_x[idx] = (fx_plus_delta_x - fx_minus_delta_x) / (2 * delta_x)\n",
        "\n",
        "        x[idx] = tmp\n",
        "\n",
        "        it.iternext()\n",
        "\n",
        "    return derivative_x\n",
        "\n",
        "# Model을 만들어야 하는데.. y = Wx + b\n",
        "W = np.random.rand(1,1)\n",
        "b = np.random.rand(1)\n",
        "\n",
        "# loss function(MSE)\n",
        "def loss_func(input_data):\n",
        "\n",
        "    input_w = input_data[0]\n",
        "    input_b = input_data[1]\n",
        "\n",
        "    y = np.dot(x_data, input_w) + input_b\n",
        "\n",
        "    return np.mean(np.power((t_data-y),2))\n",
        "\n",
        "# 모델이 완성된 후 예측하는 함수를 하나 만들어요!\n",
        "def predict(x):\n",
        "\n",
        "    return np.dot(x, W) + b\n",
        "\n",
        "# learning rate 정의(hyperparameter)\n",
        "learning_rate = 1e-4\n",
        "\n",
        "# 학습진행\n",
        "for step in range(300000):\n",
        "\n",
        "    input_param = np.concatenate((W.ravel(), b.ravel()), axis=0)\n",
        "    derivative_result = learning_rate * numerical_derivative(loss_func, input_param)\n",
        "\n",
        "    W = W - derivative_result[0].reshape(-1,1)\n",
        "    b = b - derivative_result[1]\n",
        "\n",
        "    if step % 30000 == 0:\n",
        "        print(f'W : {W}, b : {b}, loss : {loss_func(input_param)}')\n",
        "\n",
        "# 지금 만들어진 모델은 scaling 되어 있으므로 알고싶은 예측값도\n",
        "# scaling 시켜서 넣어줘야함\n",
        "my_data = np.array([[62]])\n",
        "scaled_my_data = scaled_x.transform(my_data)\n",
        "scaled_result = predict(scaled_my_data)\n",
        "\n",
        "# 다시 원상복귀\n",
        "result = scaled_t.inverse_transform(scaled_result)  # inverse_transform -> 정규화된 값을 원래 값으로 변경\n",
        "result"
      ],
      "metadata": {
        "colab": {
          "base_uri": "https://localhost:8080/"
        },
        "id": "ldwHqMWaWbkF",
        "outputId": "d31ae8d2-a0db-48c2-bef0-e9f556777813"
      },
      "execution_count": null,
      "outputs": [
        {
          "output_type": "stream",
          "name": "stdout",
          "text": [
            "W : [[0.36444711]], b : [0.60226722], loss : 0.21487404377959732\n",
            "W : [[0.35414561]], b : [0.20508044], loss : 0.04350244489738204\n",
            "W : [[0.47457951]], b : [0.14081664], loss : 0.03725538076155974\n",
            "W : [[0.56729125]], b : [0.09149669], loss : 0.03355830855892176\n",
            "W : [[0.63861386]], b : [0.05355521], loss : 0.031370332503059456\n",
            "W : [[0.69348191]], b : [0.02436706], loss : 0.030075459436306174\n",
            "W : [[0.73569157]], b : [0.00191279], loss : 0.029309136489347364\n",
            "W : [[0.76816321]], b : [-0.01536114], loss : 0.028855616469421582\n",
            "W : [[0.79314345]], b : [-0.02864988], loss : 0.02858721734436631\n",
            "W : [[0.81236059]], b : [-0.03887282], loss : 0.02842837520473545\n"
          ]
        },
        {
          "output_type": "execute_result",
          "data": {
            "text/plain": [
              "array([[6.43897028]])"
            ]
          },
          "metadata": {},
          "execution_count": 58
        }
      ]
    },
    {
      "cell_type": "code",
      "source": [
        "### tensorflow 구현\n",
        "from tensorflow.keras.models import Sequential\n",
        "from tensorflow.keras.layers import Flatten, Dense\n",
        "from tensorflow.keras.optimizers import SGD\n",
        "\n",
        "# Model 생성\n",
        "model = Sequential()\n",
        "\n",
        "model.add(Flatten(input_shape=(1,)))\n",
        "\n",
        "output_layer = Dense(units=1,\n",
        "                     activation='linear')\n",
        "\n",
        "model.add(output_layer)\n",
        "\n",
        "# model 설정\n",
        "model.compile(optimizer=SGD(learning_rate=1e-2),\n",
        "              loss='mse')\n",
        "\n",
        "# model 학습\n",
        "model.fit(x_data,\n",
        "          t_data,\n",
        "          epochs=2000,\n",
        "          verbose=0)\n",
        "\n",
        "# 학습이 끝났으니 예측하기\n",
        "my_data = np.array([[62]])\n",
        "scaled_my_data = scaled_x.transform(my_data)\n",
        "scaled_result = model.predict(scaled_my_data)\n",
        "\n",
        "result = scaled_t.inverse_transform(scaled_result)\n",
        "print(result)\n",
        "\n",
        "# W,b의 값\n",
        "weights, bias = output_layer.get_weights()"
      ],
      "metadata": {
        "colab": {
          "base_uri": "https://localhost:8080/"
        },
        "id": "29q2yzW_X7tN",
        "outputId": "d1aa42a1-9d07-4aa5-c085-8b1b15a48e23"
      },
      "execution_count": null,
      "outputs": [
        {
          "output_type": "stream",
          "name": "stderr",
          "text": [
            "WARNING:tensorflow:5 out of the last 5 calls to <function Model.make_predict_function.<locals>.predict_function at 0x7a778f5fcaf0> triggered tf.function retracing. Tracing is expensive and the excessive number of tracings could be due to (1) creating @tf.function repeatedly in a loop, (2) passing tensors with different shapes, (3) passing Python objects instead of tensors. For (1), please define your @tf.function outside of the loop. For (2), @tf.function has reduce_retracing=True option that can avoid unnecessary retracing. For (3), please refer to https://www.tensorflow.org/guide/function#controlling_retracing and https://www.tensorflow.org/api_docs/python/tf/function for  more details.\n"
          ]
        },
        {
          "output_type": "stream",
          "name": "stdout",
          "text": [
            "1/1 [==============================] - 0s 35ms/step\n",
            "[[4.729635]]\n"
          ]
        }
      ]
    },
    {
      "cell_type": "markdown",
      "source": [
        "###sklearn 구현"
      ],
      "metadata": {
        "id": "8V6xXdBkY9oO"
      }
    },
    {
      "cell_type": "code",
      "source": [
        "# Model 생성\n",
        "sklearn_model = linear_model.LinearRegression()\n",
        "\n",
        "# Model 학습\n",
        "sklearn_model.fit(x_data, t_data)\n",
        "\n",
        "# 학습이 끝났으니 예측을 해 보아요!\n",
        "my_data = np.array([[62]])\n",
        "scaled_my_data = scaled_x.transform(my_data)\n",
        "scaled_result = sklearn_model.predict(scaled_my_data)\n",
        "# 다시 원상 복귀시켜야 겠죠.\n",
        "result = scaled_t.inverse_transform(scaled_result)\n",
        "print(result)"
      ],
      "metadata": {
        "colab": {
          "base_uri": "https://localhost:8080/"
        },
        "id": "qMuttWviY_df",
        "outputId": "510568cf-5c15-4895-fa93-5640b089932b"
      },
      "execution_count": null,
      "outputs": [
        {
          "output_type": "stream",
          "name": "stdout",
          "text": [
            "[[4.51299041]]\n"
          ]
        }
      ]
    },
    {
      "cell_type": "code",
      "source": [
        "####### 결과를 그래프로 확인해 보아요! #########\n",
        "\n",
        "fig = plt.figure()\n",
        "\n",
        "fig_python = fig.add_subplot(1,3,1)\n",
        "fig_tensorflow = fig.add_subplot(1,3,2)\n",
        "fig_sklearn = fig.add_subplot(1,3,3)\n",
        "\n",
        "fig_python.set_title('python')\n",
        "fig_tensorflow.set_title('tensorflow')\n",
        "fig_sklearn.set_title('sklearn')\n",
        "\n",
        "fig_python.scatter(x_data, t_data)\n",
        "fig_python.plot(x_data, x_data*W.ravel() + b, color='r')\n",
        "\n",
        "fig_tensorflow.scatter(x_data, t_data)\n",
        "fig_tensorflow.plot(x_data, x_data*weights + bias, color='b')\n",
        "\n",
        "fig_sklearn.scatter(x_data, t_data)\n",
        "fig_sklearn.plot(x_data,\n",
        "                 x_data*sklearn_model.coef_ + sklearn_model.intercept_,\n",
        "                 color='g')"
      ],
      "metadata": {
        "colab": {
          "base_uri": "https://localhost:8080/",
          "height": 470
        },
        "id": "paDwb36dZIV-",
        "outputId": "c722459f-a496-43d6-f971-e032fe2477fa"
      },
      "execution_count": null,
      "outputs": [
        {
          "output_type": "execute_result",
          "data": {
            "text/plain": [
              "[<matplotlib.lines.Line2D at 0x7a778f719240>]"
            ]
          },
          "metadata": {},
          "execution_count": 61
        },
        {
          "output_type": "display_data",
          "data": {
            "text/plain": [
              "<Figure size 640x480 with 3 Axes>"
            ],
            "image/png": "[encoded data removed]"
          },
          "metadata": {}
        }
      ]
    },
    {
      "cell_type": "markdown",
      "source": [
        "### 단순 선형 회귀 구현해봤으니\n",
        "### 다중 선형 회귀도 구현해보자!!\n",
        "### Multiple Linear Regression"
      ],
      "metadata": {
        "id": "qa7EupxkZMP6"
      }
    },
    {
      "cell_type": "code",
      "source": [
        "# 필요한 module import\n",
        "import numpy as np\n",
        "import pandas as pd\n",
        "\n",
        "from tensorflow.keras.models import Sequential\n",
        "from tensorflow.keras.layers import Flatten, Dense\n",
        "from tensorflow.keras.optimizers import SGD\n",
        "\n",
        "from scipy import stats\n",
        "from sklearn.preprocessing import MinMaxScaler\n",
        "from sklearn import linear_model"
      ],
      "metadata": {
        "id": "zyBh0l_7ah8Y"
      },
      "execution_count": null,
      "outputs": []
    },
    {
      "cell_type": "code",
      "source": [
        "# 데이터 전처리\n",
        "df = pd.read_csv('/content/drive/MyDrive/AI스쿨 파일/ozone.csv')\n",
        "training_data = df[['Solar.R', 'Wind', 'Temp', 'Ozone']]\n",
        "\n",
        "# 결측치 제거\n",
        "training_data = training_data.dropna(how='any')\n",
        "\n",
        "# 이상치 제거\n",
        "zscore_threshold = 1.8\n",
        "outlier = training_data['Ozone'][np.abs(stats.zscore(training_data['Ozone'].values)) > zscore_threshold]\n",
        "training_data = training_data.loc[np.isin(training_data['Ozone'], outlier, invert=True)]\n",
        "\n",
        "x_data = training_data.drop('Ozone',axis=1,inplace=False).values\n",
        "t_data = training_data['Ozone'].values.reshape(-1,1)\n",
        "\n",
        "# 정규화 진행\n",
        "scaler_x = MinMaxScaler()\n",
        "scaler_t = MinMaxScaler()\n",
        "\n",
        "scaler_x.fit(x_data)\n",
        "scaler_t.fit(t_data)\n",
        "\n",
        "x_data_norm = scaler_x.transform(x_data)\n",
        "t_data_norm = scaler_t.transform(t_data)"
      ],
      "metadata": {
        "id": "gvRTEQqdamjD"
      },
      "execution_count": null,
      "outputs": []
    },
    {
      "cell_type": "markdown",
      "source": [
        "###Tensorflow 구현"
      ],
      "metadata": {
        "id": "5UNUyMRNcHQu"
      }
    },
    {
      "cell_type": "code",
      "source": [
        "# Model 생성\n",
        "keras_model = Sequential()\n",
        "keras_model.add(Flatten(input_shape=(3,)))\n",
        "keras_model.add(Dense(units=1,\n",
        "                       activation='linear'))\n",
        "\n",
        "# Model 설정\n",
        "keras_model.compile(optimizer=SGD(learning_rate=1e-2),\n",
        "                    loss='mse')\n",
        "\n",
        "# Model 학습 - 정규화된 데이터를 넣어줘야함!!\n",
        "keras_model.fit(x_data_norm,\n",
        "                t_data_norm,\n",
        "                epochs=1000,\n",
        "                verbose=0)\n",
        "\n",
        "my_data = np.array([[150.0, 10.0, 80.0]])\n",
        "scaled_my_data = scaler_x.transform(my_data)\n",
        "scaled_result = keras_model.predict(scaled_my_data)\n",
        "result = scaled_t.inverse_transform(scaled_result)\n",
        "\n",
        "print(f'결과로 알아낸 오존량은 : {result}')"
      ],
      "metadata": {
        "colab": {
          "base_uri": "https://localhost:8080/"
        },
        "id": "OVVqwrr6cJgo",
        "outputId": "277557ad-f024-4dbe-d4aa-dba9542618eb"
      },
      "execution_count": null,
      "outputs": [
        {
          "output_type": "stream",
          "name": "stderr",
          "text": [
            "WARNING:tensorflow:6 out of the last 6 calls to <function Model.make_predict_function.<locals>.predict_function at 0x7a778f959090> triggered tf.function retracing. Tracing is expensive and the excessive number of tracings could be due to (1) creating @tf.function repeatedly in a loop, (2) passing tensors with different shapes, (3) passing Python objects instead of tensors. For (1), please define your @tf.function outside of the loop. For (2), @tf.function has reduce_retracing=True option that can avoid unnecessary retracing. For (3), please refer to https://www.tensorflow.org/guide/function#controlling_retracing and https://www.tensorflow.org/api_docs/python/tf/function for  more details.\n"
          ]
        },
        {
          "output_type": "stream",
          "name": "stdout",
          "text": [
            "1/1 [==============================] - 0s 36ms/step\n",
            "결과로 알아낸 오존량은 : [[39.917137]]\n"
          ]
        }
      ]
    },
    {
      "cell_type": "code",
      "source": [
        "### sklearn 구현\n",
        "\n",
        "# model 생성\n",
        "sklearn_model = linear_model.LinearRegression()\n",
        "\n",
        "# model 학습\n",
        "sklearn_model.fit(x_data,t_data)\n",
        "\n",
        "# model로 예측\n",
        "my_data = np.array([[150.0, 10.0, 80.0]])\n",
        "result = sklearn_model.predict(my_data)\n",
        "\n",
        "print(f'결과로 알아낸 오존량은 : {result}')"
      ],
      "metadata": {
        "colab": {
          "base_uri": "https://localhost:8080/"
        },
        "id": "h2qBHfMCdD_5",
        "outputId": "9d01651a-e345-47a8-c4ca-748dbc6a875f"
      },
      "execution_count": null,
      "outputs": [
        {
          "output_type": "stream",
          "name": "stdout",
          "text": [
            "결과로 알아낸 오존량은 : [[40.34973385]]\n"
          ]
        }
      ]
    },
    {
      "cell_type": "code",
      "source": [
        "!pip install mglearn"
      ],
      "metadata": {
        "colab": {
          "base_uri": "https://localhost:8080/"
        },
        "id": "mvUQ3u9QeSMM",
        "outputId": "64223f0e-9279-47cd-83b4-1ad33b47b33a"
      },
      "execution_count": null,
      "outputs": [
        {
          "output_type": "stream",
          "name": "stdout",
          "text": [
            "Collecting mglearn\n",
            "  Downloading mglearn-0.2.0-py2.py3-none-any.whl (581 kB)\n",
            "\u001b[?25l     \u001b[90m━━━━━━━━━━━━━━━━━━━━━━━━━━━━━━━━━━━━━━━━\u001b[0m \u001b[32m0.0/581.4 kB\u001b[0m \u001b[31m?\u001b[0m eta \u001b[36m-:--:--\u001b[0m\r\u001b[2K     \u001b[91m━━━━━━━━━━━━━\u001b[0m\u001b[90m╺\u001b[0m\u001b[90m━━━━━━━━━━━━━━━━━━━━━━━━━━\u001b[0m \u001b[32m194.6/581.4 kB\u001b[0m \u001b[31m5.8 MB/s\u001b[0m eta \u001b[36m0:00:01\u001b[0m\r\u001b[2K     \u001b[91m━━━━━━━━━━━━━━━━━━━━━━━━━━━━━━━━━━━━\u001b[0m\u001b[91m╸\u001b[0m\u001b[90m━━━\u001b[0m \u001b[32m532.5/581.4 kB\u001b[0m \u001b[31m7.7 MB/s\u001b[0m eta \u001b[36m0:00:01\u001b[0m\r\u001b[2K     \u001b[90m━━━━━━━━━━━━━━━━━━━━━━━━━━━━━━━━━━━━━━━━\u001b[0m \u001b[32m581.4/581.4 kB\u001b[0m \u001b[31m7.1 MB/s\u001b[0m eta \u001b[36m0:00:00\u001b[0m\n",
            "\u001b[?25hRequirement already satisfied: numpy in /usr/local/lib/python3.10/dist-packages (from mglearn) (1.23.5)\n",
            "Requirement already satisfied: matplotlib in /usr/local/lib/python3.10/dist-packages (from mglearn) (3.7.1)\n",
            "Requirement already satisfied: scikit-learn in /usr/local/lib/python3.10/dist-packages (from mglearn) (1.2.2)\n",
            "Requirement already satisfied: pandas in /usr/local/lib/python3.10/dist-packages (from mglearn) (1.5.3)\n",
            "Requirement already satisfied: pillow in /usr/local/lib/python3.10/dist-packages (from mglearn) (9.4.0)\n",
            "Requirement already satisfied: cycler in /usr/local/lib/python3.10/dist-packages (from mglearn) (0.12.1)\n",
            "Requirement already satisfied: imageio in /usr/local/lib/python3.10/dist-packages (from mglearn) (2.31.6)\n",
            "Requirement already satisfied: joblib in /usr/local/lib/python3.10/dist-packages (from mglearn) (1.3.2)\n",
            "Requirement already satisfied: contourpy>=1.0.1 in /usr/local/lib/python3.10/dist-packages (from matplotlib->mglearn) (1.2.0)\n",
            "Requirement already satisfied: fonttools>=4.22.0 in /usr/local/lib/python3.10/dist-packages (from matplotlib->mglearn) (4.45.1)\n",
            "Requirement already satisfied: kiwisolver>=1.0.1 in /usr/local/lib/python3.10/dist-packages (from matplotlib->mglearn) (1.4.5)\n",
            "Requirement already satisfied: packaging>=20.0 in /usr/local/lib/python3.10/dist-packages (from matplotlib->mglearn) (23.2)\n",
            "Requirement already satisfied: pyparsing>=2.3.1 in /usr/local/lib/python3.10/dist-packages (from matplotlib->mglearn) (3.1.1)\n",
            "Requirement already satisfied: python-dateutil>=2.7 in /usr/local/lib/python3.10/dist-packages (from matplotlib->mglearn) (2.8.2)\n",
            "Requirement already satisfied: pytz>=2020.1 in /usr/local/lib/python3.10/dist-packages (from pandas->mglearn) (2023.3.post1)\n",
            "Requirement already satisfied: scipy>=1.3.2 in /usr/local/lib/python3.10/dist-packages (from scikit-learn->mglearn) (1.11.4)\n",
            "Requirement already satisfied: threadpoolctl>=2.0.0 in /usr/local/lib/python3.10/dist-packages (from scikit-learn->mglearn) (3.2.0)\n",
            "Requirement already satisfied: six>=1.5 in /usr/local/lib/python3.10/dist-packages (from python-dateutil>=2.7->matplotlib->mglearn) (1.16.0)\n",
            "Installing collected packages: mglearn\n",
            "Successfully installed mglearn-0.2.0\n"
          ]
        }
      ]
    },
    {
      "cell_type": "code",
      "source": [
        "import numpy as np\n",
        "import matplotlib.pyplot as plt\n",
        "import mglearn\n",
        "from sklearn import linear_model"
      ],
      "metadata": {
        "id": "mtEgXfbteUvU"
      },
      "execution_count": null,
      "outputs": []
    },
    {
      "cell_type": "code",
      "source": [
        "x,t = mglearn.datasets.make_forge()\n",
        "\n",
        "# 이 데이터를 2차원 평면에 점을 찍어서 표현을 해 볼꺼예요!\n",
        "# x 안에 있는 2개의 값을 각각 x축의 값, y축의 값으로 이용\n",
        "# 그리고 각 데이터의 target(정답)의 값이 0이면 네모, 1이면 동글\n",
        "# 이렇게 표현을 할 꺼예요!\n",
        "\n",
        "mglearn.discrete_scatter(x[:,0], x[:,1],t)\n",
        "\n",
        "# 이제 이 데이터를 이용해 linear regression model 구현\n",
        "model = linear_model.LinearRegression()\n",
        "model.fit(x[:,0].reshape(-1,1),\n",
        "          x[:,1].reshape(-1,1))\n",
        "# 이렇게 학습을 시키면 우리의 모델이 완성\n",
        "# W와 b를 구할 수 있어요!\n",
        "plt.plot(x[:,0], x[:,0]*model.coef_.ravel() + model.intercept_,\n",
        "         color='r')"
      ],
      "metadata": {
        "colab": {
          "base_uri": "https://localhost:8080/",
          "height": 448
        },
        "id": "Bme_jbemeiDi",
        "outputId": "2f93a190-b1a4-4458-e63d-21f502e0cb6f"
      },
      "execution_count": null,
      "outputs": [
        {
          "output_type": "execute_result",
          "data": {
            "text/plain": [
              "[<matplotlib.lines.Line2D at 0x7a778cc1a440>]"
            ]
          },
          "metadata": {},
          "execution_count": 73
        },
        {
          "output_type": "display_data",
          "data": {
            "text/plain": [
              "<Figure size 640x480 with 1 Axes>"
            ],
            "image/png": "[encoded data removed]"
          },
          "metadata": {}
        }
      ]
    },
    {
      "cell_type": "code",
      "source": [
        "import numpy as np\n",
        "import matplotlib.pyplot as plt\n",
        "from sklearn import linear_model\n",
        "\n",
        "# Training Data Set\n",
        "x_data = np.array([1,2,5,8,10])  # 공부시간\n",
        "t_data = np.array([0,0,0,1,1]) # 합격여부\n",
        "\n",
        "# simple linear regression을 해 보아요!\n",
        "# 항상 2차원 배열 형태로 넣어줘야하는 것 주의!\n",
        "model = linear_model.LinearRegression()\n",
        "model.fit(x_data.reshape(-1,1),\n",
        "          t_data.reshape(-1,1))\n",
        "\n",
        "print(model.predict(np.array([[7]])))\n",
        "\n",
        "plt.scatter(x_data,t_data)\n",
        "plt.plot(x_data, x_data*model.coef_.ravel() + model.intercept_,\n",
        "         color='r')"
      ],
      "metadata": {
        "colab": {
          "base_uri": "https://localhost:8080/",
          "height": 466
        },
        "id": "FLGGhTBeezwe",
        "outputId": "0ef653fa-98bb-4910-bb71-ddaf3daba8d2"
      },
      "execution_count": null,
      "outputs": [
        {
          "output_type": "stream",
          "name": "stdout",
          "text": [
            "[[0.63265306]]\n"
          ]
        },
        {
          "output_type": "execute_result",
          "data": {
            "text/plain": [
              "[<matplotlib.lines.Line2D at 0x7a778f90cfd0>]"
            ]
          },
          "metadata": {},
          "execution_count": 74
        },
        {
          "output_type": "display_data",
          "data": {
            "text/plain": [
              "<Figure size 640x480 with 1 Axes>"
            ],
            "image/png": "[encoded data removed]"
          },
          "metadata": {}
        }
      ]
    },
    {
      "cell_type": "code",
      "source": [
        "import numpy as np\n",
        "import matplotlib.pyplot as plt\n",
        "from sklearn import linear_model\n",
        "\n",
        "# Training Data Set\n",
        "x_data = np.array([1,2,5,8,10,30])  # 공부시간\n",
        "t_data = np.array([0,0,0,1,1,1]) # 합격여부\n",
        "\n",
        "# simple linear regression을 해 보아요!\n",
        "model = linear_model.LinearRegression()\n",
        "model.fit(x_data.reshape(-1,1),\n",
        "          t_data.reshape(-1,1))\n",
        "\n",
        "print(model.predict(np.array([[7]]))) # [[0.41831972]]\n",
        "\n",
        "plt.scatter(x_data, t_data)\n",
        "plt.plot(x_data, x_data * model.coef_.ravel() + model.intercept_,\n",
        "         color='r')\n",
        "plt.show()"
      ],
      "metadata": {
        "colab": {
          "base_uri": "https://localhost:8080/",
          "height": 448
        },
        "id": "eq4HgY1CgxjC",
        "outputId": "e0d709be-02ba-4f3e-fdb4-72308a1c13cc"
      },
      "execution_count": null,
      "outputs": [
        {
          "output_type": "stream",
          "name": "stdout",
          "text": [
            "[[0.41831972]]\n"
          ]
        },
        {
          "output_type": "display_data",
          "data": {
            "text/plain": [
              "<Figure size 640x480 with 1 Axes>"
            ],
            "image/png": "[encoded data removed]"
          },
          "metadata": {}
        }
      ]
    },
    {
      "cell_type": "code",
      "source": [
        "# Logistic Regression을 구현해 보아요!\n",
        "# sklearn과 tensorflow를 이용해서 구현할꺼예요!\n",
        "# 간단한 데이터를 이용해서 모델을 완성하고 예측을 해 보아요!\n",
        "\n",
        "import numpy as np\n",
        "from sklearn import linear_model\n",
        "from tensorflow.keras.models import Sequential\n",
        "from tensorflow.keras.layers import Flatten, Dense\n",
        "from tensorflow.keras.optimizers import SGD\n",
        "\n",
        "# Training Data Set\n",
        "# 공부시간에 따른 시험합격여부\n",
        "x_data = np.arange(2,21,2).reshape(-1,1)\n",
        "t_data = np.array([0,0,0,0,0,0,1,1,1,1]).reshape(-1,1)\n",
        "\n",
        "# sklearn 구현\n",
        "sklearn_model = linear_model.LogisticRegression()\n",
        "sklearn_model.fit(x_data,t_data.ravel())  # logistic 회귀에서의 fit 모델은 1차원 배열을 필요로 함!!\n",
        "\n",
        "study_hour = np.array([[13]])\n",
        "result = sklearn_model.predict(study_hour)\n",
        "print(result)  # 결과가 0,1로 나옴\n",
        "\n",
        "# 확률을 알고싶으면\n",
        "result_proba = sklearn_model.predict_proba(study_hour)\n",
        "result_proba\n",
        "\n",
        "# tensorflow 구현\n",
        "keras_model = Sequential()\n",
        "\n",
        "keras_model.add(Flatten(input_shape=(1,)))\n",
        "\n",
        "keras_model.add(Dense(units=1,\n",
        "                      activation='sigmoid'))\n",
        "\n",
        "keras_model.compile(optimizer=SGD(learning_rate=1e-2),\n",
        "                    loss='binary_crossentropy')\n",
        "\n",
        "keras_model.fit(x_data,\n",
        "                t_data,\n",
        "                epochs=500,\n",
        "                verbose=0)\n",
        "\n",
        "keras_result = keras_model.predict(study_hour)\n",
        "print(keras_result)"
      ],
      "metadata": {
        "colab": {
          "base_uri": "https://localhost:8080/"
        },
        "id": "Rht_lmP3g2zX",
        "outputId": "aaa7ff50-22e6-43e5-d8e3-b479f01316e9"
      },
      "execution_count": null,
      "outputs": [
        {
          "output_type": "stream",
          "name": "stdout",
          "text": [
            "[0]\n",
            "1/1 [==============================] - 0s 30ms/step\n",
            "[[0.5998916]]\n"
          ]
        }
      ]
    },
    {
      "cell_type": "code",
      "source": [],
      "metadata": {
        "id": "uSkTQTBlhotu"
      },
      "execution_count": null,
      "outputs": []
    }
  ]
}