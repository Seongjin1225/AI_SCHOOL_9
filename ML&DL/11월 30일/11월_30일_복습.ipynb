{
  "nbformat": 4,
  "nbformat_minor": 0,
  "metadata": {
    "colab": {
      "provenance": [],
      "mount_file_id": "172SrFhWwFZxdimNUkw55w0h2fTI-e9fV",
      "authorship_tag": "ABX9TyPjA0hzQcHeOWR/lnnoL1rj",
      "include_colab_link": true
    },
    "kernelspec": {
      "name": "python3",
      "display_name": "Python 3"
    },
    "language_info": {
      "name": "python"
    }
  },
  "cells": [
    {
      "cell_type": "markdown",
      "metadata": {
        "id": "view-in-github",
        "colab_type": "text"
      },
      "source": [
        "<a href=\"https://colab.research.google.com/github/Seongjin1225/AI_SCHOOL_9/blob/main/ML%26DL/11%EC%9B%94%2030%EC%9D%BC/11%EC%9B%94_30%EC%9D%BC_%EB%B3%B5%EC%8A%B5.ipynb\" target=\"_parent\"><img src=\"https://colab.research.google.com/assets/colab-badge.svg\" alt=\"Open In Colab\"/></a>"
      ]
    },
    {
      "cell_type": "markdown",
      "source": [
        "# ozone.csv 파일 이용하여 머신러닝 모델 구현하기\n",
        "- python, tenserflow, sklearn 3가지 모두 각각 구현할 예정"
      ],
      "metadata": {
        "id": "jeRLsM9m5fDA"
      }
    },
    {
      "cell_type": "markdown",
      "source": [
        "## python ver."
      ],
      "metadata": {
        "id": "wexYzyb56Aip"
      }
    },
    {
      "cell_type": "code",
      "source": [
        "# 필요 라이브러리 호출\n",
        "import numpy as np\n",
        "import pandas as pd\n",
        "import matplotlib.pyplot as plt\n",
        "\n",
        "# 수치미분 코드\n",
        "def numerical_derivative(f,x):\n",
        "    delta_x = 1e-4\n",
        "    derivative_x = np.zeros_like(x)   #  [0.0 0.0]\n",
        "\n",
        "    it = np.nditer(x, flags=['multi_index'])\n",
        "\n",
        "    while not it.finished:\n",
        "\n",
        "        idx = it.multi_index\n",
        "\n",
        "        tmp = x[idx]\n",
        "        x[idx] = tmp + delta_x\n",
        "        fx_plus_delta_x = f(x)  # f(x + delta_x)\n",
        "\n",
        "        x[idx] = tmp - delta_x\n",
        "        fx_minus_delta_x = f(x) # f(x - delta_x)\n",
        "\n",
        "        derivative_x[idx] = (fx_plus_delta_x - fx_minus_delta_x) / (2 * delta_x)\n",
        "\n",
        "        x[idx] = tmp\n",
        "\n",
        "        it.iternext()\n",
        "\n",
        "    return derivative_x\n",
        "\n",
        "# Raw Data Loading\n",
        "df = pd.read_csv('/content/drive/MyDrive/AI스쿨 파일/ozone.csv')\n",
        "df\n",
        "\n",
        "training_data = df[['Temp','Ozone']]\n",
        "training_data\n",
        "\n",
        "# 이렇게 데이터를 가져온 후 당연히 데이터 전처리를 해야 해요!\n",
        "# 1. 결측치 처리!\n",
        "#    - 지금은 그냥 냅다 삭제할 거에요!(데이터가 많은 경우 가장 좋은 방법)\n",
        "training_data = training_data.dropna(how='any')\n",
        "training_data\n",
        "\n",
        "# Traingin DataSet 준비\n",
        "x_data = training_data['Temp'].values.reshape(-1,1)  #(-1.1) -> 1개의 열 가지고 있고 나머지는 모두 행으로 ㄱㄱ\n",
        "t_data = training_data['Ozone'].values.reshape(-1,1)\n",
        "\n",
        "# Model을 만들어야 하는데.. y = Wx + b\n",
        "W = np.random.rand(1,1)  # 어떤 값을 설정해야 하는지 모르기 때문에 처음에는 랜덤 값을 받는다\n",
        "b = np.random.rand(1)\n",
        "\n",
        "# loss function -> W와 b 값에 의해 결정되는 함수이므로 W,b가 들어와야 함\n",
        "def loss_func(input_data):\n",
        "    input_W = input_data[0]\n",
        "    input_b = input_data[1]\n",
        "\n",
        "    y = np.dot(x_data,input_W) + input_b\n",
        "    return np.mean(np.power((t_data-y),2))\n",
        "\n",
        "# 모델이 완성된 후 예측하는 함수를 하나 만들어요!\n",
        "def predict(x):\n",
        "    return np.dot(x, W) + b\n",
        "\n",
        "# learning rate 정의(hyperparameter -> 내가 정하는 것)\n",
        "learning_rate = 1e-4  # 1e-4 -> learning_rate 설정하는 기준\n",
        "\n",
        "# 학습진행\n",
        "for step in range(300000):\n",
        "    input_param = np.concatenate((W.ravel(), b.ravel()), axis=0)\n",
        "    derivative_result = learning_rate * numerical_derivative(loss_func, input_param)\n",
        "\n",
        "    W = W - derivative_result[0].reshape(-1,1)\n",
        "    b = b - derivative_result[1]\n",
        "\n",
        "    if step % 30000 == 0:\n",
        "        print(f'W : {W}, b : {b}, loss : {loss_func(input_param)}')"
      ],
      "metadata": {
        "colab": {
          "base_uri": "https://localhost:8080/"
        },
        "id": "d26x1tAx6EpD",
        "outputId": "e3357215-478f-4d23-f354-e698596d7a83"
      },
      "execution_count": null,
      "outputs": [
        {
          "output_type": "stream",
          "name": "stdout",
          "text": [
            "W : [[0.58069641]], b : [0.48237609], loss : 907.1788769528366\n",
            "W : [[0.71773395]], b : [-11.80157584], loss : 817.6348630495228\n",
            "W : [[0.86024414]], b : [-23.06215816], loss : 775.3343645067616\n",
            "W : [[0.99088437]], b : [-33.38482316], loss : 739.7869962451716\n",
            "W : [[1.1106433]], b : [-42.84769193], loss : 709.91464405314\n",
            "W : [[1.22042726]], b : [-51.52237869], loss : 684.8113109762212\n",
            "W : [[1.32106708]], b : [-59.47453274], loss : 663.7156393827058\n",
            "W : [[1.4133244]], b : [-66.76433535], loss : 645.9878197892441\n",
            "W : [[1.49789742]], b : [-73.44695514], loss : 631.090186113785\n",
            "W : [[1.57542618]], b : [-79.57296563], loss : 618.5709088299574\n"
          ]
        }
      ]
    },
    {
      "cell_type": "code",
      "source": [
        "# 학습이 끝났으니 결과 예측해볼까요?\n",
        "# 온도가 62도 일때의 오존 수치 예측\n",
        "predict(np.array([[62]]))\n",
        "\n",
        "# 이 수치가 맞는지 모르겠으니 그래프로 확인\n",
        "plt.scatter(x_data, t_data)\n",
        "plt.plot(x_data, x_data*W.ravel() + b, color ='r')"
      ],
      "metadata": {
        "colab": {
          "base_uri": "https://localhost:8080/",
          "height": 451
        },
        "id": "cy2KwwfL-TT2",
        "outputId": "268e7de6-1426-4a2c-cf9b-53187cc8b397"
      },
      "execution_count": null,
      "outputs": [
        {
          "output_type": "execute_result",
          "data": {
            "text/plain": [
              "[<matplotlib.lines.Line2D at 0x7f9eabc16e00>]"
            ]
          },
          "metadata": {},
          "execution_count": 9
        },
        {
          "output_type": "display_data",
          "data": {
            "text/plain": [
              "<Figure size 640x480 with 1 Axes>"
            ],
            "image/png": "[encoded data removed]"
          },
          "metadata": {}
        }
      ]
    },
    {
      "cell_type": "markdown",
      "source": [
        "## tensorflow를 이용한 구현"
      ],
      "metadata": {
        "id": "SXTbUu1M_UJA"
      }
    },
    {
      "cell_type": "code",
      "source": [
        "from tensorflow.keras.models import Sequential\n",
        "from tensorflow.keras.layers import Flatten, Dense\n",
        "from tensorflow.keras.optimizers import SGD\n",
        "\n",
        "# Raw Data Loading\n",
        "df = pd.read_csv('/content/drive/MyDrive/AI스쿨 파일/ozone.csv')\n",
        "df\n",
        "\n",
        "training_data = df[['Temp','Ozone']]\n",
        "training_data\n",
        "\n",
        "training_data = training_data.dropna(how='any')\n",
        "training_data\n",
        "\n",
        "# Traingin DataSet 준비\n",
        "x_data = training_data['Temp'].values.reshape(-1,1)  #(-1.1) -> 1개의 열 가지고 있고 나머지는 모두 행으로 ㄱㄱ\n",
        "t_data = training_data['Ozone'].values.reshape(-1,1)\n",
        "\n",
        "# model 생성\n",
        "model = Sequential()\n",
        "model.add(Flatten(input_shape=(1,)))\n",
        "\n",
        "output_layer = Dense(units=1,\n",
        "                     activation='linear')\n",
        "model.add(output_layer)\n",
        "\n",
        "# model 설정\n",
        "model.compile(optimizer=SGD(learning_rate = 1e-4),\n",
        "              loss='mse')\n",
        "\n",
        "# Model\n",
        "model.fit(x_data,\n",
        "          t_data,\n",
        "          epochs=2000,\n",
        "          verbose=0)"
      ],
      "metadata": {
        "colab": {
          "base_uri": "https://localhost:8080/"
        },
        "id": "zOomql_dAO87",
        "outputId": "f1c2c6dd-8ff7-4b49-cb56-5bd2137cf20f"
      },
      "execution_count": null,
      "outputs": [
        {
          "output_type": "execute_result",
          "data": {
            "text/plain": [
              "<keras.src.callbacks.History at 0x7f9e50aae140>"
            ]
          },
          "metadata": {},
          "execution_count": 10
        }
      ]
    },
    {
      "cell_type": "code",
      "source": [
        "# 학습을 완료했으니 결과를 예측해볼까요?\n",
        "model.predict(np.array(([[62]])))\n",
        "\n",
        "# 마찬가지로 그래프로 그려서 표현해보기\n",
        "weight, bias = output_layer.get_weights()\n",
        "plt.scatter(x_data, t_data)\n",
        "plt.plot(x_data, x_data*weight + bias, color='b')"
      ],
      "metadata": {
        "colab": {
          "base_uri": "https://localhost:8080/",
          "height": 469
        },
        "id": "uRRe3TPWB_Z-",
        "outputId": "057a4e39-392f-4d9a-f6dd-41ebf5067d8f"
      },
      "execution_count": null,
      "outputs": [
        {
          "output_type": "stream",
          "name": "stdout",
          "text": [
            "1/1 [==============================] - 0s 20ms/step\n"
          ]
        },
        {
          "output_type": "execute_result",
          "data": {
            "text/plain": [
              "[<matplotlib.lines.Line2D at 0x7f9e53d670a0>]"
            ]
          },
          "metadata": {},
          "execution_count": 12
        },
        {
          "output_type": "display_data",
          "data": {
            "text/plain": [
              "<Figure size 640x480 with 1 Axes>"
            ],
            "image/png": "[encoded data removed]"
          },
          "metadata": {}
        }
      ]
    },
    {
      "cell_type": "markdown",
      "source": [
        "# sklearn 모델로 구현하기"
      ],
      "metadata": {
        "id": "rq5k-ft_CJ60"
      }
    },
    {
      "cell_type": "code",
      "source": [
        "from sklearn import linear_model\n",
        "# Raw Data Loading\n",
        "df = pd.read_csv('/content/drive/MyDrive/AI스쿨 파일/ozone.csv')\n",
        "\n",
        "training_data = df[['Temp','Ozone']]\n",
        "\n",
        "# 이렇게 데이터를 가져온 후 당연히 데이터 전처리를 해야 해요!\n",
        "# 1. 결측치 처리!\n",
        "#    - 지금은 그냥 냅다 삭제할 거에요!(데이터가 많은 경우 가장 좋은 방법)\n",
        "training_data = training_data.dropna(how='any')\n",
        "training_data\n",
        "\n",
        "# Traingin DataSet 준비\n",
        "x_data = training_data['Temp'].values.reshape(-1,1)  #(-1.1) -> 1개의 열 가지고 있고 나머지는 모두 행으로 ㄱㄱ\n",
        "t_data = training_data['Ozone'].values.reshape(-1,1)\n",
        "\n",
        "# Model 생성\n",
        "sklearn_model = linear_model.LinearRegression()\n",
        "\n",
        "# Model 학습\n",
        "sklearn_model.fit(x_data, t_data)\n",
        "\n",
        "# W와 b를 알아야 그래프 그릴 수 있겠죠\n",
        "weights = sklearn_model.coef_\n",
        "bias = sklearn_model.intercept_\n",
        "\n",
        "# 예측을 해보아요!\n",
        "sklearn_model.predict(np.array([[62]]))\n",
        "\n",
        "plt.scatter(x_data,t_data)\n",
        "plt.plot(x_data, x_data*weights + bias, color='g')"
      ],
      "metadata": {
        "colab": {
          "base_uri": "https://localhost:8080/",
          "height": 450
        },
        "id": "5bA04JYYC_T3",
        "outputId": "f9cc546f-951c-49d6-d1e2-629aba74b212"
      },
      "execution_count": null,
      "outputs": [
        {
          "output_type": "execute_result",
          "data": {
            "text/plain": [
              "[<matplotlib.lines.Line2D at 0x7f9e4396ead0>]"
            ]
          },
          "metadata": {},
          "execution_count": 15
        },
        {
          "output_type": "display_data",
          "data": {
            "text/plain": [
              "<Figure size 640x480 with 1 Axes>"
            ],
            "image/png": "[encoded data removed]"
          },
          "metadata": {}
        }
      ]
    },
    {
      "cell_type": "markdown",
      "source": [
        "# 3가지 방식 결과가 모두 다른데 그 이유는?\n",
        "# 데이터에서 발견되는 이상치 때문\n",
        "# 이상치를 해결하는 방법에는 여러가지 있지만 2가지만 알면 된다\n",
        "# Tukey fense, zscore(정규분포)"
      ],
      "metadata": {
        "id": "fDmOxdKrEZtT"
      }
    },
    {
      "cell_type": "markdown",
      "source": [
        "## 1. Tukey fense\n",
        "- 사분위수를 사용\n",
        "- IQR Value를 사용하여 구함(3사분위 - 1사분위)"
      ],
      "metadata": {
        "id": "05BlhzOPFXHL"
      }
    },
    {
      "cell_type": "code",
      "source": [
        "import numpy as np\n",
        "import matplotlib.pyplot as plt\n",
        "\n",
        "data = np.array([1,2,3,4,5,6,7,8,9,10,11,12,13,14,22.1])\n",
        "\n",
        "fig = plt.figure()\n",
        "fig_1 = fig.add_subplot(1,2,1)\n",
        "fig_2 = fig.add_subplot(1,2,2)\n",
        "\n",
        "# 중위값, 1,3사분위 구하기\n",
        "np.median(data)\n",
        "np.percentile(data,25)  # 1사분위\n",
        "np.percentile(data,75)  # 3사분위\n",
        "\n",
        "# IQR Value 구하기\n",
        "iqr_value = np.percentile(data,75) - np.percentile(data,25)\n",
        "iqr_value\n",
        "\n",
        "# 이상치 구분하는 기준선 구하기\n",
        "upper_fence = np.percentile(data,75) + 1.5*iqr_value\n",
        "lower_fence = np.percentile(data,25) - 1.5*iqr_value\n",
        "\n",
        "# 가지고 있는 data에 대한 이상치 구하기\n",
        "data[(data > upper_fence) | (data < lower_fence)]\n",
        "\n",
        "# 우리의 목적은 데이터 정제! -> 기준선 안의 값 추출\n",
        "result_data = data[(data <= upper_fence) & (data >= lower_fence)]\n",
        "result_data\n",
        "\n",
        "# 이상치 처리 전후 차이 그래프로 비교\n",
        "fig_1.set_title('Original Data')\n",
        "fig_1.boxplot(data)\n",
        "\n",
        "fig_2.set_title('Remove Outlier Data')\n",
        "fig_2.boxplot(result_data)\n",
        "\n",
        "plt.tight_layout()\n",
        "plt.show()"
      ],
      "metadata": {
        "colab": {
          "base_uri": "https://localhost:8080/",
          "height": 487
        },
        "id": "4e-brEk5JCOB",
        "outputId": "685eadff-e44e-4cd6-fae4-b8754fe859c2"
      },
      "execution_count": null,
      "outputs": [
        {
          "output_type": "display_data",
          "data": {
            "text/plain": [
              "<Figure size 640x480 with 2 Axes>"
            ],
            "image/png": "[encoded data removed]"
          },
          "metadata": {}
        }
      ]
    },
    {
      "cell_type": "markdown",
      "source": [
        "# 2. 정규분포(zscore)\n",
        "\n",
        "1.   가지고 있는 데이터를 정규분포 시켜 데이터에 대한 zscore를 구해야\n",
        "2.   그 이후 기준치를 설정하여 기준치를 넘는 데이터를 이상치로 판별\n",
        "\n"
      ],
      "metadata": {
        "id": "rpty-9gfKMnL"
      }
    },
    {
      "cell_type": "code",
      "source": [
        "# 필요 라이브러리 호출\n",
        "from scipy import stats\n",
        "data = np.array([1,2,3,4,5,6,7,8,9,10,11,12,13,14,22.1])\n",
        "\n",
        "zscore_threshold = 2.0\n",
        "outlier = data[np.abs(stats.zscore(data)) > zscore_threshold]  # 상위, 하위 이상치 모두 한번에 제거하기 위해 abs 사용\n",
        "\n",
        "# 이상치 제거한 결과\n",
        "data[np.isin(data,outlier,invert=True)]  #invert -> True는 False로, False는 True로 바꿔줌\n"
      ],
      "metadata": {
        "colab": {
          "base_uri": "https://localhost:8080/"
        },
        "id": "KCSAb5K9Lewf",
        "outputId": "460efebc-671b-47da-b96c-09fef35abb6e"
      },
      "execution_count": null,
      "outputs": [
        {
          "output_type": "execute_result",
          "data": {
            "text/plain": [
              "array([ 1.,  2.,  3.,  4.,  5.,  6.,  7.,  8.,  9., 10., 11., 12., 13.,\n",
              "       14.])"
            ]
          },
          "metadata": {},
          "execution_count": 19
        }
      ]
    },
    {
      "cell_type": "code",
      "source": [
        "# python, tensorflow, sklearn으로 구현을\n",
        "# 이상치 제거한 데이터 이용해서 학습시키고 결과 그래프를 출력해보아요!\n",
        "# 62도에서의 예측치도 구해보기!"
      ],
      "metadata": {
        "id": "Vo8KgBmOPaq3"
      },
      "execution_count": null,
      "outputs": []
    },
    {
      "cell_type": "code",
      "source": [
        "# 3가지 구현에 모두 쓸 수 있게 이상치 제거 해놓기\n",
        "# 구현은 이미 위에 작성한 코드 그래도 가져와 쓰면됨\n",
        "import numpy as np\n",
        "import pandas as pd\n",
        "import matplotlib.pyplot as plt\n",
        "from scipy import stats\n",
        "\n",
        "# Raw Data Set\n",
        "df = pd.read_csv('/content/drive/MyDrive/AI스쿨 파일/ozone.csv')\n",
        "df\n",
        "\n",
        "training_data = df[['Temp','Ozone']]\n",
        "\n",
        "# 결측치 제거\n",
        "training_data = training_data.dropna(how='any')\n",
        "\n",
        "# 이상치 제거\n",
        "zscore_threshold = 1.8\n",
        "outlier = training_data['Ozone'][np.abs(stats.zscore(training_data['Ozone'].values)) > zscore_threshold]\n",
        "\n",
        "# 이상치를 제거한 데이터 프레임 - loc 이용하여 값 설정 할 수 있음\n",
        "training_data = training_data.loc[np.isin(training_data['Ozone'], outlier, invert=True)]\n",
        "\n",
        "# Traingin Data Set\n",
        "x_data = training_data['Temp'].values.reshape(-1,1)\n",
        "t_data = training_data['Ozone'].values.reshape(-1,1)"
      ],
      "metadata": {
        "id": "3ZeeHnHXP9od"
      },
      "execution_count": null,
      "outputs": []
    },
    {
      "cell_type": "code",
      "source": [
        "# Python 구현\n",
        "# 필요 라이브러리 호출\n",
        "import numpy as np\n",
        "import pandas as pd\n",
        "import matplotlib.pyplot as plt\n",
        "\n",
        "# 수치미분 코드\n",
        "def numerical_derivative(f,x):\n",
        "    delta_x = 1e-4\n",
        "    derivative_x = np.zeros_like(x)   #  [0.0 0.0]\n",
        "\n",
        "    it = np.nditer(x, flags=['multi_index'])\n",
        "\n",
        "    while not it.finished:\n",
        "\n",
        "        idx = it.multi_index\n",
        "\n",
        "        tmp = x[idx]\n",
        "        x[idx] = tmp + delta_x\n",
        "        fx_plus_delta_x = f(x)  # f(x + delta_x)\n",
        "\n",
        "        x[idx] = tmp - delta_x\n",
        "        fx_minus_delta_x = f(x) # f(x - delta_x)\n",
        "\n",
        "        derivative_x[idx] = (fx_plus_delta_x - fx_minus_delta_x) / (2 * delta_x)\n",
        "\n",
        "        x[idx] = tmp\n",
        "\n",
        "        it.iternext()\n",
        "\n",
        "    return derivative_x\n",
        "\n",
        "# Model을 만들어야 하는데.. y = Wx + b\n",
        "W = np.random.rand(1,1)  # 어떤 값을 설정해야 하는지 모르기 때문에 처음에는 랜덤 값을 받는다\n",
        "b = np.random.rand(1)\n",
        "\n",
        "# loss function -> W와 b 값에 의해 결정되는 함수이므로 W,b가 들어와야 함\n",
        "def loss_func(input_data):\n",
        "    input_W = input_data[0]\n",
        "    input_b = input_data[1]\n",
        "\n",
        "    y = np.dot(x_data,input_W) + input_b\n",
        "    return np.mean(np.power((t_data-y),2))\n",
        "\n",
        "# 모델이 완성된 후 예측하는 함수를 하나 만들어요!\n",
        "def predict(x):\n",
        "    return np.dot(x, W) + b\n",
        "\n",
        "# learning rate 정의(hyperparameter -> 내가 정하는 것)\n",
        "learning_rate = 1e-4  # 1e-4 -> learning_rate 설정하는 기준\n",
        "\n",
        "# 학습진행\n",
        "for step in range(300000):\n",
        "    input_param = np.concatenate((W.ravel(), b.ravel()), axis=0)\n",
        "    derivative_result = learning_rate * numerical_derivative(loss_func, input_param)\n",
        "\n",
        "    W = W - derivative_result[0].reshape(-1,1)\n",
        "    b = b - derivative_result[1]\n",
        "\n",
        "    if step % 30000 == 0:\n",
        "        print(f'W : {W}, b : {b}, loss : {loss_func(input_param)}')"
      ],
      "metadata": {
        "colab": {
          "base_uri": "https://localhost:8080/"
        },
        "id": "arhtbZ2DRYch",
        "outputId": "eb617b63-2fb0-467a-94e8-1b1a5f3f30e8"
      },
      "execution_count": null,
      "outputs": [
        {
          "output_type": "stream",
          "name": "stdout",
          "text": [
            "W : [[0.49321281]], b : [0.59363742], loss : 494.26958719490136\n",
            "W : [[0.62746369]], b : [-10.03973229], loss : 456.3563491306141\n",
            "W : [[0.75153788]], b : [-19.77923119], loss : 424.7114833335831\n",
            "W : [[0.86518222]], b : [-28.70001349], loss : 398.16323233367484\n",
            "W : [[0.96927344]], b : [-36.87090172], loss : 375.8907526344418\n",
            "W : [[1.0646146]], b : [-44.35493307], loss : 357.20540300471464\n",
            "W : [[1.15194125]], b : [-51.20984574], loss : 341.52945243699793\n",
            "W : [[1.23192708]], b : [-57.48852437], loss : 328.37821732121085\n",
            "W : [[1.30518919]], b : [-63.23940805], loss : 317.3450755462125\n",
            "W : [[1.37229278]], b : [-68.50686398], loss : 308.0888941795798\n"
          ]
        }
      ]
    },
    {
      "cell_type": "code",
      "source": [
        "predict(np.array([[62]]))"
      ],
      "metadata": {
        "colab": {
          "base_uri": "https://localhost:8080/"
        },
        "id": "eRACpX39RjT0",
        "outputId": "5b7201fe-8239-4ecd-d559-9d6593a52c41"
      },
      "execution_count": null,
      "outputs": [
        {
          "output_type": "execute_result",
          "data": {
            "text/plain": [
              "array([[15.56134641]])"
            ]
          },
          "metadata": {},
          "execution_count": 22
        }
      ]
    },
    {
      "cell_type": "code",
      "source": [
        "# tensorflow 구현\n",
        "from tensorflow.keras.models import Sequential\n",
        "from tensorflow.keras.layers import Flatten, Dense\n",
        "from tensorflow.keras.optimizers import SGD\n",
        "\n",
        "# model 생성\n",
        "model = Sequential()\n",
        "model.add(Flatten(input_shape=(1,)))\n",
        "\n",
        "output_layer = Dense(units=1,\n",
        "                     activation='linear')\n",
        "model.add(output_layer)\n",
        "\n",
        "# model 설정\n",
        "model.compile(optimizer=SGD(learning_rate = 1e-4),\n",
        "              loss='mse')\n",
        "\n",
        "# Model\n",
        "model.fit(x_data,\n",
        "          t_data,\n",
        "          epochs=2000,\n",
        "          verbose=0)"
      ],
      "metadata": {
        "colab": {
          "base_uri": "https://localhost:8080/"
        },
        "id": "kHxqdahnRm_K",
        "outputId": "aea21704-df92-4588-c3c6-17c4981da058"
      },
      "execution_count": null,
      "outputs": [
        {
          "output_type": "execute_result",
          "data": {
            "text/plain": [
              "<keras.src.callbacks.History at 0x7f9e42b0f0a0>"
            ]
          },
          "metadata": {},
          "execution_count": 27
        }
      ]
    },
    {
      "cell_type": "code",
      "source": [
        "# 예측하기\n",
        "predict(np.array([[62]]))\n",
        "weight, bias = output_layer.get_weights()"
      ],
      "metadata": {
        "id": "_nQrvsLRRnkG"
      },
      "execution_count": null,
      "outputs": []
    },
    {
      "cell_type": "code",
      "source": [
        "#sklearn\n",
        "from sklearn import linear_model\n",
        "\n",
        "# Model 생성\n",
        "sklearn_model = linear_model.LinearRegression()\n",
        "\n",
        "# Model 학습\n",
        "sklearn_model.fit(x_data, t_data)\n",
        "\n",
        "# W와 b를 알아야 그래프 그릴 수 있겠죠\n",
        "weights = sklearn_model.coef_\n",
        "bia = sklearn_model.intercept_\n",
        "\n",
        "# 예측을 해보아요!\n",
        "sklearn_model.predict(np.array([[62]]))"
      ],
      "metadata": {
        "colab": {
          "base_uri": "https://localhost:8080/"
        },
        "id": "-pq5WbA4RoBG",
        "outputId": "1b1a6f88-67da-4cd3-e0a7-5e6f9123f1a3"
      },
      "execution_count": null,
      "outputs": [
        {
          "output_type": "execute_result",
          "data": {
            "text/plain": [
              "array([[3.58411393]])"
            ]
          },
          "metadata": {},
          "execution_count": 28
        }
      ]
    },
    {
      "cell_type": "code",
      "source": [
        "# 3가지 모델 결과 모두 한번에 그래프로 알아보게 그리기\n",
        "fig = plt.figure()\n",
        "\n",
        "fig_python = fig.add_subplot(1,3,1)\n",
        "fig_tensorflow = fig.add_subplot(1,3,2)\n",
        "fig_sklearn = fig.add_subplot(1,3,3)\n",
        "\n",
        "fig_python.set_title('Python')\n",
        "fig_tensorflow.set_title('Tensorflow')\n",
        "fig_sklearn.set_title('Sklearn')\n",
        "\n",
        "fig_python.scatter(x_data, t_data)\n",
        "fig_python.plot(x_data, x_data*W + b, color = 'r')\n",
        "\n",
        "fig_tensorflow.scatter(x_data, t_data)\n",
        "fig_tensorflow.plot(x_data, x_data*weight + bias, color = 'b')\n",
        "\n",
        "fig_sklearn.scatter(x_data, t_data)\n",
        "fig_sklearn.plot(x_data, x_data*weights + bia, color='g')\n",
        "\n",
        "plt.tight_layout()\n",
        "plt.show()"
      ],
      "metadata": {
        "colab": {
          "base_uri": "https://localhost:8080/",
          "height": 487
        },
        "id": "kO8pbc6YSbzH",
        "outputId": "973fc00e-4108-44b3-a9a5-5142b027c4ae"
      },
      "execution_count": null,
      "outputs": [
        {
          "output_type": "display_data",
          "data": {
            "text/plain": [
              "<Figure size 640x480 with 3 Axes>"
            ],
            "image/png": "[encoded data removed]"
          },
          "metadata": {}
        }
      ]
    },
    {
      "cell_type": "code",
      "source": [],
      "metadata": {
        "id": "IAk4a1X0UHfZ"
      },
      "execution_count": null,
      "outputs": []
    }
  ]
}