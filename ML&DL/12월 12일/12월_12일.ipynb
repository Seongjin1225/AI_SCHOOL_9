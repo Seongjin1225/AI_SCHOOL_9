{
  "nbformat": 4,
  "nbformat_minor": 0,
  "metadata": {
    "colab": {
      "provenance": [],
      "mount_file_id": "1yYvkRoP1K4gQdb6Xli04QOfwmOc5sRwm",
      "authorship_tag": "ABX9TyNLOSofkeBm0BRmwdSOeTX7",
      "include_colab_link": true
    },
    "kernelspec": {
      "name": "python3",
      "display_name": "Python 3"
    },
    "language_info": {
      "name": "python"
    }
  },
  "cells": [
    {
      "cell_type": "markdown",
      "metadata": {
        "id": "view-in-github",
        "colab_type": "text"
      },
      "source": [
        "<a href=\"https://colab.research.google.com/github/Seongjin1225/AI_SCHOOL_9/blob/main/ML%26DL/12%EC%9B%94%2012%EC%9D%BC/12%EC%9B%94_12%EC%9D%BC.ipynb\" target=\"_parent\"><img src=\"https://colab.research.google.com/assets/colab-badge.svg\" alt=\"Open In Colab\"/></a>"
      ]
    },
    {
      "cell_type": "markdown",
      "source": [
        "# Decision Tree(결정 트리)\n",
        "- Root Node(시작), Intermediate Node(중간), Terminal/Leaf Noed(끝)\n",
        "- Entropy, 정보 획득\n",
        "\n",
        "# KNN(K-Nearest Neightbor)\n",
        "- k = hyperparameter\n",
        "- 최단거리 찾아서 분류하는 알고리즘\n",
        "- 유클리드 거리\n",
        "  -> root[(x2-x1)^2 + (y2-y1)^2]"
      ],
      "metadata": {
        "id": "FBafaF03YO6i"
      }
    },
    {
      "cell_type": "code",
      "source": [
        "# result_ori -> 엔트로피 구하는 공식\n",
        "# np.log2() -> 주어진 값의 이진 로그를 계산하여 반환\n",
        "import numpy as np\n",
        "result_ori = -(10/16 * np.log2(10/16)) - (6/16*np.log2(6/16))\n",
        "result_ori"
      ],
      "metadata": {
        "colab": {
          "base_uri": "https://localhost:8080/"
        },
        "id": "waerjyDkqTJr",
        "outputId": "eb760353-bcb8-402c-c09b-e23a91d6e3ef"
      },
      "execution_count": null,
      "outputs": [
        {
          "output_type": "execute_result",
          "data": {
            "text/plain": [
              "0.954434002924965"
            ]
          },
          "metadata": {},
          "execution_count": 2
        }
      ]
    },
    {
      "cell_type": "code",
      "source": [
        "# R1 영역\n",
        "r1 = (8/16) * -((7/8)*np.log2(7/8) + (1/8)*np.log2(1/8))\n",
        "\n",
        "# R2 영역\n",
        "r2 = (8/16) * -((5/8)*np.log2(5/8) + (3/8)*np.log2(3/8))\n",
        "\n",
        "result = r1 + r2\n",
        "result"
      ],
      "metadata": {
        "colab": {
          "base_uri": "https://localhost:8080/"
        },
        "id": "4dEne6CurXux",
        "outputId": "f143d9a0-79fb-4565-ade2-50affe90f38a"
      },
      "execution_count": null,
      "outputs": [
        {
          "output_type": "execute_result",
          "data": {
            "text/plain": [
              "0.7489992230622807"
            ]
          },
          "metadata": {},
          "execution_count": 4
        }
      ]
    },
    {
      "cell_type": "code",
      "source": [
        "# 따라서 정보 획득량은!\n",
        "# 전체 entropy - 분기 후 entropy\n",
        "result_ori - result"
      ],
      "metadata": {
        "colab": {
          "base_uri": "https://localhost:8080/"
        },
        "id": "bmiOtVX73juU",
        "outputId": "0f55c609-a115-4b0c-90c1-4d3aefce916f"
      },
      "execution_count": null,
      "outputs": [
        {
          "output_type": "execute_result",
          "data": {
            "text/plain": [
              "0.20543477986268432"
            ]
          },
          "metadata": {},
          "execution_count": 5
        }
      ]
    },
    {
      "cell_type": "code",
      "source": [
        "# 전체 entropy - [yes 9, no 5]\n",
        "result = -((9/14)*np.log2(9/14) + (5/14)*np.log2(5/14))\n",
        "result"
      ],
      "metadata": {
        "colab": {
          "base_uri": "https://localhost:8080/"
        },
        "id": "Is5s7dy_4Nu_",
        "outputId": "4db97cef-29f7-4ce4-951d-616d94e0e7ba"
      },
      "execution_count": null,
      "outputs": [
        {
          "output_type": "execute_result",
          "data": {
            "text/plain": [
              "0.9402859586706311"
            ]
          },
          "metadata": {},
          "execution_count": 6
        }
      ]
    },
    {
      "cell_type": "code",
      "source": [
        "# root node를 wind로 분류해서 entropy 계산\n",
        "# weak -> [yes 6, no 2]\n",
        "# strong -> [yes 3, no 3]\n",
        "\n",
        "result_wind_weak = (8/14) * -((6/8)*np.log2(6/8) + (2/8)*np.log2(2/8))\n",
        "\n",
        "result_wind_strong = (6/14) * -((3/6)*np.log2(3/6) + (3/6)*np.log2(3/6))\n",
        "\n",
        "result_wind = result_wind_weak + result_wind_strong\n",
        "result_wind"
      ],
      "metadata": {
        "colab": {
          "base_uri": "https://localhost:8080/"
        },
        "id": "BV15Tntc4ps-",
        "outputId": "63028b89-e91f-49cf-9721-89a982c2150e"
      },
      "execution_count": null,
      "outputs": [
        {
          "output_type": "execute_result",
          "data": {
            "text/plain": [
              "0.8921589282623617"
            ]
          },
          "metadata": {},
          "execution_count": 11
        }
      ]
    },
    {
      "cell_type": "code",
      "source": [
        "# sunny -> [yes 2 no 3]\n",
        "# overcast -> [yes 4 no 0]\n",
        "# rain -> [yes 3 no 2]\n",
        "result_outlook_sunny = 5/14 * (-2/5 * np.log2(2/5) - 3/5 * np.log2(3/5))\n",
        "result_outlook_overcast = 4/14 * (-4/4 * np.log2(4/4))\n",
        "result_outlook_rain = 5/14 * (-3/5 * np.log2(3/5) - 2/5 * np.log2(2/5))\n",
        "\n",
        "result_outlook = result_outlook_sunny + result_outlook_overcast + result_outlook_rain\n",
        "result_outlook"
      ],
      "metadata": {
        "colab": {
          "base_uri": "https://localhost:8080/"
        },
        "id": "4v7M7YLF5ypk",
        "outputId": "7990c86f-e8aa-4700-9c1e-c93f97e89d83"
      },
      "execution_count": null,
      "outputs": [
        {
          "output_type": "execute_result",
          "data": {
            "text/plain": [
              "0.6935361388961918"
            ]
          },
          "metadata": {},
          "execution_count": 21
        }
      ]
    },
    {
      "cell_type": "code",
      "source": [
        "# humidity\n",
        "# high -> [yes 3 no 4]\n",
        "# normal -> [yes 6 no 1]\n",
        "result_humidity_high = 7/14 * (-3/7 * np.log2(3/7) - 4/7 * np.log2(4/7))\n",
        "result_humidity_normal = 7/14 * (-6/7 *np.log2(6/7) - 1/7 * np.log2(1/7))\n",
        "result_humidity = result_humidity_high + result_humidity_normal\n",
        "result_humidity"
      ],
      "metadata": {
        "colab": {
          "base_uri": "https://localhost:8080/"
        },
        "id": "DVcxBxBH8rDH",
        "outputId": "a4274bad-b089-47d3-cebb-9927a6e428ea"
      },
      "execution_count": null,
      "outputs": [
        {
          "output_type": "execute_result",
          "data": {
            "text/plain": [
              "0.7884504573082896"
            ]
          },
          "metadata": {},
          "execution_count": 23
        }
      ]
    },
    {
      "cell_type": "code",
      "source": [
        "# 전체 데이터를 wind로 분류했을때 우리가 얻을 수 있는 정보량\n",
        "print(result - result_wind)\n",
        "\n",
        "# 전체 데이터를 outlook으로 분류했을때 우리가 얻을 수 있는 정보량\n",
        "print(result - result_outlook)\n",
        "\n",
        "# 전체 데이터를 humidity로 분류했을때 우리가 얻을 수 있는 정보량\n",
        "print(result - result_humidity)\n"
      ],
      "metadata": {
        "colab": {
          "base_uri": "https://localhost:8080/"
        },
        "id": "SlJXHivC7W8z",
        "outputId": "b5fc3673-9f6f-4c1e-b04d-121959c9544d"
      },
      "execution_count": null,
      "outputs": [
        {
          "output_type": "stream",
          "name": "stdout",
          "text": [
            "0.04812703040826949\n",
            "0.24674981977443933\n",
            "0.15183550136234159\n"
          ]
        }
      ]
    },
    {
      "cell_type": "code",
      "source": [
        "# 위와 같은 Decision Tree를 사용하려면 어떻게 해야하나요?\n",
        "# sklearn을 이용해서 사용하면 되요!\n",
        "\n",
        "# iris 예제를 이용하여 Decision Tree를 구현해 보아요\n",
        "# feature는 2개만 사용할 거에요!(꽃받침의 길이, 꽃잎의 길이)\n",
        "\n",
        "# 필요 module import\n",
        "import numpy as np\n",
        "import pandas as pd\n",
        "import matplotlib.pyplot as plt\n",
        "\n",
        "from sklearn.datasets import load_iris\n",
        "from sklearn.preprocessing import MinMaxScaler\n",
        "from sklearn.model_selection import train_test_split\n",
        "from sklearn.metrics import accuracy_score\n",
        "from mlxtend.plotting import plot_decision_regions\n",
        "from sklearn.tree import DecisionTreeClassifier"
      ],
      "metadata": {
        "id": "GFRQsOX6-LAN"
      },
      "execution_count": null,
      "outputs": []
    },
    {
      "cell_type": "code",
      "source": [
        "# Raw Data Loading\n",
        "iris = load_iris()\n",
        "\n",
        "df = pd.DataFrame(iris.data,\n",
        "                  columns=iris.feature_names)\n",
        "df.columns = ['sepal_length', 'sepal_width', 'petal_length', 'petal_width']\n",
        "df['target'] = iris.target\n",
        "\n",
        "# 중복 데이터 정리\n",
        "df = df.drop_duplicates()\n",
        "\n",
        "# 데이터셋 준비\n",
        "x_data = df.drop(['sepal_width', 'petal_width','target'],axis=1,inplace=False).values\n",
        "t_data = df['target'].values\n",
        "\n",
        "# 정규화\n",
        "scaler = MinMaxScaler()\n",
        "scaler.fit(x_data)\n",
        "x_data_norm = scaler.transform(x_data)\n",
        "\n",
        "# 데이터 분리\n",
        "x_data_train_norm, x_data_test_norm, t_data_train, t_data_test = \\\n",
        "train_test_split(x_data_norm,\n",
        "                 t_data,\n",
        "                 stratify=t_data,\n",
        "                 test_size=0.3)\n"
      ],
      "metadata": {
        "id": "wdw021aW_TJp"
      },
      "execution_count": null,
      "outputs": []
    },
    {
      "cell_type": "code",
      "source": [
        "# 모델 생성\n",
        "model = DecisionTreeClassifier()\n",
        "\n",
        "model.fit(x_data_train_norm,\n",
        "          t_data_train)\n",
        "\n",
        "# Evaiuation\n",
        "score = accuracy_score(t_data_test, model.predict(x_data_test_norm))\n",
        "\n",
        "# 시각화\n",
        "plot_decision_regions(X=x_data_train_norm,\n",
        "                      y=t_data_train,\n",
        "                      clf=model)\n",
        "plt.show()\n",
        "score"
      ],
      "metadata": {
        "colab": {
          "base_uri": "https://localhost:8080/",
          "height": 453
        },
        "id": "Ats3rXPe_i1K",
        "outputId": "87adda0e-e66d-461a-e41b-4a57362f204c"
      },
      "execution_count": null,
      "outputs": [
        {
          "output_type": "display_data",
          "data": {
            "text/plain": [
              "<Figure size 640x480 with 1 Axes>"
            ],
            "image/png": "[encoded data removed]"
          },
          "metadata": {}
        },
        {
          "output_type": "execute_result",
          "data": {
            "text/plain": [
              "0.9555555555555556"
            ]
          },
          "metadata": {},
          "execution_count": 32
        }
      ]
    },
    {
      "cell_type": "code",
      "source": [
        "# 우리가 진행했던 데이터 중 MNIST 데이터가 있어요\n",
        "# 이걸 사용해서 다중분류작업을 수행해볼 예정이에요\n",
        "# 3가지로 구현할 예정!\n",
        "\n",
        "# 1. Regression을 이용해서 구현(tensorflow, sklearn 사용)\n",
        "# 2. SVM 사용해서 구현(sklearn 사용) -GridSearchCV\n",
        "# 3. DecisionTree 이용해서 구현\n",
        "\n",
        "# 각 모델의 정확도는 어떻게 되는지 알아보아요!"
      ],
      "metadata": {
        "id": "e7xDmtz-Bbu5"
      },
      "execution_count": null,
      "outputs": []
    },
    {
      "cell_type": "code",
      "source": [
        "# 필요 module import\n",
        "import numpy as np\n",
        "import pandas as pd\n",
        "import matplotlib.pyplot as plt\n",
        "\n",
        "from tensorflow.keras.models import Sequential\n",
        "from tensorflow.keras.layers import Flatten, Dense\n",
        "from tensorflow.keras.optimizers import Adam\n",
        "\n",
        "from sklearn.linear_model import LogisticRegression\n",
        "from sklearn.preprocessing import MinMaxScaler\n",
        "from sklearn.model_selection import train_test_split\n",
        "from sklearn.metrics import accuracy_score\n",
        "from sklearn.svm import SVC\n",
        "from sklearn.tree import DecisionTreeClassifier"
      ],
      "metadata": {
        "id": "rF4HigVCCDgg"
      },
      "execution_count": null,
      "outputs": []
    },
    {
      "cell_type": "code",
      "source": [
        "# Raw Data Loading\n",
        "df = pd.read_csv('/content/drive/MyDrive/AI스쿨 파일/ML/MNIST/train.csv')\n",
        "df\n",
        "\n",
        "# 데이터셋 분리\n",
        "x_data = df.drop('label',axis=1,inplace=False).values\n",
        "t_data = df['label'].values\n",
        "\n",
        "# 정규화\n",
        "scaler = MinMaxScaler()\n",
        "scaler.fit(x_data)\n",
        "x_data_norm = scaler.transform(x_data)\n",
        "\n",
        "# 데이터 분리\n",
        "x_data_train_norm, x_data_test_norm, t_data_train, t_data_test = \\\n",
        "train_test_split(x_data_norm,\n",
        "                 t_data,\n",
        "                 stratify=t_data,\n",
        "                 test_size=0.3,\n",
        "                 random_state=0)"
      ],
      "metadata": {
        "id": "tPUWUEHxDcB4"
      },
      "execution_count": null,
      "outputs": []
    },
    {
      "cell_type": "code",
      "source": [
        "# tensorflow 구현\n",
        "keras_model = Sequential()\n",
        "\n",
        "keras_model.add(Flatten(input_shape=(784,)))\n",
        "keras_model.add(Dense(units=10,\n",
        "                      activation='softmax'))\n",
        "\n",
        "keras_model.compile(optimizer=Adam(learning_rate=1e-2),\n",
        "                    loss='sparse_categorical_crossentropy',\n",
        "                    metrics=['acc'])\n",
        "\n",
        "keras_model.fit(x_data_train_norm,\n",
        "                t_data_train,\n",
        "                epochs=100,\n",
        "                batch_size=100,\n",
        "                verbose=1,\n",
        "                validation_split=0.3)\n",
        "\n",
        "keras_model.evaluate(x_data_test_norm,\n",
        "                     t_data_test)\n"
      ],
      "metadata": {
        "colab": {
          "base_uri": "https://localhost:8080/"
        },
        "id": "9JVtpEtvDz6P",
        "outputId": "ca8583cf-69e6-4539-bb70-b48557bc6028"
      },
      "execution_count": null,
      "outputs": [
        {
          "output_type": "stream",
          "name": "stdout",
          "text": [
            "Epoch 1/100\n",
            "206/206 [==============================] - 3s 11ms/step - loss: 0.4295 - acc: 0.8732 - val_loss: 0.3273 - val_acc: 0.9046\n",
            "Epoch 2/100\n",
            "206/206 [==============================] - 1s 3ms/step - loss: 0.2936 - acc: 0.9148 - val_loss: 0.3027 - val_acc: 0.9161\n",
            "Epoch 3/100\n",
            "206/206 [==============================] - 1s 4ms/step - loss: 0.2753 - acc: 0.9191 - val_loss: 0.3013 - val_acc: 0.9185\n",
            "Epoch 4/100\n",
            "206/206 [==============================] - 1s 3ms/step - loss: 0.2580 - acc: 0.9250 - val_loss: 0.2930 - val_acc: 0.9170\n",
            "Epoch 5/100\n",
            "206/206 [==============================] - 1s 4ms/step - loss: 0.2514 - acc: 0.9255 - val_loss: 0.3025 - val_acc: 0.9170\n",
            "Epoch 6/100\n",
            "206/206 [==============================] - 1s 3ms/step - loss: 0.2442 - acc: 0.9287 - val_loss: 0.3378 - val_acc: 0.9073\n",
            "Epoch 7/100\n",
            "206/206 [==============================] - 1s 3ms/step - loss: 0.2395 - acc: 0.9291 - val_loss: 0.3008 - val_acc: 0.9179\n",
            "Epoch 8/100\n",
            "206/206 [==============================] - 1s 3ms/step - loss: 0.2326 - acc: 0.9322 - val_loss: 0.3116 - val_acc: 0.9163\n",
            "Epoch 9/100\n",
            "206/206 [==============================] - 1s 6ms/step - loss: 0.2239 - acc: 0.9341 - val_loss: 0.3085 - val_acc: 0.9171\n",
            "Epoch 10/100\n",
            "206/206 [==============================] - 1s 5ms/step - loss: 0.2255 - acc: 0.9331 - val_loss: 0.3408 - val_acc: 0.9101\n",
            "Epoch 11/100\n",
            "206/206 [==============================] - 1s 4ms/step - loss: 0.2252 - acc: 0.9328 - val_loss: 0.3210 - val_acc: 0.9170\n",
            "Epoch 12/100\n",
            "206/206 [==============================] - 1s 7ms/step - loss: 0.2165 - acc: 0.9356 - val_loss: 0.3175 - val_acc: 0.9154\n",
            "Epoch 13/100\n",
            "206/206 [==============================] - 1s 6ms/step - loss: 0.2127 - acc: 0.9367 - val_loss: 0.3263 - val_acc: 0.9113\n",
            "Epoch 14/100\n",
            "206/206 [==============================] - 1s 7ms/step - loss: 0.2174 - acc: 0.9352 - val_loss: 0.3245 - val_acc: 0.9175\n",
            "Epoch 15/100\n",
            "206/206 [==============================] - 1s 6ms/step - loss: 0.2095 - acc: 0.9372 - val_loss: 0.3419 - val_acc: 0.9107\n",
            "Epoch 16/100\n",
            "206/206 [==============================] - 1s 6ms/step - loss: 0.2093 - acc: 0.9372 - val_loss: 0.3410 - val_acc: 0.9119\n",
            "Epoch 17/100\n",
            "206/206 [==============================] - 1s 7ms/step - loss: 0.2016 - acc: 0.9401 - val_loss: 0.3384 - val_acc: 0.9137\n",
            "Epoch 18/100\n",
            "206/206 [==============================] - 1s 7ms/step - loss: 0.2029 - acc: 0.9405 - val_loss: 0.3575 - val_acc: 0.9063\n",
            "Epoch 19/100\n",
            "206/206 [==============================] - 1s 4ms/step - loss: 0.2028 - acc: 0.9394 - val_loss: 0.3357 - val_acc: 0.9136\n",
            "Epoch 20/100\n",
            "206/206 [==============================] - 1s 3ms/step - loss: 0.1981 - acc: 0.9414 - val_loss: 0.3401 - val_acc: 0.9132\n",
            "Epoch 21/100\n",
            "206/206 [==============================] - 1s 4ms/step - loss: 0.1950 - acc: 0.9422 - val_loss: 0.3533 - val_acc: 0.9115\n",
            "Epoch 22/100\n",
            "206/206 [==============================] - 1s 3ms/step - loss: 0.1953 - acc: 0.9427 - val_loss: 0.3516 - val_acc: 0.9104\n",
            "Epoch 23/100\n",
            "206/206 [==============================] - 1s 4ms/step - loss: 0.1936 - acc: 0.9420 - val_loss: 0.3553 - val_acc: 0.9088\n",
            "Epoch 24/100\n",
            "206/206 [==============================] - 1s 3ms/step - loss: 0.1905 - acc: 0.9437 - val_loss: 0.3595 - val_acc: 0.9102\n",
            "Epoch 25/100\n",
            "206/206 [==============================] - 1s 3ms/step - loss: 0.1881 - acc: 0.9441 - val_loss: 0.3591 - val_acc: 0.9115\n",
            "Epoch 26/100\n",
            "206/206 [==============================] - 1s 3ms/step - loss: 0.1897 - acc: 0.9430 - val_loss: 0.3709 - val_acc: 0.9067\n",
            "Epoch 27/100\n",
            "206/206 [==============================] - 1s 4ms/step - loss: 0.1873 - acc: 0.9435 - val_loss: 0.3629 - val_acc: 0.9118\n",
            "Epoch 28/100\n",
            "206/206 [==============================] - 1s 5ms/step - loss: 0.1883 - acc: 0.9434 - val_loss: 0.3611 - val_acc: 0.9134\n",
            "Epoch 29/100\n",
            "206/206 [==============================] - 1s 5ms/step - loss: 0.1828 - acc: 0.9458 - val_loss: 0.3717 - val_acc: 0.9094\n",
            "Epoch 30/100\n",
            "206/206 [==============================] - 1s 4ms/step - loss: 0.1853 - acc: 0.9438 - val_loss: 0.3966 - val_acc: 0.9019\n",
            "Epoch 31/100\n",
            "206/206 [==============================] - 1s 7ms/step - loss: 0.1846 - acc: 0.9456 - val_loss: 0.3729 - val_acc: 0.9087\n",
            "Epoch 32/100\n",
            "206/206 [==============================] - 1s 7ms/step - loss: 0.1798 - acc: 0.9454 - val_loss: 0.3793 - val_acc: 0.9083\n",
            "Epoch 33/100\n",
            "206/206 [==============================] - 2s 8ms/step - loss: 0.1777 - acc: 0.9486 - val_loss: 0.3896 - val_acc: 0.9070\n",
            "Epoch 34/100\n",
            "206/206 [==============================] - 2s 8ms/step - loss: 0.1782 - acc: 0.9485 - val_loss: 0.3801 - val_acc: 0.9094\n",
            "Epoch 35/100\n",
            "206/206 [==============================] - 1s 6ms/step - loss: 0.1797 - acc: 0.9478 - val_loss: 0.3833 - val_acc: 0.9083\n",
            "Epoch 36/100\n",
            "206/206 [==============================] - 1s 6ms/step - loss: 0.1777 - acc: 0.9468 - val_loss: 0.3946 - val_acc: 0.9053\n",
            "Epoch 37/100\n",
            "206/206 [==============================] - 1s 3ms/step - loss: 0.1804 - acc: 0.9460 - val_loss: 0.3980 - val_acc: 0.9071\n",
            "Epoch 38/100\n",
            "206/206 [==============================] - 1s 4ms/step - loss: 0.1809 - acc: 0.9442 - val_loss: 0.4027 - val_acc: 0.9045\n",
            "Epoch 39/100\n",
            "206/206 [==============================] - 1s 4ms/step - loss: 0.1744 - acc: 0.9483 - val_loss: 0.3905 - val_acc: 0.9101\n",
            "Epoch 40/100\n",
            "206/206 [==============================] - 1s 4ms/step - loss: 0.1728 - acc: 0.9480 - val_loss: 0.4047 - val_acc: 0.9051\n",
            "Epoch 41/100\n",
            "206/206 [==============================] - 1s 5ms/step - loss: 0.1739 - acc: 0.9481 - val_loss: 0.4035 - val_acc: 0.9051\n",
            "Epoch 42/100\n",
            "206/206 [==============================] - 1s 4ms/step - loss: 0.1736 - acc: 0.9471 - val_loss: 0.4047 - val_acc: 0.9066\n",
            "Epoch 43/100\n",
            "206/206 [==============================] - 1s 4ms/step - loss: 0.1738 - acc: 0.9475 - val_loss: 0.4246 - val_acc: 0.9011\n",
            "Epoch 44/100\n",
            "206/206 [==============================] - 1s 4ms/step - loss: 0.1707 - acc: 0.9477 - val_loss: 0.4203 - val_acc: 0.9023\n",
            "Epoch 45/100\n",
            "206/206 [==============================] - 1s 4ms/step - loss: 0.1683 - acc: 0.9502 - val_loss: 0.4438 - val_acc: 0.8974\n",
            "Epoch 46/100\n",
            "206/206 [==============================] - 1s 4ms/step - loss: 0.1706 - acc: 0.9479 - val_loss: 0.4107 - val_acc: 0.9061\n",
            "Epoch 47/100\n",
            "206/206 [==============================] - 1s 5ms/step - loss: 0.1711 - acc: 0.9471 - val_loss: 0.4089 - val_acc: 0.9088\n",
            "Epoch 48/100\n",
            "206/206 [==============================] - 1s 7ms/step - loss: 0.1680 - acc: 0.9496 - val_loss: 0.4152 - val_acc: 0.9069\n",
            "Epoch 49/100\n",
            "206/206 [==============================] - 1s 6ms/step - loss: 0.1662 - acc: 0.9504 - val_loss: 0.4146 - val_acc: 0.9086\n",
            "Epoch 50/100\n",
            "206/206 [==============================] - 2s 7ms/step - loss: 0.1679 - acc: 0.9501 - val_loss: 0.4194 - val_acc: 0.9078\n",
            "Epoch 51/100\n",
            "206/206 [==============================] - 1s 6ms/step - loss: 0.1676 - acc: 0.9485 - val_loss: 0.4272 - val_acc: 0.9052\n",
            "Epoch 52/100\n",
            "206/206 [==============================] - 3s 13ms/step - loss: 0.1649 - acc: 0.9508 - val_loss: 0.4214 - val_acc: 0.9046\n",
            "Epoch 53/100\n",
            "206/206 [==============================] - 1s 5ms/step - loss: 0.1638 - acc: 0.9515 - val_loss: 0.4217 - val_acc: 0.9098\n",
            "Epoch 54/100\n",
            "206/206 [==============================] - 1s 6ms/step - loss: 0.1652 - acc: 0.9511 - val_loss: 0.4244 - val_acc: 0.9041\n",
            "Epoch 55/100\n",
            "206/206 [==============================] - 1s 6ms/step - loss: 0.1616 - acc: 0.9502 - val_loss: 0.4345 - val_acc: 0.9008\n",
            "Epoch 56/100\n",
            "206/206 [==============================] - 1s 6ms/step - loss: 0.1626 - acc: 0.9494 - val_loss: 0.4365 - val_acc: 0.9043\n",
            "Epoch 57/100\n",
            "206/206 [==============================] - 1s 4ms/step - loss: 0.1597 - acc: 0.9536 - val_loss: 0.4415 - val_acc: 0.8998\n",
            "Epoch 58/100\n",
            "206/206 [==============================] - 1s 5ms/step - loss: 0.1616 - acc: 0.9510 - val_loss: 0.4305 - val_acc: 0.9068\n",
            "Epoch 59/100\n",
            "206/206 [==============================] - 1s 6ms/step - loss: 0.1611 - acc: 0.9496 - val_loss: 0.4320 - val_acc: 0.9077\n",
            "Epoch 60/100\n",
            "206/206 [==============================] - 1s 4ms/step - loss: 0.1601 - acc: 0.9517 - val_loss: 0.4412 - val_acc: 0.9071\n",
            "Epoch 61/100\n",
            "206/206 [==============================] - 1s 5ms/step - loss: 0.1617 - acc: 0.9511 - val_loss: 0.4466 - val_acc: 0.9042\n",
            "Epoch 62/100\n",
            "206/206 [==============================] - 2s 8ms/step - loss: 0.1617 - acc: 0.9517 - val_loss: 0.4590 - val_acc: 0.9009\n",
            "Epoch 63/100\n",
            "206/206 [==============================] - 2s 8ms/step - loss: 0.1578 - acc: 0.9549 - val_loss: 0.4532 - val_acc: 0.9024\n",
            "Epoch 64/100\n",
            "206/206 [==============================] - 1s 6ms/step - loss: 0.1585 - acc: 0.9504 - val_loss: 0.4561 - val_acc: 0.9043\n",
            "Epoch 65/100\n",
            "206/206 [==============================] - 2s 7ms/step - loss: 0.1593 - acc: 0.9517 - val_loss: 0.4713 - val_acc: 0.8983\n",
            "Epoch 66/100\n",
            "206/206 [==============================] - 1s 6ms/step - loss: 0.1570 - acc: 0.9526 - val_loss: 0.4587 - val_acc: 0.9006\n",
            "Epoch 67/100\n",
            "206/206 [==============================] - 1s 5ms/step - loss: 0.1562 - acc: 0.9536 - val_loss: 0.4767 - val_acc: 0.8963\n",
            "Epoch 68/100\n",
            "206/206 [==============================] - 1s 4ms/step - loss: 0.1564 - acc: 0.9527 - val_loss: 0.4654 - val_acc: 0.9005\n",
            "Epoch 69/100\n",
            "206/206 [==============================] - 1s 3ms/step - loss: 0.1590 - acc: 0.9507 - val_loss: 0.4645 - val_acc: 0.9023\n",
            "Epoch 70/100\n",
            "206/206 [==============================] - 1s 4ms/step - loss: 0.1581 - acc: 0.9525 - val_loss: 0.4681 - val_acc: 0.9016\n",
            "Epoch 71/100\n",
            "206/206 [==============================] - 1s 4ms/step - loss: 0.1570 - acc: 0.9512 - val_loss: 0.4685 - val_acc: 0.8997\n",
            "Epoch 72/100\n",
            "206/206 [==============================] - 1s 5ms/step - loss: 0.1566 - acc: 0.9529 - val_loss: 0.4571 - val_acc: 0.9050\n",
            "Epoch 73/100\n",
            "206/206 [==============================] - 1s 5ms/step - loss: 0.1527 - acc: 0.9532 - val_loss: 0.4722 - val_acc: 0.9005\n",
            "Epoch 74/100\n",
            "206/206 [==============================] - 1s 6ms/step - loss: 0.1521 - acc: 0.9540 - val_loss: 0.4629 - val_acc: 0.9051\n",
            "Epoch 75/100\n",
            "206/206 [==============================] - 1s 7ms/step - loss: 0.1528 - acc: 0.9537 - val_loss: 0.4804 - val_acc: 0.9010\n",
            "Epoch 76/100\n",
            "206/206 [==============================] - 1s 4ms/step - loss: 0.1550 - acc: 0.9519 - val_loss: 0.4809 - val_acc: 0.8991\n",
            "Epoch 77/100\n",
            "206/206 [==============================] - 1s 7ms/step - loss: 0.1534 - acc: 0.9534 - val_loss: 0.4706 - val_acc: 0.9025\n",
            "Epoch 78/100\n",
            "206/206 [==============================] - 1s 6ms/step - loss: 0.1509 - acc: 0.9538 - val_loss: 0.4795 - val_acc: 0.9025\n",
            "Epoch 79/100\n",
            "206/206 [==============================] - 2s 7ms/step - loss: 0.1523 - acc: 0.9535 - val_loss: 0.4813 - val_acc: 0.9024\n",
            "Epoch 80/100\n",
            "206/206 [==============================] - 1s 7ms/step - loss: 0.1521 - acc: 0.9543 - val_loss: 0.4753 - val_acc: 0.9035\n",
            "Epoch 81/100\n",
            "206/206 [==============================] - 1s 6ms/step - loss: 0.1504 - acc: 0.9541 - val_loss: 0.4767 - val_acc: 0.9032\n",
            "Epoch 82/100\n",
            "206/206 [==============================] - 2s 9ms/step - loss: 0.1522 - acc: 0.9528 - val_loss: 0.4876 - val_acc: 0.9012\n",
            "Epoch 83/100\n",
            "206/206 [==============================] - 1s 6ms/step - loss: 0.1517 - acc: 0.9548 - val_loss: 0.4780 - val_acc: 0.9028\n",
            "Epoch 84/100\n",
            "206/206 [==============================] - 1s 4ms/step - loss: 0.1505 - acc: 0.9536 - val_loss: 0.4974 - val_acc: 0.8988\n",
            "Epoch 85/100\n",
            "206/206 [==============================] - 1s 4ms/step - loss: 0.1499 - acc: 0.9547 - val_loss: 0.4807 - val_acc: 0.9065\n",
            "Epoch 86/100\n",
            "206/206 [==============================] - 1s 5ms/step - loss: 0.1480 - acc: 0.9562 - val_loss: 0.4854 - val_acc: 0.9056\n",
            "Epoch 87/100\n",
            "206/206 [==============================] - 1s 5ms/step - loss: 0.1463 - acc: 0.9568 - val_loss: 0.4879 - val_acc: 0.9051\n",
            "Epoch 88/100\n",
            "206/206 [==============================] - 1s 3ms/step - loss: 0.1501 - acc: 0.9551 - val_loss: 0.4971 - val_acc: 0.9005\n",
            "Epoch 89/100\n",
            "206/206 [==============================] - 1s 3ms/step - loss: 0.1552 - acc: 0.9515 - val_loss: 0.5072 - val_acc: 0.8989\n",
            "Epoch 90/100\n",
            "206/206 [==============================] - 1s 3ms/step - loss: 0.1486 - acc: 0.9555 - val_loss: 0.5020 - val_acc: 0.8994\n",
            "Epoch 91/100\n",
            "206/206 [==============================] - 1s 3ms/step - loss: 0.1484 - acc: 0.9551 - val_loss: 0.5051 - val_acc: 0.8986\n",
            "Epoch 92/100\n",
            "206/206 [==============================] - 1s 3ms/step - loss: 0.1459 - acc: 0.9555 - val_loss: 0.5022 - val_acc: 0.9008\n",
            "Epoch 93/100\n",
            "206/206 [==============================] - 1s 3ms/step - loss: 0.1500 - acc: 0.9539 - val_loss: 0.4963 - val_acc: 0.9028\n",
            "Epoch 94/100\n",
            "206/206 [==============================] - 1s 3ms/step - loss: 0.1465 - acc: 0.9554 - val_loss: 0.5080 - val_acc: 0.9018\n",
            "Epoch 95/100\n",
            "206/206 [==============================] - 1s 3ms/step - loss: 0.1483 - acc: 0.9538 - val_loss: 0.5097 - val_acc: 0.9015\n",
            "Epoch 96/100\n",
            "206/206 [==============================] - 1s 4ms/step - loss: 0.1459 - acc: 0.9541 - val_loss: 0.5383 - val_acc: 0.8937\n",
            "Epoch 97/100\n",
            "206/206 [==============================] - 1s 4ms/step - loss: 0.1490 - acc: 0.9538 - val_loss: 0.5019 - val_acc: 0.9028\n",
            "Epoch 98/100\n",
            "206/206 [==============================] - 1s 5ms/step - loss: 0.1475 - acc: 0.9542 - val_loss: 0.5241 - val_acc: 0.8993\n",
            "Epoch 99/100\n",
            "206/206 [==============================] - 1s 5ms/step - loss: 0.1440 - acc: 0.9581 - val_loss: 0.5186 - val_acc: 0.9000\n",
            "Epoch 100/100\n",
            "206/206 [==============================] - 1s 4ms/step - loss: 0.1436 - acc: 0.9576 - val_loss: 0.5257 - val_acc: 0.8974\n",
            "394/394 [==============================] - 1s 3ms/step - loss: 0.5596 - acc: 0.8942\n"
          ]
        },
        {
          "output_type": "execute_result",
          "data": {
            "text/plain": [
              "[0.5596413016319275, 0.8942063450813293]"
            ]
          },
          "metadata": {},
          "execution_count": 41
        }
      ]
    },
    {
      "cell_type": "code",
      "source": [
        "# sklearn 구현\n",
        "sklearn_model = LogisticRegression()\n",
        "\n",
        "sklearn_model.fit(x_data_train_norm,\n",
        "                  t_data_train)\n",
        "accuracy_score(t_data_test,\n",
        "               sklearn_model.predict(x_data_test_norm))"
      ],
      "metadata": {
        "colab": {
          "base_uri": "https://localhost:8080/"
        },
        "id": "OPMnYnfMFabK",
        "outputId": "03948901-ff7c-40bd-972b-dfa0422c3378"
      },
      "execution_count": null,
      "outputs": [
        {
          "output_type": "stream",
          "name": "stderr",
          "text": [
            "/usr/local/lib/python3.10/dist-packages/sklearn/linear_model/_logistic.py:458: ConvergenceWarning: lbfgs failed to converge (status=1):\n",
            "STOP: TOTAL NO. of ITERATIONS REACHED LIMIT.\n",
            "\n",
            "Increase the number of iterations (max_iter) or scale the data as shown in:\n",
            "    https://scikit-learn.org/stable/modules/preprocessing.html\n",
            "Please also refer to the documentation for alternative solver options:\n",
            "    https://scikit-learn.org/stable/modules/linear_model.html#logistic-regression\n",
            "  n_iter_i = _check_optimize_result(\n"
          ]
        },
        {
          "output_type": "execute_result",
          "data": {
            "text/plain": [
              "0.9154761904761904"
            ]
          },
          "metadata": {},
          "execution_count": 43
        }
      ]
    },
    {
      "cell_type": "code",
      "source": [
        "# SVC 구현\n",
        "svm_model = SVC()\n",
        "svm_model.fit(x_data_train_norm,\n",
        "              t_data_train)\n",
        "accuracy_score(t_data_test,svm_model.predict(x_data_test_norm))"
      ],
      "metadata": {
        "colab": {
          "base_uri": "https://localhost:8080/"
        },
        "id": "xLxHV6iMFuB-",
        "outputId": "49615f2f-b085-4d66-9a0c-64e13b64ac6b"
      },
      "execution_count": null,
      "outputs": [
        {
          "output_type": "execute_result",
          "data": {
            "text/plain": [
              "0.9737301587301588"
            ]
          },
          "metadata": {},
          "execution_count": 44
        }
      ]
    },
    {
      "cell_type": "code",
      "source": [
        "# Decision Tree 구현\n",
        "model = DecisionTreeClassifier()\n",
        "\n",
        "model.fit(x_data_train_norm,\n",
        "          t_data_train)\n",
        "\n",
        "accuracy_score(t_data_test, model.predict(x_data_test_norm))\n"
      ],
      "metadata": {
        "colab": {
          "base_uri": "https://localhost:8080/"
        },
        "id": "m79Lc0S9GDxN",
        "outputId": "85986b29-ff70-4bdd-f326-2e2af2f2f462"
      },
      "execution_count": null,
      "outputs": [
        {
          "output_type": "execute_result",
          "data": {
            "text/plain": [
              "0.8530952380952381"
            ]
          },
          "metadata": {},
          "execution_count": 46
        }
      ]
    },
    {
      "cell_type": "code",
      "source": [
        "# KNN 이용한 구현\n",
        "from sklearn.neighbors import KNeighborsClassifier\n",
        "knn_model = KNeighborsClassifier(n_neighbors=5)\n",
        "\n",
        "knn_model.fit(x_data_train_norm,\n",
        "              t_data_train)\n",
        "\n",
        "accuracy_score(t_data_test, knn_model.predict(x_data_test_norm))"
      ],
      "metadata": {
        "colab": {
          "base_uri": "https://localhost:8080/"
        },
        "id": "e_pjUeoyGX7M",
        "outputId": "33f88642-2f96-4921-8fc2-43dbba435caa"
      },
      "execution_count": null,
      "outputs": [
        {
          "output_type": "execute_result",
          "data": {
            "text/plain": [
              "0.9644444444444444"
            ]
          },
          "metadata": {},
          "execution_count": 47
        }
      ]
    }
  ]
}