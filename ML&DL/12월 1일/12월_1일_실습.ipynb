{
  "nbformat": 4,
  "nbformat_minor": 0,
  "metadata": {
    "colab": {
      "provenance": [],
      "mount_file_id": "1137eIvABHu98DeOGehIk4PDWA0B836dv",
      "authorship_tag": "ABX9TyMBDMDjnAh7nZvc9SlKeg4u",
      "include_colab_link": true
    },
    "kernelspec": {
      "name": "python3",
      "display_name": "Python 3"
    },
    "language_info": {
      "name": "python"
    }
  },
  "cells": [
    {
      "cell_type": "markdown",
      "metadata": {
        "id": "view-in-github",
        "colab_type": "text"
      },
      "source": [
        "<a href=\"https://colab.research.google.com/github/Seongjin1225/AI_SCHOOL_9/blob/main/ML%26DL/12%EC%9B%94%201%EC%9D%BC/12%EC%9B%94_1%EC%9D%BC_%EC%8B%A4%EC%8A%B5.ipynb\" target=\"_parent\"><img src=\"https://colab.research.google.com/assets/colab-badge.svg\" alt=\"Open In Colab\"/></a>"
      ]
    },
    {
      "cell_type": "markdown",
      "source": [
        "# 정규화"
      ],
      "metadata": {
        "id": "AMw4p--lvCdd"
      }
    },
    {
      "cell_type": "code",
      "execution_count": null,
      "metadata": {
        "id": "k3-HE9cuYjXQ"
      },
      "outputs": [],
      "source": [
        "import numpy as np\n",
        "import pandas as pd\n",
        "import matplotlib.pyplot as plt\n",
        "from scipy import stats\n",
        "from sklearn.preprocessing import MinMaxScaler, StandardScaler\n",
        "\n",
        "# Raw Data Loading\n",
        "df = pd.read_csv('/content/drive/MyDrive/AI스쿨 파일/ozone.csv')\n",
        "\n",
        "training_data = df[['Temp', 'Ozone']]\n",
        "\n",
        "# 이렇게 데이터를 가져온 후 당연히 데이터 전처리를 해야 해요!\n",
        "# 1. 결측치 처리!\n",
        "training_data = training_data.dropna(how='any')\n",
        "# 2. 이상치 처리!\n",
        "zscore_threshold = 1.8\n",
        "\n",
        "outlier = training_data['Ozone'][np.abs(stats.zscore(training_data['Ozone'].values)) > zscore_threshold]\n",
        "\n",
        "# 내가 가진 DataFrame에서 이상치를 제거하면 되요!\n",
        "training_data = training_data.loc[np.isin(training_data['Ozone'],outlier, invert=True)]\n",
        "\n",
        "# 3. 정규화 진행(Normalization)\n",
        "#    - 모든 feature에 대해 scale을 0과 1로 변경!\n",
        "#    - 프로그램적으로 이 작업을 하려면 코드작업 해야 해서 좀 그래요\n",
        "#    - sklearn을 이용하면 이 정규화 작업을 아주 쉽게 할 수 있어요!\n",
        "#    - StandardScaler 사용시 코드는 동일 but MinMaxScaler -> StandardScaler\n",
        "scaled_x = MinMaxScaler()\n",
        "scaled_t = MinMaxScaler()\n",
        "\n",
        "scaled_x.fit(training_data['Temp'].values.reshape(-1,1))  # 2차원 배열로 넣어줘야 함. 자동으로 최대, 최소값 찾아줌\n",
        "scaled_t.fit(training_data['Ozone'].values.reshape(-1,1))\n",
        "\n",
        "# Training Data Set 준비\n",
        "x_data = scaled_x.transform(training_data['Temp'].values.reshape(-1,1))  # 2차원 배열로 넣어줘야 함\n",
        "t_data = scaled_t.transform(training_data['Ozone'].values.reshape(-1,1))\n",
        "\n",
        "print(x_data)\n",
        "print(t_data)"
      ]
    },
    {
      "cell_type": "code",
      "source": [
        "# Python 직접구현\n",
        "\n",
        "import numpy as np\n",
        "import pandas as pd\n",
        "import matplotlib.pyplot as plt\n",
        "\n",
        "## 수치미분 코드\n",
        "def numerical_derivative(f,x):\n",
        "\n",
        "    # f : 미분하려고하는 다변수 함수\n",
        "    # x : 모든 변수를 포함하는 ndarray  [1.0 2.0]\n",
        "    # 리턴되는 결과는 [8.0 15.0]\n",
        "\n",
        "    delta_x = 1e-4\n",
        "    derivative_x = np.zeros_like(x)   #  [0.0 0.0]\n",
        "\n",
        "    it = np.nditer(x, flags=['multi_index'])\n",
        "\n",
        "    while not it.finished:\n",
        "\n",
        "        idx = it.multi_index  # 현재의 index를 추출 => tuple형태로 리턴.\n",
        "\n",
        "        tmp = x[idx]    # 현재 index의 값을 일단 잠시 보존해야해요!\n",
        "                        # 밑에서 이 값을 변경해서 중앙차분 값을 계산해야 해요!\n",
        "                        # 그런데 우리 편미분해야해요. 다음 변수 편미분할때\n",
        "                        # 원래값으로 복원해야 편미분이 정상적으로 진행되기 때문에\n",
        "                        # 이값을 잠시 보관했다가 원상태로 복구해야 해요!\n",
        "        x[idx] = tmp + delta_x\n",
        "        fx_plus_delta_x = f(x)  # f(x + delta_x)\n",
        "\n",
        "        x[idx] = tmp - delta_x\n",
        "        fx_minus_delta_x = f(x) # f(x - delta_x)\n",
        "\n",
        "        derivative_x[idx] = (fx_plus_delta_x - fx_minus_delta_x) / (2 * delta_x)\n",
        "\n",
        "        x[idx] = tmp\n",
        "\n",
        "        it.iternext()\n",
        "\n",
        "    return derivative_x\n",
        "\n",
        "# Model을 만들어야 하는데.. y = Wx + b\n",
        "W = np.random.rand(1,1)\n",
        "b = np.random.rand(1)\n",
        "\n",
        "# loss function(MSE)\n",
        "def loss_func(input_data):\n",
        "\n",
        "    input_w = input_data[0]\n",
        "    input_b = input_data[1]\n",
        "\n",
        "    y = np.dot(x_data, input_w) + input_b\n",
        "\n",
        "    return np.mean(np.power((t_data-y),2))\n",
        "\n",
        "# 모델이 완성된 후 예측하는 함수를 하나 만들어요!\n",
        "def predict(x):\n",
        "\n",
        "    return np.dot(x, W) + b\n",
        "\n",
        "# learning rate 정의(hyperparameter)\n",
        "learning_rate = 1e-4\n",
        "\n",
        "# 학습진행\n",
        "for step in range(300000):\n",
        "\n",
        "    input_param = np.concatenate((W.ravel(), b.ravel()), axis=0)\n",
        "    derivative_result = learning_rate * numerical_derivative(loss_func, input_param)\n",
        "\n",
        "    W = W - derivative_result[0].reshape(-1,1)\n",
        "    b = b - derivative_result[1]\n",
        "\n",
        "    if step % 30000 == 0:\n",
        "        print(f'W : {W}, b : {b}, loss : {loss_func(input_param)}')\n",
        "\n",
        "# 학습종료 후 예측\n",
        "# 온도가 62도일때 Ozone량은 얼마?\n",
        "# 지금 만들어진 모델은 온도, 오존값 모두 0~1사이의 값!\n",
        "my_data = np.array([[62]])\n",
        "scaled_my_data = scaled_x.transform(my_data)\n",
        "scaled_result = predict(scaled_my_data)\n",
        "\n",
        "# 다시 원상복귀 시켜야 겠죠.\n",
        "result = scaled_t.inverse_transform(scaled_result)\n",
        "result"
      ],
      "metadata": {
        "colab": {
          "base_uri": "https://localhost:8080/"
        },
        "id": "Bz5i-WQxvVpq",
        "outputId": "67cd6ed7-2169-4c81-95f0-fab49b5c9e28"
      },
      "execution_count": null,
      "outputs": [
        {
          "output_type": "stream",
          "name": "stdout",
          "text": [
            "W : [[0.27667982]], b : [0.03983775], loss : 0.08518194686009953\n",
            "W : [[0.48079664]], b : [0.13740851], loss : 0.0369754554860695\n",
            "W : [[0.57210618]], b : [0.08893524], loss : 0.03339263914479421\n",
            "W : [[0.64231798]], b : [0.05158473], loss : 0.03127228716030213\n",
            "W : [[0.69633147]], b : [0.02285118], loss : 0.030017434910252848\n",
            "W : [[0.73788372]], b : [0.00074663], loss : 0.029274796810082708\n",
            "W : [[0.76984962]], b : [-0.01625826], loss : 0.02883529379464559\n",
            "W : [[0.79444079]], b : [-0.02934002], loss : 0.02857519011758689\n",
            "W : [[0.81335863]], b : [-0.03940374], loss : 0.028421257333411998\n",
            "W : [[0.827912]], b : [-0.0471457], loss : 0.028330157882947574\n"
          ]
        },
        {
          "output_type": "execute_result",
          "data": {
            "text/plain": [
              "array([[5.97155867]])"
            ]
          },
          "metadata": {},
          "execution_count": 7
        }
      ]
    },
    {
      "cell_type": "code",
      "source": [
        "# 같은 내용을 이제 Tensorflow Keras를 이용해서 구현!\n",
        "from tensorflow.keras.models import Sequential\n",
        "from tensorflow.keras.layers import Flatten, Dense\n",
        "from tensorflow.keras.optimizers import SGD\n",
        "\n",
        "# Model 생성\n",
        "model = Sequential()\n",
        "\n",
        "model.add(Flatten(input_shape=(1,)))\n",
        "\n",
        "output_layer = Dense(units=1,\n",
        "                     activation='linear')\n",
        "\n",
        "model.add(output_layer)\n",
        "\n",
        "# model 설정\n",
        "model.compile(optimizer=SGD(learning_rate=1e-2),\n",
        "              loss='mse')\n",
        "\n",
        "# model 학습\n",
        "model.fit(x_data,\n",
        "          t_data,\n",
        "          epochs=2000,\n",
        "          verbose=0)\n",
        "\n",
        "# 학습이 끝났으니 예측을 해 보아요!\n",
        "my_data = np.array([[62]])\n",
        "scaled_my_data = scaled_x.transform(my_data)\n",
        "scaled_result = model.predict(scaled_my_data)\n",
        "\n",
        "# 다시 원상복귀 시켜야 겠죠.\n",
        "result = scaled_t.inverse_transform(scaled_result)\n",
        "print(result)\n",
        "\n",
        "\n",
        "# 그래프로 확인해 보아요!\n",
        "# W와 b가 필요해요!\n",
        "weights, bias = output_layer.get_weights()"
      ],
      "metadata": {
        "colab": {
          "base_uri": "https://localhost:8080/"
        },
        "id": "8AtY94XV6E60",
        "outputId": "2ab02a88-d2a3-4281-c3bf-8cf70aceb6f5"
      },
      "execution_count": null,
      "outputs": [
        {
          "output_type": "stream",
          "name": "stdout",
          "text": [
            "1/1 [==============================] - 0s 45ms/step\n",
            "[[4.634971]]\n"
          ]
        }
      ]
    },
    {
      "cell_type": "code",
      "source": [
        "# 정답(?)을 확인하기 위해 sklearn 구현을 해 보아요!\n",
        "\n",
        "import numpy as np\n",
        "import pandas as pd\n",
        "import matplotlib.pyplot as plt\n",
        "from sklearn import linear_model\n",
        "\n",
        "\n",
        "# Model 생성\n",
        "sklearn_model = linear_model.LinearRegression()\n",
        "\n",
        "# Model 학습\n",
        "sklearn_model.fit(x_data, t_data)\n",
        "\n",
        "# 학습이 끝났으니 예측을 해 보아요!\n",
        "my_data = np.array([[62]])\n",
        "scaled_my_data = scaled_x.transform(my_data)\n",
        "scaled_result = sklearn_model.predict(scaled_my_data)\n",
        "\n",
        "# 다시 원상복귀 시켜야 겠죠.\n",
        "result = scaled_t.inverse_transform(scaled_result)\n",
        "print(result)"
      ],
      "metadata": {
        "colab": {
          "base_uri": "https://localhost:8080/"
        },
        "id": "mL2TKenQ8KJI",
        "outputId": "dde11471-28e7-426d-c98c-b3d7157e5470"
      },
      "execution_count": null,
      "outputs": [
        {
          "output_type": "stream",
          "name": "stdout",
          "text": [
            "[[4.51299041]]\n"
          ]
        }
      ]
    },
    {
      "cell_type": "code",
      "source": [
        "####### 결과를 그래프로 확인해 보아요! #########\n",
        "\n",
        "fig = plt.figure()\n",
        "\n",
        "fig_python = fig.add_subplot(1,3,1)\n",
        "fig_tensorflow = fig.add_subplot(1,3,2)\n",
        "fig_sklearn = fig.add_subplot(1,3,3)\n",
        "\n",
        "fig_python.set_title('python')\n",
        "fig_tensorflow.set_title('tensorflow')\n",
        "fig_sklearn.set_title('sklearn')\n",
        "\n",
        "fig_python.scatter(x_data, t_data)\n",
        "fig_python.plot(x_data, x_data*W.ravel() + b, color='r')\n",
        "\n",
        "fig_tensorflow.scatter(x_data, t_data)\n",
        "fig_tensorflow.plot(x_data, x_data*weights + bias, color='b')\n",
        "\n",
        "fig_sklearn.scatter(x_data, t_data)\n",
        "fig_sklearn.plot(x_data,\n",
        "                 x_data*sklearn_model.coef_ + sklearn_model.intercept_,\n",
        "                 color='g')\n",
        "\n",
        "plt.tight_layout()\n",
        "plt.show()"
      ],
      "metadata": {
        "colab": {
          "base_uri": "https://localhost:8080/",
          "height": 487
        },
        "id": "uF6p6y6y8m3B",
        "outputId": "f004681a-24f4-4417-d82b-79855df48942"
      },
      "execution_count": null,
      "outputs": [
        {
          "output_type": "display_data",
          "data": {
            "text/plain": [
              "<Figure size 640x480 with 3 Axes>"
            ],
            "image/png": "[encoded data removed]"
          },
          "metadata": {}
        }
      ]
    },
    {
      "cell_type": "markdown",
      "source": [
        "# Multiple Linear Regression을 해 보아요!"
      ],
      "metadata": {
        "id": "eoMDzJHBCCD4"
      }
    },
    {
      "cell_type": "code",
      "source": [
        "# 필요한 model import\n",
        "import numpy as np\n",
        "import pandas as pd\n",
        "\n",
        "from tensorflow.keras.models import Sequential\n",
        "from tensorflow.keras.layers import Flatten, Dense\n",
        "from tensorflow.keras.optimizers import SGD\n",
        "\n",
        "from scipy import stats\n",
        "from sklearn.preprocessing import MinMaxScaler\n",
        "from sklearn import linear_model"
      ],
      "metadata": {
        "id": "njvAdBieCGDo"
      },
      "execution_count": null,
      "outputs": []
    },
    {
      "cell_type": "code",
      "source": [
        "# 데이터 로딩과 전처리!\n",
        "\n",
        "# Raw Data Loading\n",
        "df = pd.read_csv('/content/drive/MyDrive/AI스쿨 파일/ozone.csv')\n",
        "\n",
        "training_data = df[['Solar.R','Wind','Temp','Ozone']]\n",
        "\n",
        "# 이렇게 데이터를 가져온 후 당연히 데이터 전처리를 해야 해요!\n",
        "# 1. 결측치 처리!\n",
        "training_data = training_data.dropna(how='any')\n",
        "# 2. 이상치 처리!\n",
        "zscore_threshold = 1.8\n",
        "\n",
        "outlier = training_data['Ozone'][np.abs(stats.zscore(training_data['Ozone'].values)) > zscore_threshold]\n",
        "\n",
        "# 내가 가진 DataFrame에서 이상치를 제거하면 되요!\n",
        "training_data = training_data.loc[np.isin(training_data['Ozone'],outlier, invert=True)]\n",
        "\n",
        "x_data = training_data.drop('Ozone',axis=1,inplace=False).values\n",
        "t_data = training_data['Ozone'].values.reshape(-1,1)\n",
        "\n",
        "# 3. 정규화 진행(Normalization)\n",
        "#    - 모든 feature에 대해 scale을 0과 1로 변경!\n",
        "#    - 프로그램적으로 이 작업을 하려면 코드작업 해야 해서 좀 그래요\n",
        "#    - sklearn을 이용하면 이 정규화 작업을 아주 쉽게 할 수 있어요!\n",
        "#    - StandardScaler 사용시 코드는 동일 but MinMaxScaler -> StandardScaler\n",
        "scaled_x = MinMaxScaler()\n",
        "scaled_t = MinMaxScaler()\n",
        "\n",
        "scaled_x.fit(x_data)\n",
        "scaled_t.fit(t_data)\n",
        "\n",
        "# Training Data Set 준비\n",
        "x_data_norm = scaled_x.transform(x_data)  # 2차원 배열로 넣어줘야 함\n",
        "t_data_norm = scaled_t.transform(t_data)\n"
      ],
      "metadata": {
        "id": "YwWYICIED7H_"
      },
      "execution_count": null,
      "outputs": []
    },
    {
      "cell_type": "code",
      "source": [
        "# Tensorflow 구현을 해보아요!\n",
        "\n",
        "# Model 생성\n",
        "keras_model = Sequential()\n",
        "\n",
        "# Flatten은 input layer 역할을 수행!\n",
        "# 당연히 입력 Feature들을 받아들이는 역할 수행\n",
        "# Flatten안의 node는 몇 개 있어야 하나요> => 3개\n",
        "keras_model.add(Flatten(input_shape=(3,)))  # input_shape -> 동글뱅이(node)개수 의미\n",
        "\n",
        "keras_model.add(Dense(units=1,\n",
        "                      activation='linear'))  # units -> output layer의 동글뱅이 개수 (여기서는 종속변수 1개 이므로 1)\n",
        "\n",
        "# Model 설정\n",
        "keras_model.compile(optimizer=SGD(learning_rate=1e-2),\n",
        "                    loss='mse')\n",
        "\n",
        "# Model 학습\n",
        "keras_model.fit(x_data_norm,\n",
        "                t_data_norm,\n",
        "                epochs=1000,\n",
        "                verbose=0)\n",
        "\n",
        "# Model을 이용한 예측\n",
        "# Model에 들어가는 값은 2차원!, 값은 실수로 입력\n",
        "my_data = np.array([[150.0, 10.0, 80.0]])\n",
        "scaled_my_data = scaled_x.transform(my_data)\n",
        "\n",
        "scaled_result = keras_model.predict(scaled_my_data)\n",
        "result = scaled_t.inverse_transform(scaled_result)\n",
        "print(f'결과로 알아낸 오존량은 : {result}')\n"
      ],
      "metadata": {
        "colab": {
          "base_uri": "https://localhost:8080/"
        },
        "id": "do5FndeXJ8wt",
        "outputId": "772379ff-1a8b-40e7-8766-acf3d9314960"
      },
      "execution_count": null,
      "outputs": [
        {
          "output_type": "stream",
          "name": "stdout",
          "text": [
            "1/1 [==============================] - 0s 64ms/step\n",
            "결과로 알아낸 오존량은 : [[40.228924]]\n"
          ]
        }
      ]
    },
    {
      "cell_type": "code",
      "source": [
        "# sklearn 구현\n",
        "# sklearn은 정규화 하지 않은 데이터 넣어도 내부적으로 알아서 처리해줌\n",
        "\n",
        "# model 생성\n",
        "sklearn_model = linear_model.LinearRegression()\n",
        "\n",
        "# model 학습\n",
        "sklearn_model.fit(x_data, t_data)\n",
        "\n",
        "# model로 예측\n",
        "my_data = np.array([[150.0, 10.0, 80.0]])\n",
        "result = sklearn_model.predict(my_data)\n",
        "print(f'결과로 알아낸 오존량은 : {result}')"
      ],
      "metadata": {
        "colab": {
          "base_uri": "https://localhost:8080/"
        },
        "id": "VBuDVzI7NfMX",
        "outputId": "1fc3ae7d-b59c-4948-bc35-886a4f0ddbac"
      },
      "execution_count": null,
      "outputs": [
        {
          "output_type": "stream",
          "name": "stdout",
          "text": [
            "결과로 알아낸 오존량은 : [[40.34973385]]\n"
          ]
        }
      ]
    },
    {
      "cell_type": "markdown",
      "source": [
        "# Logistic Regression"
      ],
      "metadata": {
        "id": "AOoLSxo-lRAw"
      }
    },
    {
      "cell_type": "code",
      "source": [
        "!pip install mglearn"
      ],
      "metadata": {
        "colab": {
          "base_uri": "https://localhost:8080/"
        },
        "id": "eNWISxdfoQXO",
        "outputId": "b37c68a8-c3ca-43d3-ce87-c0268066fff0"
      },
      "execution_count": null,
      "outputs": [
        {
          "output_type": "stream",
          "name": "stdout",
          "text": [
            "Collecting mglearn\n",
            "  Downloading mglearn-0.2.0-py2.py3-none-any.whl (581 kB)\n",
            "\u001b[2K     \u001b[90m━━━━━━━━━━━━━━━━━━━━━━━━━━━━━━━━━━━━━━━━\u001b[0m \u001b[32m581.4/581.4 kB\u001b[0m \u001b[31m4.7 MB/s\u001b[0m eta \u001b[36m0:00:00\u001b[0m\n",
            "\u001b[?25hRequirement already satisfied: numpy in /usr/local/lib/python3.10/dist-packages (from mglearn) (1.23.5)\n",
            "Requirement already satisfied: matplotlib in /usr/local/lib/python3.10/dist-packages (from mglearn) (3.7.1)\n",
            "Requirement already satisfied: scikit-learn in /usr/local/lib/python3.10/dist-packages (from mglearn) (1.2.2)\n",
            "Requirement already satisfied: pandas in /usr/local/lib/python3.10/dist-packages (from mglearn) (1.5.3)\n",
            "Requirement already satisfied: pillow in /usr/local/lib/python3.10/dist-packages (from mglearn) (9.4.0)\n",
            "Requirement already satisfied: cycler in /usr/local/lib/python3.10/dist-packages (from mglearn) (0.12.1)\n",
            "Requirement already satisfied: imageio in /usr/local/lib/python3.10/dist-packages (from mglearn) (2.31.6)\n",
            "Requirement already satisfied: joblib in /usr/local/lib/python3.10/dist-packages (from mglearn) (1.3.2)\n",
            "Requirement already satisfied: contourpy>=1.0.1 in /usr/local/lib/python3.10/dist-packages (from matplotlib->mglearn) (1.2.0)\n",
            "Requirement already satisfied: fonttools>=4.22.0 in /usr/local/lib/python3.10/dist-packages (from matplotlib->mglearn) (4.44.3)\n",
            "Requirement already satisfied: kiwisolver>=1.0.1 in /usr/local/lib/python3.10/dist-packages (from matplotlib->mglearn) (1.4.5)\n",
            "Requirement already satisfied: packaging>=20.0 in /usr/local/lib/python3.10/dist-packages (from matplotlib->mglearn) (23.2)\n",
            "Requirement already satisfied: pyparsing>=2.3.1 in /usr/local/lib/python3.10/dist-packages (from matplotlib->mglearn) (3.1.1)\n",
            "Requirement already satisfied: python-dateutil>=2.7 in /usr/local/lib/python3.10/dist-packages (from matplotlib->mglearn) (2.8.2)\n",
            "Requirement already satisfied: pytz>=2020.1 in /usr/local/lib/python3.10/dist-packages (from pandas->mglearn) (2023.3.post1)\n",
            "Requirement already satisfied: scipy>=1.3.2 in /usr/local/lib/python3.10/dist-packages (from scikit-learn->mglearn) (1.11.3)\n",
            "Requirement already satisfied: threadpoolctl>=2.0.0 in /usr/local/lib/python3.10/dist-packages (from scikit-learn->mglearn) (3.2.0)\n",
            "Requirement already satisfied: six>=1.5 in /usr/local/lib/python3.10/dist-packages (from python-dateutil>=2.7->matplotlib->mglearn) (1.16.0)\n",
            "Installing collected packages: mglearn\n",
            "Successfully installed mglearn-0.2.0\n"
          ]
        }
      ]
    },
    {
      "cell_type": "code",
      "source": [
        "# logistic regression의 의미를 코드를 통해\n",
        "# 그림을 통해 알아보아요\n",
        "\n",
        "import numpy as np\n",
        "from sklearn import linear_model\n",
        "import mglearn\n",
        "import matplotlib.pyplot as plt\n"
      ],
      "metadata": {
        "id": "S1FLHZEslTwV"
      },
      "execution_count": null,
      "outputs": []
    },
    {
      "cell_type": "code",
      "source": [
        "# Training Data Set - t data가 0,1로 구성되어 있으면 logistic 회귀\n",
        "x,t = mglearn.datasets.make_forge()\n",
        "\n",
        "# 이 데이터를 2차원 평면에 점을 찍어서 표현\n",
        "# x안에 있는 2개의 값을 x축, y축의 값으로 이용\n",
        "# 그리고 각 데이터의 target(정답)의 값이 0이면 네모, 1이면 세모\n",
        "mglearn.discrete_scatter(x[:,0], x[:,1],t)\n",
        "\n",
        "# 이제 이 데이터를 이용해서 linear regression model 구현\n",
        "model = linear_model.LinearRegression()\n",
        "model.fit(x[:,0].reshape(-1,1),\n",
        "          x[:,1].reshape(-1,1))\n",
        "\n",
        "# 이렇게 학습을 시키면 우리의 모델이 완성\n",
        "# W와 b를 구할 수 있어요!\n",
        "plt.plot(x[:,0], x[:,0]*model.coef_.ravel()+ model.intercept_,\n",
        "         color='r')\n",
        "plt.show()"
      ],
      "metadata": {
        "colab": {
          "base_uri": "https://localhost:8080/",
          "height": 430
        },
        "id": "rVpE3Ld9lixu",
        "outputId": "02f42a13-bf23-43e7-c76e-4668ae200f46"
      },
      "execution_count": null,
      "outputs": [
        {
          "output_type": "display_data",
          "data": {
            "text/plain": [
              "<Figure size 640x480 with 1 Axes>"
            ],
            "image/png": "[encoded data removed]"
          },
          "metadata": {}
        }
      ]
    },
    {
      "cell_type": "code",
      "source": [
        "import numpy as np\n",
        "import matplotlib.pyplot as plt\n",
        "from sklearn import linear_model\n",
        "\n",
        "# Training Data Set\n",
        "x_data = np.array([1,2,5,8,10])  # 공부 시간\n",
        "t_data = np.array([0,0,0,1,1])  # 합격 여부(0 - 불합격, 1-합격)\n",
        "\n",
        "# simple linear regression을 해보아요\n",
        "model = linear_model.LinearRegression()\n",
        "model.fit(x_data.reshape(-1,1),\n",
        "          t_data.reshape(-1,1))\n",
        "\n",
        "print(model.predict(np.array([[7]])))\n",
        "\n",
        "plt.scatter(x_data, t_data)\n",
        "plt.plot(x_data, x_data*model.coef_.ravel() + model.intercept_,\n",
        "         color='r')\n",
        "plt.show()"
      ],
      "metadata": {
        "colab": {
          "base_uri": "https://localhost:8080/",
          "height": 448
        },
        "id": "WMpCYALspFlL",
        "outputId": "292dc355-1b10-4ba6-9d9f-9b98ecc18a44"
      },
      "execution_count": null,
      "outputs": [
        {
          "output_type": "stream",
          "name": "stdout",
          "text": [
            "[[0.63265306]]\n"
          ]
        },
        {
          "output_type": "display_data",
          "data": {
            "text/plain": [
              "<Figure size 640x480 with 1 Axes>"
            ],
            "image/png": "[encoded data removed]"
          },
          "metadata": {}
        }
      ]
    },
    {
      "cell_type": "code",
      "source": [
        "import numpy as np\n",
        "import matplotlib.pyplot as plt\n",
        "from sklearn import linear_model\n",
        "\n",
        "# Training Data Set\n",
        "x_data = np.array([1,2,5,8,10,30])  # 공부 시간\n",
        "t_data = np.array([0,0,0,1,1,1])  # 합격 여부(0 - 불합격, 1-합격)\n",
        "\n",
        "# simple linear regression을 해보아요\n",
        "model = linear_model.LinearRegression()\n",
        "model.fit(x_data.reshape(-1,1),\n",
        "          t_data.reshape(-1,1))\n",
        "\n",
        "print(model.predict(np.array([[7]])))\n",
        "\n",
        "plt.scatter(x_data, t_data)\n",
        "plt.plot(x_data, x_data*model.coef_.ravel() + model.intercept_,\n",
        "         color='r')\n",
        "plt.show()"
      ],
      "metadata": {
        "colab": {
          "base_uri": "https://localhost:8080/",
          "height": 448
        },
        "id": "TgEMUa_IxHwn",
        "outputId": "e54ab2ce-2e35-435f-9765-ff25f6dec5e9"
      },
      "execution_count": null,
      "outputs": [
        {
          "output_type": "stream",
          "name": "stdout",
          "text": [
            "[[0.41831972]]\n"
          ]
        },
        {
          "output_type": "display_data",
          "data": {
            "text/plain": [
              "<Figure size 640x480 with 1 Axes>"
            ],
            "image/png": "[encoded data removed]"
          },
          "metadata": {}
        }
      ]
    },
    {
      "cell_type": "code",
      "source": [
        "# Logistic Regression을 구현해보아요!\n",
        "# sklearn과 tensorflow를 이용해서 구현해보아요\n",
        "# 간단한 데이터를 이용해서 모델을 완성하고 예측해보아요\n",
        "\n",
        "import numpy as np\n",
        "from sklearn import linear_model\n",
        "from tensorflow.keras.models import Sequential\n",
        "from tensorflow.keras.layers import Flatten, Dense\n",
        "from tensorflow.keras.optimizers import SGD\n",
        "\n",
        "# Training Data Set\n",
        "# 공부시간에 따른 시험합격 여부\n",
        "x_data = np.arange(2,21,2).reshape(-1,1)\n",
        "t_data = np.array([0,0,0,0,0,0,1,1,1,1]).reshape(-1,1)\n",
        "\n",
        "# sklearn 구현\n",
        "sklearn_model = linear_model.LogisticRegression()\n",
        "sklearn_model.fit(x_data, t_data.ravel())\n",
        "\n",
        "# 예측\n",
        "study_hour = np.array([[13]])\n",
        "result = sklearn_model.predict(study_hour)\n",
        "result\n",
        "\n",
        "# 확률값 알고싶으면\n",
        "result_proba = sklearn_model.predict_proba(study_hour)\n",
        "result_proba\n",
        "\n",
        "# tensorflow 구현\n",
        "keras_model = Sequential()\n",
        "keras_model.add(Flatten(input_shape=(1,)))\n",
        "keras_model.add(Dense(units=1,\n",
        "                      activation='sigmoid'))\n",
        "\n",
        "keras_model.compile(optimizer=SGD(learning_rate=1e-2),\n",
        "                    loss = 'binary_crossentropy')\n",
        "\n",
        "keras_model.fit(x_data,\n",
        "                t_data,\n",
        "                epochs=500,\n",
        "                verbose=0)\n",
        "\n",
        "keras_result = keras_model.predict(study_hour)\n",
        "keras_result\n"
      ],
      "metadata": {
        "colab": {
          "base_uri": "https://localhost:8080/"
        },
        "id": "9TxiICVN_4nI",
        "outputId": "37afbda8-9b34-4425-9e45-4edf4684f6a3"
      },
      "execution_count": null,
      "outputs": [
        {
          "output_type": "stream",
          "name": "stdout",
          "text": [
            "1/1 [==============================] - 0s 50ms/step\n"
          ]
        },
        {
          "output_type": "execute_result",
          "data": {
            "text/plain": [
              "array([[0.59827995]], dtype=float32)"
            ]
          },
          "metadata": {},
          "execution_count": 38
        }
      ]
    },
    {
      "cell_type": "code",
      "source": [],
      "metadata": {
        "id": "GYeHpO2TA2fD"
      },
      "execution_count": null,
      "outputs": []
    }
  ]
}