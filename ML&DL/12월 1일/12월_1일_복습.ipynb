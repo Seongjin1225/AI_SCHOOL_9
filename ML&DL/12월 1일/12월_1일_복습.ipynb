{
  "nbformat": 4,
  "nbformat_minor": 0,
  "metadata": {
    "colab": {
      "provenance": [],
      "mount_file_id": "1qSQvZIny1twD4FSB_ltLM3YT1W0-sUhF",
      "authorship_tag": "ABX9TyOd0zns6CCiysb0BRE3Jk1a",
      "include_colab_link": true
    },
    "kernelspec": {
      "name": "python3",
      "display_name": "Python 3"
    },
    "language_info": {
      "name": "python"
    }
  },
  "cells": [
    {
      "cell_type": "markdown",
      "metadata": {
        "id": "view-in-github",
        "colab_type": "text"
      },
      "source": [
        "<a href=\"https://colab.research.google.com/github/Seongjin1225/AI_SCHOOL_9/blob/main/ML%26DL/12%EC%9B%94%201%EC%9D%BC/12%EC%9B%94_1%EC%9D%BC_%EB%B3%B5%EC%8A%B5.ipynb\" target=\"_parent\"><img src=\"https://colab.research.google.com/assets/colab-badge.svg\" alt=\"Open In Colab\"/></a>"
      ]
    },
    {
      "cell_type": "markdown",
      "source": [
        "# 정규화\n",
        "- MinMax(이상치에 민감), standardization(이상치에 상대적으로 둔감)\n",
        "- 위 2가지 알아두면됨"
      ],
      "metadata": {
        "id": "UQSVqGYmVmh6"
      }
    },
    {
      "cell_type": "code",
      "source": [
        "# 필요 라이브러리 호출\n",
        "import numpy as np\n",
        "import pandas as pd\n",
        "import matplotlib.pyplot as plt\n",
        "\n",
        "from scipy import stats\n",
        "from sklearn.preprocessing import MinMaxScaler\n",
        "\n",
        "# Raw Data Set\n",
        "df = pd.read_csv('/content/drive/MyDrive/AI스쿨 파일/ozone.csv')\n",
        "\n",
        "training_data = df[['Temp', 'Ozone']]\n",
        "\n",
        "# 이렇게 데이터를 가져온 후 당연히 데이터 전처리를 해야 해요!\n",
        "# 1. 결측치 처리!\n",
        "training_data = training_data.dropna(how='any')\n",
        "# 2. 이상치 처리!\n",
        "zscore_threshold = 1.8\n",
        "\n",
        "outlier = training_data['Ozone'][np.abs(stats.zscore(training_data['Ozone'].values)) > zscore_threshold]\n",
        "\n",
        "# 내가 가진 DataFrame에서 이상치를 제거하면 되요!\n",
        "training_data = training_data.loc[np.isin(training_data['Ozone'],outlier, invert=True)]\n",
        "\n",
        "# 3. 정규화 진행(Normalization)\n",
        "#    - 모든 feature에 대해 scale을 0과 1로 변경!\n",
        "#    - 프로그램적으로 이 작업을 하려면 코드작업 해야 해서 좀 그래요\n",
        "#    - sklearn을 이용하면 이 정규화 작업을 아주 쉽게 할 수 있어요!\n",
        "#    - StandardScaler 사용시 코드는 동일 but MinMaxScaler -> StandardScaler\n",
        "scaler_x = MinMaxScaler()\n",
        "scaler_t = MinMaxScaler()\n",
        "\n",
        "scaler_x.fit(training_data['Temp'].values.reshape(-1,1))\n",
        "scaler_t.fit(training_data['Ozone'].values.reshape(-1,1))\n",
        "\n",
        "# Training Data Set 준비\n",
        "x_data = scaler_x.transform(training_data['Temp'].values.reshape(-1,1))\n",
        "t_data = scaler_t.transform(training_data['Ozone'].values.reshape(-1,1))"
      ],
      "metadata": {
        "id": "xoqajoabWsEc"
      },
      "execution_count": null,
      "outputs": []
    },
    {
      "cell_type": "code",
      "source": [
        "# Python 직접구현\n",
        "\n",
        "import numpy as np\n",
        "import pandas as pd\n",
        "import matplotlib.pyplot as plt\n",
        "\n",
        "## 수치미분 코드\n",
        "def numerical_derivative(f,x):\n",
        "\n",
        "    # f : 미분하려고하는 다변수 함수\n",
        "    # x : 모든 변수를 포함하는 ndarray  [1.0 2.0]\n",
        "    # 리턴되는 결과는 [8.0 15.0]\n",
        "\n",
        "    delta_x = 1e-4\n",
        "    derivative_x = np.zeros_like(x)   #  [0.0 0.0]\n",
        "\n",
        "    it = np.nditer(x, flags=['multi_index'])\n",
        "\n",
        "    while not it.finished:\n",
        "\n",
        "        idx = it.multi_index  # 현재의 index를 추출 => tuple형태로 리턴.\n",
        "\n",
        "        tmp = x[idx]    # 현재 index의 값을 일단 잠시 보존해야해요!\n",
        "                        # 밑에서 이 값을 변경해서 중앙차분 값을 계산해야 해요!\n",
        "                        # 그런데 우리 편미분해야해요. 다음 변수 편미분할때\n",
        "                        # 원래값으로 복원해야 편미분이 정상적으로 진행되기 때문에\n",
        "                        # 이값을 잠시 보관했다가 원상태로 복구해야 해요!\n",
        "        x[idx] = tmp + delta_x\n",
        "        fx_plus_delta_x = f(x)  # f(x + delta_x)\n",
        "\n",
        "        x[idx] = tmp - delta_x\n",
        "        fx_minus_delta_x = f(x) # f(x - delta_x)\n",
        "\n",
        "        derivative_x[idx] = (fx_plus_delta_x - fx_minus_delta_x) / (2 * delta_x)\n",
        "\n",
        "        x[idx] = tmp\n",
        "\n",
        "        it.iternext()\n",
        "\n",
        "    return derivative_x\n",
        "\n",
        "# Model을 만들어야 하는데.. y = Wx + b\n",
        "W = np.random.rand(1,1)\n",
        "b = np.random.rand(1)\n",
        "\n",
        "# loss function(MSE)\n",
        "def loss_func(input_data):\n",
        "\n",
        "    input_w = input_data[0]\n",
        "    input_b = input_data[1]\n",
        "\n",
        "    y = np.dot(x_data, input_w) + input_b\n",
        "\n",
        "    return np.mean(np.power((t_data-y),2))\n",
        "\n",
        "# 모델이 완성된 후 예측하는 함수를 하나 만들어요!\n",
        "def predict(x):\n",
        "\n",
        "    return np.dot(x, W) + b\n",
        "\n",
        "# learning rate 정의(hyperparameter)\n",
        "learning_rate = 1e-4\n",
        "\n",
        "# 학습진행\n",
        "for step in range(300000):\n",
        "\n",
        "    input_param = np.concatenate((W.ravel(), b.ravel()), axis=0)\n",
        "    derivative_result = learning_rate * numerical_derivative(loss_func, input_param)\n",
        "\n",
        "    W = W - derivative_result[0].reshape(-1,1)\n",
        "    b = b - derivative_result[1]\n",
        "\n",
        "    if step % 30000 == 0:\n",
        "        print(f'W : {W}, b : {b}, loss : {loss_func(input_param)}')\n",
        "\n",
        "# 학습 종료 후 예측하기\n",
        "# 62도에서의 오존량은?\n",
        "# 지금 모델의 값은 모두 0~1사이의 값이므로 변형 필요\n",
        "my_data = np.array([[62]])\n",
        "scaled_my_data = scaler_x.transform(my_data)\n",
        "scaled_result = predict(scaled_my_data)\n",
        "\n",
        "# 다시 원상 복귀시켜야겠죠\n",
        "result = scaler_t.inverse_transform(scaled_result)\n",
        "result"
      ],
      "metadata": {
        "colab": {
          "base_uri": "https://localhost:8080/"
        },
        "id": "txMhEI5vaJWf",
        "outputId": "345ee48d-8ec4-4307-ea50-13e626eafb8d"
      },
      "execution_count": null,
      "outputs": [
        {
          "output_type": "stream",
          "name": "stdout",
          "text": [
            "W : [[0.0080922]], b : [0.50300171], loss : 0.088101917688775\n",
            "W : [[0.17207653]], b : [0.30179468], loss : 0.05602530211475827\n",
            "W : [[0.33455982]], b : [0.21530282], loss : 0.04466659358032989\n",
            "W : [[0.45957497]], b : [0.1487985], loss : 0.03794436198272469\n",
            "W : [[0.55574838]], b : [0.09763714], loss : 0.03396605672618655\n",
            "W : [[0.629734]], b : [0.05827902], loss : 0.03161164324245007\n",
            "W : [[0.68665069]], b : [0.02800106], loss : 0.03021827031228353\n",
            "W : [[0.73043636]], b : [0.00470841], loss : 0.02939365384795713\n",
            "W : [[0.76412041]], b : [-0.01321049], loss : 0.028905634956161275\n",
            "W : [[0.79003334]], b : [-0.02699539], loss : 0.02861681894404806\n"
          ]
        },
        {
          "output_type": "execute_result",
          "data": {
            "text/plain": [
              "array([[7.11003564]])"
            ]
          },
          "metadata": {},
          "execution_count": 4
        }
      ]
    },
    {
      "cell_type": "code",
      "source": [
        "# 같은 내용을 이제 Tensorflow Keras를 이용해서 구현!\n",
        "from tensorflow.keras.models import Sequential\n",
        "from tensorflow.keras.layers import Flatten, Dense\n",
        "from tensorflow.keras.optimizers import SGD\n",
        "\n",
        "# Model 생성\n",
        "model = Sequential()\n",
        "\n",
        "model.add(Flatten(input_shape=(1,)))\n",
        "\n",
        "output_layer = Dense(units=1,\n",
        "                     activation='linear')\n",
        "\n",
        "model.add(output_layer)\n",
        "\n",
        "# model 설정\n",
        "model.compile(optimizer=SGD(learning_rate=1e-2),\n",
        "              loss='mse')\n",
        "\n",
        "# model 학습\n",
        "model.fit(x_data,\n",
        "          t_data,\n",
        "          epochs=2000,\n",
        "          verbose=0)\n",
        "\n",
        "# 학습이 끝났으니 예측을 해 보아요!\n",
        "my_data = np.array([[62]])\n",
        "scaled_my_data = scaler_x.transform(my_data)\n",
        "scaled_result = model.predict(scaled_my_data)\n",
        "\n",
        "# 다시 원상복귀 시켜야 겠죠.\n",
        "result = scaler_t.inverse_transform(scaled_result)\n",
        "print(result)\n",
        "\n",
        "\n",
        "# 그래프로 확인해 보아요!\n",
        "# W와 b가 필요해요!\n",
        "weights, bias = output_layer.get_weights()"
      ],
      "metadata": {
        "colab": {
          "base_uri": "https://localhost:8080/"
        },
        "id": "veGK_l1Va_H4",
        "outputId": "eebe2b8d-d113-4fff-eebc-e72cc869c54c"
      },
      "execution_count": null,
      "outputs": [
        {
          "output_type": "stream",
          "name": "stdout",
          "text": [
            "1/1 [==============================] - 0s 131ms/step\n",
            "[[4.4390764]]\n"
          ]
        }
      ]
    },
    {
      "cell_type": "code",
      "source": [
        "# 정답(?)을 확인하기 위해 sklearn 구현을 해 보아요!\n",
        "\n",
        "import numpy as np\n",
        "import pandas as pd\n",
        "import matplotlib.pyplot as plt\n",
        "from sklearn import linear_model\n",
        "\n",
        "\n",
        "# Model 생성\n",
        "sklearn_model = linear_model.LinearRegression()\n",
        "\n",
        "# Model 학습\n",
        "sklearn_model.fit(x_data, t_data)\n",
        "\n",
        "# 학습이 끝났으니 예측을 해 보아요!\n",
        "my_data = np.array([[62]])\n",
        "scaled_my_data = scaler_x.transform(my_data)\n",
        "scaled_result = sklearn_model.predict(scaled_my_data)\n",
        "\n",
        "# 다시 원상복귀 시켜야 겠죠.\n",
        "result = scaler_t.inverse_transform(scaled_result)\n",
        "print(result)"
      ],
      "metadata": {
        "colab": {
          "base_uri": "https://localhost:8080/"
        },
        "id": "zepUUYZMbJ-5",
        "outputId": "8a5bf51a-897a-4366-a0d1-076b2cf6c495"
      },
      "execution_count": null,
      "outputs": [
        {
          "output_type": "stream",
          "name": "stdout",
          "text": [
            "[[4.51299041]]\n"
          ]
        }
      ]
    },
    {
      "cell_type": "code",
      "source": [
        "####### 결과를 그래프로 확인해 보아요! #########\n",
        "\n",
        "fig = plt.figure()\n",
        "\n",
        "fig_python = fig.add_subplot(1,3,1)\n",
        "fig_tensorflow = fig.add_subplot(1,3,2)\n",
        "fig_sklearn = fig.add_subplot(1,3,3)\n",
        "\n",
        "fig_python.set_title('python')\n",
        "fig_tensorflow.set_title('tensorflow')\n",
        "fig_sklearn.set_title('sklearn')\n",
        "\n",
        "fig_python.scatter(x_data, t_data)\n",
        "fig_python.plot(x_data, x_data*W.ravel() + b, color='r')\n",
        "\n",
        "fig_tensorflow.scatter(x_data, t_data)\n",
        "fig_tensorflow.plot(x_data, x_data*weights + bias, color='b')\n",
        "\n",
        "fig_sklearn.scatter(x_data, t_data)\n",
        "fig_sklearn.plot(x_data,\n",
        "                 x_data*sklearn_model.coef_ + sklearn_model.intercept_,\n",
        "                 color='g')\n",
        "\n",
        "plt.tight_layout()\n",
        "plt.show()"
      ],
      "metadata": {
        "colab": {
          "base_uri": "https://localhost:8080/",
          "height": 487
        },
        "id": "wyJ1scfQbs-7",
        "outputId": "496686c0-b5f7-4a4b-f8b3-21a1279a1c6d"
      },
      "execution_count": null,
      "outputs": [
        {
          "output_type": "display_data",
          "data": {
            "text/plain": [
              "<Figure size 640x480 with 3 Axes>"
            ],
            "image/png": "[encoded data removed]"
          },
          "metadata": {}
        }
      ]
    },
    {
      "cell_type": "markdown",
      "source": [
        "# Multiple Linear Regresssion"
      ],
      "metadata": {
        "id": "f0OiAIF9bvmm"
      }
    },
    {
      "cell_type": "code",
      "source": [
        "# 필요한 model import\n",
        "import numpy as np\n",
        "import pandas as pd\n",
        "\n",
        "from tensorflow.keras.models import Sequential\n",
        "from tensorflow.keras.layers import Flatten, Dense\n",
        "from tensorflow.keras.optimizers import SGD\n",
        "\n",
        "from scipy import stats\n",
        "from sklearn.preprocessing import MinMaxScaler\n",
        "from sklearn import linear_model"
      ],
      "metadata": {
        "id": "9P5OtIg7b0mr"
      },
      "execution_count": null,
      "outputs": []
    },
    {
      "cell_type": "code",
      "source": [
        "# 데이터 로딩과 전처리!\n",
        "\n",
        "# Raw Data Loading\n",
        "df = pd.read_csv('/content/drive/MyDrive/AI스쿨 파일/ozone.csv')\n",
        "\n",
        "training_data = df[['Solar.R','Wind','Temp','Ozone']]\n",
        "\n",
        "# 이렇게 데이터를 가져온 후 당연히 데이터 전처리를 해야 해요!\n",
        "# 1. 결측치 처리!\n",
        "training_data = training_data.dropna(how='any')\n",
        "# 2. 이상치 처리!\n",
        "zscore_threshold = 1.8\n",
        "\n",
        "outlier = training_data['Ozone'][np.abs(stats.zscore(training_data['Ozone'].values)) > zscore_threshold]\n",
        "\n",
        "# 내가 가진 DataFrame에서 이상치를 제거하면 되요!\n",
        "training_data = training_data.loc[np.isin(training_data['Ozone'],outlier, invert=True)]\n",
        "\n",
        "x_data = training_data.drop('Ozone',axis=1,inplace=False).values\n",
        "t_data = training_data['Ozone'].values.reshape(-1,1)\n",
        "\n",
        "# 3. 정규화 진행(Normalization)\n",
        "#    - 모든 feature에 대해 scale을 0과 1로 변경!\n",
        "#    - 프로그램적으로 이 작업을 하려면 코드작업 해야 해서 좀 그래요\n",
        "#    - sklearn을 이용하면 이 정규화 작업을 아주 쉽게 할 수 있어요!\n",
        "#    - StandardScaler 사용시 코드는 동일 but MinMaxScaler -> StandardScaler\n",
        "scaled_x = MinMaxScaler()\n",
        "scaled_t = MinMaxScaler()\n",
        "\n",
        "scaled_x.fit(x_data)\n",
        "scaled_t.fit(t_data)\n",
        "\n",
        "# Training Data Set 준비\n",
        "x_data_norm = scaled_x.transform(x_data)  # 2차원 배열로 넣어줘야 함\n",
        "t_data_norm = scaled_t.transform(t_data)\n"
      ],
      "metadata": {
        "id": "WwPbcOcScC3W"
      },
      "execution_count": null,
      "outputs": []
    },
    {
      "cell_type": "code",
      "source": [
        "# Tensorflow로 구현해보아요!\n",
        "\n",
        "# Model 생성\n",
        "keras_model = Sequential()\n",
        "keras_model.add(Flatten(input_shape=(3,)))\n",
        "keras_model.add(Dense(units=1,\n",
        "                      activation='linear'))\n",
        "\n",
        "# Model 설정\n",
        "keras_model.compile(optimizer=SGD(learning_rate=1e-2),\n",
        "                    loss='mse')\n",
        "\n",
        "# Model 학습\n",
        "keras_model.fit(x_data_norm,\n",
        "                t_data_norm,\n",
        "                epochs=1000,\n",
        "                verbose=0)\n",
        "# Model을 이용한 예측\n",
        "my_data = np.array([[150.0, 10.0, 80.0]])\n",
        "scaled_my_data = scaled_x.transform(my_data)\n",
        "\n",
        "scaled_result = keras_model.predict(scaled_my_data)\n",
        "result = scaled_t.inverse_transform(scaled_result)\n",
        "print(f'결과로 알아낸 오존량은 : {result}')"
      ],
      "metadata": {
        "colab": {
          "base_uri": "https://localhost:8080/"
        },
        "id": "FTJdHpyscFVa",
        "outputId": "d1a6b89c-5f40-4336-a1e7-2f3482abb83f"
      },
      "execution_count": null,
      "outputs": [
        {
          "output_type": "stream",
          "name": "stdout",
          "text": [
            "1/1 [==============================] - 0s 189ms/step\n",
            "결과로 알아낸 오존량은 : [[39.636505]]\n"
          ]
        }
      ]
    },
    {
      "cell_type": "code",
      "source": [
        "# sklearn 구현\n",
        "# sklearn은 정규화 하지 않은 데이터 넣어도 내부적으로 알아서 처리해줌\n",
        "\n",
        "# model 생성\n",
        "sklearn_model = linear_model.LinearRegression()\n",
        "\n",
        "# model 학습\n",
        "sklearn_model.fit(x_data, t_data)\n",
        "\n",
        "# model로 예측\n",
        "my_data = np.array([[150.0, 10.0, 80.0]])\n",
        "result = sklearn_model.predict(my_data)\n",
        "print(f'결과로 알아낸 오존량은 : {result}')"
      ],
      "metadata": {
        "colab": {
          "base_uri": "https://localhost:8080/"
        },
        "id": "yfs5LB_9dUYv",
        "outputId": "568a85de-d385-4f73-b023-e84439c1de3e"
      },
      "execution_count": null,
      "outputs": [
        {
          "output_type": "stream",
          "name": "stdout",
          "text": [
            "결과로 알아낸 오존량은 : [[40.34973385]]\n"
          ]
        }
      ]
    },
    {
      "cell_type": "markdown",
      "source": [
        "# Logistic Regression"
      ],
      "metadata": {
        "id": "IZgZjdf-dxzj"
      }
    },
    {
      "cell_type": "code",
      "source": [
        "!pip install mglearn"
      ],
      "metadata": {
        "colab": {
          "base_uri": "https://localhost:8080/"
        },
        "id": "bElRbUkOdqoT",
        "outputId": "c513222d-16ac-4b11-ba40-d3a447d56f5b"
      },
      "execution_count": null,
      "outputs": [
        {
          "output_type": "stream",
          "name": "stdout",
          "text": [
            "Collecting mglearn\n",
            "  Downloading mglearn-0.2.0-py2.py3-none-any.whl (581 kB)\n",
            "\u001b[2K     \u001b[90m━━━━━━━━━━━━━━━━━━━━━━━━━━━━━━━━━━━━━━━━\u001b[0m \u001b[32m581.4/581.4 kB\u001b[0m \u001b[31m5.5 MB/s\u001b[0m eta \u001b[36m0:00:00\u001b[0m\n",
            "\u001b[?25hRequirement already satisfied: numpy in /usr/local/lib/python3.10/dist-packages (from mglearn) (1.23.5)\n",
            "Requirement already satisfied: matplotlib in /usr/local/lib/python3.10/dist-packages (from mglearn) (3.7.1)\n",
            "Requirement already satisfied: scikit-learn in /usr/local/lib/python3.10/dist-packages (from mglearn) (1.2.2)\n",
            "Requirement already satisfied: pandas in /usr/local/lib/python3.10/dist-packages (from mglearn) (1.5.3)\n",
            "Requirement already satisfied: pillow in /usr/local/lib/python3.10/dist-packages (from mglearn) (9.4.0)\n",
            "Requirement already satisfied: cycler in /usr/local/lib/python3.10/dist-packages (from mglearn) (0.12.1)\n",
            "Requirement already satisfied: imageio in /usr/local/lib/python3.10/dist-packages (from mglearn) (2.31.6)\n",
            "Requirement already satisfied: joblib in /usr/local/lib/python3.10/dist-packages (from mglearn) (1.3.2)\n",
            "Requirement already satisfied: contourpy>=1.0.1 in /usr/local/lib/python3.10/dist-packages (from matplotlib->mglearn) (1.2.0)\n",
            "Requirement already satisfied: fonttools>=4.22.0 in /usr/local/lib/python3.10/dist-packages (from matplotlib->mglearn) (4.44.3)\n",
            "Requirement already satisfied: kiwisolver>=1.0.1 in /usr/local/lib/python3.10/dist-packages (from matplotlib->mglearn) (1.4.5)\n",
            "Requirement already satisfied: packaging>=20.0 in /usr/local/lib/python3.10/dist-packages (from matplotlib->mglearn) (23.2)\n",
            "Requirement already satisfied: pyparsing>=2.3.1 in /usr/local/lib/python3.10/dist-packages (from matplotlib->mglearn) (3.1.1)\n",
            "Requirement already satisfied: python-dateutil>=2.7 in /usr/local/lib/python3.10/dist-packages (from matplotlib->mglearn) (2.8.2)\n",
            "Requirement already satisfied: pytz>=2020.1 in /usr/local/lib/python3.10/dist-packages (from pandas->mglearn) (2023.3.post1)\n",
            "Requirement already satisfied: scipy>=1.3.2 in /usr/local/lib/python3.10/dist-packages (from scikit-learn->mglearn) (1.11.3)\n",
            "Requirement already satisfied: threadpoolctl>=2.0.0 in /usr/local/lib/python3.10/dist-packages (from scikit-learn->mglearn) (3.2.0)\n",
            "Requirement already satisfied: six>=1.5 in /usr/local/lib/python3.10/dist-packages (from python-dateutil>=2.7->matplotlib->mglearn) (1.16.0)\n",
            "Installing collected packages: mglearn\n",
            "Successfully installed mglearn-0.2.0\n"
          ]
        }
      ]
    },
    {
      "cell_type": "code",
      "source": [
        "# logistic regression의 의미를 코드를 통해\n",
        "# 그림을 통해 알아보아요\n",
        "\n",
        "import numpy as np\n",
        "from sklearn import linear_model\n",
        "import mglearn\n",
        "import matplotlib.pyplot as plt\n"
      ],
      "metadata": {
        "id": "szeJT0Jjd1JN"
      },
      "execution_count": null,
      "outputs": []
    },
    {
      "cell_type": "code",
      "source": [
        "# Training Data Set -> t_data가 0과 1로 구성되어 있으면 logistic 회귀 사용\n",
        "x,t = mglearn.datasets.make_forge()\n",
        "\n",
        "# 이 데이터를 2차원 평면에 점을 찍어서 표현\n",
        "# x안에 있는 2개의 값을 x축, y축의 값으로 이용\n",
        "# 그리고 각 데이터의 target(정답)의 값이 0이면 네모, 1이면 세모\n",
        "mglearn.discrete_scatter(x[:,0], x[:,1], t)\n",
        "\n",
        "# 이제 이 모델을 이용해서 구현\n",
        "model = linear_model.LinearRegression()\n",
        "model.fit(x[:,0].reshape(-1,1),\n",
        "          x[:,1].reshape(-1,1))\n",
        "\n",
        "# 이렇게 학습을 시키면 우리의 모델이 완성\n",
        "# W와 b를 구할 수 있어요!\n",
        "plt.plot(x[:,0], x[:,0]*model.coef_.ravel() + model.intercept_,\n",
        "         color='r')\n",
        "plt.show()"
      ],
      "metadata": {
        "colab": {
          "base_uri": "https://localhost:8080/",
          "height": 430
        },
        "id": "fYlbRP1DdwDC",
        "outputId": "781f45bf-164a-478c-a636-db974de1c049"
      },
      "execution_count": null,
      "outputs": [
        {
          "output_type": "display_data",
          "data": {
            "text/plain": [
              "<Figure size 640x480 with 1 Axes>"
            ],
            "image/png": "[encoded data removed]"
          },
          "metadata": {}
        }
      ]
    },
    {
      "cell_type": "code",
      "source": [
        "import numpy as np\n",
        "import matplotlib.pyplot as plt\n",
        "from sklearn import linear_model\n",
        "\n",
        "# Training Data Set\n",
        "x_data = np.array([1,2,5,8,10])  # 공부시간\n",
        "t_data = np.array([0,0,0,1,1]) # 합격여부\n",
        "\n",
        "# simple linear regression을 해 보아요!\n",
        "model = linear_model.LinearRegression()\n",
        "model.fit(x_data.reshape(-1,1),\n",
        "          t_data.reshape(-1,1))\n",
        "\n",
        "print(model.predict(np.array([[7]]))) # [[0.63265306]]\n",
        "\n",
        "plt.scatter(x_data, t_data)\n",
        "plt.plot(x_data, x_data * model.coef_.ravel() + model.intercept_,\n",
        "         color='r')\n",
        "plt.show()"
      ],
      "metadata": {
        "colab": {
          "base_uri": "https://localhost:8080/",
          "height": 448
        },
        "id": "yXvAnQqyezKw",
        "outputId": "4313fbef-2fa5-4aa6-93d3-df541f31dd68"
      },
      "execution_count": null,
      "outputs": [
        {
          "output_type": "stream",
          "name": "stdout",
          "text": [
            "[[0.63265306]]\n"
          ]
        },
        {
          "output_type": "display_data",
          "data": {
            "text/plain": [
              "<Figure size 640x480 with 1 Axes>"
            ],
            "image/png": "[encoded data removed]"
          },
          "metadata": {}
        }
      ]
    },
    {
      "cell_type": "code",
      "source": [
        "import numpy as np\n",
        "import matplotlib.pyplot as plt\n",
        "from sklearn import linear_model\n",
        "\n",
        "# Training Data Set\n",
        "x_data = np.array([1,2,5,8,10,30])  # 공부시간\n",
        "t_data = np.array([0,0,0,1,1,1]) # 합격여부\n",
        "\n",
        "# simple linear regression을 해 보아요!\n",
        "model = linear_model.LinearRegression()\n",
        "model.fit(x_data.reshape(-1,1),\n",
        "          t_data.reshape(-1,1))\n",
        "\n",
        "print(model.predict(np.array([[7]]))) # [[0.41831972]]\n",
        "\n",
        "plt.scatter(x_data, t_data)\n",
        "plt.plot(x_data, x_data * model.coef_.ravel() + model.intercept_,\n",
        "         color='r')\n",
        "plt.show()"
      ],
      "metadata": {
        "colab": {
          "base_uri": "https://localhost:8080/",
          "height": 448
        },
        "id": "pwH5v7Jhe3SE",
        "outputId": "01d37752-7747-4087-f122-f47a0a7e86da"
      },
      "execution_count": null,
      "outputs": [
        {
          "output_type": "stream",
          "name": "stdout",
          "text": [
            "[[0.41831972]]\n"
          ]
        },
        {
          "output_type": "display_data",
          "data": {
            "text/plain": [
              "<Figure size 640x480 with 1 Axes>"
            ],
            "image/png": "[encoded data removed]"
          },
          "metadata": {}
        }
      ]
    },
    {
      "cell_type": "code",
      "source": [
        "# Logistic Regression을 구현해 보아요!\n",
        "# sklearn과 tensorflow를 이용해서 구현할꺼예요!\n",
        "# 간단한 데이터를 이용해서 모델을 완성하고 예측을 해 보아요!\n",
        "\n",
        "import numpy as np\n",
        "from sklearn import linear_model\n",
        "from tensorflow.keras.models import Sequential\n",
        "from tensorflow.keras.layers import Flatten, Dense\n",
        "from tensorflow.keras.optimizers import SGD\n",
        "\n",
        "# Training Data Set\n",
        "# 공부시간에 따른 시험합격여부\n",
        "x_data = np.arange(2,21,2).reshape(-1,1)\n",
        "t_data = np.array([0,0,0,0,0,0,1,1,1,1]).reshape(-1,1)\n",
        "\n",
        "# sklearn 구현\n",
        "sklearn_model = linear_model.LogisticRegression()\n",
        "sklearn_model.fit(x_data, t_data.ravel())\n",
        "\n",
        "study_hour = np.array([[13]])\n",
        "result = sklearn_model.predict(study_hour)\n",
        "print(result)\n",
        "\n",
        "# 확률값을 알고 싶으면\n",
        "result_proba = sklearn_model.predict_proba(study_hour)\n",
        "print(result_proba)\n",
        "\n",
        "# tensorflow 구현\n",
        "keras_model = Sequential()\n",
        "\n",
        "keras_model.add(Flatten(input_shape=(1,)))\n",
        "\n",
        "keras_model.add(Dense(units=1,\n",
        "                      activation='sigmoid'))\n",
        "\n",
        "keras_model.compile(optimizer=SGD(learning_rate=1e-2),\n",
        "                    loss='binary_crossentropy')\n",
        "\n",
        "keras_model.fit(x_data,\n",
        "                t_data,\n",
        "                epochs=500,\n",
        "                verbose=0)\n",
        "\n",
        "keras_result = keras_model.predict(study_hour)\n",
        "print(keras_result)"
      ],
      "metadata": {
        "colab": {
          "base_uri": "https://localhost:8080/"
        },
        "id": "oPG-3oRde7XL",
        "outputId": "4ff04a5e-b21e-4f43-bd97-b5f0890f8215"
      },
      "execution_count": null,
      "outputs": [
        {
          "output_type": "stream",
          "name": "stdout",
          "text": [
            "[0]\n",
            "[[0.50009391 0.49990609]]\n",
            "1/1 [==============================] - 0s 165ms/step\n",
            "[[0.59861743]]\n"
          ]
        }
      ]
    },
    {
      "cell_type": "code",
      "source": [],
      "metadata": {
        "id": "bRsQwnt8gca1"
      },
      "execution_count": null,
      "outputs": []
    }
  ]
}