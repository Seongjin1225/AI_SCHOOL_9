{
  "nbformat": 4,
  "nbformat_minor": 0,
  "metadata": {
    "colab": {
      "provenance": [],
      "gpuType": "T4",
      "mount_file_id": "1Gw9mvAfot2aupIMErn9no9KbyU_vHzv3",
      "authorship_tag": "ABX9TyM2+ziUVzLcP8zO25Yf0uY7",
      "include_colab_link": true
    },
    "kernelspec": {
      "name": "python3",
      "display_name": "Python 3"
    },
    "language_info": {
      "name": "python"
    },
    "accelerator": "GPU"
  },
  "cells": [
    {
      "cell_type": "markdown",
      "metadata": {
        "id": "view-in-github",
        "colab_type": "text"
      },
      "source": [
        "<a href=\"https://colab.research.google.com/github/Seongjin1225/AI_SCHOOL_9/blob/main/ML%26DL/12%EC%9B%94%2019%EC%9D%BC/12%EC%9B%94_19%EC%9D%BC_%EC%8B%A4%EC%8A%B5.ipynb\" target=\"_parent\"><img src=\"https://colab.research.google.com/assets/colab-badge.svg\" alt=\"Open In Colab\"/></a>"
      ]
    },
    {
      "cell_type": "code",
      "execution_count": null,
      "metadata": {
        "id": "vzIobioOmFpp"
      },
      "outputs": [],
      "source": [
        "# 전이학습(Transfer Learning)을 구현해 보아요!\n",
        "# 사용하는 Pretrained Network(Model)은 VGG16을 사용\n",
        "# 데이터는 개, 고양이 이진분류 예제\n",
        "# 이미지의 pixel 데이터 추출 시, ImageDataGenerator 사용 & Augumentation(증식)까지 포함\n",
        "\n",
        "import numpy as np\n",
        "import matplotlib.pyplot as plt\n",
        "\n",
        "from tensorflow.keras.models import Sequential\n",
        "from tensorflow.keras.layers import Flatten, Dense, Dropout\n",
        "from tensorflow.keras.optimizers import Adam, RMSprop\n",
        "from tensorflow.keras.preprocessing.image import ImageDataGenerator\n",
        "from tensorflow.keras.applications import VGG16"
      ]
    },
    {
      "cell_type": "code",
      "source": [
        "# Raw Data Loading => 원래는 이거였음\n",
        "# ImageDataGenerator 이용해서 데이터 전처리\n",
        "\n",
        "train_dir = '/content/drive/MyDrive/AI스쿨 파일/ML/cat_dog_small/train'\n",
        "validation_dir = '/content/drive/MyDrive/AI스쿨 파일/ML/cat_dog_small/validation'\n",
        "\n",
        "# ImageDataGenerator 생성 - 정규화, 증식 처리\n",
        "train_datagen = ImageDataGenerator(rescale=1/255,\n",
        "                                   rotation_range=30,\n",
        "                                   width_shift_range=0.1,\n",
        "                                   height_shift_range=0.1,\n",
        "                                   shear_range=0.2,\n",
        "                                   zoom_range=0.2,\n",
        "                                   horizontal_flip=True,\n",
        "                                  fill_mode='nearest')\n",
        "\n",
        "# validation은 평가용이기 때문에 증식 해당 ㄴㄴ\n",
        "validation_datagen = ImageDataGenerator(rescale=1/255)\n",
        "\n",
        "# 각 ImageDataGenerator 어떻게 동작하는 지 설정\n",
        "train_generator = train_datagen.flow_from_directory(\n",
        "    train_dir,\n",
        "    classes=['cats', 'dogs'],  # label 처리\n",
        "    target_size=(224,224),\n",
        "    batch_size=20,\n",
        "    class_mode='binary'\n",
        ")\n",
        "\n",
        "validation_generator = validation_datagen.flow_from_directory(\n",
        "    validation_dir,\n",
        "    classes=['cats', 'dogs'],  # label 처리\n",
        "    target_size=(224,224),\n",
        "    batch_size=20,\n",
        "    class_mode='binary'\n",
        ")"
      ],
      "metadata": {
        "colab": {
          "base_uri": "https://localhost:8080/"
        },
        "id": "4d3Bsu3CohvY",
        "outputId": "ccc065b7-95f3-47e2-f65a-a3bee9aed7e2"
      },
      "execution_count": null,
      "outputs": [
        {
          "output_type": "stream",
          "name": "stdout",
          "text": [
            "Found 2000 images belonging to 2 classes.\n",
            "Found 1000 images belonging to 2 classes.\n"
          ]
        }
      ]
    },
    {
      "cell_type": "code",
      "source": [
        "# model 생성\n",
        "# CNN 모델 중 Feature Extraction 부분은 VGG16을 이용해 사용(전이 학습)\n",
        "# classifier 부분만 직접 구현\n",
        "\n",
        "# Pretrained Network\n",
        "model_base = VGG16(weights='imagenet',\n",
        "                   include_top=False,  # False -> classifier 포함 X, 데이터가 올라가는 개념이라 뒤쪽이 위쪽!\n",
        "                   input_shape=(224,224,3)) # 이미 설정되어 있는 사이즈 굳이 변경할 필요는 없으므로 224 그대로 진행\n",
        "model_base.trainable = False  # Convolution Layer 동결(trainable params가 0이 되도록)\n",
        "                              # 반드시 해줘야 한다!!!\n",
        "\n",
        "# 이미지 1장이 결국 [7, 7, 512] 형태로 변환\n",
        "# 기본적으로 classifier가 포함 -> 사용할 수 없으니 제거!\n",
        "\n",
        "# Total params: 14714688 (56.13 MB) => 전체 파라미터의 수\n",
        "# Trainable params: 14714688 (56.13 MB) => 학습할때 갱신되는 파라미터 수\n",
        "# => epoch이 진행될 때 자동으로 update되는 파라미터 수\n",
        "# => 학습이 안되도록 처리해야 한다!\n",
        "# Non-trainable params: 0 (0.00 Byte)\n",
        "\n",
        "# classifier 구현\n",
        "model = Sequential()\n",
        "model.add(model_base)  # 우리 모델 앞부분에 pretrained network 삽입\n",
        "\n",
        "model.add(Flatten())\n",
        "\n",
        "# hidden layer\n",
        "model.add(Dense(units=512,\n",
        "                activation='relu'))\n",
        "\n",
        "# Dropout - 앞뒤 어디든 상관 없음 위치는\n",
        "model.add(Dropout(rate=0.5))  # 반을 잘라낸다는 의미\n",
        "                              # overfitting 피하기 위해서(연산 참여 노드 개수 반으로)\n",
        "\n",
        "# output layer\n",
        "model.add(Dense(units=1,\n",
        "                activation='sigmoid'))\n",
        "\n",
        "model.compile(optimizer=Adam(learning_rate=1e-4),\n",
        "              loss='binary_crossentropy',\n",
        "              metrics=['acc'])\n",
        "\n",
        "history = model.fit(train_generator,\n",
        "                    steps_per_epoch=100,\n",
        "                    epochs=30,\n",
        "                    validation_data = validation_generator,\n",
        "                    validation_steps=50,\n",
        "                    verbose=1)"
      ],
      "metadata": {
        "colab": {
          "base_uri": "https://localhost:8080/"
        },
        "id": "9PLqJe30rYRI",
        "outputId": "b8b1c0ef-4dfa-45c3-b510-c58641bda67d"
      },
      "execution_count": null,
      "outputs": [
        {
          "output_type": "stream",
          "name": "stdout",
          "text": [
            "Epoch 1/30\n",
            "100/100 [==============================] - 480s 5s/step - loss: 0.5239 - acc: 0.7505 - val_loss: 0.2630 - val_acc: 0.8930\n",
            "Epoch 2/30\n",
            "100/100 [==============================] - 37s 365ms/step - loss: 0.3572 - acc: 0.8365 - val_loss: 0.2875 - val_acc: 0.8760\n",
            "Epoch 3/30\n",
            "100/100 [==============================] - 37s 372ms/step - loss: 0.3165 - acc: 0.8690 - val_loss: 0.2169 - val_acc: 0.9190\n",
            "Epoch 4/30\n",
            "100/100 [==============================] - 37s 365ms/step - loss: 0.2756 - acc: 0.8845 - val_loss: 0.2287 - val_acc: 0.9110\n",
            "Epoch 5/30\n",
            "100/100 [==============================] - 37s 367ms/step - loss: 0.2624 - acc: 0.8885 - val_loss: 0.1945 - val_acc: 0.9190\n",
            "Epoch 6/30\n",
            "100/100 [==============================] - 37s 367ms/step - loss: 0.2546 - acc: 0.8950 - val_loss: 0.1974 - val_acc: 0.9180\n",
            "Epoch 7/30\n",
            "100/100 [==============================] - 36s 365ms/step - loss: 0.2400 - acc: 0.9045 - val_loss: 0.1932 - val_acc: 0.9200\n",
            "Epoch 8/30\n",
            "100/100 [==============================] - 37s 366ms/step - loss: 0.2537 - acc: 0.8910 - val_loss: 0.2200 - val_acc: 0.9080\n",
            "Epoch 9/30\n",
            "100/100 [==============================] - 37s 367ms/step - loss: 0.2276 - acc: 0.9045 - val_loss: 0.1963 - val_acc: 0.9180\n",
            "Epoch 10/30\n",
            "100/100 [==============================] - 36s 364ms/step - loss: 0.2273 - acc: 0.9045 - val_loss: 0.1985 - val_acc: 0.9140\n",
            "Epoch 11/30\n",
            "100/100 [==============================] - 37s 371ms/step - loss: 0.2100 - acc: 0.9150 - val_loss: 0.1946 - val_acc: 0.9210\n",
            "Epoch 12/30\n",
            "100/100 [==============================] - 36s 364ms/step - loss: 0.2094 - acc: 0.9050 - val_loss: 0.1815 - val_acc: 0.9170\n",
            "Epoch 13/30\n",
            "100/100 [==============================] - 37s 366ms/step - loss: 0.2016 - acc: 0.9175 - val_loss: 0.1778 - val_acc: 0.9310\n",
            "Epoch 14/30\n",
            "100/100 [==============================] - 39s 389ms/step - loss: 0.2229 - acc: 0.9065 - val_loss: 0.1836 - val_acc: 0.9200\n",
            "Epoch 15/30\n",
            "100/100 [==============================] - 36s 365ms/step - loss: 0.2039 - acc: 0.9110 - val_loss: 0.1863 - val_acc: 0.9190\n",
            "Epoch 16/30\n",
            "100/100 [==============================] - 37s 367ms/step - loss: 0.1897 - acc: 0.9230 - val_loss: 0.1859 - val_acc: 0.9240\n",
            "Epoch 17/30\n",
            "100/100 [==============================] - 37s 372ms/step - loss: 0.1817 - acc: 0.9240 - val_loss: 0.2023 - val_acc: 0.9150\n",
            "Epoch 18/30\n",
            "100/100 [==============================] - 36s 364ms/step - loss: 0.1935 - acc: 0.9235 - val_loss: 0.1743 - val_acc: 0.9310\n",
            "Epoch 19/30\n",
            "100/100 [==============================] - 38s 374ms/step - loss: 0.1879 - acc: 0.9245 - val_loss: 0.1742 - val_acc: 0.9270\n",
            "Epoch 20/30\n",
            "100/100 [==============================] - 37s 369ms/step - loss: 0.1902 - acc: 0.9250 - val_loss: 0.1776 - val_acc: 0.9270\n",
            "Epoch 21/30\n",
            "100/100 [==============================] - 37s 373ms/step - loss: 0.1729 - acc: 0.9320 - val_loss: 0.1765 - val_acc: 0.9240\n",
            "Epoch 22/30\n",
            "100/100 [==============================] - 37s 369ms/step - loss: 0.1782 - acc: 0.9265 - val_loss: 0.1733 - val_acc: 0.9260\n",
            "Epoch 23/30\n",
            "100/100 [==============================] - 37s 366ms/step - loss: 0.1696 - acc: 0.9345 - val_loss: 0.1733 - val_acc: 0.9220\n",
            "Epoch 24/30\n",
            "100/100 [==============================] - 38s 376ms/step - loss: 0.1775 - acc: 0.9295 - val_loss: 0.1844 - val_acc: 0.9250\n",
            "Epoch 25/30\n",
            "100/100 [==============================] - 37s 370ms/step - loss: 0.1507 - acc: 0.9375 - val_loss: 0.2001 - val_acc: 0.9160\n",
            "Epoch 26/30\n",
            "100/100 [==============================] - 39s 391ms/step - loss: 0.1641 - acc: 0.9300 - val_loss: 0.1955 - val_acc: 0.9180\n",
            "Epoch 27/30\n",
            "100/100 [==============================] - 37s 371ms/step - loss: 0.1608 - acc: 0.9310 - val_loss: 0.1990 - val_acc: 0.9150\n",
            "Epoch 28/30\n",
            "100/100 [==============================] - 37s 370ms/step - loss: 0.1814 - acc: 0.9260 - val_loss: 0.1811 - val_acc: 0.9220\n",
            "Epoch 29/30\n",
            "100/100 [==============================] - 37s 368ms/step - loss: 0.1540 - acc: 0.9395 - val_loss: 0.2218 - val_acc: 0.9040\n",
            "Epoch 30/30\n",
            "100/100 [==============================] - 37s 366ms/step - loss: 0.1576 - acc: 0.9405 - val_loss: 0.1796 - val_acc: 0.9330\n"
          ]
        }
      ]
    },
    {
      "cell_type": "code",
      "source": [
        "# 학습이 끝난 다음에 시각화해서 overfitting 발생하는지 확인\n",
        "# loss와 val_loss, acc와 val_acc를 비교해서 overfitting의 정도 확인\n",
        "train_loss = history.history['loss']\n",
        "valid_loss = history.history['val_loss']\n",
        "\n",
        "train_acc = history.history['acc']\n",
        "valid_acc = history.history['val_acc']\n",
        "\n",
        "plt.plot(train_loss,\n",
        "         'o',\n",
        "         color='r',\n",
        "         label='training loss')\n",
        "\n",
        "plt.plot(valid_loss,\n",
        "         color='b',\n",
        "         label='validation loss')\n",
        "plt.legend()\n",
        "plt.show()\n",
        "\n",
        "plt.plot(train_acc,\n",
        "         'o',\n",
        "         color='r',\n",
        "         label='training accuracy')\n",
        "\n",
        "plt.plot(valid_acc,\n",
        "         color='b',\n",
        "         label='validation accuracy')\n",
        "plt.legend()\n",
        "plt.show()"
      ],
      "metadata": {
        "colab": {
          "base_uri": "https://localhost:8080/",
          "height": 848
        },
        "id": "mzCRsp6jsJK7",
        "outputId": "f1fa0e9b-5169-4ffd-d381-2229d1959e73"
      },
      "execution_count": null,
      "outputs": [
        {
          "output_type": "display_data",
          "data": {
            "text/plain": [
              "<Figure size 640x480 with 1 Axes>"
            ],
            "image/png": "[encoded data removed]"
          },
          "metadata": {}
        },
        {
          "output_type": "display_data",
          "data": {
            "text/plain": [
              "<Figure size 640x480 with 1 Axes>"
            ],
            "image/png": "[encoded data removed]"
          },
          "metadata": {}
        }
      ]
    },
    {
      "cell_type": "code",
      "source": [
        "# 학습한 모델 일단 파일로 저장\n",
        "model.save('/content/drive/MyDrive/AI스쿨 파일/ML/cat_dog_small/12.19.CNN_model.h5')"
      ],
      "metadata": {
        "colab": {
          "base_uri": "https://localhost:8080/"
        },
        "id": "iIWXNK0c-PKG",
        "outputId": "21487a4b-93e0-48d5-f7bb-5c5b2d6678ef"
      },
      "execution_count": null,
      "outputs": [
        {
          "output_type": "stream",
          "name": "stderr",
          "text": [
            "/usr/local/lib/python3.10/dist-packages/keras/src/engine/training.py:3103: UserWarning: You are saving your model as an HDF5 file via `model.save()`. This file format is considered legacy. We recommend using instead the native Keras format, e.g. `model.save('my_model.keras')`.\n",
            "  saving_api.save_model(\n"
          ]
        }
      ]
    },
    {
      "cell_type": "code",
      "source": [
        "# Fine Tuning\n",
        "# 이미 위쪽에서 학습이 한번 끝났기 때문에 추가적으로\n",
        "# 상위 convolution layer의 동결을 풀고 학습 한번 더 수행!\n",
        "\n",
        "# 파일로 저장되어 있는 model loading\n",
        "from tensorflow.keras.models import load_model\n",
        "model = load_model('/content/drive/MyDrive/AI스쿨 파일/ML/cat_dog_small/12.19.CNN_model.h5')\n",
        "# model.summary()\n",
        "\n",
        "# 여기까지가 한번 Transfer Leraning을 이용해서 학습이 완료된 상태\n",
        "# 일부 layer에 대한 동결을 해제 후 진행\n",
        "model_base = VGG16(weights='imagenet',\n",
        "                   include_top=False,\n",
        "                   input_shape=(224,224,3))\n",
        "\n",
        "model_base.trainable = False\n",
        "\n",
        "for layer in model_base.layers:\n",
        "    if layer.name in ['block5_conv1','block5_conv2','block5_conv3']:\n",
        "        layer.trainable=True\n",
        "    else:\n",
        "        layer.trainale=False\n",
        "\n",
        "# 이렇게 모델을 다시 만들고 학습을 한번 더 진행\n",
        "# fine tuning!(큰 변화는 아니지만 어느정도 모델의 정확도를 올릴 수 있다)\n"
      ],
      "metadata": {
        "colab": {
          "base_uri": "https://localhost:8080/"
        },
        "id": "UZ8BJepQ8Y5R",
        "outputId": "4e2e982d-5c60-4ff7-bb79-bc29d810d41c"
      },
      "execution_count": null,
      "outputs": [
        {
          "output_type": "stream",
          "name": "stdout",
          "text": [
            "Model: \"sequential_3\"\n",
            "_________________________________________________________________\n",
            " Layer (type)                Output Shape              Param #   \n",
            "=================================================================\n",
            " vgg16 (Functional)          (None, 7, 7, 512)         14714688  \n",
            "                                                                 \n",
            " flatten_3 (Flatten)         (None, 25088)             0         \n",
            "                                                                 \n",
            " dense_6 (Dense)             (None, 512)               12845568  \n",
            "                                                                 \n",
            " dropout_3 (Dropout)         (None, 512)               0         \n",
            "                                                                 \n",
            " dense_7 (Dense)             (None, 1)                 513       \n",
            "                                                                 \n",
            "=================================================================\n",
            "Total params: 27560769 (105.14 MB)\n",
            "Trainable params: 12846081 (49.00 MB)\n",
            "Non-trainable params: 14714688 (56.13 MB)\n",
            "_________________________________________________________________\n"
          ]
        }
      ]
    },
    {
      "cell_type": "markdown",
      "source": [
        "# NLP 부분"
      ],
      "metadata": {
        "id": "tr-gzfTnPRgG"
      }
    },
    {
      "cell_type": "code",
      "source": [
        "# IMDB Review Data Set load\n",
        "# tensorflow keras에는 이미 정수로 바꾼 Review 데이터가 포함!\n",
        "# 가장 많이 등장하는 단어 500개만 vocabulary로 사용해서 데이터 적재\n",
        "from tensorflow.keras.datasets import imdb\n",
        "(x_data_train, t_data_train), (x_data_test,t_data_test) = \\\n",
        "imdb.load_data(num_words=500)"
      ],
      "metadata": {
        "colab": {
          "base_uri": "https://localhost:8080/"
        },
        "id": "wUiZI_yNrn3a",
        "outputId": "4a20ee42-09ab-4d72-9c68-74cea911cbca"
      },
      "execution_count": null,
      "outputs": [
        {
          "output_type": "stream",
          "name": "stdout",
          "text": [
            "Downloading data from https://storage.googleapis.com/tensorflow/tf-keras-datasets/imdb.npz\n",
            "17464789/17464789 [==============================] - 1s 0us/step\n"
          ]
        }
      ]
    },
    {
      "cell_type": "code",
      "source": [
        "# 적재 완료 후 데이터가 어떻게 구성되는지 한번 알아보자\n",
        "x_data_train.shape  # (25000,)\n",
        "t_data_train.shape  # (25000,)\n",
        "x_data_test.shape  # (25000,)\n",
        "t_data_test.shape  # (25000,)\n",
        "\n",
        "# train data : 25000개, test data : 25000개\n",
        "# t_data_train 내용 살짝 보면\n",
        "t_data_train[:10]  # [1, 0, 0, 1, 0, 0, 1, 0, 1, 0] 0은 부정 1은 긍정\n",
        "type(x_data_train)\n",
        "type(x_data_train[0])\n",
        "\n",
        "# 첫번째 review의 길이\n",
        "len(x_data_train[0])\n",
        "# 두번째 review의 길이\n",
        "len(x_data_train[1])\n",
        "\n",
        "# padding에 대해 알아보아요\n",
        "# 각 review의 길이에 대해 알아보기\n",
        "import numpy as np\n",
        "import matplotlib.pyplot as plt\n",
        "lengths = np.array([len(x) for x in x_data_train])\n",
        "lengths[:10]\n",
        "\n",
        "np.mean(lengths)\n",
        "np.median(lengths)\n",
        "\n",
        "plt.hist(lengths)\n",
        "plt.show()\n",
        "\n",
        "# 평균, 중위값, 히스토그램을 살펴본 결과\n",
        "# 대부분의 review는 길이가 300 token 미만인걸로 파악\n",
        "# 실제로는 100 token 미만인 경우가 대다수일 것!\n",
        "\n",
        "# 모든 review의 길이를 100으로 통일\n",
        "# 100보다 긴 것은 짤리고\n",
        "# 짧은것은 채워줘야! => 이때 사용하는게 padding\n",
        "# 짜르는 경우 -> 앞쪽을 자른\n",
        "# 채워주는 경우 -> padding을 앞쪽에 붙여야 한다\n",
        "\n",
        "# 이 작업하기 위해 keras가 함수를 제공해 준다!\n",
        "from tensorflow.keras.preprocessing.sequence import pad_sequences\n",
        "x_data_train_seq = pad_sequences(x_data_train, maxlen=100)\n",
        "type(x_data_train_seq)\n",
        "x_data_train_seq.shape  # (25000,100)\n",
        "# 25,000개의 review, 각 review는 100개의 token으로 재단되었"
      ],
      "metadata": {
        "colab": {
          "base_uri": "https://localhost:8080/",
          "height": 448
        },
        "id": "xz9Cdu2ns_5G",
        "outputId": "c0115c74-89d1-4644-ff09-cd850aebb1e0"
      },
      "execution_count": null,
      "outputs": [
        {
          "output_type": "display_data",
          "data": {
            "text/plain": [
              "<Figure size 640x480 with 1 Axes>"
            ],
            "image/png": "[encoded data removed]"
          },
          "metadata": {}
        },
        {
          "output_type": "execute_result",
          "data": {
            "text/plain": [
              "(25000, 100)"
            ]
          },
          "metadata": {},
          "execution_count": 14
        }
      ]
    },
    {
      "cell_type": "code",
      "source": [],
      "metadata": {
        "id": "ON-Nh9H8tROS"
      },
      "execution_count": null,
      "outputs": []
    }
  ]
}