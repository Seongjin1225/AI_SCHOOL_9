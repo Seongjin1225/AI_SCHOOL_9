{
  "nbformat": 4,
  "nbformat_minor": 0,
  "metadata": {
    "colab": {
      "provenance": [],
      "mount_file_id": "1m8Dc4IRDduGT-kiKZ4ld_cHFL8rC0NaM",
      "authorship_tag": "ABX9TyMG21kXL4Fo3qYSUXgats+z",
      "include_colab_link": true
    },
    "kernelspec": {
      "name": "python3",
      "display_name": "Python 3"
    },
    "language_info": {
      "name": "python"
    }
  },
  "cells": [
    {
      "cell_type": "markdown",
      "metadata": {
        "id": "view-in-github",
        "colab_type": "text"
      },
      "source": [
        "<a href=\"https://colab.research.google.com/github/Seongjin1225/AI_SCHOOL_9/blob/main/ML%26DL/12%EC%9B%94%2019%EC%9D%BC/12%EC%9B%94_19%EC%9D%BC_%EB%B3%B5%EC%8A%B5ipynb.ipynb\" target=\"_parent\"><img src=\"https://colab.research.google.com/assets/colab-badge.svg\" alt=\"Open In Colab\"/></a>"
      ]
    },
    {
      "cell_type": "markdown",
      "source": [
        "# GPU 할당 문제로 학습 부분처럼 시간 오래 걸리는 것은 실행 ㄴㄴ"
      ],
      "metadata": {
        "id": "ezk2qw6HH0MT"
      }
    },
    {
      "cell_type": "code",
      "execution_count": null,
      "metadata": {
        "id": "5tG21rSw4nCf"
      },
      "outputs": [],
      "source": [
        "# 전이학습(Transfer Learning) 구현\n",
        "# 사용하는 Pretrained Network(Model)은 VGG16(교육용)\n",
        "# 데이터는 이진분류 데이터(개, 고양이)\n",
        "# 이미지의 pixel 데이터 추출할때는 ImageDataGenerator를 이용\n",
        "# Augmentation(증식)까지 포함해서 구현\n",
        "\n",
        "# 필요 module import\n",
        "import numpy as np\n",
        "from tensorflow.keras.models import Sequential\n",
        "from tensorflow.keras.layers import Flatten, Dense,Dropout\n",
        "from tensorflow.keras.optimizers import Adam, RMSprop\n",
        "from tensorflow.keras.preprocessing.image import ImageDataGenerator\n",
        "from tensorflow.keras.applications import VGG16\n"
      ]
    },
    {
      "cell_type": "code",
      "source": [
        "train_dir = '/content/drive/MyDrive/AI스쿨 파일/ML/cat_dog_small/train'\n",
        "validation_dir = '/content/drive/MyDrive/AI스쿨 파일/ML/cat_dog_small/validation'\n",
        "\n",
        "train_datagen = ImageDataGenerator(rescale=1/255,\n",
        "                                   rotation_range=30,\n",
        "                                   width_shift_range=0.1,\n",
        "                                   height_shift_range=0.1,\n",
        "                                   shear_range=0.2,\n",
        "                                   zoom_range=0.2,\n",
        "                                   horizontal_flip=True,\n",
        "                                   fill_mode='nearest')\n",
        "\n",
        "# validation data는 평가용이므로 증식 X\n",
        "validation_datagen = ImageDataGenerator(rescale=1/255)\n",
        "\n",
        "# ImageDataGenerator 설정\n",
        "train_generator = train_datagen.flow_from_directory(\n",
        "    train_dir,\n",
        "    classes=['cats', 'dogs'],\n",
        "    target_size=(224,224),\n",
        "    batch_size=20,\n",
        "    class_mode='binary'\n",
        ")\n",
        "\n",
        "validation_generator = validation_datagen.flow_from_directory(\n",
        "    validation_dir,\n",
        "    classes=['cats', 'dogs'],\n",
        "    target_size=(224,224),\n",
        "    batch_size=20,\n",
        "    class_mode='binary'\n",
        ")"
      ],
      "metadata": {
        "id": "4996b7v59qun",
        "colab": {
          "base_uri": "https://localhost:8080/"
        },
        "outputId": "ebd9af58-7459-4d2a-b664-d1ec3636e430"
      },
      "execution_count": null,
      "outputs": [
        {
          "output_type": "stream",
          "name": "stdout",
          "text": [
            "Found 2000 images belonging to 2 classes.\n",
            "Found 1000 images belonging to 2 classes.\n"
          ]
        }
      ]
    },
    {
      "cell_type": "code",
      "source": [
        "# Pretrainde Network\n",
        "# include_top = False => feature extractuon 부분만 가져오겠다는 의미\n",
        "#                        data가 쌓이는 형식이므로 아래 부분이 top이 된다!!\n",
        "# input_shape의 경우 위에서 150,150으로 임의 설정했지만\n",
        "# 이미 잘 만들어진 것의 사이즈 굳이 변경할 필요 없으므로 224로 위에 변경\n",
        "\n",
        "model_base = VGG16(weights='imagenet',\n",
        "                   include_top=False,\n",
        "                   input_shape=(224,224,3))\n",
        "model_base.trainable = False  # 매우 중요한 옵션\n",
        "                              # Convolution Layer 동결(trainable params가 0이 되도록)\n",
        "                              # 이 옵션 설정 안할 시, filter가 변경되어 의미가 없어진다\n",
        "# model_base.summary()\n",
        "\n",
        "# classifier 구현\n",
        "model = Sequential()\n",
        "model.add(model_base)\n",
        "\n",
        "model.add(Flatten())\n",
        "\n",
        "model.add(Dense(units=512,\n",
        "                activation='relu'))\n",
        "\n",
        "model.add(Dropout(rate=0.5))  # 연산에 사용되는 노드의 절반만 사용 의미\n",
        "\n",
        "model.add(Dense(units=1,\n",
        "                activation='sigmoid'))\n",
        "\n",
        "model.compile(optimizer=Adam(learning_rate=1e-4),\n",
        "              loss='binary_crossentropy',\n",
        "              metrtics=['acc'])\n",
        "\n",
        "history = model.fit(train_generator,\n",
        "                    steps_per_epoch=100,\n",
        "                    epochs=30,\n",
        "                    validation_data = validation_generator,\n",
        "                    validation_steps=50,\n",
        "                    verbose=1)\n"
      ],
      "metadata": {
        "id": "LP9Oty9E_mo0"
      },
      "execution_count": null,
      "outputs": []
    },
    {
      "cell_type": "code",
      "source": [
        "# 시각화 해서 overfitting 확인\n",
        "import matplotlib.pyplot as plt\n",
        "\n",
        "loss = history.history['loss']\n",
        "val_loss = history.history['val_loss']\n",
        "\n",
        "acc = history.history['acc']\n",
        "val_acc = history.history['val_acc']\n",
        "\n",
        "plt.plot(loss,\n",
        "         'o',\n",
        "         color='r',\n",
        "         label='training loss')\n",
        "plt.plot(val_loss,\n",
        "         color='b',\n",
        "         label='validation loss')\n",
        "plt.legend()\n",
        "plt.show()\n",
        "\n",
        "plt.plot(acc,\n",
        "         'o',\n",
        "         color='r',\n",
        "         label='training acc')\n",
        "plt.plot(val_acc,\n",
        "         color='b',\n",
        "         label='validation acc')\n",
        "plt.legend()\n",
        "plt.show()"
      ],
      "metadata": {
        "id": "Rn7Ne0Z-CgGw"
      },
      "execution_count": null,
      "outputs": []
    },
    {
      "cell_type": "code",
      "source": [
        "# 학습이 끝난 모델을 파일로 저장해놓기(다음에 쉽게 불러 쓰려고)\n",
        "model.save('/content/drive/MyDrive/AI스쿨 파일/ML/cat_dog_small/12.19.CNN_model.h5')"
      ],
      "metadata": {
        "id": "G_jzYqXOIQkL"
      },
      "execution_count": null,
      "outputs": []
    },
    {
      "cell_type": "code",
      "source": [
        "# Fine Tuning\n",
        "# => 모델 학습 끝난 후, 설정을 약간 변형해 재학습 진행\n",
        "# => 상위 convolution layer의 동결을 풀고 다시 학습을 진행!\n",
        "\n",
        "# 저장된 파일 불러오기\n",
        "from tensorflow.keras.models import load_model\n",
        "model = load_model('/content/drive/MyDrive/AI스쿨 파일/ML/cat_dog_small/12.19.CNN_model.h5')\n",
        "# model.summary()\n",
        "\n",
        "# 여기까지가 한번 Transfer Learning을 이용해서 학습이 완료된 상태예요!\n",
        "# 추가적인 작업이 필요한데.. 일부 layer에 대한 동결을 해제해야 해요!\n",
        "model_base = VGG16(weights='imagenet',\n",
        "                   include_top=False,\n",
        "                   input_shape=(224,224,3))\n",
        "model_base.trainable = False\n",
        "\n",
        "for layer in model_base.layers:\n",
        "    if layer.name in ['block5_conv1', 'block5_conv2', 'block5_conv3']:\n",
        "        layer.trainable = True  # 이렇게 하면 해당 layer의 동결이 풀려야 되요!\n",
        "    else:\n",
        "        layer.trainable = False\n",
        "\n",
        "model_base.summary()\n",
        "\n",
        "# 이렇게 모델을 다시 만들고 학습을 한번 더 진행하면 되요!\n",
        "# => fine tuing! (큰 변화는 아니지만 어느정도 모델의 정확도를 올릴 수 있어요!)"
      ],
      "metadata": {
        "colab": {
          "base_uri": "https://localhost:8080/"
        },
        "id": "3HEZtwzXIcCc",
        "outputId": "90edd7b7-1b37-4299-eaa6-6865134cea2b"
      },
      "execution_count": null,
      "outputs": [
        {
          "output_type": "stream",
          "name": "stdout",
          "text": [
            "Model: \"vgg16\"\n",
            "_________________________________________________________________\n",
            " Layer (type)                Output Shape              Param #   \n",
            "=================================================================\n",
            " input_3 (InputLayer)        [(None, 224, 224, 3)]     0         \n",
            "                                                                 \n",
            " block1_conv1 (Conv2D)       (None, 224, 224, 64)      1792      \n",
            "                                                                 \n",
            " block1_conv2 (Conv2D)       (None, 224, 224, 64)      36928     \n",
            "                                                                 \n",
            " block1_pool (MaxPooling2D)  (None, 112, 112, 64)      0         \n",
            "                                                                 \n",
            " block2_conv1 (Conv2D)       (None, 112, 112, 128)     73856     \n",
            "                                                                 \n",
            " block2_conv2 (Conv2D)       (None, 112, 112, 128)     147584    \n",
            "                                                                 \n",
            " block2_pool (MaxPooling2D)  (None, 56, 56, 128)       0         \n",
            "                                                                 \n",
            " block3_conv1 (Conv2D)       (None, 56, 56, 256)       295168    \n",
            "                                                                 \n",
            " block3_conv2 (Conv2D)       (None, 56, 56, 256)       590080    \n",
            "                                                                 \n",
            " block3_conv3 (Conv2D)       (None, 56, 56, 256)       590080    \n",
            "                                                                 \n",
            " block3_pool (MaxPooling2D)  (None, 28, 28, 256)       0         \n",
            "                                                                 \n",
            " block4_conv1 (Conv2D)       (None, 28, 28, 512)       1180160   \n",
            "                                                                 \n",
            " block4_conv2 (Conv2D)       (None, 28, 28, 512)       2359808   \n",
            "                                                                 \n",
            " block4_conv3 (Conv2D)       (None, 28, 28, 512)       2359808   \n",
            "                                                                 \n",
            " block4_pool (MaxPooling2D)  (None, 14, 14, 512)       0         \n",
            "                                                                 \n",
            " block5_conv1 (Conv2D)       (None, 14, 14, 512)       2359808   \n",
            "                                                                 \n",
            " block5_conv2 (Conv2D)       (None, 14, 14, 512)       2359808   \n",
            "                                                                 \n",
            " block5_conv3 (Conv2D)       (None, 14, 14, 512)       2359808   \n",
            "                                                                 \n",
            " block5_pool (MaxPooling2D)  (None, 7, 7, 512)         0         \n",
            "                                                                 \n",
            "=================================================================\n",
            "Total params: 14714688 (56.13 MB)\n",
            "Trainable params: 0 (0.00 Byte)\n",
            "Non-trainable params: 14714688 (56.13 MB)\n",
            "_________________________________________________________________\n"
          ]
        }
      ]
    },
    {
      "cell_type": "markdown",
      "source": [
        "# NLP 부분"
      ],
      "metadata": {
        "id": "jVT4rzHOJGjd"
      }
    },
    {
      "cell_type": "code",
      "source": [
        "# IMDB Review Data Set을 Loading\n",
        "# tensorflow keras에는 이미 정수로 변환된 Review 데이터 존재\n",
        "# 가장 많이 사용하는 단어 500개만 vocabulary로 적재해서 사용\n",
        "from tensorflow.keras.datasets import imdb\n",
        "(x_data_train, t_data_train), (x_data_test, t_data_test) = \\\n",
        "imdb.load_data(num_words=500)"
      ],
      "metadata": {
        "id": "RzJrczHvONlQ",
        "colab": {
          "base_uri": "https://localhost:8080/"
        },
        "outputId": "f7cca936-9776-4dff-d5f9-fe791de1ee9c"
      },
      "execution_count": null,
      "outputs": [
        {
          "output_type": "stream",
          "name": "stdout",
          "text": [
            "Downloading data from https://storage.googleapis.com/tensorflow/tf-keras-datasets/imdb.npz\n",
            "17464789/17464789 [==============================] - 0s 0us/step\n"
          ]
        }
      ]
    },
    {
      "cell_type": "code",
      "source": [
        "#적재가 완료 되었으니 데이터의 구성을 알아보자\n",
        "\n",
        "x_data_train.shape\n",
        "t_data_train.shape\n",
        "x_data_test.shape\n",
        "t_data_test.shape\n",
        "# 확인해보면 4개 모두 (25000,)의 형태 가짐\n",
        "\n",
        "# train, test data 각각 25000개씩 존재\n",
        "t_data_train[:10]  # 0,1 둘중에 하나로 나옴! -> 0은 부정 1은 긍정 의미\n",
        "x_data_train[0]\n",
        "type(x_data_train) # numpy array\n",
        "type(x_data_train[0])  # list\n",
        "\n",
        "# 첫번째 review의 길이(첫번째 Review는 몇개의 단어로 구성되어 있나요?)\n",
        "len(x_data_train[0])  # 218\n",
        "# 두번째 review의 길이(두번째 Review는 몇개의 단어로 구성되어 있나요?)\n",
        "len(x_data_train[1])  # 189\n",
        "\n",
        "# padding에 대해서 살짝 알아보아요!\n",
        "# 각 리뷰의 길이 알아보기\n",
        "import numpy as np\n",
        "import matplotlib.pyplot as plt\n",
        "\n",
        "lengths = np.array([len(x) for x in x_data_train])\n",
        "lengths[:10]\n",
        "\n",
        "# 모든 review 길이의 평균, 중간값\n",
        "np.mean(lengths)\n",
        "np.median(lengths)\n",
        "\n",
        "# 시각화\n",
        "plt.hist(lengths)\n",
        "plt.show()\n",
        "\n",
        "# 평균, 중앙값, 그래프로 본 결과\n",
        "# 대부분의 review의 길이는 300이하인것으로 예상\n",
        "# 실제로는 100 token 미만인 경우가 대다수일 것!\n",
        "\n",
        "# 모든 review의 길이를 100으로\n",
        "# 길이가 100 이상인 경우 --> 앞부분 잘라내기\n",
        "# 길이가 100 이하인 경우 --> padding 사용!(앞에 붙여줌)\n",
        "from tensorflow.keras.preprocessing.sequence import pad_sequences\n",
        "x_data_train_seq = pad_sequences(x_data_train, maxlen=100)\n",
        "type(x_data_train_seq)\n",
        "x_data_train_seq.shape"
      ],
      "metadata": {
        "colab": {
          "base_uri": "https://localhost:8080/",
          "height": 448
        },
        "id": "9ISjACSGDcAX",
        "outputId": "7188aa69-2385-427c-befa-c9934584b235"
      },
      "execution_count": null,
      "outputs": [
        {
          "output_type": "display_data",
          "data": {
            "text/plain": [
              "<Figure size 640x480 with 1 Axes>"
            ],
            "image/png": "[encoded data removed]"
          },
          "metadata": {}
        },
        {
          "output_type": "execute_result",
          "data": {
            "text/plain": [
              "(25000, 100)"
            ]
          },
          "metadata": {},
          "execution_count": 20
        }
      ]
    },
    {
      "cell_type": "code",
      "source": [],
      "metadata": {
        "id": "vSr4Gw2sDxjS"
      },
      "execution_count": null,
      "outputs": []
    }
  ]
}