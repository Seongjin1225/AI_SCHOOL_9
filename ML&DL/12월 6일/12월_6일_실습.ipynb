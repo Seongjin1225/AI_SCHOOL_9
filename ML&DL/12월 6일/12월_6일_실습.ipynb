{
  "nbformat": 4,
  "nbformat_minor": 0,
  "metadata": {
    "colab": {
      "provenance": [],
      "mount_file_id": "1W6zAopJE9fz604qlSEXl876FimxIfYus",
      "authorship_tag": "ABX9TyOP8EaiNwH0kC3rS94wkFsq",
      "include_colab_link": true
    },
    "kernelspec": {
      "name": "python3",
      "display_name": "Python 3"
    },
    "language_info": {
      "name": "python"
    }
  },
  "cells": [
    {
      "cell_type": "markdown",
      "metadata": {
        "id": "view-in-github",
        "colab_type": "text"
      },
      "source": [
        "<a href=\"https://colab.research.google.com/github/Seongjin1225/AI_SCHOOL_9/blob/main/ML%26DL/12%EC%9B%94%206%EC%9D%BC/12%EC%9B%94_6%EC%9D%BC_%EC%8B%A4%EC%8A%B5.ipynb\" target=\"_parent\"><img src=\"https://colab.research.google.com/assets/colab-badge.svg\" alt=\"Open In Colab\"/></a>"
      ]
    },
    {
      "cell_type": "markdown",
      "source": [
        "# Logistic Regression 구현\n",
        "- 이번에는 binary가 아닌 multi\n",
        "- 즉, t의 값이 여러개(클래스가 여러개인 경우)\n",
        "- ex) 학점"
      ],
      "metadata": {
        "id": "7yxXl7RNxpH2"
      }
    },
    {
      "cell_type": "code",
      "source": [
        "# BMI 데이터를 이용하여 Multinomial Classification을 구현해 보아요!\n",
        "# sklearn과 tensorflow를 사용하여 구현할 거에요!\n",
        "# 메모리에 있는 데이터 초기화 시키는 코드\n",
        "# 모델 평가하는 방법 중 1개(정확도 사용)\n",
        "%reset\n",
        "\n",
        "# 필요한 module import\n",
        "import numpy as np\n",
        "import pandas as pd\n",
        "import matplotlib.pyplot as plt\n",
        "\n",
        "from scipy import stats\n",
        "\n",
        "from sklearn import linear_model\n",
        "from sklearn.preprocessing import MinMaxScaler\n",
        "from sklearn.metrics import accuracy_score\n",
        "from sklearn.model_selection import train_test_split"
      ],
      "metadata": {
        "colab": {
          "base_uri": "https://localhost:8080/"
        },
        "id": "B8CnNPGqx_Jg",
        "outputId": "b1421353-4ded-4caa-a586-1591b12d4542"
      },
      "execution_count": null,
      "outputs": [
        {
          "name": "stdout",
          "output_type": "stream",
          "text": [
            "Once deleted, variables cannot be recovered. Proceed (y/[n])? y\n"
          ]
        }
      ]
    },
    {
      "cell_type": "code",
      "source": [
        "# Raw Data Loading\n",
        "# 그냥 read_csv로 읽으면 오류 발생! -> 데이터셋 살펴보면 위에 3줄이 주석이기 때문!\n",
        "df = pd.read_csv('/content/drive/MyDrive/AI스쿨 파일/ML/bmi.csv',skiprows=3)\n",
        "df.shape\n",
        "\n",
        "# 결측치 확인 및 처리\n",
        "df.isnull().sum()  # 결측치는 없어요!\n",
        "\n",
        "# 이상치 확인!\n",
        "# 독립,종속 변수 둘다 처리!\n",
        "zscore = 1.8\n",
        "df.loc[np.abs(stats.zscore(df['height'])) > zscore]  # height의 이상치 처리\n",
        "df.loc[np.abs(stats.zscore(df['weight'])) > zscore]  # weight의 이상치 처리\n",
        "df.loc[np.abs(stats.zscore(df['label'])) > zscore]  # label의 이상치 처리\n",
        "\n",
        "x_data = df[['height','weight']].values  # 2차원\n",
        "t_data = df['label'].values  # 1차원\n",
        "\n",
        "# 정규화 진행!\n",
        "scaler = MinMaxScaler()\n",
        "scaler.fit(x_data)\n",
        "x_data_norm = scaler.transform(x_data)\n",
        "\n",
        "# 데이터 분할\n",
        "# stratify -> 데이터 내부 비율 맞춰서 분할(class가 a,b,c 있으면 이 비율 맞춰서 분할)\n",
        "x_data_train_norm, x_data_test_norm, t_data_train, t_data_test = \\\n",
        "train_test_split(x_data_norm, t_data,\n",
        "                 stratify=t_data,\n",
        "                 test_size=0.3,\n",
        "                 random_state=0)"
      ],
      "metadata": {
        "id": "pjBn-IE35ITY"
      },
      "execution_count": null,
      "outputs": []
    },
    {
      "cell_type": "code",
      "source": [
        "# sklearn으로 모델 학습하고 평가를 진행!\n",
        "sklearn_model = linear_model.LogisticRegression()\n",
        "\n",
        "sklearn_model.fit(x_data_train_norm,\n",
        "                  t_data_train)\n",
        "\n",
        "predict_value = sklearn_model.predict(x_data_test_norm)\n",
        "\n",
        "# 평가는 accuracy로 평가할 거에요!\n",
        "result = accuracy_score(t_data_test, predict_value)  # (정답, 예측값)의 순서로 넣어줘야함(1차원 배열)\n",
        "result\n",
        "\n",
        "# prediction을 예측해보아요!\n",
        "height = 187\n",
        "weight = 80\n",
        "my_state = np.array([[height,weight]])\n",
        "my_result = sklearn_model.predict(scaler.transform(my_state))\n",
        "my_result"
      ],
      "metadata": {
        "colab": {
          "base_uri": "https://localhost:8080/"
        },
        "id": "Nn2iRGBX5YlP",
        "outputId": "a6cac443-a903-42a0-8c21-1b0d019d8dac"
      },
      "execution_count": null,
      "outputs": [
        {
          "output_type": "execute_result",
          "data": {
            "text/plain": [
              "array([1])"
            ]
          },
          "metadata": {},
          "execution_count": 6
        }
      ]
    },
    {
      "cell_type": "code",
      "source": [
        "from tensorflow.keras.models import Sequential\n",
        "from tensorflow.keras.layers import Flatten, Dense\n",
        "from tensorflow.keras.optimizers import Adam\n",
        "\n",
        "# 데이터는 위에서 불러오고, 전처리까지 끝났어요!\n",
        "\n",
        "x_data_train_norm\n",
        "\n",
        "keras_model = Sequential()\n",
        "\n",
        "keras_model.add(Flatten(input_shape=(2,)))\n",
        "keras_model.add(Dense(units=3,\n",
        "                      activation='softmax'))\n",
        "# sigmoid 사용하면 A,B,C에 대해 각각 얼마의 확률일지 계산\n",
        "# softmax는 A일 확률, B일 확률, C일 확률 계산 --> pdf 그림 참조\n",
        "\n",
        "keras_model.compile(optimizer=Adam(learning_rate=1e-2),\n",
        "                    loss = 'sparse_categorical_crossentropy',   # sparse -> keras에게 알아서 원핫인코딩 처리해서 계산하라는 의미\n",
        "                    metrics=['acc'])                            # sparse 없으면 내가 직접 원핫인코딩 해야함!\n",
        "\n",
        "keras_model.fit(x_data_train_norm,\n",
        "                t_data_train,\n",
        "                epochs=200,\n",
        "                verbose=1,\n",
        "                validation_split=0.2)  # validation data를 현재 training data에서 조금 분리해 매 epoch마다 학습 및 검사 같이 진행\n",
        "\n",
        "\n"
      ],
      "metadata": {
        "id": "zSOxzn20_tP0"
      },
      "execution_count": null,
      "outputs": []
    },
    {
      "cell_type": "code",
      "source": [
        "# Evaluation(평가)을 해야 해요!\n",
        "# test data 사용\n",
        "model_eval = keras_model.evaluate(x_data_test_norm,\n",
        "                                  t_data_test)\n",
        "model_eval\n",
        "\n",
        "\n",
        "# prediction을 예측해보아요!\n",
        "height = 187\n",
        "weight = 80\n",
        "my_state = np.array([[height,weight]])\n",
        "my_result = keras_model.predict(scaler.transform(my_state))\n",
        "my_result"
      ],
      "metadata": {
        "colab": {
          "base_uri": "https://localhost:8080/"
        },
        "id": "LQ0e-RhNWPr6",
        "outputId": "3a3ec29a-de3f-4b9b-9886-5e6439220f4f"
      },
      "execution_count": null,
      "outputs": [
        {
          "output_type": "stream",
          "name": "stdout",
          "text": [
            "188/188 [==============================] - 0s 2ms/step - loss: 0.0568 - acc: 0.9853\n",
            "1/1 [==============================] - 0s 114ms/step\n"
          ]
        },
        {
          "output_type": "execute_result",
          "data": {
            "text/plain": [
              "array([[2.3397159e-07, 9.9183792e-01, 8.1619006e-03]], dtype=float32)"
            ]
          },
          "metadata": {},
          "execution_count": 5
        }
      ]
    },
    {
      "cell_type": "code",
      "source": [
        "# 다른 예제를 구현해보아요!(iris - 붓꽃예제, MNIST - 손글씨 숫자 예제)\n",
        "# 대표적인 예제들(MNIST -> 비전 쪽 대표 예제이므로 잘 배우자!)\n",
        "# 지금까지 evaluation 할 때, accuracy만 사용했어요\n",
        "# 그런데 사실 precision,recall,f1과 같은 평가지도 많이 사용되요!\n",
        "# 이런 평가지표를 한방에 계산해주는 함수(library)가 있어요\n",
        "# 예제를 통해 알아보아요!\n",
        "\n",
        "from sklearn.metrics import classification_report\n",
        "t_true = [0,1,2,2,2]\n",
        "t_pred = [0,0,2,2,1]\n",
        "\n",
        "label_names = ['thin','normal','fat']\n",
        "print(classification_report(t_true, t_pred, target_names=label_names))  # (정답, 예측값)의 형태로 넣어줘야\n",
        "# support는 대상의 개수"
      ],
      "metadata": {
        "colab": {
          "base_uri": "https://localhost:8080/"
        },
        "id": "_4Yk3wIyYTUV",
        "outputId": "aebfbc7c-4af2-4d14-913a-e4064f00797a"
      },
      "execution_count": null,
      "outputs": [
        {
          "output_type": "stream",
          "name": "stdout",
          "text": [
            "              precision    recall  f1-score   support\n",
            "\n",
            "        thin       0.50      1.00      0.67         1\n",
            "      normal       0.00      0.00      0.00         1\n",
            "         fat       1.00      0.67      0.80         3\n",
            "\n",
            "    accuracy                           0.60         5\n",
            "   macro avg       0.50      0.56      0.49         5\n",
            "weighted avg       0.70      0.60      0.61         5\n",
            "\n"
          ]
        }
      ]
    },
    {
      "cell_type": "code",
      "source": [
        "# Multinomial Classification(다중분류)\n",
        "# 첫번재 예제는 BMI 예제\n",
        "\n",
        "# 두번째 예제는 iris(붓꽃) 품종구별하는 예제!\n",
        "# 붓꽃은 3가지 종이 있어요!\n",
        "# setosa, versicolor, verginica\n",
        "# 붓꽃의 꽃받침과 꽃잎의 길이와 너비에 따라 품종이 결정!\n",
        "\n",
        "# 데이터는 총 150개의 데이터가 있어요!\n",
        "# 꽃받침(sepal), 꽃잎(petal)\n",
        "\n",
        "import numpy as np\n",
        "import pandas as pd\n",
        "\n",
        "from sklearn import linear_model\n",
        "from sklearn.datasets import load_iris\n",
        "from sklearn.preprocessing import MinMaxScaler\n",
        "from sklearn.model_selection import train_test_split\n",
        "\n",
        "iris = load_iris()\n",
        "iris.data # x_data -> 꽃받침의 길이, 너비 & 꽃잎의 길이, 너비\n",
        "iris.feature_names\n",
        "\n",
        "df = pd.DataFrame(iris.data,\n",
        "                  columns=iris.feature_names)\n",
        "df.columns=['sepal_length','sepal_width','petal_length','petal_width']\n",
        "df\n",
        "\n",
        "# 결측치 존재하는 지 확인\n",
        "df.isnull().sum()\n",
        "\n",
        "# 종속변수 추가\n",
        "df['target'] = iris.target\n",
        "\n",
        "# 중복행이 있을 수 있어요! 중복 데이터가 있을 수 있어요!\n",
        "# 중복된 데이터가 있다고 해서 무조건 제거 금지!!\n",
        "df.duplicated().sum()  # 중복행 존재하면 숫자로 알려줌\n",
        "df=df.drop_duplicates()\n",
        "df\n",
        "\n",
        "# 데이터 정의\n",
        "x_data = df.drop('target',axis=1,inplace=False).values\n",
        "t_data = df['target']\n",
        "\n",
        "# 이상치 체크도 해야해요! 원래는 해야해요!\n",
        "# 정규화 처리를 해야해요!\n",
        "scaler = MinMaxScaler()\n",
        "scaler.fit(x_data)\n",
        "x_data_norm = scaler.transform(x_data)\n",
        "\n",
        "# 학습, 평가용 데이터 분리\n",
        "x_data_train_norm, x_data_test_norm, t_data_train, t_data_test = \\\n",
        "train_test_split(x_data_norm, t_data,\n",
        "                 test_size=0.3,\n",
        "                 stratify=t_data,\n",
        "                 random_state=1)"
      ],
      "metadata": {
        "id": "8fNLaQjRb62c"
      },
      "execution_count": null,
      "outputs": []
    },
    {
      "cell_type": "code",
      "source": [
        "# 데이터셋이 준비되었으면 우리 Tensorflow Keras를 이용해서\n",
        "# Multinomial Classification을 구현하고\n",
        "# 모델 평가까지 진행해보아요!\n",
        "# 정확도까지 출력\n",
        "from tensorflow.keras.models import Sequential\n",
        "from tensorflow.keras.layers import Flatten, Dense\n",
        "from tensorflow.keras.optimizers import Adam\n",
        "\n",
        "\n",
        "keras_model = Sequential()\n",
        "\n",
        "keras_model.add(Flatten(input_shape=(4,)))\n",
        "keras_model.add(Dense(units=3,\n",
        "                      activation='softmax'))\n",
        "\n",
        "keras_model.compile(optimizer=Adam(learning_rate=1e-1),\n",
        "                    loss='sparse_categorical_crossentropy',\n",
        "                    metrics=['acc'])\n",
        "\n",
        "# history 객체에 각 epoch당 발생되는 loss, acc, val_loss, val_acc를 저장\n",
        "history = keras_model.fit(x_data_train_norm,\n",
        "                t_data_train,\n",
        "                epochs=500,\n",
        "                verbose=1,\n",
        "                validation_split=0.2)\n",
        "\n",
        "# loss: 0.0842 - acc: 0.9518 - val_loss: 0.0285 - val_acc: 1.0000\n"
      ],
      "metadata": {
        "id": "O11LcKMwjWTN"
      },
      "execution_count": null,
      "outputs": []
    },
    {
      "cell_type": "code",
      "source": [
        "# 모델 평가(evaluation)\n",
        "keras_model.evaluate(x_data_test_norm,\n",
        "                     t_data_test)\n",
        "\n",
        "# 0.06262040138244629, 0.9777777791023254"
      ],
      "metadata": {
        "colab": {
          "base_uri": "https://localhost:8080/"
        },
        "id": "ssDZ0UDNq0ir",
        "outputId": "ab9692e7-811e-4965-9a84-ec45c84def07"
      },
      "execution_count": null,
      "outputs": [
        {
          "output_type": "stream",
          "name": "stdout",
          "text": [
            "2/2 [==============================] - 0s 11ms/step - loss: 0.0626 - acc: 0.9778\n"
          ]
        },
        {
          "output_type": "execute_result",
          "data": {
            "text/plain": [
              "[0.06262040138244629, 0.9777777791023254]"
            ]
          },
          "metadata": {},
          "execution_count": 48
        }
      ]
    },
    {
      "cell_type": "code",
      "source": [
        "# 시각화를 해보아요!\n",
        "# 우리 모델이 overfitting이 발생하는지 그래프로 확인!\n",
        "# history 객체가 가지고 있는 history 속성은 학습할 때 나온 데이터를 가지고 있어요\n",
        "# dict로 가지고 있어요!\n",
        "\n",
        "history.history.keys()\n",
        "\n",
        "plt.plot(history.history['loss'],color='r')\n",
        "plt.plot(history.history['val_loss'],color='b')\n",
        "plt.show()"
      ],
      "metadata": {
        "colab": {
          "base_uri": "https://localhost:8080/",
          "height": 430
        },
        "id": "zxW5r5afyF_O",
        "outputId": "17e2595e-ed8a-4126-fc2a-e9406d5854ad"
      },
      "execution_count": null,
      "outputs": [
        {
          "output_type": "display_data",
          "data": {
            "text/plain": [
              "<Figure size 640x480 with 1 Axes>"
            ],
            "image/png": "[encoded data removed]"
          },
          "metadata": {}
        }
      ]
    },
    {
      "cell_type": "code",
      "source": [],
      "metadata": {
        "id": "yOJtd-r8y4sQ"
      },
      "execution_count": null,
      "outputs": []
    }
  ]
}