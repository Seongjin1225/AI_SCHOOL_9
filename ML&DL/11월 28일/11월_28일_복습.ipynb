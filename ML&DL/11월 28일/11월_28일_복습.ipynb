{
  "nbformat": 4,
  "nbformat_minor": 0,
  "metadata": {
    "colab": {
      "provenance": [],
      "authorship_tag": "ABX9TyMxwBsKYAtlZx76qD32WPlq",
      "include_colab_link": true
    },
    "kernelspec": {
      "name": "python3",
      "display_name": "Python 3"
    },
    "language_info": {
      "name": "python"
    }
  },
  "cells": [
    {
      "cell_type": "markdown",
      "metadata": {
        "id": "view-in-github",
        "colab_type": "text"
      },
      "source": [
        "<a href=\"https://colab.research.google.com/github/Seongjin1225/AI_SCHOOL_9/blob/main/ML%26DL/11%EC%9B%94%2028%EC%9D%BC/11%EC%9B%94_28%EC%9D%BC_%EB%B3%B5%EC%8A%B5.ipynb\" target=\"_parent\"><img src=\"https://colab.research.google.com/assets/colab-badge.svg\" alt=\"Open In Colab\"/></a>"
      ]
    },
    {
      "cell_type": "markdown",
      "source": [
        "# 미분의 프로그램적 구현"
      ],
      "metadata": {
        "id": "zywBfQnm9R2l"
      }
    },
    {
      "cell_type": "code",
      "source": [
        "# 일변수 함수의 수치미분 코드 구현\n",
        "# 입력으로 함수를 받아서 미분을 수행하는 함수를 하나 구현해 보아요!\n",
        "# 우리 파이썬은 일급함수를 지원\n",
        "# 함수의 인자로 다른 함수를 받을 수 있다.\n",
        "def numeric_derivative(f,x):\n",
        "\n",
        "    # 입력인자 f는 미분하려는 함수\n",
        "    # 입력인자 x는 미분값을 알려고하는 입력값\n",
        "\n",
        "    delta_x = 1e-4\n",
        "\n",
        "    # 중앙차분을 이용한 미분을 코드로 표현해보아요\n",
        "    result = (f(x+delta_x) - f(x-delta_x)) / (2*delta_x)\n",
        "    return result\n",
        "\n",
        "# 정상적으로 값을 계산하는지 확인!\n",
        "def my_func(x):\n",
        "    return x ** 2\n",
        "\n",
        "# 함수 f(x) = x ** 2의 미분계수 f'(5)를 구해보아요\n",
        "result = numeric_derivative(my_func,5)\n",
        "print(result)"
      ],
      "metadata": {
        "colab": {
          "base_uri": "https://localhost:8080/"
        },
        "id": "QPRc-QSJLUYX",
        "outputId": "3683092b-f1fd-4516-ea30-20cb108a7a14"
      },
      "execution_count": null,
      "outputs": [
        {
          "output_type": "stream",
          "name": "stdout",
          "text": [
            "9.999999999976694\n"
          ]
        }
      ]
    },
    {
      "cell_type": "code",
      "source": [
        "# 다변수 함수의 수치미분 코드를 만들어보아요!\n",
        "import numpy as np\n",
        "\n",
        "def numeric_derivative(f,x):\n",
        "\n",
        "    # f : 미분하려는 함수\n",
        "    # x : 모든 변수를 포함하는 ndarray\n",
        "\n",
        "    delta_x = 1e-4\n",
        "    derivative_x = np.zeros_like(x)  # zeros_like -> 어떤 특정 array와 같은 사이즈, 크기의 zeros array 구함\n",
        "\n",
        "    it = np.nditer(x, flags=['multi_index'])\n",
        "    while not it.finished:\n",
        "        idx = it.multi_index  # 현재의 index를 추출 => tuple형태로 리턴.\n",
        "\n",
        "        tmp = x[idx]    # 현재 index의 값을 일단 잠시 보존해야해요!\n",
        "                        # 밑에서 이 값을 변경해서 중앙차분 값을 계산해야 해요!\n",
        "                        # 그런데 우리 편미분해야해요. 다음 변수 편미분할때\n",
        "                        # 원래값으로 복원해야 편미분이 정상적으로 진행되기 때문에\n",
        "                        # 이값을 잠시 보관했다가 원상태로 복구해야 해요!\n",
        "\n",
        "        x[idx] = tmp + delta_x\n",
        "        fx_plus_delta_x = f(x)  # f(x + delta_x)\n",
        "\n",
        "        x[idx] = tmp - delta_x\n",
        "        fx_minus_delta_x = f(x) # f(x - delta_x)\n",
        "\n",
        "        derivative_x[idx] = (fx_plus_delta_x - fx_minus_delta_x) / (2 * delta_x)\n",
        "\n",
        "        x[idx] = tmp\n",
        "\n",
        "        it.iternext()\n",
        "\n",
        "    return derivative_x\n",
        "\n",
        "def my_func(x):\n",
        "    return x ** 2\n",
        "\n",
        "# f'(3.0)을 구해보아요!\n",
        "result = numeric_derivative(my_func, np.array([3.0]))\n",
        "result"
      ],
      "metadata": {
        "colab": {
          "base_uri": "https://localhost:8080/"
        },
        "id": "BjXzBzlhNANY",
        "outputId": "75faad48-8213-4de0-a047-bf01b10f6d6a"
      },
      "execution_count": null,
      "outputs": [
        {
          "output_type": "execute_result",
          "data": {
            "text/plain": [
              "array([6.])"
            ]
          },
          "metadata": {},
          "execution_count": 2
        }
      ]
    },
    {
      "cell_type": "code",
      "source": [
        "# 2변수 함수를 다시 만들어보아요\n",
        "def my_func(input_data):\n",
        "    x = input_data[0]\n",
        "    y = input_data[1]\n",
        "\n",
        "    return 2*x + 3*x*y + np.power(y,3)  # np.power(m,n) --> m의 n 제곱 해주는 함수\n",
        "\n",
        "result = numeric_derivative(my_func, np.array([1.0, 2.0]))\n",
        "result"
      ],
      "metadata": {
        "colab": {
          "base_uri": "https://localhost:8080/"
        },
        "id": "1erssQ0jOeIw",
        "outputId": "73e4104c-5973-44df-90a9-e2dec91c0054"
      },
      "execution_count": null,
      "outputs": [
        {
          "output_type": "execute_result",
          "data": {
            "text/plain": [
              "array([ 8.        , 15.00000001])"
            ]
          },
          "metadata": {},
          "execution_count": 3
        }
      ]
    },
    {
      "cell_type": "code",
      "source": [
        "# 4변수 함수에 대해 수치미분 해보기\n",
        "# f(w,x,y,z) = wx + xyz + 3w + zy^2\n",
        "# f'(1.0, 2.0, 3.0, 4.0)의 값은?\n",
        "\n",
        "def my_func(input_data):\n",
        "    w = input_data[0,0]\n",
        "    x = input_data[0,1]\n",
        "    y = input_data[1,0]\n",
        "    z = input_data[1,1]\n",
        "    return w*x + x*y*z + 3*w + z*np.power(y,2)\n",
        "\n",
        "data = np.array([[1.0, 2.0],\n",
        "                 [3.0, 4.0]])\n",
        "result = numeric_derivative(my_func, data)\n",
        "result"
      ],
      "metadata": {
        "colab": {
          "base_uri": "https://localhost:8080/"
        },
        "id": "BUfJVetyPaHR",
        "outputId": "109e75b0-7752-429c-a2aa-79313e1a3d0b"
      },
      "execution_count": null,
      "outputs": [
        {
          "output_type": "execute_result",
          "data": {
            "text/plain": [
              "array([[ 5., 13.],\n",
              "       [32., 15.]])"
            ]
          },
          "metadata": {},
          "execution_count": 5
        }
      ]
    },
    {
      "cell_type": "code",
      "source": [],
      "metadata": {
        "id": "Ew3s--gvPzeT"
      },
      "execution_count": null,
      "outputs": []
    }
  ]
}