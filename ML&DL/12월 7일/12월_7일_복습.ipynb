{
  "nbformat": 4,
  "nbformat_minor": 0,
  "metadata": {
    "colab": {
      "provenance": [],
      "gpuType": "T4",
      "mount_file_id": "1gRvIluKz3Xv0eojWVI8oNc5bh7FBDJOy",
      "authorship_tag": "ABX9TyPimNbpBtn2nzvxVM2Lcbc4",
      "include_colab_link": true
    },
    "kernelspec": {
      "name": "python3",
      "display_name": "Python 3"
    },
    "language_info": {
      "name": "python"
    },
    "accelerator": "GPU"
  },
  "cells": [
    {
      "cell_type": "markdown",
      "metadata": {
        "id": "view-in-github",
        "colab_type": "text"
      },
      "source": [
        "<a href=\"https://colab.research.google.com/github/Seongjin1225/AI_SCHOOL_9/blob/main/ML%26DL/12%EC%9B%94%207%EC%9D%BC/12%EC%9B%94_7%EC%9D%BC_%EB%B3%B5%EC%8A%B5.ipynb\" target=\"_parent\"><img src=\"https://colab.research.google.com/assets/colab-badge.svg\" alt=\"Open In Colab\"/></a>"
      ]
    },
    {
      "cell_type": "markdown",
      "source": [
        "# Multinomial Classification\n",
        "- MNIST 데이터 사용(비정형)\n"
      ],
      "metadata": {
        "id": "U_eFm6TEGEXv"
      }
    },
    {
      "cell_type": "code",
      "source": [
        "# 이미지의 경우 결측치,이상치 제거 필요 없다\n",
        "# why?? 픽셀 정보를 뽑아낸 것이기 때문에\n",
        "# 결측치나 이상치가 있는 경우는 그림이 생성이 안되기 때문!\n",
        "\n",
        "# 이제부턴 Tensorflow로 구현을 해볼거에요!\n",
        "# 필요 라이브러리 호출\n",
        "import numpy as np\n",
        "import pandas as pd\n",
        "import matplotlib.pyplot as plt\n",
        "\n",
        "from tensorflow.keras.models import Sequential\n",
        "from tensorflow.keras.layers import Flatten, Dense\n",
        "from tensorflow.keras.optimizers import Adam\n",
        "\n",
        "from sklearn.preprocessing import MinMaxScaler\n",
        "from sklearn.model_selection import train_test_split\n",
        "from sklearn.metrics import classification_report"
      ],
      "metadata": {
        "id": "TeA7BxHeGxuG"
      },
      "execution_count": null,
      "outputs": []
    },
    {
      "cell_type": "code",
      "source": [
        "# Raw Data Load\n",
        "df = pd.read_csv('/content/drive/MyDrive/AI스쿨 파일/ML/MNIST/train.csv')\n",
        "df.shape\n",
        "\n",
        "# 확인해보니... 784개의 pixel정보가 있어요! label이 target(종속변수예요!)\n",
        "# 독립변수(feature)는 당연히 784개예요!\n",
        "\n",
        "# 결측치나 이상치는 없어요! (잘 정제되서 제공된 데이터이기때문이예요!)\n",
        "# 하지만 현업데이터를 처리할때는 반드시 체크해야 해요!\n",
        "\n",
        "# 정규화 하기 전에 일단 이 이미지가 어떤 이미지인지 눈으로 한번 확인하고\n",
        "# 넘어가요!\n",
        "# img_data = df.drop('label',axis=1,inplace=False).values\n",
        "# img_data\n",
        "\n",
        "# # 10장의 그림을 확인!\n",
        "# # 2행 5열로 출력할 예정\n",
        "fig = plt.figure()\n",
        "fig_arr = []  # subplot 저장할 배열\n",
        "\n",
        "for n in range(10):\n",
        "    fig_arr.append(fig.add_subplot(2,5,n+1))\n",
        "    fig_arr[n].imshow(img_data[n].reshape(28,28),  #imshow() - 그림 그리라는 의미\n",
        "                                                   # interpolation - 그림 고정하기 위한 옵션?\n",
        "                      cmap='gray',\n",
        "                      interpolation='nearest')\n",
        "plt.tight_layout()\n",
        "plt.show()\n",
        "\n",
        "# feature engineering 할 게 없어요!\n",
        "x_data = df.drop('label',axis=1,inplace=False).values\n",
        "t_data = df['label'].values\n",
        "\n",
        "# 결측치, 이상치 제거를 안하더라도,\n",
        "# 정규화는 반드시 진행해줘야 한다!!\n",
        "scaler = MinMaxScaler()\n",
        "scaler.fit(x_data)\n",
        "x_data_norm = scaler.transform(x_data)\n",
        "\n",
        "# train, test 데이터 분리\n",
        "x_data_train_norm, x_data_test_norm, t_data_train, t_data_test = \\\n",
        "train_test_split(x_data_norm,\n",
        "                 t_data,\n",
        "                 stratify=t_data,\n",
        "                 test_size=0.3,\n",
        "                 random_state=1)"
      ],
      "metadata": {
        "id": "J8QwaEbYI17T"
      },
      "execution_count": null,
      "outputs": []
    },
    {
      "cell_type": "code",
      "source": [
        "# Tensorflow 구현!\n",
        "keras_model = Sequential()\n",
        "\n",
        "keras_model.add(Flatten(input_shape=(784,)))\n",
        "keras_model.add(Dense(units=10,\n",
        "                      activation='softmax'))\n",
        "\n",
        "keras_model.compile(optimizer=Adam(learning_rate=1e-4),\n",
        "                    loss='sparse_categorical_crossentropy',\n",
        "                    metrics=['acc'])\n",
        "\n",
        "keras_model.summary()"
      ],
      "metadata": {
        "colab": {
          "base_uri": "https://localhost:8080/"
        },
        "id": "FO6FmxQoJNjF",
        "outputId": "ee80e6c7-f22c-4fcf-e91c-c66605d3b965"
      },
      "execution_count": null,
      "outputs": [
        {
          "output_type": "stream",
          "name": "stdout",
          "text": [
            "Model: \"sequential_1\"\n",
            "_________________________________________________________________\n",
            " Layer (type)                Output Shape              Param #   \n",
            "=================================================================\n",
            " flatten_1 (Flatten)         (None, 784)               0         \n",
            "                                                                 \n",
            " dense_1 (Dense)             (None, 10)                7850      \n",
            "                                                                 \n",
            "=================================================================\n",
            "Total params: 7850 (30.66 KB)\n",
            "Trainable params: 7850 (30.66 KB)\n",
            "Non-trainable params: 0 (0.00 Byte)\n",
            "_________________________________________________________________\n"
          ]
        }
      ]
    },
    {
      "cell_type": "code",
      "source": [
        "# 학습을 해봅시다!\n",
        "# batch_size = n --> n개씩 나눠서 진행하라는 의미(데이터의 크기가 큰 경우 주로 해당)\n",
        "history = keras_model.fit(x_data_train_norm,\n",
        "                t_data_train,\n",
        "                epochs=100,\n",
        "                verbose=1,\n",
        "                validation_split=0.2,\n",
        "                batch_size=100)"
      ],
      "metadata": {
        "colab": {
          "base_uri": "https://localhost:8080/"
        },
        "id": "VBwTXswwXOEz",
        "outputId": "e532fc26-9135-480c-83e8-59ec29782fc0"
      },
      "execution_count": null,
      "outputs": [
        {
          "output_type": "stream",
          "name": "stdout",
          "text": [
            "Epoch 1/100\n",
            "236/236 [==============================] - 1s 3ms/step - loss: 0.2270 - acc: 0.9374 - val_loss: 0.2767 - val_acc: 0.9243\n",
            "Epoch 2/100\n",
            "236/236 [==============================] - 1s 3ms/step - loss: 0.2268 - acc: 0.9367 - val_loss: 0.2766 - val_acc: 0.9247\n",
            "Epoch 3/100\n",
            "236/236 [==============================] - 1s 3ms/step - loss: 0.2266 - acc: 0.9367 - val_loss: 0.2765 - val_acc: 0.9248\n",
            "Epoch 4/100\n",
            "236/236 [==============================] - 1s 4ms/step - loss: 0.2264 - acc: 0.9373 - val_loss: 0.2768 - val_acc: 0.9243\n",
            "Epoch 5/100\n",
            "236/236 [==============================] - 1s 5ms/step - loss: 0.2262 - acc: 0.9374 - val_loss: 0.2766 - val_acc: 0.9247\n",
            "Epoch 6/100\n",
            "236/236 [==============================] - 1s 4ms/step - loss: 0.2261 - acc: 0.9373 - val_loss: 0.2766 - val_acc: 0.9243\n",
            "Epoch 7/100\n",
            "236/236 [==============================] - 1s 4ms/step - loss: 0.2259 - acc: 0.9373 - val_loss: 0.2766 - val_acc: 0.9247\n",
            "Epoch 8/100\n",
            "236/236 [==============================] - 1s 4ms/step - loss: 0.2257 - acc: 0.9372 - val_loss: 0.2765 - val_acc: 0.9248\n",
            "Epoch 9/100\n",
            "236/236 [==============================] - 1s 5ms/step - loss: 0.2257 - acc: 0.9372 - val_loss: 0.2766 - val_acc: 0.9248\n",
            "Epoch 10/100\n",
            "236/236 [==============================] - 1s 3ms/step - loss: 0.2254 - acc: 0.9374 - val_loss: 0.2767 - val_acc: 0.9247\n",
            "Epoch 11/100\n",
            "236/236 [==============================] - 1s 3ms/step - loss: 0.2252 - acc: 0.9372 - val_loss: 0.2767 - val_acc: 0.9241\n",
            "Epoch 12/100\n",
            "236/236 [==============================] - 1s 3ms/step - loss: 0.2251 - acc: 0.9375 - val_loss: 0.2765 - val_acc: 0.9248\n",
            "Epoch 13/100\n",
            "236/236 [==============================] - 1s 3ms/step - loss: 0.2249 - acc: 0.9376 - val_loss: 0.2766 - val_acc: 0.9241\n",
            "Epoch 14/100\n",
            "236/236 [==============================] - 1s 3ms/step - loss: 0.2248 - acc: 0.9373 - val_loss: 0.2764 - val_acc: 0.9245\n",
            "Epoch 15/100\n",
            "236/236 [==============================] - 1s 3ms/step - loss: 0.2246 - acc: 0.9378 - val_loss: 0.2764 - val_acc: 0.9250\n",
            "Epoch 16/100\n",
            "236/236 [==============================] - 1s 3ms/step - loss: 0.2244 - acc: 0.9380 - val_loss: 0.2765 - val_acc: 0.9245\n",
            "Epoch 17/100\n",
            "236/236 [==============================] - 1s 3ms/step - loss: 0.2243 - acc: 0.9376 - val_loss: 0.2764 - val_acc: 0.9247\n",
            "Epoch 18/100\n",
            "236/236 [==============================] - 1s 3ms/step - loss: 0.2241 - acc: 0.9377 - val_loss: 0.2764 - val_acc: 0.9252\n",
            "Epoch 19/100\n",
            "236/236 [==============================] - 1s 3ms/step - loss: 0.2240 - acc: 0.9376 - val_loss: 0.2765 - val_acc: 0.9250\n",
            "Epoch 20/100\n",
            "236/236 [==============================] - 1s 3ms/step - loss: 0.2238 - acc: 0.9381 - val_loss: 0.2763 - val_acc: 0.9250\n",
            "Epoch 21/100\n",
            "236/236 [==============================] - 1s 3ms/step - loss: 0.2236 - acc: 0.9378 - val_loss: 0.2765 - val_acc: 0.9248\n",
            "Epoch 22/100\n",
            "236/236 [==============================] - 1s 3ms/step - loss: 0.2235 - acc: 0.9378 - val_loss: 0.2762 - val_acc: 0.9250\n",
            "Epoch 23/100\n",
            "236/236 [==============================] - 1s 3ms/step - loss: 0.2234 - acc: 0.9384 - val_loss: 0.2765 - val_acc: 0.9250\n",
            "Epoch 24/100\n",
            "236/236 [==============================] - 1s 4ms/step - loss: 0.2232 - acc: 0.9378 - val_loss: 0.2763 - val_acc: 0.9255\n",
            "Epoch 25/100\n",
            "236/236 [==============================] - 1s 4ms/step - loss: 0.2231 - acc: 0.9376 - val_loss: 0.2765 - val_acc: 0.9250\n",
            "Epoch 26/100\n",
            "236/236 [==============================] - 1s 4ms/step - loss: 0.2229 - acc: 0.9384 - val_loss: 0.2765 - val_acc: 0.9248\n",
            "Epoch 27/100\n",
            "236/236 [==============================] - 1s 4ms/step - loss: 0.2228 - acc: 0.9380 - val_loss: 0.2763 - val_acc: 0.9252\n",
            "Epoch 28/100\n",
            "236/236 [==============================] - 1s 4ms/step - loss: 0.2226 - acc: 0.9380 - val_loss: 0.2762 - val_acc: 0.9255\n",
            "Epoch 29/100\n",
            "236/236 [==============================] - 1s 3ms/step - loss: 0.2224 - acc: 0.9384 - val_loss: 0.2762 - val_acc: 0.9253\n",
            "Epoch 30/100\n",
            "236/236 [==============================] - 1s 3ms/step - loss: 0.2223 - acc: 0.9383 - val_loss: 0.2762 - val_acc: 0.9255\n",
            "Epoch 31/100\n",
            "236/236 [==============================] - 1s 4ms/step - loss: 0.2221 - acc: 0.9382 - val_loss: 0.2762 - val_acc: 0.9257\n",
            "Epoch 32/100\n",
            "236/236 [==============================] - 1s 3ms/step - loss: 0.2219 - acc: 0.9384 - val_loss: 0.2762 - val_acc: 0.9257\n",
            "Epoch 33/100\n",
            "236/236 [==============================] - 1s 3ms/step - loss: 0.2219 - acc: 0.9385 - val_loss: 0.2763 - val_acc: 0.9253\n",
            "Epoch 34/100\n",
            "236/236 [==============================] - 1s 3ms/step - loss: 0.2217 - acc: 0.9387 - val_loss: 0.2765 - val_acc: 0.9243\n",
            "Epoch 35/100\n",
            "236/236 [==============================] - 1s 3ms/step - loss: 0.2216 - acc: 0.9384 - val_loss: 0.2763 - val_acc: 0.9255\n",
            "Epoch 36/100\n",
            "236/236 [==============================] - 1s 6ms/step - loss: 0.2214 - acc: 0.9385 - val_loss: 0.2763 - val_acc: 0.9257\n",
            "Epoch 37/100\n",
            "236/236 [==============================] - 1s 4ms/step - loss: 0.2213 - acc: 0.9384 - val_loss: 0.2762 - val_acc: 0.9259\n",
            "Epoch 38/100\n",
            "236/236 [==============================] - 1s 3ms/step - loss: 0.2211 - acc: 0.9385 - val_loss: 0.2763 - val_acc: 0.9264\n",
            "Epoch 39/100\n",
            "236/236 [==============================] - 1s 3ms/step - loss: 0.2210 - acc: 0.9386 - val_loss: 0.2761 - val_acc: 0.9257\n",
            "Epoch 40/100\n",
            "236/236 [==============================] - 1s 3ms/step - loss: 0.2208 - acc: 0.9384 - val_loss: 0.2762 - val_acc: 0.9253\n",
            "Epoch 41/100\n",
            "236/236 [==============================] - 1s 4ms/step - loss: 0.2207 - acc: 0.9388 - val_loss: 0.2763 - val_acc: 0.9250\n",
            "Epoch 42/100\n",
            "236/236 [==============================] - 1s 5ms/step - loss: 0.2206 - acc: 0.9388 - val_loss: 0.2762 - val_acc: 0.9253\n",
            "Epoch 43/100\n",
            "236/236 [==============================] - 1s 4ms/step - loss: 0.2204 - acc: 0.9384 - val_loss: 0.2762 - val_acc: 0.9250\n",
            "Epoch 44/100\n",
            "236/236 [==============================] - 1s 4ms/step - loss: 0.2203 - acc: 0.9389 - val_loss: 0.2762 - val_acc: 0.9250\n",
            "Epoch 45/100\n",
            "236/236 [==============================] - 1s 4ms/step - loss: 0.2201 - acc: 0.9393 - val_loss: 0.2761 - val_acc: 0.9259\n",
            "Epoch 46/100\n",
            "236/236 [==============================] - 1s 4ms/step - loss: 0.2200 - acc: 0.9391 - val_loss: 0.2760 - val_acc: 0.9259\n",
            "Epoch 47/100\n",
            "236/236 [==============================] - 1s 3ms/step - loss: 0.2199 - acc: 0.9389 - val_loss: 0.2762 - val_acc: 0.9262\n",
            "Epoch 48/100\n",
            "236/236 [==============================] - 1s 3ms/step - loss: 0.2197 - acc: 0.9389 - val_loss: 0.2761 - val_acc: 0.9262\n",
            "Epoch 49/100\n",
            "236/236 [==============================] - 1s 3ms/step - loss: 0.2196 - acc: 0.9391 - val_loss: 0.2762 - val_acc: 0.9253\n",
            "Epoch 50/100\n",
            "236/236 [==============================] - 1s 3ms/step - loss: 0.2195 - acc: 0.9389 - val_loss: 0.2761 - val_acc: 0.9262\n",
            "Epoch 51/100\n",
            "236/236 [==============================] - 1s 3ms/step - loss: 0.2193 - acc: 0.9397 - val_loss: 0.2765 - val_acc: 0.9248\n",
            "Epoch 52/100\n",
            "236/236 [==============================] - 1s 3ms/step - loss: 0.2192 - acc: 0.9389 - val_loss: 0.2762 - val_acc: 0.9260\n",
            "Epoch 53/100\n",
            "236/236 [==============================] - 1s 3ms/step - loss: 0.2190 - acc: 0.9394 - val_loss: 0.2764 - val_acc: 0.9262\n",
            "Epoch 54/100\n",
            "236/236 [==============================] - 1s 3ms/step - loss: 0.2189 - acc: 0.9389 - val_loss: 0.2763 - val_acc: 0.9247\n",
            "Epoch 55/100\n",
            "236/236 [==============================] - 1s 3ms/step - loss: 0.2188 - acc: 0.9393 - val_loss: 0.2762 - val_acc: 0.9243\n",
            "Epoch 56/100\n",
            "236/236 [==============================] - 1s 3ms/step - loss: 0.2187 - acc: 0.9394 - val_loss: 0.2762 - val_acc: 0.9245\n",
            "Epoch 57/100\n",
            "236/236 [==============================] - 1s 3ms/step - loss: 0.2185 - acc: 0.9392 - val_loss: 0.2763 - val_acc: 0.9260\n",
            "Epoch 58/100\n",
            "236/236 [==============================] - 1s 3ms/step - loss: 0.2184 - acc: 0.9391 - val_loss: 0.2761 - val_acc: 0.9259\n",
            "Epoch 59/100\n",
            "236/236 [==============================] - 1s 4ms/step - loss: 0.2182 - acc: 0.9396 - val_loss: 0.2761 - val_acc: 0.9267\n",
            "Epoch 60/100\n",
            "236/236 [==============================] - 1s 4ms/step - loss: 0.2181 - acc: 0.9395 - val_loss: 0.2761 - val_acc: 0.9259\n",
            "Epoch 61/100\n",
            "236/236 [==============================] - 1s 4ms/step - loss: 0.2181 - acc: 0.9396 - val_loss: 0.2761 - val_acc: 0.9260\n",
            "Epoch 62/100\n",
            "236/236 [==============================] - 1s 4ms/step - loss: 0.2179 - acc: 0.9395 - val_loss: 0.2762 - val_acc: 0.9255\n",
            "Epoch 63/100\n",
            "236/236 [==============================] - 1s 5ms/step - loss: 0.2178 - acc: 0.9397 - val_loss: 0.2763 - val_acc: 0.9259\n",
            "Epoch 64/100\n",
            "236/236 [==============================] - 1s 4ms/step - loss: 0.2177 - acc: 0.9401 - val_loss: 0.2764 - val_acc: 0.9255\n",
            "Epoch 65/100\n",
            "236/236 [==============================] - 2s 7ms/step - loss: 0.2175 - acc: 0.9395 - val_loss: 0.2762 - val_acc: 0.9255\n",
            "Epoch 66/100\n",
            "236/236 [==============================] - 1s 6ms/step - loss: 0.2174 - acc: 0.9401 - val_loss: 0.2763 - val_acc: 0.9255\n",
            "Epoch 67/100\n",
            "236/236 [==============================] - 1s 5ms/step - loss: 0.2173 - acc: 0.9398 - val_loss: 0.2761 - val_acc: 0.9259\n",
            "Epoch 68/100\n",
            "236/236 [==============================] - 1s 3ms/step - loss: 0.2172 - acc: 0.9396 - val_loss: 0.2763 - val_acc: 0.9259\n",
            "Epoch 69/100\n",
            "236/236 [==============================] - 1s 3ms/step - loss: 0.2170 - acc: 0.9401 - val_loss: 0.2765 - val_acc: 0.9252\n",
            "Epoch 70/100\n",
            "236/236 [==============================] - 1s 3ms/step - loss: 0.2169 - acc: 0.9400 - val_loss: 0.2762 - val_acc: 0.9267\n",
            "Epoch 71/100\n",
            "236/236 [==============================] - 1s 4ms/step - loss: 0.2167 - acc: 0.9403 - val_loss: 0.2764 - val_acc: 0.9255\n",
            "Epoch 72/100\n",
            "236/236 [==============================] - 1s 3ms/step - loss: 0.2167 - acc: 0.9403 - val_loss: 0.2762 - val_acc: 0.9257\n",
            "Epoch 73/100\n",
            "236/236 [==============================] - 1s 3ms/step - loss: 0.2166 - acc: 0.9401 - val_loss: 0.2763 - val_acc: 0.9250\n",
            "Epoch 74/100\n",
            "236/236 [==============================] - 1s 3ms/step - loss: 0.2164 - acc: 0.9401 - val_loss: 0.2761 - val_acc: 0.9252\n",
            "Epoch 75/100\n",
            "236/236 [==============================] - 1s 4ms/step - loss: 0.2163 - acc: 0.9402 - val_loss: 0.2763 - val_acc: 0.9260\n",
            "Epoch 76/100\n",
            "236/236 [==============================] - 1s 4ms/step - loss: 0.2161 - acc: 0.9401 - val_loss: 0.2765 - val_acc: 0.9253\n",
            "Epoch 77/100\n",
            "236/236 [==============================] - 1s 4ms/step - loss: 0.2160 - acc: 0.9402 - val_loss: 0.2763 - val_acc: 0.9264\n",
            "Epoch 78/100\n",
            "236/236 [==============================] - 1s 5ms/step - loss: 0.2159 - acc: 0.9404 - val_loss: 0.2762 - val_acc: 0.9257\n",
            "Epoch 79/100\n",
            "236/236 [==============================] - 1s 4ms/step - loss: 0.2158 - acc: 0.9401 - val_loss: 0.2762 - val_acc: 0.9253\n",
            "Epoch 80/100\n",
            "236/236 [==============================] - 1s 4ms/step - loss: 0.2157 - acc: 0.9405 - val_loss: 0.2763 - val_acc: 0.9259\n",
            "Epoch 81/100\n",
            "236/236 [==============================] - 1s 3ms/step - loss: 0.2155 - acc: 0.9400 - val_loss: 0.2763 - val_acc: 0.9252\n",
            "Epoch 82/100\n",
            "236/236 [==============================] - 1s 4ms/step - loss: 0.2155 - acc: 0.9406 - val_loss: 0.2760 - val_acc: 0.9262\n",
            "Epoch 83/100\n",
            "236/236 [==============================] - 1s 3ms/step - loss: 0.2153 - acc: 0.9403 - val_loss: 0.2762 - val_acc: 0.9253\n",
            "Epoch 84/100\n",
            "236/236 [==============================] - 1s 3ms/step - loss: 0.2152 - acc: 0.9406 - val_loss: 0.2764 - val_acc: 0.9252\n",
            "Epoch 85/100\n",
            "236/236 [==============================] - 1s 3ms/step - loss: 0.2151 - acc: 0.9406 - val_loss: 0.2763 - val_acc: 0.9248\n",
            "Epoch 86/100\n",
            "236/236 [==============================] - 1s 3ms/step - loss: 0.2150 - acc: 0.9409 - val_loss: 0.2762 - val_acc: 0.9253\n",
            "Epoch 87/100\n",
            "236/236 [==============================] - 1s 3ms/step - loss: 0.2149 - acc: 0.9404 - val_loss: 0.2762 - val_acc: 0.9253\n",
            "Epoch 88/100\n",
            "236/236 [==============================] - 1s 4ms/step - loss: 0.2147 - acc: 0.9407 - val_loss: 0.2763 - val_acc: 0.9253\n",
            "Epoch 89/100\n",
            "236/236 [==============================] - 1s 4ms/step - loss: 0.2146 - acc: 0.9406 - val_loss: 0.2765 - val_acc: 0.9250\n",
            "Epoch 90/100\n",
            "236/236 [==============================] - 1s 3ms/step - loss: 0.2145 - acc: 0.9405 - val_loss: 0.2763 - val_acc: 0.9257\n",
            "Epoch 91/100\n",
            "236/236 [==============================] - 1s 3ms/step - loss: 0.2145 - acc: 0.9410 - val_loss: 0.2763 - val_acc: 0.9253\n",
            "Epoch 92/100\n",
            "236/236 [==============================] - 1s 3ms/step - loss: 0.2143 - acc: 0.9410 - val_loss: 0.2763 - val_acc: 0.9255\n",
            "Epoch 93/100\n",
            "236/236 [==============================] - 1s 5ms/step - loss: 0.2141 - acc: 0.9410 - val_loss: 0.2765 - val_acc: 0.9252\n",
            "Epoch 94/100\n",
            "236/236 [==============================] - 1s 5ms/step - loss: 0.2141 - acc: 0.9407 - val_loss: 0.2764 - val_acc: 0.9253\n",
            "Epoch 95/100\n",
            "236/236 [==============================] - 1s 5ms/step - loss: 0.2139 - acc: 0.9411 - val_loss: 0.2764 - val_acc: 0.9253\n",
            "Epoch 96/100\n",
            "236/236 [==============================] - 1s 5ms/step - loss: 0.2138 - acc: 0.9409 - val_loss: 0.2765 - val_acc: 0.9252\n",
            "Epoch 97/100\n",
            "236/236 [==============================] - 1s 5ms/step - loss: 0.2138 - acc: 0.9409 - val_loss: 0.2765 - val_acc: 0.9252\n",
            "Epoch 98/100\n",
            "236/236 [==============================] - 1s 4ms/step - loss: 0.2136 - acc: 0.9412 - val_loss: 0.2764 - val_acc: 0.9259\n",
            "Epoch 99/100\n",
            "236/236 [==============================] - 1s 3ms/step - loss: 0.2135 - acc: 0.9411 - val_loss: 0.2766 - val_acc: 0.9253\n",
            "Epoch 100/100\n",
            "236/236 [==============================] - 1s 3ms/step - loss: 0.2134 - acc: 0.9409 - val_loss: 0.2764 - val_acc: 0.9255\n"
          ]
        }
      ]
    },
    {
      "cell_type": "code",
      "source": [
        "# 학습이 잘 되었으니 평가를 진행\n",
        "keras_model.evaluate(x_data_test_norm, t_data_test)\n",
        "# [0.29088765382766724, 0.9188095331192017]\n",
        "\n",
        "# 결과 report(accuracy, recall, precision, f1)값을 구해보아요!\n",
        "# classification_report()를 이용하는데.. 주의해야 할 점은 one-hot 으로 표현하지\n",
        "# 않아요. 1차원으로 표현해요(label값을 이용한 1차원 값으로 사용)\n",
        "# 확률값을 label값으로 변환해야 해요!\n",
        "\n",
        "import tensorflow as tf\n",
        "predict_value = tf.argmax(keras_model.predict(x_data_test_norm),axis=1).numpy()\n",
        "print(classification_report(t_data_test,predict_value))"
      ],
      "metadata": {
        "colab": {
          "base_uri": "https://localhost:8080/"
        },
        "id": "ul_OaXhmXhZ6",
        "outputId": "160aac33-15b9-4740-fd7e-4bd92cac1714"
      },
      "execution_count": null,
      "outputs": [
        {
          "output_type": "stream",
          "name": "stdout",
          "text": [
            "394/394 [==============================] - 1s 2ms/step - loss: 0.2817 - acc: 0.9211\n",
            "394/394 [==============================] - 1s 1ms/step\n",
            "              precision    recall  f1-score   support\n",
            "\n",
            "           0       0.96      0.97      0.97      1240\n",
            "           1       0.96      0.97      0.96      1405\n",
            "           2       0.92      0.90      0.91      1253\n",
            "           3       0.90      0.89      0.89      1305\n",
            "           4       0.93      0.94      0.93      1222\n",
            "           5       0.89      0.86      0.88      1139\n",
            "           6       0.94      0.96      0.95      1241\n",
            "           7       0.93      0.92      0.93      1320\n",
            "           8       0.89      0.89      0.89      1219\n",
            "           9       0.88      0.90      0.89      1256\n",
            "\n",
            "    accuracy                           0.92     12600\n",
            "   macro avg       0.92      0.92      0.92     12600\n",
            "weighted avg       0.92      0.92      0.92     12600\n",
            "\n"
          ]
        }
      ]
    },
    {
      "cell_type": "code",
      "source": [
        "# 그래프를 그려보아요!\n",
        "loss = history.history['loss']\n",
        "val_loss = history.history['val_loss']\n",
        "acc = history.history['acc']\n",
        "val_acc = history.history['val_acc']\n",
        "\n",
        "fig = plt.figure()\n",
        "ax1 = fig.add_subplot(1,2,1)\n",
        "ax2 = fig.add_subplot(1,2,2)\n",
        "\n",
        "ax1.plot(loss,color='r')\n",
        "ax1.plot(val_loss, color='b')\n",
        "\n",
        "ax2.plot(acc,color='r')\n",
        "ax2.plot(val_acc,color='b')\n",
        "\n",
        "plt.tight_layout()\n",
        "plt.show()"
      ],
      "metadata": {
        "colab": {
          "base_uri": "https://localhost:8080/",
          "height": 487
        },
        "id": "LxWhGCqkYuCW",
        "outputId": "fee16efd-415b-4585-db3b-68f7e3f45cc8"
      },
      "execution_count": null,
      "outputs": [
        {
          "output_type": "display_data",
          "data": {
            "text/plain": [
              "<Figure size 640x480 with 2 Axes>"
            ],
            "image/png": "[encoded data removed]"
          },
          "metadata": {}
        }
      ]
    },
    {
      "cell_type": "code",
      "source": [
        "# 제출파일 작성해서 Kaggle에 제출해보기\n",
        "# 이부분은 확인 필요!\n",
        "test = pd.read_csv('/content/drive/MyDrive/AI스쿨 파일/ML/MNIST/test.csv')\n",
        "submission = pd.read_csv('/content/drive/MyDrive/AI스쿨 파일/ML/MNIST/sample_submission.csv')\n",
        "\n",
        "test_data_norm = scaler.transform(test.values)\n",
        "predict= keras_model.predict(test_data_norm)\n",
        "predict\n",
        "\n",
        "submission['Label'] = np.argmax(predict,axis=1)\n",
        "submission\n",
        "\n",
        "submission.to_csv('./subm.csv',index=False)"
      ],
      "metadata": {
        "colab": {
          "base_uri": "https://localhost:8080/"
        },
        "id": "0mXFNt3FamRw",
        "outputId": "0dd01b97-7468-441e-d4b9-506e8d1ead09"
      },
      "execution_count": null,
      "outputs": [
        {
          "output_type": "stream",
          "name": "stdout",
          "text": [
            "875/875 [==============================] - 1s 1ms/step\n"
          ]
        }
      ]
    },
    {
      "cell_type": "code",
      "source": [
        "# 이번에는 Fashion-MNIST 데이터를 가지고\n",
        "# 학습과 평가를 진행해 보아요!\n",
        "\n",
        "# 필요 모듈 호출\n",
        "import numpy as np\n",
        "import pandas as pd\n",
        "import matplotlib.pyplot as plt\n",
        "\n",
        "from scipy import stats\n",
        "from tensorflow.keras.models import Sequential\n",
        "from tensorflow.keras.layers import Flatten, Dense\n",
        "from tensorflow.keras.optimizers import Adam\n",
        "\n",
        "from sklearn.preprocessing import MinMaxScaler\n",
        "from sklearn.metrics import classification_report\n",
        "from sklearn.model_selection import train_test_split"
      ],
      "metadata": {
        "id": "uCC_Cbfubl9j"
      },
      "execution_count": null,
      "outputs": []
    },
    {
      "cell_type": "code",
      "source": [
        "# Raw Data Loading\n",
        "df = pd.read_csv('/content/drive/MyDrive/AI스쿨 파일/ML/F_MNIST/fashion-mnist_train.csv')\n",
        "df\n",
        "\n",
        "# 당연히 이미지 이므로 결측치, 이상치 처리 필요 없음!\n",
        "# 실무에서는 전부 확인해야 한다!\n",
        "\n",
        "# 10개 이미지를 출력해보자\n",
        "# img_data = df.drop('label',axis=1,inplace=False).values\n",
        "\n",
        "# fig = plt.figure()\n",
        "# fig_arr = []\n",
        "\n",
        "# for n in range(10):\n",
        "#     fig_arr.append(fig.add_subplot(2,5,n+1))\n",
        "#     fig_arr[n].imshow(img_data[n].reshape(28,28),\n",
        "#                       cmap='gray',\n",
        "#                       interpolation='nearest')\n",
        "# plt.tight_layout()\n",
        "# plt.show()\n",
        "\n",
        "x_data = df.drop('label',axis=1,inplace=False).values\n",
        "t_data = df['label'].values\n",
        "\n",
        "# 정규화 진행\n",
        "scaler = MinMaxScaler()\n",
        "scaler.fit(x_data)\n",
        "x_data_norm = scaler.transform(x_data)\n",
        "\n",
        "# 데이터 분리\n",
        "x_data_train_norm, x_data_test_norm, t_data_train, t_data_test = \\\n",
        "train_test_split(x_data_norm,\n",
        "                 t_data,\n",
        "                 stratify=t_data,\n",
        "                 test_size=0.3,\n",
        "                 random_state=1)"
      ],
      "metadata": {
        "id": "0LycrQ4_Ds9u"
      },
      "execution_count": null,
      "outputs": []
    },
    {
      "cell_type": "code",
      "source": [
        "# Tensorflow 구현\n",
        "keras_model = Sequential()\n",
        "\n",
        "keras_model.add(Flatten(input_shape=(784,)))\n",
        "keras_model.add(Dense(units=10,\n",
        "                      activation='softmax'))\n",
        "\n",
        "keras_model.compile(optimizer=Adam(learning_rate=1e-4),\n",
        "                    loss='sparse_categorical_crossentropy',\n",
        "                    metrics=['acc'])\n",
        "\n",
        "keras_model.fit(x_data_train_norm,\n",
        "                t_data_train,\n",
        "                epochs=100,\n",
        "                verbose=1,\n",
        "                validation_split=0.2,\n",
        "                batch_size=100)\n",
        "\n",
        "keras_model.evaluate(x_data_test_norm,t_data_test)\n",
        "# [0.43715688586235046, 0.8523333072662354]"
      ],
      "metadata": {
        "id": "zSXuKh0dELnH"
      },
      "execution_count": null,
      "outputs": []
    },
    {
      "cell_type": "code",
      "source": [
        "# 결과 값을 구해보자\n",
        "# classification_report 사용하는데, one-hot이 아닌 1차원으로 표현!\n",
        "import tensorflow as tf\n",
        "predict_label = tf.argmax(keras_model.predict(x_data_test_norm),axis=1).numpy()\n",
        "print(classification_report(t_data_test,predict_label))"
      ],
      "metadata": {
        "colab": {
          "base_uri": "https://localhost:8080/"
        },
        "id": "QKqj-nOxJZff",
        "outputId": "33b4c73c-91f0-47d6-aa06-9a52b7a7cfc0"
      },
      "execution_count": null,
      "outputs": [
        {
          "output_type": "stream",
          "name": "stdout",
          "text": [
            "563/563 [==============================] - 1s 2ms/step\n",
            "              precision    recall  f1-score   support\n",
            "\n",
            "           0       0.80      0.84      0.82      1800\n",
            "           1       0.97      0.95      0.96      1800\n",
            "           2       0.73      0.75      0.74      1800\n",
            "           3       0.86      0.86      0.86      1800\n",
            "           4       0.74      0.78      0.76      1800\n",
            "           5       0.95      0.92      0.94      1800\n",
            "           6       0.66      0.58      0.62      1800\n",
            "           7       0.91      0.94      0.93      1800\n",
            "           8       0.94      0.94      0.94      1800\n",
            "           9       0.94      0.95      0.95      1800\n",
            "\n",
            "    accuracy                           0.85     18000\n",
            "   macro avg       0.85      0.85      0.85     18000\n",
            "weighted avg       0.85      0.85      0.85     18000\n",
            "\n"
          ]
        }
      ]
    },
    {
      "cell_type": "code",
      "source": [
        "# 비지도학습(데이터에 종속변수,target,label이 없는 경우)\n",
        "# 가장 대표적인 알고리즘은 K-means 알고리즘\n",
        "# K-means 알고리즘은 EM 알고리즘으로 작동\n",
        "# EM에서 E는 Expectation의 의미로 가장 가까운 centroid에 데이터를 군집으로 할당\n",
        "# EM에서 M은 Maximization의 의미로 cluster 경계에 대한 중심점(centroids)을 결정\n",
        "\n",
        "# cluster의 경계가 변하지 않을때까지 계속해서 반복\n",
        "# 초기 centroids의 선택에 따라 cluster가 다르게 생성될 수 도 있다!\n",
        "# 어떤 경우는 좋고, 어떤 경우는 나쁘다!\n",
        "# 여러번 실행해 가장 좋은 결과를 사용\n",
        "\n",
        "# 이제 간단하게 코드로 표현\n",
        "# 중심점이 4개인 데이터 100개를 무작위로 생성해서 정상적으로 작동되는지'\n",
        "# 확인해 보면 좋을거 같아요!\n",
        "\n",
        "# n_samples = 전체 데이터 포인트의 수\n",
        "# centers = 클러스터(cluster)의 수\n",
        "# n_features = 각 데이터 포인트의 feature 개수(데이터의 차원수)\n",
        "# random_state = 랜덤값을 생성하기 위한 seed 값(난수의 재현율 보장하기 위해)\n",
        "# points = 생성된 데이터의 feature\n",
        "# labels = 각 데이터 포인트의 소속 클러스터 레이블\n",
        "import numpy as np\n",
        "import pandas as pd\n",
        "import matplotlib.pyplot as plt\n",
        "import random\n",
        "\n",
        "from sklearn.datasets import make_blobs\n",
        "from sklearn.cluster import KMeans\n",
        "\n",
        "points,labels = make_blobs(n_samples=100,\n",
        "                           centers=4,\n",
        "                           n_features=2,\n",
        "                           random_state=100)\n",
        "points.shape\n",
        "labels.shape\n",
        "np.unique(labels,return_counts=True)"
      ],
      "metadata": {
        "colab": {
          "base_uri": "https://localhost:8080/"
        },
        "id": "CLTaiEFeKcOg",
        "outputId": "d696a300-32df-4329-dc7f-7c29b8d5d781"
      },
      "execution_count": null,
      "outputs": [
        {
          "output_type": "execute_result",
          "data": {
            "text/plain": [
              "(array([0, 1, 2, 3]), array([25, 25, 25, 25]))"
            ]
          },
          "metadata": {},
          "execution_count": 23
        }
      ]
    },
    {
      "cell_type": "code",
      "source": [],
      "metadata": {
        "id": "uxH-H6W7MKAx"
      },
      "execution_count": null,
      "outputs": []
    }
  ]
}