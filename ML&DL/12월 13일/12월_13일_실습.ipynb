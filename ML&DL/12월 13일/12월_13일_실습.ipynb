{
  "nbformat": 4,
  "nbformat_minor": 0,
  "metadata": {
    "colab": {
      "provenance": [],
      "mount_file_id": "17msjFdciPHBZGpygltCes7y4jvdttuCO",
      "authorship_tag": "ABX9TyOCsfvGgWDlNKU73ywylEdR",
      "include_colab_link": true
    },
    "kernelspec": {
      "name": "python3",
      "display_name": "Python 3"
    },
    "language_info": {
      "name": "python"
    }
  },
  "cells": [
    {
      "cell_type": "markdown",
      "metadata": {
        "id": "view-in-github",
        "colab_type": "text"
      },
      "source": [
        "<a href=\"https://colab.research.google.com/github/Seongjin1225/AI_SCHOOL_9/blob/main/ML%26DL/12%EC%9B%94%2013%EC%9D%BC/12%EC%9B%94_13%EC%9D%BC_%EC%8B%A4%EC%8A%B5.ipynb\" target=\"_parent\"><img src=\"https://colab.research.google.com/assets/colab-badge.svg\" alt=\"Open In Colab\"/></a>"
      ]
    },
    {
      "cell_type": "code",
      "execution_count": null,
      "metadata": {
        "id": "Dmh1JCMNkE1_"
      },
      "outputs": [],
      "source": [
        "# 앙상블을 구현해 보아요!\n",
        "# Voting을 iris를 가지고 구현해 보아요\n",
        "\n",
        "# 필요 module import\n",
        "import numpy as np\n",
        "import pandas as pd\n",
        "import matplotlib.pyplot as plt\n",
        "\n",
        "from sklearn.datasets import load_iris\n",
        "from sklearn.preprocessing import MinMaxScaler\n",
        "from sklearn.model_selection import train_test_split\n",
        "from sklearn.metrics import accuracy_score\n",
        "\n",
        "from sklearn.svm import SVC\n",
        "from sklearn.tree import DecisionTreeClassifier\n",
        "from sklearn.neighbors import KNeighborsClassifier\n",
        "\n",
        "from sklearn.ensemble import VotingClassifier"
      ]
    },
    {
      "cell_type": "code",
      "source": [
        "# Raw Data Loading\n",
        "iris = load_iris()\n",
        "\n",
        "# DataFrame으로 변환해서 처리하는게 쉽고 편해요!\n",
        "df = pd.DataFrame(iris.data,\n",
        "                  columns=iris.feature_names)\n",
        "\n",
        "df.columns = ['sepal_length', 'sepal_width', 'petal_length', 'petal_width']\n",
        "\n",
        "df['target'] = iris.target\n",
        "# display(df)\n",
        "\n",
        "# 결측치와 이상치는 없다고 가정하고 진행!\n",
        "# 중복데이터 처리\n",
        "df = df.drop_duplicates()\n",
        "\n",
        "# 이제 x_data와 t_data를 추출하면 될 거 같아요!\n",
        "# x_data는 4개의 feature\n",
        "x_data = df.drop(['target'],\n",
        "                 axis=1,\n",
        "                 inplace=False).values\n",
        "t_data = df['target'].values\n",
        "\n",
        "# 데이터 분리보다 정규화를 먼저 진행하는게 조금 더 편해요!\n",
        "scaler = MinMaxScaler()\n",
        "scaler.fit(x_data)\n",
        "x_data_norm = scaler.transform(x_data)\n",
        "\n",
        "# 데이터 분리\n",
        "x_data_train_norm, x_data_test_norm, t_data_train, t_data_test = \\\n",
        "train_test_split(x_data_norm,\n",
        "                 t_data,\n",
        "                 test_size=0.3,\n",
        "                 stratify=t_data,\n",
        "                 random_state=0)"
      ],
      "metadata": {
        "id": "e2JDPuWWl9s7"
      },
      "execution_count": null,
      "outputs": []
    },
    {
      "cell_type": "code",
      "source": [
        "# 위에서 정제한 데이터를 이용해서 각각의 Model을 만들어요!\n",
        "\n",
        "# n_neighbors는 짝수 ㄴㄴ, 홀수 단위로 줘야함\n",
        "knn = KNeighborsClassifier(n_neighbors=5)\n",
        "knn.fit(x_data_train_norm, t_data_train)\n",
        "knn_acc = accuracy_score(t_data_test, knn.predict(x_data_test_norm))\n",
        "print(f'KNN 모델의 accuracy : {knn_acc}')  # 0.97\n",
        "\n",
        "svm = SVC(kernel='linear', C=0.5)\n",
        "svm.fit(x_data_train_norm, t_data_train)\n",
        "svm_acc = accuracy_score(t_data_test, svm.predict(x_data_test_norm))\n",
        "print(f'SVM 모델의 accuracy : {svm_acc}')  # 0.97\n",
        "\n",
        "dt = DecisionTreeClassifier()\n",
        "dt.fit(x_data_train_norm, t_data_train)\n",
        "dt_acc = accuracy_score(t_data_test, dt.predict(x_data_test_norm))\n",
        "print(f'DT 모델의 accuracy : {dt_acc}')  # 0.97"
      ],
      "metadata": {
        "colab": {
          "base_uri": "https://localhost:8080/"
        },
        "id": "5wp1IyLsmis9",
        "outputId": "c2ae345f-a396-438d-9f2b-b51eb19250a8"
      },
      "execution_count": null,
      "outputs": [
        {
          "output_type": "stream",
          "name": "stdout",
          "text": [
            "KNN 모델의 accuracy : 0.9777777777777777\n",
            "SVM 모델의 accuracy : 0.9777777777777777\n",
            "DT 모델의 accuracy : 0.9777777777777777\n"
          ]
        }
      ]
    },
    {
      "cell_type": "code",
      "source": [
        "# 우리 앙상블 모델을 만들어요!\n",
        "# hard voting classifier(hvc)\n",
        "# soft voting은 알아 해보기(probability=True 사용)\n",
        "\n",
        "hvc = VotingClassifier(estimators=[('KNN',knn),\n",
        "                                   ('SVM',svm),\n",
        "                                   ('DT',dt)],\n",
        "                       voting='hard')  # voting -> hard 또는 soft\n",
        "\n",
        "hvc.fit(x_data_train_norm, t_data_train)\n",
        "hvc_acc = accuracy_score(t_data_test, hvc.predict(x_data_test_norm))\n",
        "print(f'앙상블 모델(hard voting)의 accuracy : {hvc_acc}')  # 0.97\n"
      ],
      "metadata": {
        "colab": {
          "base_uri": "https://localhost:8080/"
        },
        "id": "OLQWirJyn09b",
        "outputId": "e4fc82fd-001b-4f8c-a4d7-cb1050773eb8"
      },
      "execution_count": null,
      "outputs": [
        {
          "output_type": "stream",
          "name": "stdout",
          "text": [
            "앙상블 모델(hard voting)의 accuracy : 0.9777777777777777\n"
          ]
        }
      ]
    },
    {
      "cell_type": "code",
      "source": [
        "%reset\n",
        "\n",
        "# 앙상블 bagging을 구현해 보아요!\n",
        "# Decision Tree를 모아서 만든 Random Forest를 구현해 보아요!\n",
        "\n",
        "# 필요 module import\n",
        "import numpy as np\n",
        "import pandas as pd\n",
        "import matplotlib.pyplot as plt\n",
        "\n",
        "from sklearn.datasets import load_iris\n",
        "from sklearn.preprocessing import MinMaxScaler\n",
        "from sklearn.model_selection import train_test_split\n",
        "from sklearn.metrics import accuracy_score\n",
        "\n",
        "from sklearn.tree import DecisionTreeClassifier\n",
        "\n",
        "from sklearn.ensemble import RandomForestClassifier"
      ],
      "metadata": {
        "colab": {
          "base_uri": "https://localhost:8080/"
        },
        "id": "xYx5xumysdZB",
        "outputId": "d6d3b027-d190-4866-dfd3-78dee46135ae"
      },
      "execution_count": null,
      "outputs": [
        {
          "name": "stdout",
          "output_type": "stream",
          "text": [
            "Once deleted, variables cannot be recovered. Proceed (y/[n])? y\n"
          ]
        }
      ]
    },
    {
      "cell_type": "code",
      "source": [
        "# Raw Data Loading\n",
        "iris = load_iris()\n",
        "\n",
        "# DataFrame으로 변환해서 처리하는게 쉽고 편해요!\n",
        "df = pd.DataFrame(iris.data,\n",
        "                  columns=iris.feature_names)\n",
        "\n",
        "df.columns = ['sepal_length', 'sepal_width', 'petal_length', 'petal_width']\n",
        "\n",
        "df['target'] = iris.target\n",
        "# display(df)\n",
        "\n",
        "# 결측치와 이상치는 없다고 가정하고 진행!\n",
        "# 중복데이터 처리\n",
        "df = df.drop_duplicates()\n",
        "\n",
        "# 이제 x_data와 t_data를 추출하면 될 거 같아요!\n",
        "# x_data는 4개의 feature\n",
        "x_data = df.drop(['target'],\n",
        "                 axis=1,\n",
        "                 inplace=False).values\n",
        "t_data = df['target'].values\n",
        "\n",
        "# 데이터 분리보다 정규화를 먼저 진행하는게 조금 더 편해요!\n",
        "scaler = MinMaxScaler()\n",
        "scaler.fit(x_data)\n",
        "x_data_norm = scaler.transform(x_data)\n",
        "\n",
        "# 데이터 분리\n",
        "x_data_train_norm, x_data_test_norm, t_data_train, t_data_test = \\\n",
        "train_test_split(x_data_norm,\n",
        "                 t_data,\n",
        "                 test_size=0.3,\n",
        "                 stratify=t_data,\n",
        "                 random_state=0)\n",
        "\n",
        "dt = DecisionTreeClassifier()\n",
        "dt.fit(x_data_train_norm, t_data_train)\n",
        "dt_acc = accuracy_score(t_data_test, dt.predict(x_data_test_norm))\n",
        "print(f'DT 모델의 accuracy : {dt_acc}')  # 0.95\n",
        "\n",
        "rfc = RandomForestClassifier(n_estimators=50,  # decision tree 50개 의미\n",
        "                             max_depth=3,  # 트리의 높이 지정(일반적으로 3 설정)\n",
        "                             random_state=20)\n",
        "rfc.fit(x_data_train_norm, t_data_train)\n",
        "rfc_acc = accuracy_score(t_data_test, rfc.predict(x_data_test_norm))\n",
        "print(f'Random Forest 모델의 accuracy : {rfc_acc}')"
      ],
      "metadata": {
        "colab": {
          "base_uri": "https://localhost:8080/"
        },
        "id": "zZwcOr5SwuRa",
        "outputId": "f5642b3c-ebb8-4f9b-ec85-88a71eaf2baa"
      },
      "execution_count": null,
      "outputs": [
        {
          "output_type": "stream",
          "name": "stdout",
          "text": [
            "DT 모델의 accuracy : 0.9777777777777777\n",
            "Random Forest 모델의 accuracy : 1.0\n"
          ]
        }
      ]
    },
    {
      "cell_type": "code",
      "source": [
        "# 앙상블 - boost 방\n",
        "%reset\n",
        "\n",
        "# 필요 module import\n",
        "import numpy as np\n",
        "import pandas as pd\n",
        "import matplotlib.pyplot as plt\n",
        "\n",
        "from sklearn.datasets import load_iris\n",
        "from sklearn.preprocessing import MinMaxScaler\n",
        "from sklearn.model_selection import train_test_split\n",
        "from sklearn.metrics import accuracy_score\n",
        "\n",
        "from xgboost import XGBClassifier\n",
        "\n",
        "# Raw Data Loading\n",
        "iris = load_iris()\n",
        "\n",
        "# DataFrame으로 변환해서 처리하는게 쉽고 편해요!\n",
        "df = pd.DataFrame(iris.data,\n",
        "                  columns=iris.feature_names)\n",
        "\n",
        "df.columns = ['sepal_length', 'sepal_width', 'petal_length', 'petal_width']\n",
        "\n",
        "df['target'] = iris.target\n",
        "# display(df)\n",
        "\n",
        "# 결측치와 이상치는 없다고 가정하고 진행!\n",
        "# 중복데이터 처리\n",
        "df = df.drop_duplicates()\n",
        "\n",
        "# 이제 x_data와 t_data를 추출하면 될 거 같아요!\n",
        "# x_data는 4개의 feature\n",
        "x_data = df.drop(['target'],\n",
        "                 axis=1,\n",
        "                 inplace=False).values\n",
        "t_data = df['target'].values\n",
        "\n",
        "# 데이터 분리보다 정규화를 먼저 진행하는게 조금 더 편해요!\n",
        "scaler = MinMaxScaler()\n",
        "scaler.fit(x_data)\n",
        "x_data_norm = scaler.transform(x_data)\n",
        "\n",
        "# 데이터 분리\n",
        "x_data_train_norm, x_data_test_norm, t_data_train, t_data_test = \\\n",
        "train_test_split(x_data_norm,\n",
        "                 t_data,\n",
        "                 test_size=0.3,\n",
        "                 stratify=t_data,\n",
        "                 random_state=0)\n",
        "\n",
        "# model\n",
        "xgb = XGBClassifier(n_estimators=50,\n",
        "                    max_depth=3,\n",
        "                    random_state=20)\n",
        "xgb.fit(x_data_train_norm, t_data_train)\n",
        "xgb_acc = accuracy_score(t_data_test, xgb.predict(x_data_test_norm))\n",
        "print(f'XGB 모델의 accuracy : {xgb_acc}')"
      ],
      "metadata": {
        "colab": {
          "base_uri": "https://localhost:8080/"
        },
        "id": "UcPltsrqxKeH",
        "outputId": "63552537-8a81-4060-e5ce-5a6f6ff4d97e"
      },
      "execution_count": null,
      "outputs": [
        {
          "output_type": "stream",
          "name": "stdout",
          "text": [
            "Once deleted, variables cannot be recovered. Proceed (y/[n])? y\n",
            "XGB 모델의 accuracy : 0.9555555555555556\n"
          ]
        }
      ]
    },
    {
      "cell_type": "code",
      "source": [
        "# 최초의 neural network => Perception\n",
        "# 아주 간단하게 생각하면 logistic regression과 같아요!\n",
        "# 대신, activation 함수를 logistic은 sigmoid를 사용\n",
        "# 하지만, Perception은 activaiton 함수로 step function 사용\n",
        "\n",
        "# 각종 GATE 연산을 학습할 수 있으면,\n",
        "# 이를 이용해서 AI를 만들 수 있겠다라고 당시에 생각\n",
        "# 여기서 말하는 GATE연산은 (AND, OR, NOR, XOR, ...)\n",
        "\n",
        "# 우리도 Perception이 GATE연산을 학습할 수 있는지 확인하기 위해\n",
        "# logistic regression 사용해서 GATE 학습을 해볼거에요!\n",
        "\n",
        "# tensorflow로 구현!\n",
        "# AND, OR, XOR 연산만 구현!\n",
        "\n",
        "# 필요 module import\n",
        "import numpy as np\n",
        "\n",
        "from tensorflow.keras.models import Sequential\n",
        "from tensorflow.keras.layers import Flatten, Dense\n",
        "from tensorflow.keras.optimizers import Adam\n",
        "\n",
        "# Training data set\n",
        "# AND GATE에 대한 데이터\n",
        "x_data = np.array([[0,0],\n",
        "                  [0,1],\n",
        "                  [1,0],\n",
        "                  [1,1]], dtype=np.float32)\n",
        "# t_data = np.array([[0],[0],[0],[1]], dtype=np.float32)\n",
        "\n",
        "# OR GATE에 대한 데이터\n",
        "# t_data = np.array([[0],[1],[1],[1]], dtype=np.float32)\n",
        "\n",
        "# XOR GATE에 대한 데이터\n",
        "t_data = np.array([[0],[1],[1],[0]], dtype=np.float32)\n",
        "\n",
        "model = Sequential()\n",
        "model.add(Flatten(input_shape=(2,)))\n",
        "model.add(Dense(units=1,\n",
        "                activation='sigmoid'))\n",
        "model.compile(optimizer=Adam(learning_rate=1e-2),\n",
        "              loss='binary_crossentropy',\n",
        "              metrics=['acc'])\n",
        "\n",
        "model.fit(x_data,\n",
        "          t_data,\n",
        "          epochs=10000,\n",
        "          verbose=0)\n",
        "\n",
        "print(f'정확도는 : {model.evaluate(x_data,t_data)}')\n",
        "# [0.00039223884232342243, 1.0] -> AND 연산에 대한 data로 학습\n",
        "# [0.00036179504240863025, 1.0]  -> OR 연산에 대한 data로 학습\n",
        "# 정확도는 : [0.6931471824645996, 0.25] -> XOR 연산에 대한 data로 학습\n"
      ],
      "metadata": {
        "colab": {
          "base_uri": "https://localhost:8080/"
        },
        "id": "kFDJrFmY7Lr_",
        "outputId": "86bdfd80-d368-428a-b80a-e489385b0a26"
      },
      "execution_count": null,
      "outputs": [
        {
          "output_type": "stream",
          "name": "stdout",
          "text": [
            "1/1 [==============================] - 0s 118ms/step - loss: 0.6931 - acc: 0.2500\n",
            "정확도는 : [0.6931471824645996, 0.25]\n"
          ]
        }
      ]
    },
    {
      "cell_type": "code",
      "source": [
        "# 이번에는 다중 layer perceptron\n",
        "\n",
        "# tensorflow로 구현!\n",
        "# AND, OR, XOR 연산만 구현!\n",
        "\n",
        "# 필요 module import\n",
        "import numpy as np\n",
        "\n",
        "from tensorflow.keras.models import Sequential\n",
        "from tensorflow.keras.layers import Flatten, Dense\n",
        "from tensorflow.keras.optimizers import Adam\n",
        "\n",
        "# Training data set\n",
        "# AND GATE에 대한 데이터\n",
        "x_data = np.array([[0,0],\n",
        "                  [0,1],\n",
        "                  [1,0],\n",
        "                  [1,1]], dtype=np.float32)\n",
        "# t_data = np.array([[0],[0],[0],[1]], dtype=np.float32)\n",
        "\n",
        "# OR GATE에 대한 데이터\n",
        "# t_data = np.array([[0],[1],[1],[1]], dtype=np.float32)\n",
        "\n",
        "# XOR GATE에 대한 데이터\n",
        "t_data = np.array([[0],[1],[1],[0]], dtype=np.float32)\n",
        "\n",
        "model = Sequential()\n",
        "model.add(Flatten(input_shape=(2,)))  # input layer\n",
        "\n",
        "# 여러 개의 Hiddent Layer\n",
        "# Hidden layer는 Dense layer를 사용해요!\n",
        "model.add(Dense(units=10,\n",
        "                activation='relu'))\n",
        "model.add(Dense(units=6,\n",
        "                activation='relu'))\n",
        "\n",
        "model.add(Dense(units=1,             # output layer\n",
        "                activation='sigmoid'))\n",
        "model.compile(optimizer=Adam(learning_rate=1e-2),\n",
        "              loss='binary_crossentropy',\n",
        "              metrics=['acc'])\n",
        "\n",
        "model.fit(x_data,\n",
        "          t_data,\n",
        "          epochs=30000,\n",
        "          verbose=0)\n",
        "\n",
        "print(f'정확도는 : {model.evaluate(x_data,t_data)}')"
      ],
      "metadata": {
        "colab": {
          "base_uri": "https://localhost:8080/"
        },
        "id": "mmhPE3ZZYepl",
        "outputId": "6244cfc0-7922-4422-e5d4-2e0402108763"
      },
      "execution_count": null,
      "outputs": [
        {
          "output_type": "stream",
          "name": "stdout",
          "text": [
            "1/1 [==============================] - 0s 130ms/step - loss: 1.5652e-08 - acc: 1.0000\n",
            "정확도는 : [1.5651535179017628e-08, 1.0]\n"
          ]
        }
      ]
    },
    {
      "cell_type": "code",
      "source": [
        "# 기존의 실습에서 사용했던 MNIST 데이터셋을\n",
        "# 두가지 방식으로 구현해 볼거에요!\n",
        "\n",
        "# 1. logistic regression을 이용해서 Multinomial classification\n",
        "# 2. DNN으로 Multinomial classification 구현\n",
        "\n",
        "%reset\n",
        "import numpy as np\n",
        "import pandas as pd\n",
        "\n",
        "from tensorflow.keras.models import Sequential\n",
        "from tensorflow.keras.layers import Flatten, Dense\n",
        "from tensorflow.keras.optimizers import Adam\n",
        "\n",
        "from sklearn.preprocessing import MinMaxScaler\n",
        "from sklearn.model_selection import train_test_split\n",
        "from sklearn.metrics import classification_report"
      ],
      "metadata": {
        "colab": {
          "base_uri": "https://localhost:8080/"
        },
        "id": "_N02kWEAjfDH",
        "outputId": "255bfaf8-2e63-45c2-bff6-e764259c5f1c"
      },
      "execution_count": null,
      "outputs": [
        {
          "name": "stdout",
          "output_type": "stream",
          "text": [
            "Once deleted, variables cannot be recovered. Proceed (y/[n])? y\n"
          ]
        }
      ]
    },
    {
      "cell_type": "code",
      "source": [
        "# Raw Data Loading\n",
        "df = pd.read_csv('/content/drive/MyDrive/AI스쿨 파일/ML/MNIST/train.csv')\n",
        "\n",
        "# display(df.head()) # 5 rows × 785 columns\n",
        "\n",
        "# 결측치와 이상치가 없어요!\n",
        "# Feautre Engineering을 할게 없어요!\n",
        "\n",
        "# 독립변수(feature), 종속변수(target) 분리\n",
        "x_data = df.drop('label', axis=1, inplace=False).values\n",
        "t_data = df['label'].values  # 원래 one-hot 처리를 해야 해요!\n",
        "                             # 하지만 keras에게 one-hot처리를 위임할 수\n",
        "                             # 있어서 따로 처리는 안할꺼예요!\n",
        "# 정규화는 진행해야 해요!\n",
        "scaler = MinMaxScaler()\n",
        "scaler.fit(x_data)\n",
        "x_data_norm = scaler.transform(x_data)\n",
        "\n",
        "# train, test 분리\n",
        "x_data_train_norm, x_data_test_norm, t_data_train, t_data_test = \\\n",
        "train_test_split(x_data_norm,\n",
        "                 t_data,\n",
        "                 test_size=0.3,\n",
        "                 stratify=t_data,\n",
        "                 random_state=0)\n",
        "\n",
        "# Model 구현(Regression Model 구현)\n",
        "model = Sequential()\n",
        "\n",
        "# Input Layer\n",
        "model.add(Flatten(input_shape=(784,)))\n",
        "\n",
        "# Output layer\n",
        "model.add(Dense(units=10,\n",
        "                activation='softmax'))\n",
        "\n",
        "model.compile(optimizer=Adam(learning_rate=1e-2),\n",
        "              loss='sparse_categorical_crossentropy',\n",
        "              metrics=['acc'])\n",
        "\n",
        "# 모델 학습\n",
        "history = model.fit(x_data_train_norm,\n",
        "                    t_data_train,\n",
        "                    epochs=100,\n",
        "                    batch_size=100,\n",
        "                    validation_split=0.2,\n",
        "                    verbose=1)\n",
        "# 모델 평가\n",
        "print(model.evaluate(x_data_test_norm,\n",
        "                     t_data_test))\n",
        "# [0.5126558542251587, 0.901190459728241]"
      ],
      "metadata": {
        "id": "HAMmyV8SrhNf"
      },
      "execution_count": null,
      "outputs": []
    },
    {
      "cell_type": "code",
      "source": [
        "import tensorflow as tf\n",
        "predict = tf.argmax(model.predict(x_data_test_norm),axis=1).numpy()\n",
        "print(classification_report(t_data_test,predict))"
      ],
      "metadata": {
        "colab": {
          "base_uri": "https://localhost:8080/"
        },
        "id": "gxWQjf6Srrv5",
        "outputId": "52eefb3b-60ec-46a0-f966-de3b82d84cf8"
      },
      "execution_count": null,
      "outputs": [
        {
          "output_type": "stream",
          "name": "stdout",
          "text": [
            "394/394 [==============================] - 2s 5ms/step\n",
            "              precision    recall  f1-score   support\n",
            "\n",
            "           0       0.95      0.95      0.95      1240\n",
            "           1       0.97      0.96      0.96      1405\n",
            "           2       0.89      0.88      0.88      1253\n",
            "           3       0.88      0.87      0.87      1305\n",
            "           4       0.90      0.92      0.91      1222\n",
            "           5       0.86      0.83      0.85      1139\n",
            "           6       0.93      0.94      0.93      1241\n",
            "           7       0.92      0.91      0.91      1320\n",
            "           8       0.82      0.89      0.85      1219\n",
            "           9       0.88      0.87      0.87      1256\n",
            "\n",
            "    accuracy                           0.90     12600\n",
            "   macro avg       0.90      0.90      0.90     12600\n",
            "weighted avg       0.90      0.90      0.90     12600\n",
            "\n"
          ]
        }
      ]
    },
    {
      "cell_type": "code",
      "source": [
        "# MNIST를 Deep Network으로 구현해 보아요!\n",
        "# Raw Data Loading\n",
        "df = pd.read_csv('/content/drive/MyDrive/AI스쿨 파일/ML/MNIST/train.csv')\n",
        "\n",
        "# display(df.head()) # 5 rows × 785 columns\n",
        "\n",
        "# 결측치와 이상치가 없어요!\n",
        "# Feautre Engineering을 할게 없어요!\n",
        "\n",
        "# 독립변수(feature), 종속변수(target) 분리\n",
        "x_data = df.drop('label', axis=1, inplace=False).values\n",
        "t_data = df['label'].values  # 원래 one-hot 처리를 해야 해요!\n",
        "                             # 하지만 keras에게 one-hot처리를 위임할 수\n",
        "                             # 있어서 따로 처리는 안할꺼예요!\n",
        "# 정규화는 진행해야 해요!\n",
        "scaler = MinMaxScaler()\n",
        "scaler.fit(x_data)\n",
        "x_data_norm = scaler.transform(x_data)\n",
        "\n",
        "# train, test 분리\n",
        "x_data_train_norm, x_data_test_norm, t_data_train, t_data_test = \\\n",
        "train_test_split(x_data_norm,\n",
        "                 t_data,\n",
        "                 test_size=0.3,\n",
        "                 stratify=t_data,\n",
        "                 random_state=0)\n",
        "\n",
        "# Model 구현(Regression Model 구현)\n",
        "model = Sequential()\n",
        "\n",
        "# Input Layer\n",
        "model.add(Flatten(input_shape=(784,)))\n",
        "\n",
        "# Hidden Layer\n",
        "model.add(Dense(units=256,\n",
        "                activation='relu'))\n",
        "model.add(Dense(units=128,\n",
        "                activation='relu'))\n",
        "\n",
        "# Output layer\n",
        "model.add(Dense(units=10,\n",
        "                activation='softmax'))\n",
        "\n",
        "model.compile(optimizer=Adam(learning_rate=1e-2),\n",
        "              loss='sparse_categorical_crossentropy',\n",
        "              metrics=['acc'])\n",
        "model.summary()\n",
        "# 모델 학습\n",
        "history = model.fit(x_data_train_norm,\n",
        "                    t_data_train,\n",
        "                    epochs=100,\n",
        "                    batch_size=100,\n",
        "                    validation_split=0.2,\n",
        "                    verbose=1)\n",
        "# 모델 평가\n",
        "print(model.evaluate(x_data_test_norm,\n",
        "                     t_data_test))\n",
        "[0.8045268058776855, 0.9674603343009949]"
      ],
      "metadata": {
        "id": "wMTfGDsHyMAN"
      },
      "execution_count": null,
      "outputs": []
    },
    {
      "cell_type": "code",
      "source": [
        "# 우리 model이 잘 만들어진 모델인지 확인!!!\n",
        "# 그래프를 이용해서 확인해보는게 좋아요!\n",
        "# 학습할때 학습데이터로 loss, acc를 구하고\n",
        "#          validation data로 val_loss, val_acc를 구하게 되는데\n",
        "# 이 둘간의 그래프를 비교해보면 overfitting의 정도를 확인!\n",
        "\n",
        "import matplotlib.pyplot as plt\n",
        "\n",
        "plt.plot(history.history['acc'], color='r')\n",
        "plt.plot(history.history['val_acc'], color='b')\n",
        "\n",
        "plt.show()"
      ],
      "metadata": {
        "colab": {
          "base_uri": "https://localhost:8080/",
          "height": 430
        },
        "id": "Vuf5fDNnygUu",
        "outputId": "853f0b08-9201-45c1-a5a0-c07a62382a19"
      },
      "execution_count": null,
      "outputs": [
        {
          "output_type": "display_data",
          "data": {
            "text/plain": [
              "<Figure size 640x480 with 1 Axes>"
            ],
            "image/png": "[encoded data removed]"
          },
          "metadata": {}
        }
      ]
    },
    {
      "cell_type": "code",
      "source": [
        "# MNIST를 Deep Network으로 구현해 보아요!\n",
        "# Tensorflow Keras가 제공하는 여러 기능이 있는\n",
        "# 그 중 필수적으로 사용하는 기능들이 있어요!\n",
        "# 대표적인게 Early Stopping(조기종료) 기능!\n",
        "\n",
        "# Raw Data Loading\n",
        "df = pd.read_csv('/content/drive/MyDrive/AI스쿨 파일/ML/MNIST/train.csv')\n",
        "\n",
        "# display(df.head()) # 5 rows × 785 columns\n",
        "\n",
        "# 결측치와 이상치가 없어요!\n",
        "# Feautre Engineering을 할게 없어요!\n",
        "\n",
        "# 독립변수(feature), 종속변수(target) 분리\n",
        "x_data = df.drop('label', axis=1, inplace=False).values\n",
        "t_data = df['label'].values  # 원래 one-hot 처리를 해야 해요!\n",
        "                             # 하지만 keras에게 one-hot처리를 위임할 수\n",
        "                             # 있어서 따로 처리는 안할꺼예요!\n",
        "# 정규화는 진행해야 해요!\n",
        "scaler = MinMaxScaler()\n",
        "scaler.fit(x_data)\n",
        "x_data_norm = scaler.transform(x_data)\n",
        "\n",
        "# train, test 분리\n",
        "x_data_train_norm, x_data_test_norm, t_data_train, t_data_test = \\\n",
        "train_test_split(x_data_norm,\n",
        "                 t_data,\n",
        "                 test_size=0.3,\n",
        "                 stratify=t_data,\n",
        "                 random_state=0)\n",
        "\n",
        "# Model 구현(Regression Model 구현)\n",
        "model = Sequential()\n",
        "\n",
        "# Input Layer\n",
        "model.add(Flatten(input_shape=(784,)))\n",
        "\n",
        "# Hidden Layer\n",
        "model.add(Dense(units=256,\n",
        "                activation='relu'))\n",
        "model.add(Dense(units=128,\n",
        "                activation='relu'))\n",
        "\n",
        "# Output layer\n",
        "model.add(Dense(units=10,\n",
        "                activation='softmax'))\n",
        "\n",
        "model.compile(optimizer=Adam(learning_rate=1e-2),\n",
        "              loss='sparse_categorical_crossentropy',\n",
        "              metrics=['acc'])\n",
        "\n",
        "# Early Stopping Callback 설정\n",
        "from tensorflow.keras.callbacks import EarlyStopping\n",
        "\n",
        "# monitor : 조기 종료의 기준\n",
        "# patience : loss값이 증가하는 것을 몇번 참을 것인가에 대한 숫자\n",
        "es_cb = EarlyStopping(monitor='val_loss',\n",
        "                      patience=5,\n",
        "                      restore_best_weights=True)\n",
        "\n",
        "\n",
        "# 모델 학습\n",
        "history = model.fit(x_data_train_norm,\n",
        "                    t_data_train,\n",
        "                    epochs=100,\n",
        "                    batch_size=100,\n",
        "                    validation_split=0.2,\n",
        "                    callbacks=[es_cb],\n",
        "                    verbose=1)\n",
        "# 모델 평가\n",
        "print(model.evaluate(x_data_test_norm,\n",
        "                     t_data_test))\n",
        "[0.15706495940685272, 0.9557142853736877]"
      ],
      "metadata": {
        "colab": {
          "base_uri": "https://localhost:8080/"
        },
        "id": "yE4Fqku34PU4",
        "outputId": "ba309954-21a6-4a43-9a0f-342d5b24f4a2"
      },
      "execution_count": null,
      "outputs": [
        {
          "output_type": "stream",
          "name": "stdout",
          "text": [
            "Epoch 1/100\n",
            "236/236 [==============================] - 3s 9ms/step - loss: 0.3224 - acc: 0.8998 - val_loss: 0.1548 - val_acc: 0.9527\n",
            "Epoch 2/100\n",
            "236/236 [==============================] - 2s 8ms/step - loss: 0.1438 - acc: 0.9565 - val_loss: 0.1561 - val_acc: 0.9520\n",
            "Epoch 3/100\n",
            "236/236 [==============================] - 2s 8ms/step - loss: 0.1278 - acc: 0.9609 - val_loss: 0.1401 - val_acc: 0.9556\n",
            "Epoch 4/100\n",
            "236/236 [==============================] - 2s 8ms/step - loss: 0.1014 - acc: 0.9691 - val_loss: 0.1633 - val_acc: 0.9536\n",
            "Epoch 5/100\n",
            "236/236 [==============================] - 3s 12ms/step - loss: 0.0905 - acc: 0.9733 - val_loss: 0.1528 - val_acc: 0.9633\n",
            "Epoch 6/100\n",
            "236/236 [==============================] - 3s 12ms/step - loss: 0.0861 - acc: 0.9744 - val_loss: 0.1565 - val_acc: 0.9582\n",
            "Epoch 7/100\n",
            "236/236 [==============================] - 3s 11ms/step - loss: 0.0738 - acc: 0.9791 - val_loss: 0.2190 - val_acc: 0.9543\n",
            "Epoch 8/100\n",
            "236/236 [==============================] - 2s 7ms/step - loss: 0.0722 - acc: 0.9792 - val_loss: 0.1663 - val_acc: 0.9641\n",
            "394/394 [==============================] - 1s 2ms/step - loss: 0.1571 - acc: 0.9557\n",
            "[0.15706495940685272, 0.9557142853736877]\n"
          ]
        }
      ]
    }
  ]
}