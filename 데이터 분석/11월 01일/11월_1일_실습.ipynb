{
  "nbformat": 4,
  "nbformat_minor": 0,
  "metadata": {
    "colab": {
      "provenance": [],
      "mount_file_id": "1v79BlcHBnPq3vtUC3cTNdmVmjeIeudnX",
      "authorship_tag": "ABX9TyOJPM5JdQ5XTSDcJ+fKWgEh",
      "include_colab_link": true
    },
    "kernelspec": {
      "name": "python3",
      "display_name": "Python 3"
    },
    "language_info": {
      "name": "python"
    }
  },
  "cells": [
    {
      "cell_type": "markdown",
      "metadata": {
        "id": "view-in-github",
        "colab_type": "text"
      },
      "source": [
        "<a href=\"https://colab.research.google.com/github/Seongjin1225/AI_SCHOOL_9/blob/main/%EB%8D%B0%EC%9D%B4%ED%84%B0%20%EB%B6%84%EC%84%9D/11%EC%9B%94%2001%EC%9D%BC/11%EC%9B%94_1%EC%9D%BC_%EC%8B%A4%EC%8A%B5.ipynb\" target=\"_parent\"><img src=\"https://colab.research.google.com/assets/colab-badge.svg\" alt=\"Open In Colab\"/></a>"
      ]
    },
    {
      "cell_type": "markdown",
      "source": [
        "## 시계열 관련 개념?"
      ],
      "metadata": {
        "id": "mhMixnDSNFxw"
      }
    },
    {
      "cell_type": "code",
      "execution_count": null,
      "metadata": {
        "colab": {
          "base_uri": "https://localhost:8080/"
        },
        "id": "73NmlW0OLadG",
        "outputId": "045a2b92-2dcb-4fd0-93b3-d6096ea0ed3a"
      },
      "outputs": [
        {
          "output_type": "stream",
          "name": "stdout",
          "text": [
            "<class 'pandas.core.frame.DataFrame'>\n",
            "RangeIndex: 3 entries, 0 to 2\n",
            "Data columns (total 2 columns):\n",
            " #   Column  Non-Null Count  Dtype \n",
            "---  ------  --------------  ----- \n",
            " 0   date    3 non-null      object\n",
            " 1   name    3 non-null      object\n",
            "dtypes: object(2)\n",
            "memory usage: 176.0+ bytes\n"
          ]
        }
      ],
      "source": [
        "# info 데이터 살펴보가\n",
        "import pandas as pd\n",
        "d = pd.DataFrame({'date': ['2019-01-03', '2021-11-22', '2023-01-05'],\n",
        "                  'name': ['J', 'Y', 'O']})\n",
        "d.info()"
      ]
    },
    {
      "cell_type": "code",
      "source": [
        "# datetime()으로 변환\n",
        "d['date'] = pd.to_datetime(d.date, format='%Y-%m-%d')\n",
        "d.info()\n",
        "\n",
        "# 내 ver.\n",
        "d['date'] = pd.to_dateime(d['date'])"
      ],
      "metadata": {
        "colab": {
          "base_uri": "https://localhost:8080/"
        },
        "id": "i2tVmoAmMhgi",
        "outputId": "bc8e28f1-37e4-4c1e-a495-db497fcccad6"
      },
      "execution_count": null,
      "outputs": [
        {
          "output_type": "stream",
          "name": "stdout",
          "text": [
            "<class 'pandas.core.frame.DataFrame'>\n",
            "RangeIndex: 3 entries, 0 to 2\n",
            "Data columns (total 2 columns):\n",
            " #   Column  Non-Null Count  Dtype         \n",
            "---  ------  --------------  -----         \n",
            " 0   date    3 non-null      datetime64[ns]\n",
            " 1   name    3 non-null      object        \n",
            "dtypes: datetime64[ns](1), object(1)\n",
            "memory usage: 176.0+ bytes\n"
          ]
        }
      ]
    },
    {
      "cell_type": "code",
      "source": [
        "# datetime형의 컬럼을 인덱스로 지정\n",
        "d.set_index(keys=['date'], inplace=True)  # inplace=True --> 쉽게 말해 업데이트\n",
        "d.info()\n",
        "\n",
        "# d.set_index('date')"
      ],
      "metadata": {
        "colab": {
          "base_uri": "https://localhost:8080/"
        },
        "id": "ym113Q6CMzQm",
        "outputId": "40084673-1b80-4cb7-ed34-cf62ef9c9436"
      },
      "execution_count": null,
      "outputs": [
        {
          "output_type": "stream",
          "name": "stdout",
          "text": [
            "<class 'pandas.core.frame.DataFrame'>\n",
            "DatetimeIndex: 3 entries, 2019-01-03 to 2023-01-05\n",
            "Data columns (total 1 columns):\n",
            " #   Column  Non-Null Count  Dtype \n",
            "---  ------  --------------  ----- \n",
            " 0   name    3 non-null      object\n",
            "dtypes: object(1)\n",
            "memory usage: 48.0+ bytes\n"
          ]
        }
      ]
    },
    {
      "cell_type": "code",
      "source": [
        "import numpy as np\n",
        "d = pd.DataFrame({'date':['2019-01-03', '2021-11-22','2021-12-01','2023-01-05'], 'x1':[0.1,2.0,np.nan,1.2]})\n",
        "\n",
        "# datetime으로 변환\n",
        "d['date'] = pd.to_datetime(d['date'])\n",
        "d.dtypes\n",
        "# datetime을 인덱스로 지정\n",
        "d.set_index(keys=['date'], inplace=True)\n",
        "# d.info()\n",
        "\n",
        "# null 값이 있는지 확인\n",
        "d.isnull().sum()\n",
        "\n",
        "# 전체 데이터 출력\n",
        "d\n",
        "\n",
        "# 이전값으로 결측값 채우기\n",
        "d.fillna(method='pad', inplace=True)\n",
        "\n",
        "# 결측값 제거\n",
        "d.dropna()"
      ],
      "metadata": {
        "colab": {
          "base_uri": "https://localhost:8080/",
          "height": 351
        },
        "id": "Wm29hHyJNAaJ",
        "outputId": "32f800a8-f617-4958-cbae-40c06f9bd0b3"
      },
      "execution_count": null,
      "outputs": [
        {
          "output_type": "stream",
          "name": "stdout",
          "text": [
            "<class 'pandas.core.frame.DataFrame'>\n",
            "DatetimeIndex: 4 entries, 2019-01-03 to 2023-01-05\n",
            "Data columns (total 1 columns):\n",
            " #   Column  Non-Null Count  Dtype  \n",
            "---  ------  --------------  -----  \n",
            " 0   x1      3 non-null      float64\n",
            "dtypes: float64(1)\n",
            "memory usage: 64.0 bytes\n"
          ]
        },
        {
          "output_type": "execute_result",
          "data": {
            "text/plain": [
              "             x1\n",
              "date           \n",
              "2019-01-03  0.1\n",
              "2021-11-22  2.0\n",
              "2021-12-01  2.0\n",
              "2023-01-05  1.2"
            ],
            "text/html": [
              "\n",
              "  <div id=\"df-0428788a-2eb9-42fa-9b1b-c8f4f3ed7270\" class=\"colab-df-container\">\n",
              "    <div>\n",
              "<style scoped>\n",
              "    .dataframe tbody tr th:only-of-type {\n",
              "        vertical-align: middle;\n",
              "    }\n",
              "\n",
              "    .dataframe tbody tr th {\n",
              "        vertical-align: top;\n",
              "    }\n",
              "\n",
              "    .dataframe thead th {\n",
              "        text-align: right;\n",
              "    }\n",
              "</style>\n",
              "<table border=\"1\" class=\"dataframe\">\n",
              "  <thead>\n",
              "    <tr style=\"text-align: right;\">\n",
              "      <th></th>\n",
              "      <th>x1</th>\n",
              "    </tr>\n",
              "    <tr>\n",
              "      <th>date</th>\n",
              "      <th></th>\n",
              "    </tr>\n",
              "  </thead>\n",
              "  <tbody>\n",
              "    <tr>\n",
              "      <th>2019-01-03</th>\n",
              "      <td>0.1</td>\n",
              "    </tr>\n",
              "    <tr>\n",
              "      <th>2021-11-22</th>\n",
              "      <td>2.0</td>\n",
              "    </tr>\n",
              "    <tr>\n",
              "      <th>2021-12-01</th>\n",
              "      <td>2.0</td>\n",
              "    </tr>\n",
              "    <tr>\n",
              "      <th>2023-01-05</th>\n",
              "      <td>1.2</td>\n",
              "    </tr>\n",
              "  </tbody>\n",
              "</table>\n",
              "</div>\n",
              "    <div class=\"colab-df-buttons\">\n",
              "\n",
              "  <div class=\"colab-df-container\">\n",
              "    <button class=\"colab-df-convert\" onclick=\"convertToInteractive('df-0428788a-2eb9-42fa-9b1b-c8f4f3ed7270')\"\n",
              "            title=\"Convert this dataframe to an interactive table.\"\n",
              "            style=\"display:none;\">\n",
              "\n",
              "  <svg xmlns=\"http://www.w3.org/2000/svg\" height=\"24px\" viewBox=\"0 -960 960 960\">\n",
              "    <path d=\"M120-120v-720h720v720H120Zm60-500h600v-160H180v160Zm220 220h160v-160H400v160Zm0 220h160v-160H400v160ZM180-400h160v-160H180v160Zm440 0h160v-160H620v160ZM180-180h160v-160H180v160Zm440 0h160v-160H620v160Z\"/>\n",
              "  </svg>\n",
              "    </button>\n",
              "\n",
              "  <style>\n",
              "    .colab-df-container {\n",
              "      display:flex;\n",
              "      gap: 12px;\n",
              "    }\n",
              "\n",
              "    .colab-df-convert {\n",
              "      background-color: #E8F0FE;\n",
              "      border: none;\n",
              "      border-radius: 50%;\n",
              "      cursor: pointer;\n",
              "      display: none;\n",
              "      fill: #1967D2;\n",
              "      height: 32px;\n",
              "      padding: 0 0 0 0;\n",
              "      width: 32px;\n",
              "    }\n",
              "\n",
              "    .colab-df-convert:hover {\n",
              "      background-color: #E2EBFA;\n",
              "      box-shadow: 0px 1px 2px rgba(60, 64, 67, 0.3), 0px 1px 3px 1px rgba(60, 64, 67, 0.15);\n",
              "      fill: #174EA6;\n",
              "    }\n",
              "\n",
              "    .colab-df-buttons div {\n",
              "      margin-bottom: 4px;\n",
              "    }\n",
              "\n",
              "    [theme=dark] .colab-df-convert {\n",
              "      background-color: #3B4455;\n",
              "      fill: #D2E3FC;\n",
              "    }\n",
              "\n",
              "    [theme=dark] .colab-df-convert:hover {\n",
              "      background-color: #434B5C;\n",
              "      box-shadow: 0px 1px 3px 1px rgba(0, 0, 0, 0.15);\n",
              "      filter: drop-shadow(0px 1px 2px rgba(0, 0, 0, 0.3));\n",
              "      fill: #FFFFFF;\n",
              "    }\n",
              "  </style>\n",
              "\n",
              "    <script>\n",
              "      const buttonEl =\n",
              "        document.querySelector('#df-0428788a-2eb9-42fa-9b1b-c8f4f3ed7270 button.colab-df-convert');\n",
              "      buttonEl.style.display =\n",
              "        google.colab.kernel.accessAllowed ? 'block' : 'none';\n",
              "\n",
              "      async function convertToInteractive(key) {\n",
              "        const element = document.querySelector('#df-0428788a-2eb9-42fa-9b1b-c8f4f3ed7270');\n",
              "        const dataTable =\n",
              "          await google.colab.kernel.invokeFunction('convertToInteractive',\n",
              "                                                    [key], {});\n",
              "        if (!dataTable) return;\n",
              "\n",
              "        const docLinkHtml = 'Like what you see? Visit the ' +\n",
              "          '<a target=\"_blank\" href=https://colab.research.google.com/notebooks/data_table.ipynb>data table notebook</a>'\n",
              "          + ' to learn more about interactive tables.';\n",
              "        element.innerHTML = '';\n",
              "        dataTable['output_type'] = 'display_data';\n",
              "        await google.colab.output.renderOutput(dataTable, element);\n",
              "        const docLink = document.createElement('div');\n",
              "        docLink.innerHTML = docLinkHtml;\n",
              "        element.appendChild(docLink);\n",
              "      }\n",
              "    </script>\n",
              "  </div>\n",
              "\n",
              "\n",
              "<div id=\"df-5c52a3bf-e017-48bc-b96b-e23f0cc3ec60\">\n",
              "  <button class=\"colab-df-quickchart\" onclick=\"quickchart('df-5c52a3bf-e017-48bc-b96b-e23f0cc3ec60')\"\n",
              "            title=\"Suggest charts.\"\n",
              "            style=\"display:none;\">\n",
              "\n",
              "<svg xmlns=\"http://www.w3.org/2000/svg\" height=\"24px\"viewBox=\"0 0 24 24\"\n",
              "     width=\"24px\">\n",
              "    <g>\n",
              "        <path d=\"M19 3H5c-1.1 0-2 .9-2 2v14c0 1.1.9 2 2 2h14c1.1 0 2-.9 2-2V5c0-1.1-.9-2-2-2zM9 17H7v-7h2v7zm4 0h-2V7h2v10zm4 0h-2v-4h2v4z\"/>\n",
              "    </g>\n",
              "</svg>\n",
              "  </button>\n",
              "\n",
              "<style>\n",
              "  .colab-df-quickchart {\n",
              "      --bg-color: #E8F0FE;\n",
              "      --fill-color: #1967D2;\n",
              "      --hover-bg-color: #E2EBFA;\n",
              "      --hover-fill-color: #174EA6;\n",
              "      --disabled-fill-color: #AAA;\n",
              "      --disabled-bg-color: #DDD;\n",
              "  }\n",
              "\n",
              "  [theme=dark] .colab-df-quickchart {\n",
              "      --bg-color: #3B4455;\n",
              "      --fill-color: #D2E3FC;\n",
              "      --hover-bg-color: #434B5C;\n",
              "      --hover-fill-color: #FFFFFF;\n",
              "      --disabled-bg-color: #3B4455;\n",
              "      --disabled-fill-color: #666;\n",
              "  }\n",
              "\n",
              "  .colab-df-quickchart {\n",
              "    background-color: var(--bg-color);\n",
              "    border: none;\n",
              "    border-radius: 50%;\n",
              "    cursor: pointer;\n",
              "    display: none;\n",
              "    fill: var(--fill-color);\n",
              "    height: 32px;\n",
              "    padding: 0;\n",
              "    width: 32px;\n",
              "  }\n",
              "\n",
              "  .colab-df-quickchart:hover {\n",
              "    background-color: var(--hover-bg-color);\n",
              "    box-shadow: 0 1px 2px rgba(60, 64, 67, 0.3), 0 1px 3px 1px rgba(60, 64, 67, 0.15);\n",
              "    fill: var(--button-hover-fill-color);\n",
              "  }\n",
              "\n",
              "  .colab-df-quickchart-complete:disabled,\n",
              "  .colab-df-quickchart-complete:disabled:hover {\n",
              "    background-color: var(--disabled-bg-color);\n",
              "    fill: var(--disabled-fill-color);\n",
              "    box-shadow: none;\n",
              "  }\n",
              "\n",
              "  .colab-df-spinner {\n",
              "    border: 2px solid var(--fill-color);\n",
              "    border-color: transparent;\n",
              "    border-bottom-color: var(--fill-color);\n",
              "    animation:\n",
              "      spin 1s steps(1) infinite;\n",
              "  }\n",
              "\n",
              "  @keyframes spin {\n",
              "    0% {\n",
              "      border-color: transparent;\n",
              "      border-bottom-color: var(--fill-color);\n",
              "      border-left-color: var(--fill-color);\n",
              "    }\n",
              "    20% {\n",
              "      border-color: transparent;\n",
              "      border-left-color: var(--fill-color);\n",
              "      border-top-color: var(--fill-color);\n",
              "    }\n",
              "    30% {\n",
              "      border-color: transparent;\n",
              "      border-left-color: var(--fill-color);\n",
              "      border-top-color: var(--fill-color);\n",
              "      border-right-color: var(--fill-color);\n",
              "    }\n",
              "    40% {\n",
              "      border-color: transparent;\n",
              "      border-right-color: var(--fill-color);\n",
              "      border-top-color: var(--fill-color);\n",
              "    }\n",
              "    60% {\n",
              "      border-color: transparent;\n",
              "      border-right-color: var(--fill-color);\n",
              "    }\n",
              "    80% {\n",
              "      border-color: transparent;\n",
              "      border-right-color: var(--fill-color);\n",
              "      border-bottom-color: var(--fill-color);\n",
              "    }\n",
              "    90% {\n",
              "      border-color: transparent;\n",
              "      border-bottom-color: var(--fill-color);\n",
              "    }\n",
              "  }\n",
              "</style>\n",
              "\n",
              "  <script>\n",
              "    async function quickchart(key) {\n",
              "      const quickchartButtonEl =\n",
              "        document.querySelector('#' + key + ' button');\n",
              "      quickchartButtonEl.disabled = true;  // To prevent multiple clicks.\n",
              "      quickchartButtonEl.classList.add('colab-df-spinner');\n",
              "      try {\n",
              "        const charts = await google.colab.kernel.invokeFunction(\n",
              "            'suggestCharts', [key], {});\n",
              "      } catch (error) {\n",
              "        console.error('Error during call to suggestCharts:', error);\n",
              "      }\n",
              "      quickchartButtonEl.classList.remove('colab-df-spinner');\n",
              "      quickchartButtonEl.classList.add('colab-df-quickchart-complete');\n",
              "    }\n",
              "    (() => {\n",
              "      let quickchartButtonEl =\n",
              "        document.querySelector('#df-5c52a3bf-e017-48bc-b96b-e23f0cc3ec60 button');\n",
              "      quickchartButtonEl.style.display =\n",
              "        google.colab.kernel.accessAllowed ? 'block' : 'none';\n",
              "    })();\n",
              "  </script>\n",
              "</div>\n",
              "    </div>\n",
              "  </div>\n"
            ]
          },
          "metadata": {},
          "execution_count": 16
        }
      ]
    },
    {
      "cell_type": "code",
      "source": [
        "# interpolate() 함수 사용해서 결측값 발생 전후 관측치의 평균으로 결측값 채울 수 ㅇㅇ\n",
        "d = pd.DataFrame({'date':['2019-01-03', '2021-11-22','2021-12-01','2023-01-05'], 'x1':[0.1,2.0,np.nan,1.2]})\n",
        "d['date']=pd.to_datetime(d.date,format='%Y-%m-%d')\n",
        "d.set_index(keys=['date'],inplace=True)\n",
        "print(d)\n",
        "d=d.interpolate()\n",
        "print(d)"
      ],
      "metadata": {
        "colab": {
          "base_uri": "https://localhost:8080/"
        },
        "id": "l6reDk3sP_ac",
        "outputId": "c67235f6-fb61-478e-d6c7-1bbf7fc373b9"
      },
      "execution_count": null,
      "outputs": [
        {
          "output_type": "stream",
          "name": "stdout",
          "text": [
            "             x1\n",
            "date           \n",
            "2019-01-03  0.1\n",
            "2021-11-22  2.0\n",
            "2021-12-01  NaN\n",
            "2023-01-05  1.2\n",
            "             x1\n",
            "date           \n",
            "2019-01-03  0.1\n",
            "2021-11-22  2.0\n",
            "2021-12-01  1.6\n",
            "2023-01-05  1.2\n"
          ]
        }
      ]
    },
    {
      "cell_type": "code",
      "source": [
        "# DevType, LanguageHaveWorkedWith, OpSys, Age, Gender  - 내가 생각한 5개 컬럼\n",
        "# Age, Country, LanguageHaveWorkedWith, LearnCode - 강사님 ver.\n",
        "# 일단 강사님 걸로 따라가다 내가 생각한건 따로 한번 ㄱㄱ\n",
        "\n",
        "import numpy as np\n",
        "import pandas as pd\n",
        "import matplotlib.pyplot as plt\n",
        "\n",
        "df = pd.read_csv('/content/drive/MyDrive/AI스쿨 파일/survey_results_public.csv')\n",
        "df.head()\n",
        "\n",
        "# 필요한 열만 추출\n",
        "survey = df[['Age','Country', 'LanguageHaveWorkedWith', 'LearnCode']]\n",
        "survey.head()\n",
        "\n",
        "# 특정 열 데이터 조회 - 개발자의 연령대 정보 확인\n",
        "survey['Age'].value_counts()\n",
        "survey['Age'].drop_duplicates()   # 중복값 삭제\n",
        "\n",
        "# 데이터 그룹별 크기 구하기(연령대별 응답숫자 확인)\n",
        "survey.groupby(['Age'])\n",
        "size_age = survey.groupby(['Age']).size()\n",
        "size_age\n",
        "\n",
        "# 위와 동일한 방식으로 국가별 응답 숫자 구하기\n",
        "survey.groupby(['Country'])\n",
        "size_country = survey.groupby(['Country']).size()\n",
        "size_country = size_country.sort_values(ascending=False)\n",
        "\n",
        "# 선 그래프\n",
        "# size_age.plot.line(rot=45)  # rot 없으면 겹쳐서 나타남\n",
        "\n",
        "# 막대 그래프\n",
        "# size_age.plot.bar()\n",
        "\n",
        "# 막대 그래프(가로)\n",
        "# size_age.plot.barh()\n",
        "\n",
        "\n",
        "# 그룹 이름(색인) 순서 변경하기\n",
        "# 연령대 가장 낮은 Under 18 years old 가 제일 위, Prefer not to say가 제일 아래\n",
        "size_age.index\n",
        "reindxed_size_age = size_age.reindex(index=[\n",
        "    'Prefer not to say',\n",
        "    '65 years or older',\n",
        "    '55-64 years old',\n",
        "    '45-54 years old',\n",
        "    '35-44 years old',\n",
        "    '25-34 years old',,\n",
        "    '18-24 years old',\n",
        "    'Under 18 years old'\n",
        "    ])\n",
        "reindxed_size_age\n",
        "# reindxed_size_age.plot.barh()\n",
        "\n",
        "# 오후 부분\n",
        "\n",
        "# 국가별 응답자수 파이 그래프로 그리기\n",
        "# size_country.plot.pie(rot=45, autopct='%.2f%%')  # autopct -> 파이그래프에서 퍼센트 표현할 때 사\n",
        "\n",
        "# 위 결과 실행하면 국가 알아보기 어려우므로 상위 20개만 추려냄\n",
        "# size_country.plot.pie(figsize=(10,10))  -> 사이즈 크기 키우는것\n",
        "# size_country[:20].plot.pie(autopct='%.2f%%')  - 내가 한 ver.\n",
        "# size_country.nlargest(20).plot.pie()  # 강사님 ver.\n",
        "\n",
        "# 프로그래밍별 응답수 확인하기\n",
        "language = survey['LanguageHaveWorkedWith']\n",
        "language = language.str.split(';')  # str 빼먹어서 못함\n",
        "lang = language.explode()  # explode() -> 리스트 항목을 행으로 만들때 사용\n",
        "lang.value_counts(ascending=False)\n",
        "\n",
        "# 위 결과 파이 그래프로 표현\n",
        "lan = lang.value_counts()\n",
        "# lan.plot.pie(autopct='%.1f%%')\n",
        "\n",
        "# 상위 10개 데이터만 파이로 표현\n",
        "# lan.nlargest(10).plot.pie(autopct='%.1f%%')\n",
        "\n",
        "# 강사님 ver.\n",
        "'''size_language = lang.groupby(lang).size()\n",
        "size_language.nlargest(10).plot.pie(autopct='%.1f%%')'''\n",
        "\n"
      ],
      "metadata": {
        "colab": {
          "base_uri": "https://localhost:8080/",
          "height": 424
        },
        "id": "98eS9x3JSXzU",
        "outputId": "2107c7b8-da41-4d4f-bf15-0371382630bf"
      },
      "execution_count": null,
      "outputs": [
        {
          "output_type": "execute_result",
          "data": {
            "text/plain": [
              "<Axes: ylabel='LanguageHaveWorkedWith'>"
            ]
          },
          "metadata": {},
          "execution_count": 95
        },
        {
          "output_type": "display_data",
          "data": {
            "text/plain": [
              "<Figure size 640x480 with 1 Axes>"
            ],
            "image/png": "[encoded data removed]"
          },
          "metadata": {}
        }
      ]
    },
    {
      "cell_type": "code",
      "source": [
        "from google.colab import drive\n",
        "drive.mount('/content/drive')"
      ],
      "metadata": {
        "id": "1uenyfiyXY4C"
      },
      "execution_count": null,
      "outputs": []
    },
    {
      "cell_type": "code",
      "source": [
        "# 레스토랑 파일 전처리\n",
        "import pandas as pd\n",
        "import matplotlib.pyplot as plt\n",
        "\n",
        "df = pd.read_csv('/content/drive/MyDrive/AI스쿨 파일/chipotle.tsv',sep='\\t')  # tsv 파일 읽는 방법\n",
        "df.drop('choice_description',axis=1)\n",
        "df['item_price'] = df['item_price'].str.replace('$', '',regex=True)\n",
        "df['item_price'] = pd.to_numeric(df['item_price'])\n",
        "\n",
        " # 가장 많이 팔린 메뉴 top 10\n",
        "# menu = df.groupby(\"item_name\")[\"quantity\"].sum().nlargest(10)\n",
        "# menu.plot.barh()\n",
        "\n",
        "# 가장 많은 매출의 메뉴 top 10\n",
        "# df['item_price'] = df['item_price'].str.replace('$', '',regex=True)\n",
        "# high = df.groupby('item_name')['item_price'].agg('sum').nlargest(10)\n",
        "# high.plot.barh()\n",
        "\n",
        "# 주문액이 가장 큰 고객(주문 번호당 총 금액) - boxplot\n",
        "price = df.groupby('order_id')['item_price'].sum()\n",
        "# price.plot.box()\n",
        "\n",
        "# 고객별 주문횟수 비율 (파이 그래프) - 상위 20\n",
        "rate = df['order_id'].value_counts()\n",
        "# rate.nlargest(10).plot.pie(autopct='%.1f%%')\n",
        "\n",
        "# 주문 당 주문 메뉴 개수\n",
        "order_rate = df.groupby('order_id')['quantity'].sum()\n",
        "order_rate.nlargest(10).plot.pie()"
      ],
      "metadata": {
        "colab": {
          "base_uri": "https://localhost:8080/",
          "height": 424
        },
        "id": "KlUtC0Q2blJc",
        "outputId": "bbc0497c-b85a-4207-b7dc-a5ac631b4ca0"
      },
      "execution_count": null,
      "outputs": [
        {
          "output_type": "execute_result",
          "data": {
            "text/plain": [
              "<Axes: ylabel='quantity'>"
            ]
          },
          "metadata": {},
          "execution_count": 189
        },
        {
          "output_type": "display_data",
          "data": {
            "text/plain": [
              "<Figure size 640x480 with 1 Axes>"
            ],
            "image/png": "[encoded data removed]"
          },
          "metadata": {}
        }
      ]
    },
    {
      "cell_type": "code",
      "source": [],
      "metadata": {
        "id": "SrPhRVnTUqj0"
      },
      "execution_count": null,
      "outputs": []
    }
  ]
}