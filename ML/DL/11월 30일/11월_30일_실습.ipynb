{
  "nbformat": 4,
  "nbformat_minor": 0,
  "metadata": {
    "colab": {
      "provenance": [],
      "mount_file_id": "1J8sEVvfEEV_xccmjwShfMjsLwJEzMRhd",
      "authorship_tag": "ABX9TyO0qwL9JsPHpdDe5tE47Xnh",
      "include_colab_link": true
    },
    "kernelspec": {
      "name": "python3",
      "display_name": "Python 3"
    },
    "language_info": {
      "name": "python"
    }
  },
  "cells": [
    {
      "cell_type": "markdown",
      "metadata": {
        "id": "view-in-github",
        "colab_type": "text"
      },
      "source": [
        "<a href=\"https://colab.research.google.com/github/Seongjin1225/AI_SCHOOL_9/blob/main/ML/DL/11%EC%9B%94%2030%EC%9D%BC/11%EC%9B%94_30%EC%9D%BC_%EC%8B%A4%EC%8A%B5.ipynb\" target=\"_parent\"><img src=\"https://colab.research.google.com/assets/colab-badge.svg\" alt=\"Open In Colab\"/></a>"
      ]
    },
    {
      "cell_type": "markdown",
      "source": [
        "# ozone.csv 파일을 활용한 머신러닝 모델 구현하기\n",
        "- python, tensorflow, sklearn 3가지 모두 구현할 예정"
      ],
      "metadata": {
        "id": "oorZiWt5pXGn"
      }
    },
    {
      "cell_type": "code",
      "source": [
        "# Simple(독립변수 1개) Linear Regression을 구현해 보아요!\n",
        "# 사용하는 데이터는 ozone 데이터를 사용 할 거에요\n",
        "# 태양광세기, 바람, 온도를 기반으로 ozone량이 결정되는데\n",
        "# 이걸 측정한 데이터"
      ],
      "metadata": {
        "id": "CZ02ghgaqEo1"
      },
      "execution_count": null,
      "outputs": []
    },
    {
      "cell_type": "code",
      "source": [
        "# Python 직접 구현\n",
        "\n",
        "# 필요 라이브러리 호출\n",
        "import numpy as np\n",
        "import pandas as pd\n",
        "import matplotlib.pyplot as plt\n",
        "\n",
        "# 수치미분 코드\n",
        "def numerical_derivative(f,x):\n",
        "    delta_x = 1e-4\n",
        "    derivative_x = np.zeros_like(x)   #  [0.0 0.0]\n",
        "\n",
        "    it = np.nditer(x, flags=['multi_index'])\n",
        "\n",
        "    while not it.finished:\n",
        "\n",
        "        idx = it.multi_index\n",
        "\n",
        "        tmp = x[idx]\n",
        "        x[idx] = tmp + delta_x\n",
        "        fx_plus_delta_x = f(x)  # f(x + delta_x)\n",
        "\n",
        "        x[idx] = tmp - delta_x\n",
        "        fx_minus_delta_x = f(x) # f(x - delta_x)\n",
        "\n",
        "        derivative_x[idx] = (fx_plus_delta_x - fx_minus_delta_x) / (2 * delta_x)\n",
        "\n",
        "        x[idx] = tmp\n",
        "\n",
        "        it.iternext()\n",
        "\n",
        "    return derivative_x\n",
        "\n",
        "# Raw Data Loading\n",
        "df = pd.read_csv('/content/drive/MyDrive/AI스쿨 파일/ozone.csv')\n",
        "df\n",
        "\n",
        "training_data = df[['Temp','Ozone']]\n",
        "training_data\n",
        "\n",
        "# 이렇게 데이터를 가져온 후 당연히 데이터 전처리를 해야 해요!\n",
        "# 1. 결측치 처리!\n",
        "#    - 지금은 그냥 냅다 삭제할 거에요!(데이터가 많은 경우 가장 좋은 방법)\n",
        "training_data = training_data.dropna(how='any')\n",
        "training_data\n",
        "\n",
        "# Traingin DataSet 준비\n",
        "x_data = training_data['Temp'].values.reshape(-1,1)  #(-1.1) -> 1개의 열 가지고 있고 나머지는 모두 행으로 ㄱㄱ\n",
        "t_data = training_data['Ozone'].values.reshape(-1,1)\n",
        "\n",
        "# Model을 만들어야 하는데.. y = Wx + b\n",
        "W = np.random.rand(1,1)  # 어떤 값을 설정해야 하는지 모르기 때문에 처음에는 랜덤 값을 받는다\n",
        "b = np.random.rand(1)\n",
        "\n",
        "# loss function -> W와 b 값에 의해 결정되는 함수이므로 W,b가 들어와야 함\n",
        "def loss_func(input_data):\n",
        "    input_W = input_data[0]\n",
        "    input_b = input_data[1]\n",
        "\n",
        "    y = np.dot(x_data,input_W) + input_b\n",
        "    return np.mean(np.power((t_data-y),2))\n",
        "\n",
        "# 모델이 완성된 후 예측하는 함수를 하나 만들어요!\n",
        "def predict(x):\n",
        "    return np.dot(x, W) + b\n",
        "\n",
        "# learning rate 정의(hyperparameter -> 내가 정하는 것)\n",
        "learning_rate = 1e-4  # 1e-4 -> learning_rate 설정하는 기준\n",
        "\n",
        "# 학습진행\n",
        "for step in range(300000):\n",
        "    input_param = np.concatenate((W.ravel(), b.ravel()), axis=0)\n",
        "    derivative_result = learning_rate * numerical_derivative(loss_func, input_param)\n",
        "\n",
        "    W = W - derivative_result[0].reshape(-1,1)\n",
        "    b = b - derivative_result[1]\n",
        "\n",
        "    if step % 30000 == 0:\n",
        "        print(f'W : {W}, b : {b}, loss : {loss_func(input_param)}')\n",
        "\n"
      ],
      "metadata": {
        "colab": {
          "base_uri": "https://localhost:8080/"
        },
        "id": "2LEIz95Rqlbd",
        "outputId": "ad7791e3-101e-4557-f7ed-1b928c878252"
      },
      "execution_count": null,
      "outputs": [
        {
          "output_type": "stream",
          "name": "stdout",
          "text": [
            "W : [[0.48111678]], b : [0.52651291], loss : 1618.4642246186775\n",
            "W : [[0.71720735]], b : [-11.75996666], loss : 817.7979858573912\n",
            "W : [[0.85976141]], b : [-23.0240147], loss : 775.4714453116663\n",
            "W : [[0.99044184]], b : [-33.34985675], loss : 739.9021925668077\n",
            "W : [[1.11023763]], b : [-42.81563794], loss : 710.0114496751615\n",
            "W : [[1.22005538]], b : [-51.49299454], loss : 684.8926619110267\n",
            "W : [[1.32072618]], b : [-59.44759606], loss : 663.7840029183634\n",
            "W : [[1.4130119]], b : [-66.73964228], loss : 646.0452693197066\n",
            "W : [[1.49761095]], b : [-73.42431881], loss : 631.1384640227403\n",
            "W : [[1.57516357]], b : [-79.55221472], loss : 618.6114793354693\n"
          ]
        }
      ]
    },
    {
      "cell_type": "code",
      "source": [
        "# 학습종료 후 예측\n",
        "# 온도가 62도일 때, ozone량은 얼마?\n",
        "predict(np.array([[62]]))  # 2차원 배열 형태로 값이 들어가야 하기 때문\n",
        "# 근데 이거 맞는거야??\n",
        "# 그래프로 확인해보아요!\n",
        "# (독립변수 1개니까 2차원 평면에 모델을 그릴 수 있어요)\n",
        "\n",
        "# 데이터를 2차원 평면에 찍어보아요\n",
        "plt.scatter(x_data,t_data)\n",
        "\n",
        "# 우리 Model을 그려보아요\n",
        "plt.plot(x_data, x_data*W.ravel() + b, color='r')  # ravel한 이유 -> W가 2차원이고 x_data는 1차원이기 때문"
      ],
      "metadata": {
        "colab": {
          "base_uri": "https://localhost:8080/",
          "height": 451
        },
        "id": "bmhf6QzRrxlG",
        "outputId": "1c58c100-5541-41c0-bd5e-65fdafa7119c"
      },
      "execution_count": null,
      "outputs": [
        {
          "output_type": "execute_result",
          "data": {
            "text/plain": [
              "[<matplotlib.lines.Line2D at 0x784078db0d90>]"
            ]
          },
          "metadata": {},
          "execution_count": 8
        },
        {
          "output_type": "display_data",
          "data": {
            "text/plain": [
              "<Figure size 640x480 with 1 Axes>"
            ],
            "image/png": "[encoded data removed]"
          },
          "metadata": {}
        }
      ]
    },
    {
      "cell_type": "code",
      "source": [
        "# 같은 내용을 이제 Tensorflow Keras를 이용해서 구현!\n",
        "\n",
        "# 필요 라이브러리 호출\n",
        "import numpy as np\n",
        "import pandas as pd\n",
        "import matplotlib.pyplot as plt\n",
        "\n",
        "from tensorflow.keras.models import Sequential\n",
        "from tensorflow.keras.layers import Flatten, Dense\n",
        "from tensorflow.keras.optimizers import SGD\n",
        "\n",
        "# Raw Data Loading\n",
        "df = pd.read_csv('/content/drive/MyDrive/AI스쿨 파일/ozone.csv')\n",
        "df\n",
        "\n",
        "training_data = df[['Temp','Ozone']]\n",
        "training_data\n",
        "\n",
        "# 이렇게 데이터를 가져온 후 당연히 데이터 전처리를 해야 해요!\n",
        "# 1. 결측치 처리!\n",
        "#    - 지금은 그냥 냅다 삭제할 거에요!(데이터가 많은 경우 가장 좋은 방법)\n",
        "training_data = training_data.dropna(how='any')\n",
        "training_data\n",
        "\n",
        "# Traingin DataSet 준비\n",
        "x_data = training_data['Temp'].values.reshape(-1,1)  #(-1.1) -> 1개의 열 가지고 있고 나머지는 모두 행으로 ㄱㄱ\n",
        "t_data = training_data['Ozone'].values.reshape(-1,1)\n",
        "\n",
        "# Model 만들기\n",
        "model = Sequential()\n",
        "\n",
        "model.add(Flatten(input_shape=(1,)))\n",
        "\n",
        "output_layer = Dense(units=1,\n",
        "                     activation='linear')\n",
        "\n",
        "model.add(output_layer)\n",
        "\n",
        "# Model 설정\n",
        "model.compile(optimizer=SGD(learning_rate=1e-4),\n",
        "              loss='mse')\n",
        "\n",
        "# Model\n",
        "model.fit(x_data,\n",
        "          t_data,\n",
        "          epochs=2000,\n",
        "          verbose=0)"
      ],
      "metadata": {
        "colab": {
          "base_uri": "https://localhost:8080/"
        },
        "id": "jaXA2n3R1P0Z",
        "outputId": "c0c4ccb2-c406-4dcc-c30f-5388deec9492"
      },
      "execution_count": null,
      "outputs": [
        {
          "output_type": "execute_result",
          "data": {
            "text/plain": [
              "<keras.src.callbacks.History at 0x784023bcb160>"
            ]
          },
          "metadata": {},
          "execution_count": 9
        }
      ]
    },
    {
      "cell_type": "code",
      "source": [
        "#\n",
        "model.predict(np.array([[62]]))\n",
        "\n",
        "weight, bias = output_layer.get_weights()\n",
        "plt.scatter(x_data,t_data)\n",
        "plt.plot(x_data, x_data*weight + bias, color='r')"
      ],
      "metadata": {
        "colab": {
          "base_uri": "https://localhost:8080/"
        },
        "id": "pRJ3MqA_DYUL",
        "outputId": "56d64c7d-23c8-4a93-ea7e-c904c25bfefd"
      },
      "execution_count": null,
      "outputs": [
        {
          "output_type": "stream",
          "name": "stdout",
          "text": [
            "1/1 [==============================] - 0s 102ms/step\n"
          ]
        },
        {
          "output_type": "execute_result",
          "data": {
            "text/plain": [
              "array([[35.891037]], dtype=float32)"
            ]
          },
          "metadata": {},
          "execution_count": 10
        }
      ]
    },
    {
      "cell_type": "code",
      "source": [
        "# 정답(?)을 확인하기 위해 sklearn 구현을 해보아요!\n",
        "\n",
        "import numpy as np\n",
        "import pandas as pd\n",
        "import matplotlib.pyplot as plt\n",
        "from sklearn import linear_model\n",
        "\n",
        "# Raw Data Loading\n",
        "df = pd.read_csv('/content/drive/MyDrive/AI스쿨 파일/ozone.csv')\n",
        "\n",
        "training_data = df[['Temp','Ozone']]\n",
        "\n",
        "# 이렇게 데이터를 가져온 후 당연히 데이터 전처리를 해야 해요!\n",
        "# 1. 결측치 처리!\n",
        "#    - 지금은 그냥 냅다 삭제할 거에요!(데이터가 많은 경우 가장 좋은 방법)\n",
        "training_data = training_data.dropna(how='any')\n",
        "training_data\n",
        "\n",
        "# Traingin DataSet 준비\n",
        "x_data = training_data['Temp'].values.reshape(-1,1)  #(-1.1) -> 1개의 열 가지고 있고 나머지는 모두 행으로 ㄱㄱ\n",
        "t_data = training_data['Ozone'].values.reshape(-1,1)\n",
        "\n",
        "# Model 생성\n",
        "sklearn_model = linear_model.LinearRegression()\n",
        "\n",
        "# Model 학습\n",
        "sklearn_model.fit(x_data, t_data)\n",
        "\n",
        "# W와 b를 알아야 그래프 그릴 수 있겠죠\n",
        "weights = sklearn_model.coef_\n",
        "bias = sklearn_model.intercept_\n",
        "\n",
        "# 예측을 해보아요!\n",
        "sklearn_model.predict(np.array([[62]]))\n",
        "\n",
        "plt.scatter(x_data,t_data)\n",
        "plt.plot(x_data, x_data*weights + bias, color='r')"
      ],
      "metadata": {
        "colab": {
          "base_uri": "https://localhost:8080/",
          "height": 450
        },
        "id": "vJ5pT1l4DoAB",
        "outputId": "87111714-1f23-47c6-df4e-c6ddb15b3618"
      },
      "execution_count": null,
      "outputs": [
        {
          "output_type": "execute_result",
          "data": {
            "text/plain": [
              "[<matplotlib.lines.Line2D at 0x78400f6b5d20>]"
            ]
          },
          "metadata": {},
          "execution_count": 14
        },
        {
          "output_type": "display_data",
          "data": {
            "text/plain": [
              "<Figure size 640x480 with 1 Axes>"
            ],
            "image/png": "[encoded data removed]"
          },
          "metadata": {}
        }
      ]
    },
    {
      "cell_type": "markdown",
      "source": [
        "# 3가지 모델의 결과가 모두 다름\n",
        "# why? 데이터에 이상이 있기 때문(이상치)\n",
        "# 해결방법"
      ],
      "metadata": {
        "id": "jRDriqjzGfXl"
      }
    },
    {
      "cell_type": "markdown",
      "source": [
        "#방법 1. Tukey Fence"
      ],
      "metadata": {
        "id": "SURh7Hn7m6g6"
      }
    },
    {
      "cell_type": "code",
      "source": [
        "import numpy as np\n",
        "import matplotlib.pyplot as plt\n",
        "\n",
        "data = np.array([1,2,3,4,5,6,7,8,9,10,11,12,13,14,22.1])\n",
        "\n",
        "fig = plt.figure()\n",
        "fig_1 = fig.add_subplot(1,2,1)  # 1행 2열의 첫번째\n",
        "fig_2 = fig.add_subplot(1,2,2)  # 1행 2열의 두번째\n",
        "\n",
        "np.median(data)\n",
        "np.percentile(data,25) # percentile() -> 사분위 계산해주는 함\n",
        "np.percentile(data,75)\n",
        "\n",
        "# IQR value -> 3사분위 - 1사분위\n",
        "iqr_value = np.percentile(data,75) - np.percentile(data,25)\n",
        "iqr_value\n",
        "\n",
        "upper_fence = np.percentile(data,75) + 1.5 * iqr_value\n",
        "upper_fence\n",
        "\n",
        "lower_fence = np.percentile(data,25) - 1.5 * iqr_value\n",
        "lower_fence\n",
        "\n",
        "# 아하! 이렇게 tukey fence 방식을 사용하면 이상치를 구분하는\n",
        "# 기준선을 알아낼 수 있어요!\n",
        "\n",
        "# 내가 가지고 있는 데이터에 대해 이상치를 출력해보아요!\n",
        "# boolean indexing을 사용해요\n",
        "data[(data > upper_fence) | (data < lower_fence)]\n",
        "\n",
        "# 데이터를 정제하는게 목적이에요. 이상치를 제거하는게 목적!\n",
        "result_data = data[(data <= upper_fence) & (data >= lower_fence)]\n",
        "result_data\n",
        "\n",
        "fig_1.set_title('Original Data')\n",
        "fig_1.boxplot(data)\n",
        "\n",
        "fig_2.set_title('Remove Outlier Data')\n",
        "fig_2.boxplot(result_data)\n",
        "\n",
        "plt.tight_layout()\n",
        "plt.show()"
      ],
      "metadata": {
        "colab": {
          "base_uri": "https://localhost:8080/",
          "height": 487
        },
        "id": "t2lI-fwyeNp9",
        "outputId": "2b6ef45f-97b5-4d14-97e0-2503de06aa8f"
      },
      "execution_count": null,
      "outputs": [
        {
          "output_type": "display_data",
          "data": {
            "text/plain": [
              "<Figure size 640x480 with 2 Axes>"
            ],
            "image/png": "[encoded data removed]"
          },
          "metadata": {}
        }
      ]
    },
    {
      "cell_type": "markdown",
      "source": [
        "# 방법 2. 정규분포(z-score) 이용"
      ],
      "metadata": {
        "id": "JLnxZ9HwfHbp"
      }
    },
    {
      "cell_type": "code",
      "source": [
        "# 이 방식 이용하려면\n",
        "# 기본적으로 우리 데이터를 정규분포 시켜서 우리 데이터에 대한\n",
        "# z-score 값을 각각 구해야 해요!\n",
        "# 그리고 기준치를 설정한 다음 그 기준치를 넘는 데이터를 이상치로 판별\n",
        "\n",
        "from scipy import stats\n",
        "\n",
        "data = np.array([1,2,3,4,5,6,7,8,9,10,11,12,13,14,22.1])\n",
        "\n",
        "zscore_threshold = 2.0  # 일반적으로 2.0 많이 사용\n",
        "outlier = data[np.abs(stats.zscore(data)) > zscore_threshold]  # abs 쓴 이유 -> 상위, 하위 이상치 모두 한번에 제거하기 위해\n",
        "\n",
        "# 이상치들을 제거한 결과\n",
        "data[np.isin(data,outlier,invert=True)]  #invert -> True는 False로, False는 True로 바꿔줌\n",
        "\n"
      ],
      "metadata": {
        "colab": {
          "base_uri": "https://localhost:8080/"
        },
        "id": "6tA04505nDYg",
        "outputId": "8f4be7f3-3763-415c-8eb8-e09a963e1388"
      },
      "execution_count": null,
      "outputs": [
        {
          "output_type": "execute_result",
          "data": {
            "text/plain": [
              "array([ 1.,  2.,  3.,  4.,  5.,  6.,  7.,  8.,  9., 10., 11., 12., 13.,\n",
              "       14.])"
            ]
          },
          "metadata": {},
          "execution_count": 40
        }
      ]
    },
    {
      "cell_type": "code",
      "source": [
        "# python, tensorflow, sklearn으로 구현을\n",
        "# 이상치 제거한 데이터 이용해서 학습시키고 결과 그래프를 출력해보아요!\n",
        "# 62도에서의 예측치도 구해보기!"
      ],
      "metadata": {
        "id": "B41qlWkRowK8"
      },
      "execution_count": null,
      "outputs": []
    },
    {
      "cell_type": "code",
      "source": [
        "# 3가지 구현에 모두 쓸 수 있게 이상치 제거 해놓기\n",
        "import pandas as pd\n",
        "import numpy as np\n",
        "import matplotlib.pyplot as plt\n",
        "from scipy import stats\n",
        "\n",
        "df = pd.read_csv('/content/drive/MyDrive/AI스쿨 파일/ozone.csv')\n",
        "df\n",
        "\n",
        "training_data = df[['Temp','Ozone']]\n",
        "\n",
        "# 결측치 제거\n",
        "training_data = training_data.dropna(how='any')\n",
        "\n",
        "# 이상치 제거\n",
        "zscore_threshold = 1.8\n",
        "outlier = training_data['Ozone'][np.abs(stats.zscore(training_data['Ozone'].values)) > zscore_threshold]\n",
        "\n",
        "# 이상치를 제거한 DataFrame으로 변경\n",
        "training_data = training_data.loc[np.isin(training_data['Ozone'],outlier,invert=True)]\n",
        "\n",
        "# Traingin Data Set\n",
        "x_data = training_data['Temp'].values.reshape(-1,1)\n",
        "t_data = training_data['Ozone'].values.reshape(-1,1)"
      ],
      "metadata": {
        "id": "WfrQ-Psfrxvp"
      },
      "execution_count": null,
      "outputs": []
    },
    {
      "cell_type": "code",
      "source": [
        "# Python 직접 구현\n",
        "\n",
        "# 필요 라이브러리 호출\n",
        "import numpy as np\n",
        "import pandas as pd\n",
        "import matplotlib.pyplot as plt\n",
        "\n",
        "# 수치미분 코드\n",
        "def numerical_derivative(f,x):\n",
        "    delta_x = 1e-4\n",
        "    derivative_x = np.zeros_like(x)   #  [0.0 0.0]\n",
        "\n",
        "    it = np.nditer(x, flags=['multi_index'])\n",
        "\n",
        "    while not it.finished:\n",
        "\n",
        "        idx = it.multi_index\n",
        "\n",
        "        tmp = x[idx]\n",
        "        x[idx] = tmp + delta_x\n",
        "        fx_plus_delta_x = f(x)  # f(x + delta_x)\n",
        "\n",
        "        x[idx] = tmp - delta_x\n",
        "        fx_minus_delta_x = f(x) # f(x - delta_x)\n",
        "\n",
        "        derivative_x[idx] = (fx_plus_delta_x - fx_minus_delta_x) / (2 * delta_x)\n",
        "\n",
        "        x[idx] = tmp\n",
        "\n",
        "        it.iternext()\n",
        "\n",
        "    return derivative_x\n",
        "\n",
        "# Model을 만들어야 하는데.. y = Wx + b\n",
        "W = np.random.rand(1,1)  # 어떤 값을 설정해야 하는지 모르기 때문에 처음에는 랜덤 값을 받는다\n",
        "b = np.random.rand(1)\n",
        "\n",
        "# loss function -> W와 b 값에 의해 결정되는 함수이므로 W,b가 들어와야 함\n",
        "def loss_func(input_data):\n",
        "    input_W = input_data[0]\n",
        "    input_b = input_data[1]\n",
        "\n",
        "    y = np.dot(x_data,input_W) + input_b\n",
        "    return np.mean(np.power((t_data-y),2))\n",
        "\n",
        "# 모델이 완성된 후 예측하는 함수를 하나 만들어요!\n",
        "def predict(x):\n",
        "    return np.dot(x, W) + b\n",
        "\n",
        "# learning rate 정의(hyperparameter -> 내가 정하는 것)\n",
        "learning_rate = 1e-4  # 1e-4 -> learning_rate 설정하는 기준\n",
        "\n",
        "# 학습진행\n",
        "for step in range(300000):\n",
        "    input_param = np.concatenate((W.ravel(), b.ravel()), axis=0)\n",
        "    derivative_result = learning_rate * numerical_derivative(loss_func, input_param)\n",
        "\n",
        "    W = W - derivative_result[0].reshape(-1,1)\n",
        "    b = b - derivative_result[1]\n",
        "\n",
        "    if step % 30000 == 0:\n",
        "        print(f'W : {W}, b : {b}, loss : {loss_func(input_param)}')\n",
        "\n"
      ],
      "metadata": {
        "colab": {
          "base_uri": "https://localhost:8080/"
        },
        "outputId": "b76f3523-a141-4627-9380-41bc2b825b3e",
        "id": "BEM2btRZ01rl"
      },
      "execution_count": null,
      "outputs": [
        {
          "output_type": "stream",
          "name": "stdout",
          "text": [
            "W : [[0.51432522]], b : [0.43136965], loss : 547.6026962111084\n",
            "W : [[0.62935993]], b : [-10.18858179], loss : 455.85182333320154\n",
            "W : [[0.75327472]], b : [-19.91556818], loss : 424.28821475587216\n",
            "W : [[0.86677305]], b : [-28.82488979], loss : 397.80813396437424\n",
            "W : [[0.97073055]], b : [-36.98528073], loss : 375.59284520514575\n",
            "W : [[1.06594922]], b : [-44.45969721], loss : 356.9554755360099\n",
            "W : [[1.15316368]], b : [-51.30580325], loss : 341.31977743905134\n",
            "W : [[1.23304675]], b : [-57.57641556], loss : 328.2023118675299\n",
            "W : [[1.30621474]], b : [-63.31991097], loss : 317.1975008284924\n",
            "W : [[1.37323212]], b : [-68.58059971], loss : 307.96508734556284\n"
          ]
        }
      ]
    },
    {
      "cell_type": "code",
      "source": [
        "# 학습종료 후 예측\n",
        "# 온도가 62도일 때, ozone량은 얼마?\n",
        "predict(np.array([[62]]))  # 2차원 배열 형태로 값이 들어가야 하기 때문\n",
        "\n",
        "# 데이터를 2차원 평면에 찍어보아요\n",
        "# plt.scatter(x_data,t_data)\n",
        "\n",
        "# # 우리 Model을 그려보아요\n",
        "# plt.plot(x_data, x_data*W.ravel() + b, color='r')"
      ],
      "metadata": {
        "colab": {
          "base_uri": "https://localhost:8080/"
        },
        "id": "aivqnJh71Lsp",
        "outputId": "c5ef15c2-f43b-43f3-9ebf-eba98d68e078"
      },
      "execution_count": null,
      "outputs": [
        {
          "output_type": "execute_result",
          "data": {
            "text/plain": [
              "array([[15.54715239]])"
            ]
          },
          "metadata": {},
          "execution_count": 62
        }
      ]
    },
    {
      "cell_type": "code",
      "source": [
        "# 같은 내용을 이제 Tensorflow Keras를 이용해서 구현!\n",
        "\n",
        "# 필요 라이브러리 호출\n",
        "import numpy as np\n",
        "import pandas as pd\n",
        "import matplotlib.pyplot as plt\n",
        "\n",
        "from tensorflow.keras.models import Sequential\n",
        "from tensorflow.keras.layers import Flatten, Dense\n",
        "from tensorflow.keras.optimizers import SGD\n",
        "\n",
        "# Model 만들기\n",
        "model = Sequential()\n",
        "\n",
        "model.add(Flatten(input_shape=(1,)))\n",
        "\n",
        "output_layer = Dense(units=1,\n",
        "                     activation='linear')\n",
        "\n",
        "model.add(output_layer)\n",
        "\n",
        "# Model 설정\n",
        "model.compile(optimizer=SGD(learning_rate=1e-4),\n",
        "              loss='mse')\n",
        "\n",
        "# Model\n",
        "model.fit(x_data,\n",
        "          t_data,\n",
        "          epochs=2000,\n",
        "          verbose=0)"
      ],
      "metadata": {
        "colab": {
          "base_uri": "https://localhost:8080/"
        },
        "id": "R4QWYiDv1mx8",
        "outputId": "45cacf10-9500-4e22-a8c5-50bb4c9988e2"
      },
      "execution_count": null,
      "outputs": [
        {
          "output_type": "execute_result",
          "data": {
            "text/plain": [
              "<keras.src.callbacks.History at 0x78400e5faf80>"
            ]
          },
          "metadata": {},
          "execution_count": 63
        }
      ]
    },
    {
      "cell_type": "code",
      "source": [
        "# 학습이 끝났으니 예측해보아요\n",
        "print(model.predict(np.array([[62]])))\n",
        "\n",
        "weight, bias = output_layer.get_weights()"
      ],
      "metadata": {
        "colab": {
          "base_uri": "https://localhost:8080/"
        },
        "id": "68Wj4KLG1vF0",
        "outputId": "8328511e-55af-478e-8162-b930cf28b250"
      },
      "execution_count": null,
      "outputs": [
        {
          "output_type": "stream",
          "name": "stdout",
          "text": [
            "1/1 [==============================] - 0s 28ms/step\n",
            "[[27.974648]]\n"
          ]
        }
      ]
    },
    {
      "cell_type": "code",
      "source": [
        "# 정답(?)을 확인하기 위해 sklearn 구현을 해보아요!\n",
        "\n",
        "import numpy as np\n",
        "import pandas as pd\n",
        "import matplotlib.pyplot as plt\n",
        "from sklearn import linear_model\n",
        "\n",
        "# Model 생성\n",
        "sklearn_model = linear_model.LinearRegression()\n",
        "\n",
        "# Model 학습\n",
        "sklearn_model.fit(x_data, t_data)\n",
        "\n",
        "# W와 b를 알아야 그래프 그릴 수 있겠죠\n",
        "weights = sklearn_model.coef_\n",
        "bias = sklearn_model.intercept_\n",
        "\n",
        "# 예측을 해보아요!\n",
        "sklearn_model.predict(np.array([[62]]))\n"
      ],
      "metadata": {
        "colab": {
          "base_uri": "https://localhost:8080/"
        },
        "outputId": "57bca8a3-1cc2-47ce-e03b-4ea5793a1f44",
        "id": "cBPSDpFH2BHO"
      },
      "execution_count": null,
      "outputs": [
        {
          "output_type": "execute_result",
          "data": {
            "text/plain": [
              "array([[4.51299041]])"
            ]
          },
          "metadata": {},
          "execution_count": 66
        }
      ]
    },
    {
      "cell_type": "code",
      "source": [
        "# 결과를 그래프로 확인해보아요\n",
        "fig = plt.figure()\n",
        "\n",
        "fig_python = fig.add_subplot(1,3,1)\n",
        "fig_tensorflow = fig.add_subplot(1,3,2)\n",
        "fig_sklearn = fig.add_subplot(1,3,3)\n",
        "\n",
        "fig_python.set_title('python')\n",
        "fig_tensorflow.set_title('tensorflow')\n",
        "fig_sklearn.set_title('sklearn')\n",
        "\n",
        "fig_python.scatter(x_data,t_data)\n",
        "fig_python.plot(x_data, x_data*W.ravel() + b, color='r')\n",
        "\n",
        "fig_tensorflow.scatter(x_data,t_data)\n",
        "fig_tensorflow.plot(x_data, x_data*weight + bias, color='b')\n",
        "\n",
        "fig_sklearn.scatter(x_data,t_data)\n",
        "fig_sklearn.plot(x_data, x_data*sklearn_model.coef_ + sklearn_model.intercept_,\n",
        "                 color='g')\n",
        "\n",
        "plt.tight_layout()\n",
        "plt.show()"
      ],
      "metadata": {
        "colab": {
          "base_uri": "https://localhost:8080/",
          "height": 487
        },
        "id": "Hc0eaXQu2AhJ",
        "outputId": "e12df064-d56c-455a-b8c6-ed6c8a34f3c4"
      },
      "execution_count": null,
      "outputs": [
        {
          "output_type": "display_data",
          "data": {
            "text/plain": [
              "<Figure size 640x480 with 3 Axes>"
            ],
            "image/png": "[encoded data removed]"
          },
          "metadata": {}
        }
      ]
    },
    {
      "cell_type": "code",
      "source": [],
      "metadata": {
        "id": "bq7M4czg35dD"
      },
      "execution_count": null,
      "outputs": []
    }
  ]
}